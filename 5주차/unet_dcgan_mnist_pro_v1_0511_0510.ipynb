{
  "nbformat": 4,
  "nbformat_minor": 0,
  "metadata": {
    "kernelspec": {
      "name": "python3",
      "display_name": "Python 3"
    },
    "colab": {
      "name": "unet_dcgan_mnist_pro_v1_0511_0510.ipynb",
      "provenance": [],
      "collapsed_sections": []
    },
    "accelerator": "GPU"
  },
  "cells": [
    {
      "cell_type": "markdown",
      "metadata": {
        "id": "g7zzgl1EO0fG",
        "colab_type": "text"
      },
      "source": [
        "(dcgan codes written by 류해단)"
      ]
    },
    {
      "cell_type": "code",
      "metadata": {
        "id": "-32waUkh9zTk",
        "colab_type": "code",
        "outputId": "863db910-63d0-4ac7-99e0-13331202d642",
        "colab": {
          "base_uri": "https://localhost:8080/",
          "height": 35
        }
      },
      "source": [
        "from google.colab import drive\n",
        "drive.mount('/content/drive')"
      ],
      "execution_count": 1,
      "outputs": [
        {
          "output_type": "stream",
          "text": [
            "Drive already mounted at /content/drive; to attempt to forcibly remount, call drive.mount(\"/content/drive\", force_remount=True).\n"
          ],
          "name": "stdout"
        }
      ]
    },
    {
      "cell_type": "code",
      "metadata": {
        "id": "WPEODvjOIqMY",
        "colab_type": "code",
        "colab": {
          "base_uri": "https://localhost:8080/",
          "height": 35
        },
        "outputId": "0217fd6d-8589-49ae-b627-7c7edeb571a5"
      },
      "source": [
        "%tensorflow_version 1.x"
      ],
      "execution_count": 2,
      "outputs": [
        {
          "output_type": "stream",
          "text": [
            "TensorFlow 1.x selected.\n"
          ],
          "name": "stdout"
        }
      ]
    },
    {
      "cell_type": "markdown",
      "metadata": {
        "id": "F6UnW9zkSzl5",
        "colab_type": "text"
      },
      "source": [
        "## Load Module"
      ]
    },
    {
      "cell_type": "code",
      "metadata": {
        "id": "HYnHG7cnOyou",
        "colab_type": "code",
        "colab": {}
      },
      "source": [
        "from __future__ import print_function\n",
        "\n",
        "# from keras.utils.vis_utils import plot_model\n",
        "# from keras.utils.generic_utils import Progbar\n",
        "\n",
        "from tensorflow.keras.utils import plot_model, Progbar\n",
        "from tensorflow.keras.optimizers import Adam, RMSprop\n",
        "from tensorflow.keras import initializers\n",
        "from tensorflow.keras.models import Model, load_model, Sequential\n",
        "from tensorflow.keras.layers import Input, Reshape, Dense, Dropout, Lambda, Conv2D, Conv2DTranspose, MaxPooling2D, concatenate, UpSampling2D, BatchNormalization, Flatten, LeakyReLU, Activation\n",
        "from tensorflow.keras.callbacks import EarlyStopping, ModelCheckpoint\n",
        "\n",
        "from tensorflow.keras import backend as K\n",
        "from tensorflow.keras.datasets import mnist\n",
        "\n",
        "from numpy import expand_dims\n",
        "from tqdm import tqdm\n",
        "\n",
        "import os\n",
        "import cv2\n",
        "import math\n",
        "import sys\n",
        "import random\n",
        "# import warnings\n",
        "\n",
        "import tensorflow as tf\n",
        "import numpy as np\n",
        "import matplotlib.pyplot as plt"
      ],
      "execution_count": 0,
      "outputs": []
    },
    {
      "cell_type": "code",
      "metadata": {
        "id": "8sVDYMQLHOQR",
        "colab_type": "code",
        "colab": {
          "base_uri": "https://localhost:8080/",
          "height": 35
        },
        "outputId": "ff559ab1-004c-4542-b988-e2972ef36e8b"
      },
      "source": [
        "# os.getcwd()"
      ],
      "execution_count": 4,
      "outputs": [
        {
          "output_type": "execute_result",
          "data": {
            "text/plain": [
              "'/content'"
            ]
          },
          "metadata": {
            "tags": []
          },
          "execution_count": 4
        }
      ]
    },
    {
      "cell_type": "code",
      "metadata": {
        "id": "YgxRTBZJIU35",
        "colab_type": "code",
        "colab": {
          "base_uri": "https://localhost:8080/",
          "height": 35
        },
        "outputId": "ddcd31c1-dca0-446b-ba4c-71832efcf8b9"
      },
      "source": [
        "# tf.__version__"
      ],
      "execution_count": 15,
      "outputs": [
        {
          "output_type": "execute_result",
          "data": {
            "text/plain": [
              "'2.2.0-rc4'"
            ]
          },
          "metadata": {
            "tags": []
          },
          "execution_count": 15
        }
      ]
    },
    {
      "cell_type": "code",
      "metadata": {
        "id": "Aj-jdWe0Oyoy",
        "colab_type": "code",
        "outputId": "f0e4f5c5-fe69-43fd-c16f-2241d1d7b47b",
        "colab": {}
      },
      "source": [
        "#pip install pydot-ng"
      ],
      "execution_count": 0,
      "outputs": [
        {
          "output_type": "stream",
          "text": [
            "Collecting pydot-ng\n",
            "  Downloading pydot_ng-2.0.0-py2.py3-none-any.whl (20 kB)\n",
            "Requirement already satisfied: pyparsing>=2.0.1 in c:\\users\\user\\anaconda3\\lib\\site-packages (from pydot-ng) (2.4.6)\n",
            "Installing collected packages: pydot-ng\n",
            "Successfully installed pydot-ng-2.0.0\n",
            "Note: you may need to restart the kernel to use updated packages.\n"
          ],
          "name": "stdout"
        }
      ]
    },
    {
      "cell_type": "code",
      "metadata": {
        "id": "yI8r63uuOyo2",
        "colab_type": "code",
        "outputId": "97f4609e-45bb-4c20-db71-a5e85b57b0fb",
        "colab": {}
      },
      "source": [
        "#pip install graphviz"
      ],
      "execution_count": 0,
      "outputs": [
        {
          "output_type": "stream",
          "text": [
            "Collecting graphviz\n",
            "  Downloading graphviz-0.14-py2.py3-none-any.whl (18 kB)\n",
            "Installing collected packages: graphviz\n",
            "Successfully installed graphviz-0.14\n",
            "Note: you may need to restart the kernel to use updated packages.\n"
          ],
          "name": "stdout"
        }
      ]
    },
    {
      "cell_type": "code",
      "metadata": {
        "id": "27MEstGDOyo5",
        "colab_type": "code",
        "outputId": "633b3853-26c2-4b5e-d3a4-f7d08921b5e5",
        "colab": {}
      },
      "source": [
        "#pip install pydot==1.2.3"
      ],
      "execution_count": 0,
      "outputs": [
        {
          "output_type": "stream",
          "text": [
            "Collecting pydot==1.2.3\n",
            "  Downloading pydot-1.2.3.tar.gz (20 kB)\n",
            "Requirement already satisfied: pyparsing>=2.1.4 in c:\\users\\user\\anaconda3\\lib\\site-packages (from pydot==1.2.3) (2.4.6)\n",
            "Building wheels for collected packages: pydot\n",
            "  Building wheel for pydot (setup.py): started\n",
            "  Building wheel for pydot (setup.py): finished with status 'done'\n",
            "  Created wheel for pydot: filename=pydot-1.2.3-py3-none-any.whl size=18931 sha256=719dfeeb0c2cb3db3d6c064767749262f60649e615641978958540bf6e407f81\n",
            "  Stored in directory: c:\\users\\user\\appdata\\local\\pip\\cache\\wheels\\94\\a8\\4b\\d76c975fd000ecff606a1b170d541bbef0f6429fe1084dcb49\n",
            "Successfully built pydot\n",
            "Installing collected packages: pydot\n",
            "Successfully installed pydot-1.2.3\n",
            "Note: you may need to restart the kernel to use updated packages.\n"
          ],
          "name": "stdout"
        }
      ]
    },
    {
      "cell_type": "markdown",
      "metadata": {
        "id": "UK5Uf2vkTFHq",
        "colab_type": "text"
      },
      "source": [
        "## Define Function(DCGAN)"
      ]
    },
    {
      "cell_type": "code",
      "metadata": {
        "id": "TbpAOQHZOyo7",
        "colab_type": "code",
        "colab": {}
      },
      "source": [
        "def load_mnist_data():\n",
        "    \"\"\" load mnist data \"\"\"\n",
        "    (X_train, Y_train), (X_test, Y_test) = mnist.load_data()\n",
        "    # X_train = (X_train.astype(np.float32) - 127.5) / 127.5\n",
        "    X_train = (X_train.astype(np.float32)) / 255.0\n",
        "    # X_test = (X_test.astype(np.float32) - 127.5) / 127.5\n",
        "    X_test = (X_test.astype(np.float32)) / 255.0\n",
        "\n",
        "    X_train = X_train[:,:,:,None]\n",
        "    X_test = X_test[:,:,:,None]\n",
        "\n",
        "    X_test_original = X_test.copy()\n",
        "\n",
        "    #X_train = X_train[Y_train==0]\n",
        "    #X_test = X_test[Y_test==0]\n",
        "    print('train shape: ', X_train.shape)\n",
        "\n",
        "    return X_train, X_test, X_test_original, Y_test "
      ],
      "execution_count": 0,
      "outputs": []
    },
    {
      "cell_type": "code",
      "metadata": {
        "id": "dJ1d-GwoOyo9",
        "colab_type": "code",
        "colab": {}
      },
      "source": [
        "\"\"\" build generator model \"\"\"\n",
        "def generator_model(z_dim, imgsize, channels): \n",
        "    col = int(imgsize / 4)\n",
        "    inputs = Input((z_dim, ))\n",
        "    fc1 = Dense(input_dim=z_dim, units=128*col*col)(inputs)\n",
        "    fc1 = BatchNormalization()(fc1)\n",
        "    fc1 = LeakyReLU(0.2)(fc1)\n",
        "\n",
        "    fc2 = Reshape((col, col, 128), input_shape=(128*col*col,))(fc1)\n",
        "    up1 = Conv2DTranspose(64, (2, 2), strides=(2, 2), padding='same')(fc2)\n",
        "    conv1 = Conv2D(64, (3,3), padding='same')(up1)\n",
        "    conv1 = BatchNormalization()(conv1)\n",
        "    conv1 = Activation('relu')(conv1)\n",
        "\n",
        "    up2 = Conv2DTranspose(64, (2, 2), strides=(2, 2), padding='same')(conv1)\n",
        "    conv2 = Conv2D(channels, (5, 5), padding='same')(up2)\n",
        "    outputs = Activation('tanh')(conv2)\n",
        "\n",
        "    model = Model(inputs=[inputs], outputs=[outputs])\n",
        "    model.summary()\n",
        "\n",
        "    return model"
      ],
      "execution_count": 0,
      "outputs": []
    },
    {
      "cell_type": "code",
      "metadata": {
        "id": "zeMR_SsOOyo_",
        "colab_type": "code",
        "colab": {}
      },
      "source": [
        "\"\"\" build discriminator model \"\"\"\n",
        "def discriminator_model(img_size, channels):\n",
        "    inputs = Input((img_size, img_size, channels))\n",
        "\n",
        "    conv1 = Conv2D(64, (5,5), padding='same')(inputs)\n",
        "    conv1 = LeakyReLU(0.2)(conv1)\n",
        "    pool1 = MaxPooling2D(pool_size=(2,2))(conv1)\n",
        "\n",
        "    conv2 = Conv2D(128, (5,5), padding='same')(pool1)\n",
        "    conv2 = LeakyReLU(0.2)(conv2)\n",
        "    pool2 = MaxPooling2D(pool_size=(2,2))(conv2)\n",
        "\n",
        "    fc1 = Flatten()(pool2)\n",
        "    fc1 = Dense(1)(fc1)\n",
        "    outputs = Activation('sigmoid')(fc1)\n",
        "\n",
        "    model = Model(inputs=[inputs], outputs=[outputs])\n",
        "    model.summary()\n",
        "\n",
        "    return model"
      ],
      "execution_count": 0,
      "outputs": []
    },
    {
      "cell_type": "code",
      "metadata": {
        "id": "p0yZFhFzOypD",
        "colab_type": "code",
        "colab": {}
      },
      "source": [
        "def generator_containg_discriminator(g, d, z_dim):\n",
        "    d.trainable = False\n",
        "\n",
        "    ganInput = Input(shape=(z_dim, ))\n",
        "    x = g(ganInput)\n",
        "    ganOutput = d(x)\n",
        "    gan = Model(inputs=ganInput, outputs=ganOutput)\n",
        "\n",
        "    return gan"
      ],
      "execution_count": 0,
      "outputs": []
    },
    {
      "cell_type": "code",
      "metadata": {
        "id": "VXOBnrIhOypF",
        "colab_type": "code",
        "colab": {}
      },
      "source": [
        "class DCGAN():\n",
        "    def __init__(self, imgsize, channels, zdims, epoch, batchsize):\n",
        "\n",
        "        self.img_size = imgsize\n",
        "        self.channels = channels\n",
        "        self.z_dim = zdims\n",
        "        self.epochs = epoch\n",
        "        self.batch_size = batchsize\n",
        "\n",
        "        self.d_opt = Adam(lr=1e-5, beta_1=0.1)\n",
        "        self.g_opt = Adam(lr=2e-4, beta_1=0.5)\n",
        "\n",
        "        if not os.path.exists('./drive/My Drive/result/'):\n",
        "            os.makedirs('./drive/My Drive/result/')\n",
        "        if not os.path.exists('./drive/My Drive/model_images/'):\n",
        "            os.makedirs('./drive/My Drive/model_images/')\n",
        "\n",
        "        \"\"\" build discriminator model \"\"\"\n",
        "        self.d = discriminator_model(self.img_size, self.channels)\n",
        "        plot_model(self.d, to_file='./drive/My Drive/model_images/discriminator.png', show_shapes=True)\n",
        "\n",
        "        \"\"\" build generator model \"\"\"\n",
        "        self.g = generator_model(self.z_dim, self.img_size, self.channels)\n",
        "        plot_model(self.g, to_file='./drive/My Drive/model_images/generator.png', show_shapes=True)\n",
        "\n",
        "        \"\"\" discriminator on generator model \"\"\"\n",
        "        self.d_on_g = generator_containg_discriminator(self.g, self.d, self.z_dim)\n",
        "        plot_model(self.d_on_g, to_file='./drive/My Drive/model_images/d_on_g.png', show_shapes=True)\n",
        "\n",
        "        self.g.compile(loss='mse', optimizer=self.g_opt)\n",
        "        self.d_on_g.compile(loss='mse', optimizer=self.g_opt)\n",
        "        self.d.trainable = True\n",
        "        self.d.compile(loss='mse', optimizer=self.d_opt)\n",
        "\n",
        "    \"\"\" plot images for visualization \"\"\"\n",
        "    def plot_generate_images(self, gen_images):\n",
        "        num = gen_images.shape[0]\n",
        "        width = int(math.sqrt(num))\n",
        "        height = int(math.ceil(float(num)/width))\n",
        "        shape = gen_images.shape[1:4]\n",
        "        image = np.zeros((height*shape[0], width*shape[1], shape[2]),\n",
        "                            dtype=gen_images.dtype)\n",
        "        for index, img in enumerate(gen_images):\n",
        "            i = int(index/width)\n",
        "            j = index % width\n",
        "            image[i*shape[0]:(i+1)*shape[0], j*shape[1]:(j+1)*shape[1], :] = img[:, :, :]\n",
        "        return image\n",
        "\n",
        "    \"\"\" generate image \"\"\"\n",
        "    def generate(self, batch_size):\n",
        "        self.g.load_weights('./drive/My Drive/saved_model/generator.h5')\n",
        "        noise = np.random.uniform(0, 1, (batch_size, self.z_dim))\n",
        "        generate_img = self.g.predict(noise)\n",
        "\n",
        "        return generate_img\n",
        "\n",
        "    def train(self, X_train):\n",
        "        for epoch in range(self.epochs):\n",
        "            print (\"Epoch is \", epoch + 1)\n",
        "            n_iter = int(X_train.shape[0] / self.batch_size)\n",
        "            progress_bar = Progbar(target=n_iter)\n",
        "\n",
        "            for index in range(n_iter):\n",
        "                # create random noise -> U(0,1) 10 vactors\n",
        "                noise = np.random.uniform(0, 1, size=(self.batch_size, self.z_dim))\n",
        "\n",
        "                \"\"\" load real data & generate fake data \"\"\"\n",
        "                image_batch = X_train[index*self.batch_size:(index+1)*self.batch_size]\n",
        "                gen_images = self.g.predict(noise, verbose=0)\n",
        "\n",
        "                # visualize training result\n",
        "                if index % 50 == 0:\n",
        "                    image = self.plot_generate_images(gen_images)\n",
        "                    image =  image*127.5+127.5\n",
        "                    cv2.imwrite('./result/' + str(epoch)+\"_\"+str(index)+ \".png\", image )\n",
        "\n",
        "                # attach label for training discriminator\n",
        "                X = np.concatenate((image_batch, gen_images))\n",
        "                y = np.array([1] * self.batch_size + [0] * self.batch_size)\n",
        "\n",
        "                \"\"\" training discriminator \"\"\"\n",
        "                d_loss = self.d.train_on_batch(X, y)\n",
        "\n",
        "                \"\"\" training generator \"\"\"\n",
        "                self.d.trainable = False\n",
        "                g_loss = self.d_on_g.train_on_batch(noise, np.array([1] * self.batch_size))\n",
        "                self.d.trainable = True\n",
        "\n",
        "                progress_bar.update(index, values=[('g', g_loss), ('d', d_loss)])\n",
        "            print('')\n",
        "\n",
        "            \"\"\" save weights for each epoch \"\"\"\n",
        "            if not os.path.exists('./drive/My Drive/saved_model/'):\n",
        "                os.makedirs('./drive/My Drive/saved_model/')\n",
        "            self.g.save_weights('./drive/My Drive/saved_model/generator.h5', True)\n",
        "            self.d.save_weights('./drive/My Drive/saved_model/discriminator.h5',True)\n",
        "\n",
        "        return self.d, self.g"
      ],
      "execution_count": 0,
      "outputs": []
    },
    {
      "cell_type": "markdown",
      "metadata": {
        "id": "KU76O6tITKyV",
        "colab_type": "text"
      },
      "source": [
        "## Traing DCGAN model"
      ]
    },
    {
      "cell_type": "code",
      "metadata": {
        "scrolled": true,
        "id": "oAcSyTOSOypH",
        "colab_type": "code",
        "outputId": "571436f0-e99c-4b8b-ec16-27b552660a41",
        "colab": {
          "base_uri": "https://localhost:8080/",
          "height": 1000
        }
      },
      "source": [
        "print(\"initialize DCGAN \")\n",
        "imgsize = 28\n",
        "channels = 1\n",
        "zdims = 100\n",
        "epoch = 10\n",
        "batchsize = 64\n",
        "dcgan = DCGAN(imgsize, channels, zdims, epoch, batchsize)\n",
        "\n",
        "X_train, X_test, X_test_original, Y_test = load_mnist_data()\n",
        "\n",
        "print ('============ train on DCGAN ============')\n",
        "dcgan.train(X_train)\n",
        "\n",
        "\"\"\" test generator \"\"\"\n",
        "gen_img = dcgan.generate(25)\n",
        "img = dcgan.plot_generate_images(gen_img)\n",
        "img = (img*127.5)+127.5\n",
        "img = img.astype(np.uint8)\n",
        "img = cv2.resize(img, None, fx=4, fy=4, interpolation=cv2.INTER_NEAREST)\n",
        "\n",
        "\"\"\" plt view \"\"\"\n",
        "plt.figure(num=0, figsize=(4, 4))\n",
        "plt.title('trained generator')\n",
        "plt.imshow(img, cmap=plt.cm.gray)\n",
        "plt.show()"
      ],
      "execution_count": 9,
      "outputs": [
        {
          "output_type": "stream",
          "text": [
            "initialize DCGAN \n",
            "WARNING:tensorflow:From /tensorflow-1.15.2/python3.6/tensorflow_core/python/ops/resource_variable_ops.py:1630: calling BaseResourceVariable.__init__ (from tensorflow.python.ops.resource_variable_ops) with constraint is deprecated and will be removed in a future version.\n",
            "Instructions for updating:\n",
            "If using Keras pass *_constraint arguments to layers.\n",
            "Model: \"model\"\n",
            "_________________________________________________________________\n",
            "Layer (type)                 Output Shape              Param #   \n",
            "=================================================================\n",
            "input_1 (InputLayer)         [(None, 28, 28, 1)]       0         \n",
            "_________________________________________________________________\n",
            "conv2d (Conv2D)              (None, 28, 28, 64)        1664      \n",
            "_________________________________________________________________\n",
            "leaky_re_lu (LeakyReLU)      (None, 28, 28, 64)        0         \n",
            "_________________________________________________________________\n",
            "max_pooling2d (MaxPooling2D) (None, 14, 14, 64)        0         \n",
            "_________________________________________________________________\n",
            "conv2d_1 (Conv2D)            (None, 14, 14, 128)       204928    \n",
            "_________________________________________________________________\n",
            "leaky_re_lu_1 (LeakyReLU)    (None, 14, 14, 128)       0         \n",
            "_________________________________________________________________\n",
            "max_pooling2d_1 (MaxPooling2 (None, 7, 7, 128)         0         \n",
            "_________________________________________________________________\n",
            "flatten (Flatten)            (None, 6272)              0         \n",
            "_________________________________________________________________\n",
            "dense (Dense)                (None, 1)                 6273      \n",
            "_________________________________________________________________\n",
            "activation (Activation)      (None, 1)                 0         \n",
            "=================================================================\n",
            "Total params: 212,865\n",
            "Trainable params: 212,865\n",
            "Non-trainable params: 0\n",
            "_________________________________________________________________\n",
            "Model: \"model_1\"\n",
            "_________________________________________________________________\n",
            "Layer (type)                 Output Shape              Param #   \n",
            "=================================================================\n",
            "input_2 (InputLayer)         [(None, 100)]             0         \n",
            "_________________________________________________________________\n",
            "dense_1 (Dense)              (None, 6272)              633472    \n",
            "_________________________________________________________________\n",
            "batch_normalization (BatchNo (None, 6272)              25088     \n",
            "_________________________________________________________________\n",
            "leaky_re_lu_2 (LeakyReLU)    (None, 6272)              0         \n",
            "_________________________________________________________________\n",
            "reshape (Reshape)            (None, 7, 7, 128)         0         \n",
            "_________________________________________________________________\n",
            "conv2d_transpose (Conv2DTran (None, 14, 14, 64)        32832     \n",
            "_________________________________________________________________\n",
            "conv2d_2 (Conv2D)            (None, 14, 14, 64)        36928     \n",
            "_________________________________________________________________\n",
            "batch_normalization_1 (Batch (None, 14, 14, 64)        256       \n",
            "_________________________________________________________________\n",
            "activation_1 (Activation)    (None, 14, 14, 64)        0         \n",
            "_________________________________________________________________\n",
            "conv2d_transpose_1 (Conv2DTr (None, 28, 28, 64)        16448     \n",
            "_________________________________________________________________\n",
            "conv2d_3 (Conv2D)            (None, 28, 28, 1)         1601      \n",
            "_________________________________________________________________\n",
            "activation_2 (Activation)    (None, 28, 28, 1)         0         \n",
            "=================================================================\n",
            "Total params: 746,625\n",
            "Trainable params: 733,953\n",
            "Non-trainable params: 12,672\n",
            "_________________________________________________________________\n",
            "Downloading data from https://storage.googleapis.com/tensorflow/tf-keras-datasets/mnist.npz\n",
            "11493376/11490434 [==============================] - 0s 0us/step\n",
            "train shape:  (60000, 28, 28, 1)\n",
            "============ train on DCGAN ============\n",
            "Epoch is  1\n",
            "934/937 [============================>.] - ETA: 0s - g: 0.2094 - d: 0.2201\n",
            "Epoch is  2\n",
            "935/937 [============================>.] - ETA: 0s - g: 0.2523 - d: 0.2172\n",
            "Epoch is  3\n",
            "934/937 [============================>.] - ETA: 0s - g: 0.2521 - d: 0.1990\n",
            "Epoch is  4\n",
            "934/937 [============================>.] - ETA: 0s - g: 0.2796 - d: 0.1831\n",
            "Epoch is  5\n",
            "934/937 [============================>.] - ETA: 0s - g: 0.3004 - d: 0.1682\n",
            "Epoch is  6\n",
            "935/937 [============================>.] - ETA: 0s - g: 0.3116 - d: 0.1611\n",
            "Epoch is  7\n",
            "936/937 [============================>.] - ETA: 0s - g: 0.3431 - d: 0.1583\n",
            "Epoch is  8\n",
            "935/937 [============================>.] - ETA: 0s - g: 0.3792 - d: 0.1515\n",
            "Epoch is  9\n",
            "935/937 [============================>.] - ETA: 0s - g: 0.3958 - d: 0.1358\n",
            "Epoch is  10\n",
            "935/937 [============================>.] - ETA: 0s - g: 0.4136 - d: 0.1346\n"
          ],
          "name": "stdout"
        },
        {
          "output_type": "display_data",
          "data": {
            "image/png": "[encoded data removed]",
            "text/plain": [
              "<Figure size 288x288 with 1 Axes>"
            ]
          },
          "metadata": {
            "tags": [],
            "needs_background": "light"
          }
        }
      ]
    },
    {
      "cell_type": "markdown",
      "metadata": {
        "id": "J6ZQUMMuTO53",
        "colab_type": "text"
      },
      "source": [
        "## Save DCGAN model"
      ]
    },
    {
      "cell_type": "code",
      "metadata": {
        "id": "-FCe4XmOFYLd",
        "colab_type": "code",
        "colab": {}
      },
      "source": [
        "dcgan.d.save('./drive/My Drive/dcgan.h5')"
      ],
      "execution_count": 0,
      "outputs": []
    },
    {
      "cell_type": "markdown",
      "metadata": {
        "id": "1Q8WdsCpTSQR",
        "colab_type": "text"
      },
      "source": [
        "## Evaluate Discriminator Network in DCGAN model"
      ]
    },
    {
      "cell_type": "code",
      "metadata": {
        "id": "yeWWK-diOypK",
        "colab_type": "code",
        "colab": {}
      },
      "source": [
        "d_ruined = X_train[:1000].copy()\n",
        "d_normal = X_train[1000:2000].copy()"
      ],
      "execution_count": 0,
      "outputs": []
    },
    {
      "cell_type": "code",
      "metadata": {
        "id": "xy3XeJoGOypL",
        "colab_type": "code",
        "colab": {}
      },
      "source": [
        "d_ruined[:,3,5:15] = 1\n",
        "d_ruined[:,1:10,5:10] = 1"
      ],
      "execution_count": 0,
      "outputs": []
    },
    {
      "cell_type": "code",
      "metadata": {
        "id": "vRHDKPnEOypO",
        "colab_type": "code",
        "outputId": "d0b2c2eb-9db6-456e-e26d-48d63be2cf03",
        "colab": {
          "base_uri": "https://localhost:8080/",
          "height": 283
        }
      },
      "source": [
        "plt.imshow(d_ruined[0].reshape((28,28)), cmap='gray')"
      ],
      "execution_count": 13,
      "outputs": [
        {
          "output_type": "execute_result",
          "data": {
            "text/plain": [
              "<matplotlib.image.AxesImage at 0x7fea0e140a90>"
            ]
          },
          "metadata": {
            "tags": []
          },
          "execution_count": 13
        },
        {
          "output_type": "display_data",
          "data": {
            "image/png": "[encoded data removed]",
            "text/plain": [
              "<Figure size 432x288 with 1 Axes>"
            ]
          },
          "metadata": {
            "tags": [],
            "needs_background": "light"
          }
        }
      ]
    },
    {
      "cell_type": "code",
      "metadata": {
        "id": "3smCeAAKOypQ",
        "colab_type": "code",
        "colab": {}
      },
      "source": [
        "d_predicted_normal = dcgan.d.predict(d_normal)\n",
        "d_predicted_ruined = dcgan.d.predict(d_ruined)"
      ],
      "execution_count": 0,
      "outputs": []
    },
    {
      "cell_type": "code",
      "metadata": {
        "id": "858nQheyOypV",
        "colab_type": "code",
        "outputId": "82f7f70b-b3bc-45f2-eb01-41d3b4b60b1f",
        "colab": {
          "base_uri": "https://localhost:8080/",
          "height": 545
        }
      },
      "source": [
        "# import matplotlib.pyplot as plt\n",
        "\n",
        "plt.hist(d_predicted_normal, bins=50, range=(0,1))\n",
        "plt.gca().set(title='Frequency Histogram of Normal(DCGAN)', ylabel='Frequency');\n",
        "plt.show()\n",
        "\n",
        "plt.hist(d_predicted_ruined, bins=50, range=(0,1))\n",
        "plt.gca().set(title='Frequency Histogram of Ruined(DCGAN)', ylabel='Frequency');\n"
      ],
      "execution_count": 17,
      "outputs": [
        {
          "output_type": "display_data",
          "data": {
            "image/png": "[encoded data removed]",
            "text/plain": [
              "<Figure size 432x288 with 1 Axes>"
            ]
          },
          "metadata": {
            "tags": [],
            "needs_background": "light"
          }
        },
        {
          "output_type": "display_data",
          "data": {
            "image/png": "[encoded data removed]",
            "text/plain": [
              "<Figure size 432x288 with 1 Axes>"
            ]
          },
          "metadata": {
            "tags": [],
            "needs_background": "light"
          }
        }
      ]
    },
    {
      "cell_type": "code",
      "metadata": {
        "id": "4c36rAi8OypX",
        "colab_type": "code",
        "outputId": "4ca3b50f-a047-45d3-d7cf-87b5785774b5",
        "colab": {
          "base_uri": "https://localhost:8080/",
          "height": 197
        }
      },
      "source": [
        "print(d_predicted_normal[:10])"
      ],
      "execution_count": 18,
      "outputs": [
        {
          "output_type": "stream",
          "text": [
            "[[0.7672597 ]\n",
            " [0.6069737 ]\n",
            " [0.6135773 ]\n",
            " [0.87042785]\n",
            " [0.46993616]\n",
            " [0.7274066 ]\n",
            " [0.55214757]\n",
            " [0.43331382]\n",
            " [0.8044417 ]\n",
            " [0.7781172 ]]\n"
          ],
          "name": "stdout"
        }
      ]
    },
    {
      "cell_type": "code",
      "metadata": {
        "id": "Rpagx77NLqoC",
        "colab_type": "code",
        "colab": {
          "base_uri": "https://localhost:8080/",
          "height": 197
        },
        "outputId": "735e6c34-6bdd-4997-b7f4-6806e0f2e225"
      },
      "source": [
        "print(d_predicted_ruined[:10])"
      ],
      "execution_count": 19,
      "outputs": [
        {
          "output_type": "stream",
          "text": [
            "[[0.18823954]\n",
            " [0.43857   ]\n",
            " [0.3566721 ]\n",
            " [0.57391614]\n",
            " [0.1951774 ]\n",
            " [0.280877  ]\n",
            " [0.3422764 ]\n",
            " [0.22857004]\n",
            " [0.33859977]\n",
            " [0.22868288]]\n"
          ],
          "name": "stdout"
        }
      ]
    },
    {
      "cell_type": "markdown",
      "metadata": {
        "id": "obYJdUZkTZ7k",
        "colab_type": "text"
      },
      "source": [
        "## Load MNIST Data and Prepare Inputs for U-Net model"
      ]
    },
    {
      "cell_type": "code",
      "metadata": {
        "id": "GCgNcaqtRr0c",
        "colab_type": "code",
        "colab": {}
      },
      "source": [
        "# U-Net\n",
        "\n",
        "\n",
        "## Before starting\n",
        "# warnings.filterwarnings('ignore', category=UserWarning, module='skimage')\n",
        "seed = 42\n",
        "random.seed = seed\n",
        "np.random.seed = seed\n",
        "\n",
        "\n",
        "# def load_mnist_data():\n",
        "#     \"\"\" load mnist data \"\"\"\n",
        "#     (X_train, Y_train), (X_test, Y_test) = mnist.load_data()\n",
        "#     # X_train = (X_train.astype(np.float32) - 127.5) / 127.5\n",
        "#     X_train = (X_train.astype(np.float32)) / 255.0\n",
        "#     # X_test = (X_test.astype(np.float32) - 127.5) / 127.5\n",
        "#     X_test = (X_test.astype(np.float32)) / 255.0\n",
        "\n",
        "#     X_train = X_train[:,:,:,None]\n",
        "#     X_test = X_test[:,:,:,None]\n",
        "\n",
        "#     X_test_original = X_test.copy()\n",
        "\n",
        "#     #X_train = X_train[Y_train==0]\n",
        "#     #X_test = X_test[Y_test==0]\n",
        "#     print('train shape: ', X_train.shape)\n",
        "\n",
        "#     return X_train, X_test, X_test_original, Y_test \n",
        "\n",
        "\n",
        "\n",
        "## Load MNIST data\n",
        "# X_train, X_test, X_test_original, Y_test = load_mnist_data()\n",
        "(x_train, _), (x_test, _) = mnist.load_data()\n",
        "\n",
        "\n",
        "train = expand_dims(x_train, axis=-1)\n",
        "test = expand_dims(x_test, axis=-1)\n",
        "\n",
        "train_ids, IMG_HEIGHT, IMG_WIDTH, IMG_CHANNELS = train.shape  # (60000, 28, 28, 1)\n",
        "test_ids, _, _, _ = test.shape # (10000, 28, 28, 1)\n",
        "\n",
        "\n",
        "## Data Normalization (inputs)\n",
        "train = train.astype('float32')\n",
        "train = train / 255.0\n",
        "\n",
        "test = test.astype('float32')\n",
        "test = test / 255.0\n",
        "\n",
        "## Prepare inputs(ruined) and outputs(normal) of training data\n",
        "u_normal = train.copy()\n",
        "\n",
        "# noise range for ruined\n",
        "rrn = 5\n",
        "\n",
        "u_ruined = train.copy()\n",
        "\n",
        "for i in range(0, u_ruined.shape[0]):\n",
        "  x = np.random.randint(0, u_ruined.shape[1]-rrn)\n",
        "  y = np.random.randint(0, u_ruined.shape[1]-rrn)\n",
        "  z = np.random.randint(0, u_ruined.shape[1]-rrn)\n",
        "  u_ruined[i, 5:19, x : x+rrn] = 1.\n",
        "  u_ruined[i, y : y+rrn, 2:10] = 1.\n",
        "  u_ruined[i, z : z+rrn, z : z+rrn] = 1.\n",
        "\n",
        "## Prepare inputs(ruined) and outputs(normal) of testing data\n",
        "u_test_normal = test.copy()\n",
        "\n",
        "# noise range for test_ruined\n",
        "trn = 3\n",
        "\n",
        "u_test_ruined = test.copy()\n",
        "for i in range(0, u_test_ruined.shape[0]):\n",
        "  x = np.random.randint(0, u_test_ruined.shape[1]-trn)\n",
        "  y = np.random.randint(0, u_test_ruined.shape[1]-trn)\n",
        "  z = np.random.randint(0, u_test_ruined.shape[1]-trn)\n",
        "  u_test_ruined[i, 5:19, x : x+trn] = 1.\n",
        "  u_test_ruined[i, y : y+trn, 2:10] = 1.\n",
        "  u_test_ruined[i, z : z+trn, z : z+trn] = 1."
      ],
      "execution_count": 0,
      "outputs": []
    },
    {
      "cell_type": "code",
      "metadata": {
        "id": "rag0i5oWRu3y",
        "colab_type": "code",
        "outputId": "a72f401c-3e3b-4a5e-8c76-684a426357f0",
        "colab": {
          "base_uri": "https://localhost:8080/",
          "height": 312
        }
      },
      "source": [
        "# Check if training data looks all right\n",
        "\n",
        "fig, axs = plt.subplots(2,10, figsize=(15, 5))\n",
        "for i in range(10) :\n",
        "  ix = random.randint(0, train_ids)\n",
        "  fig.suptitle('Train set(Ruined_MNIST & Normal_MNIST)', fontsize=14)\n",
        "  axs[0, i].set_axis_off()\n",
        "  axs[0, i].imshow(u_ruined[ix].reshape(28,28), cmap='gray')\n",
        "  axs[1, i].set_axis_off()\n",
        "  axs[1, i].imshow(u_normal[ix].reshape(28,28), cmap='gray')"
      ],
      "execution_count": 29,
      "outputs": [
        {
          "output_type": "display_data",
          "data": {
            "image/png": "[encoded data removed]",
            "text/plain": [
              "<Figure size 1080x360 with 20 Axes>"
            ]
          },
          "metadata": {
            "tags": [],
            "needs_background": "light"
          }
        }
      ]
    },
    {
      "cell_type": "markdown",
      "metadata": {
        "id": "zVqfD79pTwyT",
        "colab_type": "text"
      },
      "source": [
        "## Build U-Net model"
      ]
    },
    {
      "cell_type": "code",
      "metadata": {
        "id": "_1qqEtqgR7mU",
        "colab_type": "code",
        "outputId": "d62047ec-c025-4f2a-f689-1e46623020fa",
        "colab": {
          "base_uri": "https://localhost:8080/",
          "height": 1000
        }
      },
      "source": [
        "# Build U-Net model\n",
        "def unet(input_size=(IMG_HEIGHT, IMG_WIDTH, IMG_CHANNELS)):\n",
        "    inputs = Input(input_size)\n",
        "    s = Lambda(lambda x: x / 255) (inputs)\n",
        "\n",
        "    # peak 3 (1, 2까지만 maxpooling)\n",
        "    # 6 - 2\n",
        "    # 7 - 1\n",
        "    c1 = Conv2D(16, (3, 3), activation='elu', kernel_initializer='he_normal', padding='same') (s)\n",
        "    c1 = Dropout(0.1) (c1)\n",
        "    c1 = Conv2D(16, (3, 3), activation='elu', kernel_initializer='he_normal', padding='same') (c1)\n",
        "    p1 = MaxPooling2D((2, 2)) (c1)\n",
        "    \n",
        "    c2 = Conv2D(32, (3, 3), activation='elu', kernel_initializer='he_normal', padding='same') (p1)\n",
        "    c2 = Dropout(0.1) (c2)\n",
        "    c2 = Conv2D(32, (3, 3), activation='elu', kernel_initializer='he_normal', padding='same') (c2)\n",
        "    p2 = MaxPooling2D((2, 2)) (c2)\n",
        "    \n",
        "    # peak\n",
        "    c3 = Conv2D(64, (3, 3), activation='elu', kernel_initializer='he_normal', padding='same') (p2)\n",
        "    c3 = Dropout(0.2) (c3)\n",
        "    c3 = Conv2D(64, (3, 3), activation='elu', kernel_initializer='he_normal', padding='same') (c3)\n",
        "    \n",
        "    u4 = Conv2DTranspose(32, (2, 2), strides=(2, 2), padding='same') (c3)\n",
        "    u4 = concatenate([u4, c2])\n",
        "    c4 = Conv2D(32, (3, 3), activation='elu', kernel_initializer='he_normal', padding='same') (u4)\n",
        "    c4 = Dropout(0.2) (c4)\n",
        "    c4 = Conv2D(32, (3, 3), activation='elu', kernel_initializer='he_normal', padding='same') (c4)\n",
        "    \n",
        "    u5 = Conv2DTranspose(16, (2, 2), strides=(2, 2), padding='same') (c4)\n",
        "    u5 = concatenate([u5, c1], axis=3)\n",
        "    c5 = Conv2D(16, (3, 3), activation='elu', kernel_initializer='he_normal', padding='same') (u5)\n",
        "    c5 = Dropout(0.2) (c5)\n",
        "    c5 = Conv2D(16, (3, 3), activation='elu', kernel_initializer='he_normal', padding='same') (c5)\n",
        "    \n",
        "    outputs = Conv2D(1, (1, 1), activation='sigmoid') (c5)\n",
        "    \n",
        "    return Model(inputs=[inputs], outputs=[outputs])\n",
        "\n",
        "u_net = unet()\n",
        "u_net.compile(optimizer='adam', loss='binary_crossentropy', metrics=['accuracy'])\n",
        "u_net.summary()"
      ],
      "execution_count": 30,
      "outputs": [
        {
          "output_type": "stream",
          "text": [
            "Model: \"model_5\"\n",
            "__________________________________________________________________________________________________\n",
            "Layer (type)                    Output Shape         Param #     Connected to                     \n",
            "==================================================================================================\n",
            "input_6 (InputLayer)            [(None, 28, 28, 1)]  0                                            \n",
            "__________________________________________________________________________________________________\n",
            "lambda_2 (Lambda)               (None, 28, 28, 1)    0           input_6[0][0]                    \n",
            "__________________________________________________________________________________________________\n",
            "conv2d_26 (Conv2D)              (None, 28, 28, 16)   160         lambda_2[0][0]                   \n",
            "__________________________________________________________________________________________________\n",
            "dropout_10 (Dropout)            (None, 28, 28, 16)   0           conv2d_26[0][0]                  \n",
            "__________________________________________________________________________________________________\n",
            "conv2d_27 (Conv2D)              (None, 28, 28, 16)   2320        dropout_10[0][0]                 \n",
            "__________________________________________________________________________________________________\n",
            "max_pooling2d_6 (MaxPooling2D)  (None, 14, 14, 16)   0           conv2d_27[0][0]                  \n",
            "__________________________________________________________________________________________________\n",
            "conv2d_28 (Conv2D)              (None, 14, 14, 32)   4640        max_pooling2d_6[0][0]            \n",
            "__________________________________________________________________________________________________\n",
            "dropout_11 (Dropout)            (None, 14, 14, 32)   0           conv2d_28[0][0]                  \n",
            "__________________________________________________________________________________________________\n",
            "conv2d_29 (Conv2D)              (None, 14, 14, 32)   9248        dropout_11[0][0]                 \n",
            "__________________________________________________________________________________________________\n",
            "max_pooling2d_7 (MaxPooling2D)  (None, 7, 7, 32)     0           conv2d_29[0][0]                  \n",
            "__________________________________________________________________________________________________\n",
            "conv2d_30 (Conv2D)              (None, 7, 7, 64)     18496       max_pooling2d_7[0][0]            \n",
            "__________________________________________________________________________________________________\n",
            "dropout_12 (Dropout)            (None, 7, 7, 64)     0           conv2d_30[0][0]                  \n",
            "__________________________________________________________________________________________________\n",
            "conv2d_31 (Conv2D)              (None, 7, 7, 64)     36928       dropout_12[0][0]                 \n",
            "__________________________________________________________________________________________________\n",
            "conv2d_transpose_6 (Conv2DTrans (None, 14, 14, 32)   8224        conv2d_31[0][0]                  \n",
            "__________________________________________________________________________________________________\n",
            "concatenate_4 (Concatenate)     (None, 14, 14, 64)   0           conv2d_transpose_6[0][0]         \n",
            "                                                                 conv2d_29[0][0]                  \n",
            "__________________________________________________________________________________________________\n",
            "conv2d_32 (Conv2D)              (None, 14, 14, 32)   18464       concatenate_4[0][0]              \n",
            "__________________________________________________________________________________________________\n",
            "dropout_13 (Dropout)            (None, 14, 14, 32)   0           conv2d_32[0][0]                  \n",
            "__________________________________________________________________________________________________\n",
            "conv2d_33 (Conv2D)              (None, 14, 14, 32)   9248        dropout_13[0][0]                 \n",
            "__________________________________________________________________________________________________\n",
            "conv2d_transpose_7 (Conv2DTrans (None, 28, 28, 16)   2064        conv2d_33[0][0]                  \n",
            "__________________________________________________________________________________________________\n",
            "concatenate_5 (Concatenate)     (None, 28, 28, 32)   0           conv2d_transpose_7[0][0]         \n",
            "                                                                 conv2d_27[0][0]                  \n",
            "__________________________________________________________________________________________________\n",
            "conv2d_34 (Conv2D)              (None, 28, 28, 16)   4624        concatenate_5[0][0]              \n",
            "__________________________________________________________________________________________________\n",
            "dropout_14 (Dropout)            (None, 28, 28, 16)   0           conv2d_34[0][0]                  \n",
            "__________________________________________________________________________________________________\n",
            "conv2d_35 (Conv2D)              (None, 28, 28, 16)   2320        dropout_14[0][0]                 \n",
            "__________________________________________________________________________________________________\n",
            "conv2d_36 (Conv2D)              (None, 28, 28, 1)    17          conv2d_35[0][0]                  \n",
            "==================================================================================================\n",
            "Total params: 116,753\n",
            "Trainable params: 116,753\n",
            "Non-trainable params: 0\n",
            "__________________________________________________________________________________________________\n"
          ],
          "name": "stdout"
        }
      ]
    },
    {
      "cell_type": "markdown",
      "metadata": {
        "id": "zTxEY7zpT1xK",
        "colab_type": "text"
      },
      "source": [
        "## Train U-Net model"
      ]
    },
    {
      "cell_type": "code",
      "metadata": {
        "id": "aYSBRa2BR-fE",
        "colab_type": "code",
        "outputId": "50769407-25b9-429e-db30-f078f7c69142",
        "colab": {
          "base_uri": "https://localhost:8080/",
          "height": 395
        }
      },
      "source": [
        "# Fitting\n",
        "\n",
        "# earlystopper = EarlyStopping(patience=5, verbose=1)\n",
        "# checkpointer = ModelCheckpoint('model-2020-1.h5', verbose=1, save_best_only=True)\n",
        "# checkpointer = ModelCheckpoint(filepath = 'model_2020_05.hdf5', verbose=1, save_best_only=True, save_weights_only = True)\n",
        "# hist = model.fit(ruined, normal, validation_split=0.1, batch_size=10, epochs=50, callbacks=[checkpointer, earlystopper])\n",
        "\n",
        "hist = u_net.fit(u_ruined, u_normal, validation_split=0.1, batch_size=3, epochs=10)\n",
        "\n",
        "u_net.save('./drive/My Drive/unet.h5')"
      ],
      "execution_count": 31,
      "outputs": [
        {
          "output_type": "stream",
          "text": [
            "Train on 54000 samples, validate on 6000 samples\n",
            "Epoch 1/10\n",
            "54000/54000 [==============================] - 106s 2ms/sample - loss: 0.0953 - acc: 0.8112 - val_loss: 0.0796 - val_acc: 0.8126\n",
            "Epoch 2/10\n",
            "54000/54000 [==============================] - 106s 2ms/sample - loss: 0.0800 - acc: 0.8135 - val_loss: 0.0756 - val_acc: 0.8140\n",
            "Epoch 3/10\n",
            "54000/54000 [==============================] - 104s 2ms/sample - loss: 0.0778 - acc: 0.8138 - val_loss: 0.0745 - val_acc: 0.8142\n",
            "Epoch 4/10\n",
            "54000/54000 [==============================] - 104s 2ms/sample - loss: 0.0767 - acc: 0.8139 - val_loss: 0.0737 - val_acc: 0.8143\n",
            "Epoch 5/10\n",
            "54000/54000 [==============================] - 105s 2ms/sample - loss: 0.0761 - acc: 0.8140 - val_loss: 0.0736 - val_acc: 0.8141\n",
            "Epoch 6/10\n",
            "54000/54000 [==============================] - 105s 2ms/sample - loss: 0.0757 - acc: 0.8140 - val_loss: 0.0731 - val_acc: 0.8146\n",
            "Epoch 7/10\n",
            "54000/54000 [==============================] - 106s 2ms/sample - loss: 0.0753 - acc: 0.8141 - val_loss: 0.0727 - val_acc: 0.8145\n",
            "Epoch 8/10\n",
            "54000/54000 [==============================] - 104s 2ms/sample - loss: 0.0751 - acc: 0.8141 - val_loss: 0.0737 - val_acc: 0.8140\n",
            "Epoch 9/10\n",
            "54000/54000 [==============================] - 105s 2ms/sample - loss: 0.0749 - acc: 0.8141 - val_loss: 0.0728 - val_acc: 0.8141\n",
            "Epoch 10/10\n",
            "54000/54000 [==============================] - 104s 2ms/sample - loss: 0.0747 - acc: 0.8142 - val_loss: 0.0726 - val_acc: 0.8148\n"
          ],
          "name": "stdout"
        }
      ]
    },
    {
      "cell_type": "markdown",
      "metadata": {
        "id": "jxf34qWaT8zw",
        "colab_type": "text"
      },
      "source": [
        "## Visualize test results after training U-Net model"
      ]
    },
    {
      "cell_type": "code",
      "metadata": {
        "id": "zd5U5uGXSBZk",
        "colab_type": "code",
        "outputId": "d15d9512-2950-4c64-9535-531604247ff7",
        "colab": {
          "base_uri": "https://localhost:8080/",
          "height": 53
        }
      },
      "source": [
        "score = u_net.evaluate(u_test_ruined, u_test_normal, verbose=0)\n",
        "print('Test loss:', score[0])\n",
        "print('Test accuracy:', score[1])"
      ],
      "execution_count": 32,
      "outputs": [
        {
          "output_type": "stream",
          "text": [
            "Test loss: 0.12379400384426117\n",
            "Test accuracy: 0.79276836\n"
          ],
          "name": "stdout"
        }
      ]
    },
    {
      "cell_type": "code",
      "metadata": {
        "id": "g8baozrUSCv0",
        "colab_type": "code",
        "outputId": "04eff169-309e-4ba4-ba57-7a7d94a9be18",
        "colab": {
          "base_uri": "https://localhost:8080/",
          "height": 297
        }
      },
      "source": [
        "# plotting the metrics\n",
        "fig = plt.figure()\n",
        "plt.subplot(2,1,1)\n",
        "# plt.plot(hist.history['accuracy'])\n",
        "# plt.plot(hist.history['val_accuracy'])\n",
        "plt.plot(hist.history['acc'])\n",
        "plt.plot(hist.history['val_acc'])\n",
        "plt.title('unet model accuracy')\n",
        "plt.ylabel('accuracy')\n",
        "plt.xlabel('epoch')\n",
        "plt.legend(['train', 'test'], loc='lower right')\n",
        "plt.subplot(2,1,2)\n",
        "plt.plot(hist.history['loss'])\n",
        "plt.plot(hist.history['val_loss'])\n",
        "plt.title('unet model loss')\n",
        "plt.ylabel('loss')\n",
        "plt.xlabel('epoch')\n",
        "plt.legend(['train', 'test'], loc='upper right')\n",
        "plt.tight_layout()"
      ],
      "execution_count": 34,
      "outputs": [
        {
          "output_type": "display_data",
          "data": {
            "image/png": "[encoded data removed]",
            "text/plain": [
              "<Figure size 432x288 with 2 Axes>"
            ]
          },
          "metadata": {
            "tags": [],
            "needs_background": "light"
          }
        }
      ]
    },
    {
      "cell_type": "code",
      "metadata": {
        "id": "RaFVwFEUSE5s",
        "colab_type": "code",
        "colab": {}
      },
      "source": [
        "def plotPredictions(model, x_train, y_train, x_test, y_test):\n",
        "    ix = np.random.randint(0, len(x_train)) ############ <<<\n",
        "\n",
        "    input_ = x_train[ix:ix+1] ############ <\n",
        "    mask_ = y_train[ix:ix+1]\n",
        "\n",
        "    preds_train = model.predict(input_)  ############### <<<<\n",
        "    preds_train_t = (preds_train > 0.5).astype(np.uint8)  ########### <<<<\n",
        "\n",
        "    plt.figure(figsize=(10,10))\n",
        "    plt.subplot(1,4,1)\n",
        "    plt.title(\"Ruined(U-NET)\")\n",
        "    plt.axis('off')\n",
        "    plt.imshow(input_[0].reshape((28,28)), 'gray')\n",
        "\n",
        "    plt.subplot(1,4,2)\n",
        "    plt.title(\"Normal(U-NET)\")\n",
        "    plt.axis('off')\n",
        "    plt.imshow(mask_[0][:,:,0], 'gray')\n",
        "\n",
        "    plt.subplot(1,4,3)\n",
        "    ret = model.evaluate(input_, mask_)\n",
        "    plt.title(\"Prediction: %.4f\" % (ret[1]))\n",
        "    plt.axis('off')\n",
        "    plt.imshow(preds_train_t[0][:,:,0], 'gray')  ####### <<<<<<\n",
        "\n",
        "    # detect residual in train data\n",
        "    train_residual = input_ - preds_train_t\n",
        "    train_residual_ = train_residual.reshape((28,28))\n",
        "\n",
        "    # transformed into 3 channels (RGB)\n",
        "    train_residual_ = np.stack((train_residual_,)*3, -1)\n",
        "    rows, cols, channels = train_residual_.shape\n",
        "\n",
        "    # changing 255 to 0 in first channel\n",
        "    for i in range(rows): \n",
        "        for j in range(cols):\n",
        "            if train_residual_[i, j, 0] == 1 :\n",
        "                train_residual_[i, j, 0] = 1\n",
        "\n",
        "    for i in range(rows):\n",
        "        for j in range(cols):\n",
        "            if train_residual_[i, j, 1] == 1 :\n",
        "                train_residual_[i, j, 1] = 0\n",
        "\n",
        "    for i in range(rows):\n",
        "        for j in range(cols):\n",
        "            if train_residual_[i, j, 2] == 1 :\n",
        "                train_residual_[i, j, 2] = 0            \n",
        "\n",
        "    plt.subplot(1,4,4)\n",
        "    plt.title(\"Anomaly\")\n",
        "    plt.axis('off')\n",
        "    plt.imshow(train_residual_)\n",
        "    plt.show()\n",
        "    plt.close()\n",
        "\n",
        "    ix = np.random.randint(0, len(x_test))\n",
        "    input_ = x_test[ix:ix+1]\n",
        "    mask_ = y_test[ix:ix+1]\n",
        "    preds_test = model.predict(input_)\n",
        "    preds_test_t = (preds_test > 0.5).astype(np.uint8)\n",
        "\n",
        "    plt.figure(figsize=(10,10))\n",
        "    plt.subplot(1,4,1)\n",
        "    plt.title(\"u_test_ruined\")\n",
        "    plt.axis('off')\n",
        "    plt.imshow(input_[0].reshape((28,28)), 'gray')\n",
        "\n",
        "    plt.subplot(1,4,2)\n",
        "    plt.title(\"u_test_normal\")\n",
        "    plt.axis('off')\n",
        "    plt.imshow(mask_[0][:,:,0], 'gray')\n",
        "\n",
        "    plt.subplot(1,4,3)\n",
        "    ret = model.evaluate(input_, mask_)\n",
        "    plt.title(\"Prediction: %.4f\" % (ret[1]))\n",
        "    plt.axis('off')\n",
        "    plt.imshow(preds_test_t[0][:,:,0], 'gray')\n",
        "\n",
        "    # detect residual in test data\n",
        "    test_residual = input_ - preds_test_t\n",
        "    test_residual_ = test_residual.reshape((28,28))\n",
        "\n",
        "    # transformed into 3 channels (RGB)\n",
        "    test_residual_ = np.stack((test_residual_,)*3, -1)\n",
        "    rows, cols, channels = test_residual_.shape\n",
        "    \n",
        "    # changing 255 to 0 in first channel\n",
        "    for i in range(rows):\n",
        "        for j in range(cols):\n",
        "            if test_residual_[i, j, 0] == 1 :\n",
        "                test_residual_[i, j, 0] = 1\n",
        "\n",
        "    for i in range(rows):\n",
        "        for j in range(cols):\n",
        "            if test_residual_[i, j, 1] == 1 :\n",
        "                test_residual_[i, j, 1] = 0\n",
        "\n",
        "    for i in range(rows):\n",
        "        for j in range(cols):\n",
        "            if test_residual_[i, j, 2] == 1 :\n",
        "                test_residual_[i, j, 2] = 0            \n",
        "\n",
        "    plt.subplot(1,4,4)\n",
        "    plt.title(\"Anomaly\")\n",
        "    plt.axis('off')\n",
        "    plt.imshow(test_residual_)\n",
        "    plt.show()\n",
        "    plt.close()"
      ],
      "execution_count": 0,
      "outputs": []
    },
    {
      "cell_type": "code",
      "metadata": {
        "id": "RMqbOOkzUTeU",
        "colab_type": "code",
        "colab": {
          "base_uri": "https://localhost:8080/",
          "height": 391
        },
        "outputId": "c4262fd2-1b29-47e3-8492-b46341cbf0dd"
      },
      "source": [
        "# plot with color\n",
        "plotPredictions(u_net, u_ruined, u_normal, u_test_ruined, u_test_normal)"
      ],
      "execution_count": 39,
      "outputs": [
        {
          "output_type": "stream",
          "text": [
            "\r1/1 [==============================] - 0s 3ms/sample - loss: 0.0282 - acc: 0.9273\n"
          ],
          "name": "stdout"
        },
        {
          "output_type": "stream",
          "text": [
            "Clipping input data to the valid range for imshow with RGB data ([0..1] for floats or [0..255] for integers).\n"
          ],
          "name": "stderr"
        },
        {
          "output_type": "display_data",
          "data": {
            "image/png": "[encoded data removed]",
            "text/plain": [
              "<Figure size 720x720 with 4 Axes>"
            ]
          },
          "metadata": {
            "tags": [],
            "needs_background": "light"
          }
        },
        {
          "output_type": "stream",
          "text": [
            "\r1/1 [==============================] - 0s 2ms/sample - loss: 0.0932 - acc: 0.7666\n"
          ],
          "name": "stdout"
        },
        {
          "output_type": "stream",
          "text": [
            "Clipping input data to the valid range for imshow with RGB data ([0..1] for floats or [0..255] for integers).\n"
          ],
          "name": "stderr"
        },
        {
          "output_type": "display_data",
          "data": {
            "image/png": "[encoded data removed]",
            "text/plain": [
              "<Figure size 720x720 with 4 Axes>"
            ]
          },
          "metadata": {
            "tags": [],
            "needs_background": "light"
          }
        }
      ]
    },
    {
      "cell_type": "markdown",
      "metadata": {
        "id": "mPGVleFHUYTx",
        "colab_type": "text"
      },
      "source": [
        "## Evaluate U-Net's results with DCGAN's discriminator"
      ]
    },
    {
      "cell_type": "code",
      "metadata": {
        "id": "MgQRBG3JUJmI",
        "colab_type": "code",
        "colab": {}
      },
      "source": [
        "ix = np.random.randint(0, len(u_ruined)) ############ <<<\n",
        "u_input = u_ruined[:ix] ############ <\n",
        "u_compare = u_normal[:ix]\n",
        "u_preds_train = u_net.predict(u_input)  ############### <<<<\n",
        "u_preds_train_t = (u_preds_train > 0.5).astype(np.uint8)  ########### <<<<\n",
        "# plt.imshow(preds_train_t[0][:,:,0], 'gray')  ####### <<<<<<\n",
        "\n",
        "u_predicted_normal = dcgan.d.predict(u_compare)\n",
        "u_predicted_compare = dcgan.d.predict(u_input)\n",
        "u_predicted_ruined = dcgan.d.predict(u_preds_train_t)"
      ],
      "execution_count": 0,
      "outputs": []
    },
    {
      "cell_type": "code",
      "metadata": {
        "id": "Bs99KOgNWp1f",
        "colab_type": "code",
        "outputId": "b9970090-ab43-45f3-be29-9ce2f8732664",
        "colab": {
          "base_uri": "https://localhost:8080/",
          "height": 34
        }
      },
      "source": [
        "# print(ruined.shape)"
      ],
      "execution_count": 0,
      "outputs": [
        {
          "output_type": "stream",
          "text": [
            "(60000, 28, 28, 1)\n"
          ],
          "name": "stdout"
        }
      ]
    },
    {
      "cell_type": "code",
      "metadata": {
        "id": "gV70o5NhZdYk",
        "colab_type": "code",
        "outputId": "af0f609e-2a35-4bbb-cbfc-8140c670f208",
        "colab": {
          "base_uri": "https://localhost:8080/",
          "height": 35
        }
      },
      "source": [
        "print(ix)"
      ],
      "execution_count": 41,
      "outputs": [
        {
          "output_type": "stream",
          "text": [
            "8630\n"
          ],
          "name": "stdout"
        }
      ]
    },
    {
      "cell_type": "code",
      "metadata": {
        "id": "TkIyzv4zGhN2",
        "colab_type": "code",
        "outputId": "0a512c4d-de98-428a-f0a6-152ad9ed69a3",
        "colab": {
          "base_uri": "https://localhost:8080/",
          "height": 391
        }
      },
      "source": [
        "plotPredictions(model, u_ruined, u_normal, u_input, u_compare)"
      ],
      "execution_count": 42,
      "outputs": [
        {
          "output_type": "stream",
          "text": [
            "\r1/1 [==============================] - 0s 3ms/sample - loss: 0.0964 - acc: 0.7398\n"
          ],
          "name": "stdout"
        },
        {
          "output_type": "stream",
          "text": [
            "Clipping input data to the valid range for imshow with RGB data ([0..1] for floats or [0..255] for integers).\n"
          ],
          "name": "stderr"
        },
        {
          "output_type": "display_data",
          "data": {
            "image/png": "[encoded data removed]",
            "text/plain": [
              "<Figure size 720x720 with 4 Axes>"
            ]
          },
          "metadata": {
            "tags": [],
            "needs_background": "light"
          }
        },
        {
          "output_type": "stream",
          "text": [
            "\r1/1 [==============================] - 0s 2ms/sample - loss: 0.0705 - acc: 0.7819\n"
          ],
          "name": "stdout"
        },
        {
          "output_type": "stream",
          "text": [
            "Clipping input data to the valid range for imshow with RGB data ([0..1] for floats or [0..255] for integers).\n"
          ],
          "name": "stderr"
        },
        {
          "output_type": "display_data",
          "data": {
            "image/png": "[encoded data removed]",
            "text/plain": [
              "<Figure size 720x720 with 4 Axes>"
            ]
          },
          "metadata": {
            "tags": [],
            "needs_background": "light"
          }
        }
      ]
    },
    {
      "cell_type": "code",
      "metadata": {
        "id": "lEjc5FZCUsKz",
        "colab_type": "code",
        "outputId": "49e414fc-e23f-48d6-df48-b945f494d398",
        "colab": {
          "base_uri": "https://localhost:8080/",
          "height": 809
        }
      },
      "source": [
        "# import matplotlib.pyplot as plt\n",
        "\n",
        "plt.hist(u_predicted_normal, bins=50, range=(0,1))\n",
        "plt.gca().set(title='Frequency Histogram of Predicted Normal(U-Net)', ylabel='Frequency');\n",
        "plt.show()\n",
        "\n",
        "plt.hist(u_predicted_ruined, bins=50, range=(0,1))\n",
        "plt.gca().set(title='Frequency Histogram of Predicted Ruined(U-Net)', ylabel='Frequency');\n",
        "plt.show()\n",
        "\n",
        "\n",
        "# u_predicted_compare\n",
        "plt.hist(u_predicted_compare, bins=50, range=(0,1))\n",
        "plt.gca().set(title='Frequency Histogram of Compare(U-Net)', ylabel='Frequency');\n",
        "plt.show()"
      ],
      "execution_count": 48,
      "outputs": [
        {
          "output_type": "display_data",
          "data": {
            "image/png": "[encoded data removed]",
            "text/plain": [
              "<Figure size 432x288 with 1 Axes>"
            ]
          },
          "metadata": {
            "tags": [],
            "needs_background": "light"
          }
        },
        {
          "output_type": "display_data",
          "data": {
            "image/png": "[encoded data removed]",
            "text/plain": [
              "<Figure size 432x288 with 1 Axes>"
            ]
          },
          "metadata": {
            "tags": [],
            "needs_background": "light"
          }
        },
        {
          "output_type": "display_data",
          "data": {
            "image/png": "[encoded data removed]",
            "text/plain": [
              "<Figure size 432x288 with 1 Axes>"
            ]
          },
          "metadata": {
            "tags": [],
            "needs_background": "light"
          }
        }
      ]
    },
    {
      "cell_type": "code",
      "metadata": {
        "id": "52aYgEP3VtIU",
        "colab_type": "code",
        "colab": {
          "base_uri": "https://localhost:8080/",
          "height": 197
        },
        "outputId": "7d666832-3e51-4540-a8b5-d6e301fe53ca"
      },
      "source": [
        "print(u_predicted_normal[:10])"
      ],
      "execution_count": 44,
      "outputs": [
        {
          "output_type": "stream",
          "text": [
            "[[0.54268783]\n",
            " [0.8571967 ]\n",
            " [0.6706413 ]\n",
            " [0.8389517 ]\n",
            " [0.6476887 ]\n",
            " [0.5900427 ]\n",
            " [0.66587126]\n",
            " [0.612955  ]\n",
            " [0.6753938 ]\n",
            " [0.63931596]]\n"
          ],
          "name": "stdout"
        }
      ]
    },
    {
      "cell_type": "code",
      "metadata": {
        "id": "7P7Qm2-iVufR",
        "colab_type": "code",
        "colab": {
          "base_uri": "https://localhost:8080/",
          "height": 197
        },
        "outputId": "8b3b16cc-bda2-4837-d499-a14649c3c7d0"
      },
      "source": [
        "print(u_predicted_ruined[:10])"
      ],
      "execution_count": 45,
      "outputs": [
        {
          "output_type": "stream",
          "text": [
            "[[0.43471214]\n",
            " [0.78109866]\n",
            " [0.6248044 ]\n",
            " [0.82320607]\n",
            " [0.6520396 ]\n",
            " [0.54729277]\n",
            " [0.7762097 ]\n",
            " [0.56405765]\n",
            " [0.75611955]\n",
            " [0.6329705 ]]\n"
          ],
          "name": "stdout"
        }
      ]
    }
  ]
}