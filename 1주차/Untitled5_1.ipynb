{
  "nbformat": 4,
  "nbformat_minor": 0,
  "metadata": {
    "colab": {
      "name": "Untitled5_1.ipynb",
      "provenance": [],
      "collapsed_sections": []
    },
    "kernelspec": {
      "name": "python3",
      "display_name": "Python 3"
    },
    "accelerator": "GPU"
  },
  "cells": [
    {
      "cell_type": "markdown",
      "metadata": {
        "id": "laOyCS43GIvo",
        "colab_type": "text"
      },
      "source": [
        "https://m.blog.naver.com/PostView.nhn?blogId=stop2y&logNo=221529660467&proxyReferer=https:%2F%2Fwww.google.com%2F"
      ]
    },
    {
      "cell_type": "markdown",
      "metadata": {
        "id": "YcUDMT9MG9h8",
        "colab_type": "text"
      },
      "source": [
        "![대체 텍스트](data:image/png;base64,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)"
      ]
    },
    {
      "cell_type": "markdown",
      "metadata": {
        "id": "ztOrhd3YHLcV",
        "colab_type": "text"
      },
      "source": [
        "진짜 이미지를 주고 Discriminator에게 진짜임을 판단하게 함\n",
        "\n",
        "노이즈를 주고 Generator에게 가짜 이미지를 만들고 이를 Discriminator에게 진짜 이미지인지 가짜 이미지인지 판단하게 함\n",
        "\n",
        "GAN에서는 Generator는 노이즈를 통해 얻어낸 가짜 이미지를 기반으로 Discriminator를 속이도록 훈련"
      ]
    },
    {
      "cell_type": "code",
      "metadata": {
        "id": "8Q4xOIdVGFKo",
        "colab_type": "code",
        "outputId": "55895254-2d5a-42c3-f262-23e741ee60e2",
        "colab": {
          "base_uri": "https://localhost:8080/",
          "height": 35
        }
      },
      "source": [
        "# 구글 마운트 기능 없을 때(불과 3달 전) 쓰던 기능 코드\n",
        "\n",
        "from google.colab import drive\n",
        "drive.mount('/content/drive')"
      ],
      "execution_count": 1,
      "outputs": [
        {
          "output_type": "stream",
          "text": [
            "Drive already mounted at /content/drive; to attempt to forcibly remount, call drive.mount(\"/content/drive\", force_remount=True).\n"
          ],
          "name": "stdout"
        }
      ]
    },
    {
      "cell_type": "code",
      "metadata": {
        "id": "JuIG7LBVHFXV",
        "colab_type": "code",
        "outputId": "51f1ae8f-d255-4dd9-9f83-d210c111ae63",
        "colab": {
          "base_uri": "https://localhost:8080/",
          "height": 125
        }
      },
      "source": [
        "!cp '/content/drive/My Drive/Colab Notebooks/GAN.zip' ./\n",
        "\n",
        "!unzip GAN.zip"
      ],
      "execution_count": 10,
      "outputs": [
        {
          "output_type": "stream",
          "text": [
            "Archive:  GAN.zip\n",
            "replace test.txt? [y]es, [n]o, [A]ll, [N]one, [r]ename: y\n",
            " extracting: test.txt                \n",
            "replace test/Apple/321_100.jpg? [y]es, [n]o, [A]ll, [N]one, [r]ename: a\n",
            "error:  invalid response [a]\n",
            "replace test/Apple/321_100.jpg? [y]es, [n]o, [A]ll, [N]one, [r]ename: "
          ],
          "name": "stdout"
        }
      ]
    },
    {
      "cell_type": "markdown",
      "metadata": {
        "id": "FoHuk-YvJy9F",
        "colab_type": "text"
      },
      "source": [
        " train.txt, test.txt\n",
        "\n",
        "- '사진경로\\사진라벨' 로 구성\n",
        "\n",
        "- Apple: 0, Banana: 1, Orange: 2\n",
        "\n",
        "train, test 폴더\n",
        "- jpg 파일\n",
        "- 높이 100, 길이 100\n",
        "- 2채널 (Gray)"
      ]
    },
    {
      "cell_type": "code",
      "metadata": {
        "id": "A6RDf2yaIoiW",
        "colab_type": "code",
        "outputId": "3d02d803-f044-41b0-b778-d19aefd9bd6d",
        "colab": {
          "base_uri": "https://localhost:8080/",
          "height": 35
        }
      },
      "source": [
        "# %cd /content/GAN\n",
        "%cd /content"
      ],
      "execution_count": 2,
      "outputs": [
        {
          "output_type": "stream",
          "text": [
            "/content\n"
          ],
          "name": "stdout"
        }
      ]
    },
    {
      "cell_type": "code",
      "metadata": {
        "id": "TkpZjs6LIruF",
        "colab_type": "code",
        "colab": {}
      },
      "source": [
        "# train_jpg_path = '/content/train'\n",
        "# test_jpg_path = '/content/test'\n",
        "\n",
        "# train_path = '/content/train.txt'\n",
        "# text_path = '/content/test.txt'"
      ],
      "execution_count": 0,
      "outputs": []
    },
    {
      "cell_type": "code",
      "metadata": {
        "id": "wVN-llubIvXI",
        "colab_type": "code",
        "colab": {}
      },
      "source": [
        "# import os\n",
        "# import glob"
      ],
      "execution_count": 0,
      "outputs": []
    },
    {
      "cell_type": "code",
      "metadata": {
        "id": "d-lXSOxJKc29",
        "colab_type": "code",
        "outputId": "151e3948-dcad-4a3a-a403-deedd47f5148",
        "colab": {
          "base_uri": "https://localhost:8080/",
          "height": 35
        }
      },
      "source": [
        "# 모듈 불러오기\n",
        "%tensorflow_version 1.x\n",
        "\n",
        "import tensorflow as tf\n",
        "import matplotlib.pyplot as plt\n",
        "import numpy as np\n",
        "import cv2"
      ],
      "execution_count": 3,
      "outputs": [
        {
          "output_type": "stream",
          "text": [
            "TensorFlow 1.x selected.\n"
          ],
          "name": "stdout"
        }
      ]
    },
    {
      "cell_type": "code",
      "metadata": {
        "id": "bzCHZY7FRHrh",
        "colab_type": "code",
        "outputId": "58f099ea-3359-427f-c509-0832ff278e52",
        "colab": {
          "base_uri": "https://localhost:8080/",
          "height": 35
        }
      },
      "source": [
        "# 시작 전 tensorflow 버전 확인 (tensorflow 2.0 이상 버전부터 placeholder error 남)\n",
        "\n",
        "tf.__version__\n",
        "#!pip install tensorflow-gpu==1.15.2\n",
        "\n",
        "# !pip uninstall tensorflow\n",
        "# !pip install tensorflow==1.15\n",
        "\n",
        "\n",
        "# 출처: https://sikaleo.tistory.com/24 [SIKALEO]"
      ],
      "execution_count": 6,
      "outputs": [
        {
          "output_type": "execute_result",
          "data": {
            "text/plain": [
              "'1.15.2'"
            ]
          },
          "metadata": {
            "tags": []
          },
          "execution_count": 6
        }
      ]
    },
    {
      "cell_type": "code",
      "metadata": {
        "id": "aUei-JTkKkuD",
        "colab_type": "code",
        "colab": {}
      },
      "source": [
        "# 데이터셋 정의\n",
        "# train, test 파싱\n",
        "\n",
        "# 실제 이미지, 라벨 파싱\n",
        "train_list, test_list = [], []\n",
        "\n",
        "with open('train.txt') as f:\n",
        "  for line in f:\n",
        "    tmp = line.strip().split()\n",
        "    # [0] = 파일 이름\n",
        "    # [1] = 과일 인덱스(0/1/2)\n",
        "    train_list.append([tmp[0], tmp[1]])\n",
        "\n",
        "with open('test.txt') as f:\n",
        "  for line in f:\n",
        "    tmp = line.strip().split()\n",
        "    test_list.append([tmp[0], tmp[1]])\n",
        "  \n",
        "# train_list와 test_list에 [사진경로, 사진인덱스] 형태로 저장됨"
      ],
      "execution_count": 0,
      "outputs": []
    },
    {
      "cell_type": "code",
      "metadata": {
        "id": "wL_0HAPDkT8-",
        "colab_type": "code",
        "outputId": "cf415494-6940-4ab2-9c57-36c23f696083",
        "colab": {
          "base_uri": "https://localhost:8080/",
          "height": 54
        }
      },
      "source": [
        "print(train_list)"
      ],
      "execution_count": 0,
      "outputs": [
        {
          "output_type": "stream",
          "text": [
            "[['train\\\\Apple\\\\0_100.jpg', '0'], ['train\\\\Apple\\\\100_100.jpg', '0'], ['train\\\\Apple\\\\101_100.jpg', '0'], ['train\\\\Apple\\\\102_100.jpg', '0'], ['train\\\\Apple\\\\103_100.jpg', '0'], ['train\\\\Apple\\\\104_100.jpg', '0'], ['train\\\\Apple\\\\105_100.jpg', '0'], ['train\\\\Apple\\\\106_100.jpg', '0'], ['train\\\\Apple\\\\107_100.jpg', '0'], ['train\\\\Apple\\\\108_100.jpg', '0'], ['train\\\\Apple\\\\109_100.jpg', '0'], ['train\\\\Apple\\\\10_100.jpg', '0'], ['train\\\\Apple\\\\110_100.jpg', '0'], ['train\\\\Apple\\\\111_100.jpg', '0'], ['train\\\\Apple\\\\112_100.jpg', '0'], ['train\\\\Apple\\\\113_100.jpg', '0'], ['train\\\\Apple\\\\114_100.jpg', '0'], ['train\\\\Apple\\\\115_100.jpg', '0'], ['train\\\\Apple\\\\116_100.jpg', '0'], ['train\\\\Apple\\\\117_100.jpg', '0'], ['train\\\\Apple\\\\118_100.jpg', '0'], ['train\\\\Apple\\\\119_100.jpg', '0'], ['train\\\\Apple\\\\11_100.jpg', '0'], ['train\\\\Apple\\\\120_100.jpg', '0'], ['train\\\\Apple\\\\121_100.jpg', '0'], ['train\\\\Apple\\\\122_100.jpg', '0'], ['train\\\\Apple\\\\123_100.jpg', '0'], ['train\\\\Apple\\\\124_100.jpg', '0'], ['train\\\\Apple\\\\125_100.jpg', '0'], ['train\\\\Apple\\\\126_100.jpg', '0'], ['train\\\\Apple\\\\127_100.jpg', '0'], ['train\\\\Apple\\\\128_100.jpg', '0'], ['train\\\\Apple\\\\129_100.jpg', '0'], ['train\\\\Apple\\\\12_100.jpg', '0'], ['train\\\\Apple\\\\130_100.jpg', '0'], ['train\\\\Apple\\\\131_100.jpg', '0'], ['train\\\\Apple\\\\132_100.jpg', '0'], ['train\\\\Apple\\\\133_100.jpg', '0'], ['train\\\\Apple\\\\134_100.jpg', '0'], ['train\\\\Apple\\\\135_100.jpg', '0'], ['train\\\\Apple\\\\136_100.jpg', '0'], ['train\\\\Apple\\\\137_100.jpg', '0'], ['train\\\\Apple\\\\138_100.jpg', '0'], ['train\\\\Apple\\\\139_100.jpg', '0'], ['train\\\\Apple\\\\13_100.jpg', '0'], ['train\\\\Apple\\\\140_100.jpg', '0'], ['train\\\\Apple\\\\141_100.jpg', '0'], ['train\\\\Apple\\\\142_100.jpg', '0'], ['train\\\\Apple\\\\143_100.jpg', '0'], ['train\\\\Apple\\\\144_100.jpg', '0'], ['train\\\\Apple\\\\145_100.jpg', '0'], ['train\\\\Apple\\\\146_100.jpg', '0'], ['train\\\\Apple\\\\147_100.jpg', '0'], ['train\\\\Apple\\\\148_100.jpg', '0'], ['train\\\\Apple\\\\149_100.jpg', '0'], ['train\\\\Apple\\\\14_100.jpg', '0'], ['train\\\\Apple\\\\150_100.jpg', '0'], ['train\\\\Apple\\\\151_100.jpg', '0'], ['train\\\\Apple\\\\152_100.jpg', '0'], ['train\\\\Apple\\\\153_100.jpg', '0'], ['train\\\\Apple\\\\154_100.jpg', '0'], ['train\\\\Apple\\\\155_100.jpg', '0'], ['train\\\\Apple\\\\156_100.jpg', '0'], ['train\\\\Apple\\\\157_100.jpg', '0'], ['train\\\\Apple\\\\158_100.jpg', '0'], ['train\\\\Apple\\\\159_100.jpg', '0'], ['train\\\\Apple\\\\15_100.jpg', '0'], ['train\\\\Apple\\\\160_100.jpg', '0'], ['train\\\\Apple\\\\161_100.jpg', '0'], ['train\\\\Apple\\\\162_100.jpg', '0'], ['train\\\\Apple\\\\163_100.jpg', '0'], ['train\\\\Apple\\\\164_100.jpg', '0'], ['train\\\\Apple\\\\165_100.jpg', '0'], ['train\\\\Apple\\\\166_100.jpg', '0'], ['train\\\\Apple\\\\167_100.jpg', '0'], ['train\\\\Apple\\\\168_100.jpg', '0'], ['train\\\\Apple\\\\169_100.jpg', '0'], ['train\\\\Apple\\\\16_100.jpg', '0'], ['train\\\\Apple\\\\170_100.jpg', '0'], ['train\\\\Apple\\\\171_100.jpg', '0'], ['train\\\\Apple\\\\172_100.jpg', '0'], ['train\\\\Apple\\\\173_100.jpg', '0'], ['train\\\\Apple\\\\174_100.jpg', '0'], ['train\\\\Apple\\\\175_100.jpg', '0'], ['train\\\\Apple\\\\176_100.jpg', '0'], ['train\\\\Apple\\\\177_100.jpg', '0'], ['train\\\\Apple\\\\178_100.jpg', '0'], ['train\\\\Apple\\\\179_100.jpg', '0'], ['train\\\\Apple\\\\17_100.jpg', '0'], ['train\\\\Apple\\\\180_100.jpg', '0'], ['train\\\\Apple\\\\181_100.jpg', '0'], ['train\\\\Apple\\\\182_100.jpg', '0'], ['train\\\\Apple\\\\183_100.jpg', '0'], ['train\\\\Apple\\\\184_100.jpg', '0'], ['train\\\\Apple\\\\185_100.jpg', '0'], ['train\\\\Apple\\\\186_100.jpg', '0'], ['train\\\\Apple\\\\187_100.jpg', '0'], ['train\\\\Apple\\\\188_100.jpg', '0'], ['train\\\\Apple\\\\189_100.jpg', '0'], ['train\\\\Apple\\\\18_100.jpg', '0'], ['train\\\\Apple\\\\190_100.jpg', '0'], ['train\\\\Apple\\\\191_100.jpg', '0'], ['train\\\\Apple\\\\192_100.jpg', '0'], ['train\\\\Apple\\\\193_100.jpg', '0'], ['train\\\\Apple\\\\194_100.jpg', '0'], ['train\\\\Apple\\\\195_100.jpg', '0'], ['train\\\\Apple\\\\196_100.jpg', '0'], ['train\\\\Apple\\\\197_100.jpg', '0'], ['train\\\\Apple\\\\198_100.jpg', '0'], ['train\\\\Apple\\\\199_100.jpg', '0'], ['train\\\\Apple\\\\19_100.jpg', '0'], ['train\\\\Apple\\\\1_100.jpg', '0'], ['train\\\\Apple\\\\200_100.jpg', '0'], ['train\\\\Apple\\\\201_100.jpg', '0'], ['train\\\\Apple\\\\202_100.jpg', '0'], ['train\\\\Apple\\\\203_100.jpg', '0'], ['train\\\\Apple\\\\204_100.jpg', '0'], ['train\\\\Apple\\\\205_100.jpg', '0'], ['train\\\\Apple\\\\206_100.jpg', '0'], ['train\\\\Apple\\\\207_100.jpg', '0'], ['train\\\\Apple\\\\208_100.jpg', '0'], ['train\\\\Apple\\\\209_100.jpg', '0'], ['train\\\\Apple\\\\20_100.jpg', '0'], ['train\\\\Apple\\\\210_100.jpg', '0'], ['train\\\\Apple\\\\211_100.jpg', '0'], ['train\\\\Apple\\\\212_100.jpg', '0'], ['train\\\\Apple\\\\213_100.jpg', '0'], ['train\\\\Apple\\\\214_100.jpg', '0'], ['train\\\\Apple\\\\215_100.jpg', '0'], ['train\\\\Apple\\\\216_100.jpg', '0'], ['train\\\\Apple\\\\217_100.jpg', '0'], ['train\\\\Apple\\\\218_100.jpg', '0'], ['train\\\\Apple\\\\219_100.jpg', '0'], ['train\\\\Apple\\\\21_100.jpg', '0'], ['train\\\\Apple\\\\220_100.jpg', '0'], ['train\\\\Apple\\\\221_100.jpg', '0'], ['train\\\\Apple\\\\222_100.jpg', '0'], ['train\\\\Apple\\\\223_100.jpg', '0'], ['train\\\\Apple\\\\224_100.jpg', '0'], ['train\\\\Apple\\\\225_100.jpg', '0'], ['train\\\\Apple\\\\226_100.jpg', '0'], ['train\\\\Apple\\\\227_100.jpg', '0'], ['train\\\\Apple\\\\228_100.jpg', '0'], ['train\\\\Apple\\\\229_100.jpg', '0'], ['train\\\\Apple\\\\22_100.jpg', '0'], ['train\\\\Apple\\\\230_100.jpg', '0'], ['train\\\\Apple\\\\231_100.jpg', '0'], ['train\\\\Apple\\\\232_100.jpg', '0'], ['train\\\\Apple\\\\233_100.jpg', '0'], ['train\\\\Apple\\\\234_100.jpg', '0'], ['train\\\\Apple\\\\235_100.jpg', '0'], ['train\\\\Apple\\\\236_100.jpg', '0'], ['train\\\\Apple\\\\237_100.jpg', '0'], ['train\\\\Apple\\\\238_100.jpg', '0'], ['train\\\\Apple\\\\239_100.jpg', '0'], ['train\\\\Apple\\\\23_100.jpg', '0'], ['train\\\\Apple\\\\240_100.jpg', '0'], ['train\\\\Apple\\\\241_100.jpg', '0'], ['train\\\\Apple\\\\242_100.jpg', '0'], ['train\\\\Apple\\\\243_100.jpg', '0'], ['train\\\\Apple\\\\244_100.jpg', '0'], ['train\\\\Apple\\\\245_100.jpg', '0'], ['train\\\\Apple\\\\246_100.jpg', '0'], ['train\\\\Apple\\\\247_100.jpg', '0'], ['train\\\\Apple\\\\248_100.jpg', '0'], ['train\\\\Apple\\\\249_100.jpg', '0'], ['train\\\\Apple\\\\24_100.jpg', '0'], ['train\\\\Apple\\\\250_100.jpg', '0'], ['train\\\\Apple\\\\251_100.jpg', '0'], ['train\\\\Apple\\\\252_100.jpg', '0'], ['train\\\\Apple\\\\253_100.jpg', '0'], ['train\\\\Apple\\\\254_100.jpg', '0'], ['train\\\\Apple\\\\255_100.jpg', '0'], ['train\\\\Apple\\\\256_100.jpg', '0'], ['train\\\\Apple\\\\257_100.jpg', '0'], ['train\\\\Apple\\\\258_100.jpg', '0'], ['train\\\\Apple\\\\259_100.jpg', '0'], ['train\\\\Apple\\\\25_100.jpg', '0'], ['train\\\\Apple\\\\260_100.jpg', '0'], ['train\\\\Apple\\\\261_100.jpg', '0'], ['train\\\\Apple\\\\262_100.jpg', '0'], ['train\\\\Apple\\\\263_100.jpg', '0'], ['train\\\\Apple\\\\264_100.jpg', '0'], ['train\\\\Apple\\\\265_100.jpg', '0'], ['train\\\\Apple\\\\266_100.jpg', '0'], ['train\\\\Apple\\\\267_100.jpg', '0'], ['train\\\\Apple\\\\268_100.jpg', '0'], ['train\\\\Apple\\\\269_100.jpg', '0'], ['train\\\\Apple\\\\26_100.jpg', '0'], ['train\\\\Apple\\\\270_100.jpg', '0'], ['train\\\\Apple\\\\271_100.jpg', '0'], ['train\\\\Apple\\\\272_100.jpg', '0'], ['train\\\\Apple\\\\273_100.jpg', '0'], ['train\\\\Apple\\\\274_100.jpg', '0'], ['train\\\\Apple\\\\275_100.jpg', '0'], ['train\\\\Apple\\\\276_100.jpg', '0'], ['train\\\\Apple\\\\277_100.jpg', '0'], ['train\\\\Apple\\\\278_100.jpg', '0'], ['train\\\\Apple\\\\279_100.jpg', '0'], ['train\\\\Apple\\\\27_100.jpg', '0'], ['train\\\\Apple\\\\280_100.jpg', '0'], ['train\\\\Apple\\\\281_100.jpg', '0'], ['train\\\\Apple\\\\282_100.jpg', '0'], ['train\\\\Apple\\\\283_100.jpg', '0'], ['train\\\\Apple\\\\284_100.jpg', '0'], ['train\\\\Apple\\\\285_100.jpg', '0'], ['train\\\\Apple\\\\286_100.jpg', '0'], ['train\\\\Apple\\\\287_100.jpg', '0'], ['train\\\\Apple\\\\288_100.jpg', '0'], ['train\\\\Apple\\\\289_100.jpg', '0'], ['train\\\\Apple\\\\28_100.jpg', '0'], ['train\\\\Apple\\\\290_100.jpg', '0'], ['train\\\\Apple\\\\291_100.jpg', '0'], ['train\\\\Apple\\\\292_100.jpg', '0'], ['train\\\\Apple\\\\293_100.jpg', '0'], ['train\\\\Apple\\\\294_100.jpg', '0'], ['train\\\\Apple\\\\295_100.jpg', '0'], ['train\\\\Apple\\\\296_100.jpg', '0'], ['train\\\\Apple\\\\297_100.jpg', '0'], ['train\\\\Apple\\\\298_100.jpg', '0'], ['train\\\\Apple\\\\299_100.jpg', '0'], ['train\\\\Apple\\\\29_100.jpg', '0'], ['train\\\\Apple\\\\2_100.jpg', '0'], ['train\\\\Apple\\\\300_100.jpg', '0'], ['train\\\\Apple\\\\301_100.jpg', '0'], ['train\\\\Apple\\\\302_100.jpg', '0'], ['train\\\\Apple\\\\303_100.jpg', '0'], ['train\\\\Apple\\\\304_100.jpg', '0'], ['train\\\\Apple\\\\305_100.jpg', '0'], ['train\\\\Apple\\\\306_100.jpg', '0'], ['train\\\\Apple\\\\307_100.jpg', '0'], ['train\\\\Apple\\\\308_100.jpg', '0'], ['train\\\\Apple\\\\309_100.jpg', '0'], ['train\\\\Apple\\\\30_100.jpg', '0'], ['train\\\\Apple\\\\310_100.jpg', '0'], ['train\\\\Apple\\\\311_100.jpg', '0'], ['train\\\\Apple\\\\312_100.jpg', '0'], ['train\\\\Apple\\\\313_100.jpg', '0'], ['train\\\\Apple\\\\314_100.jpg', '0'], ['train\\\\Apple\\\\315_100.jpg', '0'], ['train\\\\Apple\\\\316_100.jpg', '0'], ['train\\\\Apple\\\\317_100.jpg', '0'], ['train\\\\Apple\\\\318_100.jpg', '0'], ['train\\\\Apple\\\\319_100.jpg', '0'], ['train\\\\Apple\\\\31_100.jpg', '0'], ['train\\\\Apple\\\\320_100.jpg', '0'], ['train\\\\Apple\\\\r_0_100.jpg', '0'], ['train\\\\Apple\\\\r_100_100.jpg', '0'], ['train\\\\Apple\\\\r_101_100.jpg', '0'], ['train\\\\Apple\\\\r_102_100.jpg', '0'], ['train\\\\Apple\\\\r_103_100.jpg', '0'], ['train\\\\Apple\\\\r_104_100.jpg', '0'], ['train\\\\Apple\\\\r_105_100.jpg', '0'], ['train\\\\Apple\\\\r_106_100.jpg', '0'], ['train\\\\Apple\\\\r_107_100.jpg', '0'], ['train\\\\Apple\\\\r_108_100.jpg', '0'], ['train\\\\Apple\\\\r_109_100.jpg', '0'], ['train\\\\Apple\\\\r_10_100.jpg', '0'], ['train\\\\Apple\\\\r_110_100.jpg', '0'], ['train\\\\Apple\\\\r_111_100.jpg', '0'], ['train\\\\Apple\\\\r_112_100.jpg', '0'], ['train\\\\Apple\\\\r_113_100.jpg', '0'], ['train\\\\Apple\\\\r_114_100.jpg', '0'], ['train\\\\Apple\\\\r_115_100.jpg', '0'], ['train\\\\Apple\\\\r_116_100.jpg', '0'], ['train\\\\Apple\\\\r_117_100.jpg', '0'], ['train\\\\Apple\\\\r_118_100.jpg', '0'], ['train\\\\Apple\\\\r_119_100.jpg', '0'], ['train\\\\Apple\\\\r_11_100.jpg', '0'], ['train\\\\Apple\\\\r_120_100.jpg', '0'], ['train\\\\Apple\\\\r_121_100.jpg', '0'], ['train\\\\Apple\\\\r_122_100.jpg', '0'], ['train\\\\Apple\\\\r_123_100.jpg', '0'], ['train\\\\Apple\\\\r_124_100.jpg', '0'], ['train\\\\Apple\\\\r_125_100.jpg', '0'], ['train\\\\Apple\\\\r_126_100.jpg', '0'], ['train\\\\Apple\\\\r_127_100.jpg', '0'], ['train\\\\Apple\\\\r_128_100.jpg', '0'], ['train\\\\Apple\\\\r_129_100.jpg', '0'], ['train\\\\Apple\\\\r_12_100.jpg', '0'], ['train\\\\Apple\\\\r_130_100.jpg', '0'], ['train\\\\Apple\\\\r_131_100.jpg', '0'], ['train\\\\Apple\\\\r_132_100.jpg', '0'], ['train\\\\Apple\\\\r_133_100.jpg', '0'], ['train\\\\Apple\\\\r_134_100.jpg', '0'], ['train\\\\Apple\\\\r_135_100.jpg', '0'], ['train\\\\Apple\\\\r_136_100.jpg', '0'], ['train\\\\Apple\\\\r_137_100.jpg', '0'], ['train\\\\Apple\\\\r_138_100.jpg', '0'], ['train\\\\Apple\\\\r_139_100.jpg', '0'], ['train\\\\Apple\\\\r_13_100.jpg', '0'], ['train\\\\Apple\\\\r_140_100.jpg', '0'], ['train\\\\Apple\\\\r_141_100.jpg', '0'], ['train\\\\Apple\\\\r_142_100.jpg', '0'], ['train\\\\Apple\\\\r_143_100.jpg', '0'], ['train\\\\Apple\\\\r_144_100.jpg', '0'], ['train\\\\Apple\\\\r_145_100.jpg', '0'], ['train\\\\Apple\\\\r_146_100.jpg', '0'], ['train\\\\Apple\\\\r_147_100.jpg', '0'], ['train\\\\Apple\\\\r_148_100.jpg', '0'], ['train\\\\Apple\\\\r_149_100.jpg', '0'], ['train\\\\Apple\\\\r_14_100.jpg', '0'], ['train\\\\Apple\\\\r_150_100.jpg', '0'], ['train\\\\Apple\\\\r_151_100.jpg', '0'], ['train\\\\Apple\\\\r_152_100.jpg', '0'], ['train\\\\Apple\\\\r_153_100.jpg', '0'], ['train\\\\Apple\\\\r_154_100.jpg', '0'], ['train\\\\Apple\\\\r_155_100.jpg', '0'], ['train\\\\Apple\\\\r_156_100.jpg', '0'], ['train\\\\Apple\\\\r_157_100.jpg', '0'], ['train\\\\Apple\\\\r_158_100.jpg', '0'], ['train\\\\Apple\\\\r_159_100.jpg', '0'], ['train\\\\Apple\\\\r_15_100.jpg', '0'], ['train\\\\Apple\\\\r_160_100.jpg', '0'], ['train\\\\Apple\\\\r_161_100.jpg', '0'], ['train\\\\Apple\\\\r_162_100.jpg', '0'], ['train\\\\Apple\\\\r_163_100.jpg', '0'], ['train\\\\Apple\\\\r_164_100.jpg', '0'], ['train\\\\Apple\\\\r_165_100.jpg', '0'], ['train\\\\Apple\\\\r_166_100.jpg', '0'], ['train\\\\Apple\\\\r_167_100.jpg', '0'], ['train\\\\Apple\\\\r_168_100.jpg', '0'], ['train\\\\Apple\\\\r_169_100.jpg', '0'], ['train\\\\Apple\\\\r_16_100.jpg', '0'], ['train\\\\Apple\\\\r_170_100.jpg', '0'], ['train\\\\Apple\\\\r_171_100.jpg', '0'], ['train\\\\Apple\\\\r_172_100.jpg', '0'], ['train\\\\Apple\\\\r_173_100.jpg', '0'], ['train\\\\Apple\\\\r_174_100.jpg', '0'], ['train\\\\Apple\\\\r_175_100.jpg', '0'], ['train\\\\Apple\\\\r_176_100.jpg', '0'], ['train\\\\Apple\\\\r_177_100.jpg', '0'], ['train\\\\Apple\\\\r_178_100.jpg', '0'], ['train\\\\Apple\\\\r_179_100.jpg', '0'], ['train\\\\Apple\\\\r_17_100.jpg', '0'], ['train\\\\Apple\\\\r_180_100.jpg', '0'], ['train\\\\Apple\\\\r_181_100.jpg', '0'], ['train\\\\Apple\\\\r_182_100.jpg', '0'], ['train\\\\Apple\\\\r_183_100.jpg', '0'], ['train\\\\Apple\\\\r_184_100.jpg', '0'], ['train\\\\Apple\\\\r_185_100.jpg', '0'], ['train\\\\Apple\\\\r_186_100.jpg', '0'], ['train\\\\Apple\\\\r_187_100.jpg', '0'], ['train\\\\Apple\\\\r_188_100.jpg', '0'], ['train\\\\Apple\\\\r_189_100.jpg', '0'], ['train\\\\Apple\\\\r_18_100.jpg', '0'], ['train\\\\Apple\\\\r_190_100.jpg', '0'], ['train\\\\Apple\\\\r_191_100.jpg', '0'], ['train\\\\Apple\\\\r_192_100.jpg', '0'], ['train\\\\Apple\\\\r_193_100.jpg', '0'], ['train\\\\Apple\\\\r_194_100.jpg', '0'], ['train\\\\Apple\\\\r_195_100.jpg', '0'], ['train\\\\Apple\\\\r_196_100.jpg', '0'], ['train\\\\Apple\\\\r_197_100.jpg', '0'], ['train\\\\Apple\\\\r_198_100.jpg', '0'], ['train\\\\Apple\\\\r_199_100.jpg', '0'], ['train\\\\Apple\\\\r_19_100.jpg', '0'], ['train\\\\Apple\\\\r_1_100.jpg', '0'], ['train\\\\Apple\\\\r_200_100.jpg', '0'], ['train\\\\Apple\\\\r_201_100.jpg', '0'], ['train\\\\Apple\\\\r_202_100.jpg', '0'], ['train\\\\Apple\\\\r_203_100.jpg', '0'], ['train\\\\Apple\\\\r_204_100.jpg', '0'], ['train\\\\Apple\\\\r_205_100.jpg', '0'], ['train\\\\Apple\\\\r_206_100.jpg', '0'], ['train\\\\Apple\\\\r_207_100.jpg', '0'], ['train\\\\Apple\\\\r_208_100.jpg', '0'], ['train\\\\Apple\\\\r_209_100.jpg', '0'], ['train\\\\Apple\\\\r_20_100.jpg', '0'], ['train\\\\Apple\\\\r_210_100.jpg', '0'], ['train\\\\Apple\\\\r_211_100.jpg', '0'], ['train\\\\Apple\\\\r_212_100.jpg', '0'], ['train\\\\Apple\\\\r_213_100.jpg', '0'], ['train\\\\Apple\\\\r_214_100.jpg', '0'], ['train\\\\Apple\\\\r_215_100.jpg', '0'], ['train\\\\Apple\\\\r_216_100.jpg', '0'], ['train\\\\Apple\\\\r_217_100.jpg', '0'], ['train\\\\Apple\\\\r_218_100.jpg', '0'], ['train\\\\Apple\\\\r_219_100.jpg', '0'], ['train\\\\Apple\\\\r_21_100.jpg', '0'], ['train\\\\Apple\\\\r_220_100.jpg', '0'], ['train\\\\Apple\\\\r_221_100.jpg', '0'], ['train\\\\Apple\\\\r_222_100.jpg', '0'], ['train\\\\Apple\\\\r_223_100.jpg', '0'], ['train\\\\Apple\\\\r_224_100.jpg', '0'], ['train\\\\Apple\\\\r_225_100.jpg', '0'], ['train\\\\Apple\\\\r_226_100.jpg', '0'], ['train\\\\Apple\\\\r_227_100.jpg', '0'], ['train\\\\Apple\\\\r_228_100.jpg', '0'], ['train\\\\Apple\\\\r_229_100.jpg', '0'], ['train\\\\Apple\\\\r_22_100.jpg', '0'], ['train\\\\Apple\\\\r_230_100.jpg', '0'], ['train\\\\Apple\\\\r_231_100.jpg', '0'], ['train\\\\Apple\\\\r_232_100.jpg', '0'], ['train\\\\Apple\\\\r_233_100.jpg', '0'], ['train\\\\Apple\\\\r_234_100.jpg', '0'], ['train\\\\Apple\\\\r_235_100.jpg', '0'], ['train\\\\Apple\\\\r_236_100.jpg', '0'], ['train\\\\Apple\\\\r_237_100.jpg', '0'], ['train\\\\Apple\\\\r_238_100.jpg', '0'], ['train\\\\Apple\\\\r_239_100.jpg', '0'], ['train\\\\Apple\\\\r_23_100.jpg', '0'], ['train\\\\Apple\\\\r_240_100.jpg', '0'], ['train\\\\Apple\\\\r_241_100.jpg', '0'], ['train\\\\Apple\\\\r_242_100.jpg', '0'], ['train\\\\Apple\\\\r_243_100.jpg', '0'], ['train\\\\Apple\\\\r_244_100.jpg', '0'], ['train\\\\Apple\\\\r_245_100.jpg', '0'], ['train\\\\Apple\\\\r_246_100.jpg', '0'], ['train\\\\Apple\\\\r_247_100.jpg', '0'], ['train\\\\Apple\\\\r_248_100.jpg', '0'], ['train\\\\Apple\\\\r_249_100.jpg', '0'], ['train\\\\Apple\\\\r_24_100.jpg', '0'], ['train\\\\Apple\\\\r_250_100.jpg', '0'], ['train\\\\Apple\\\\r_251_100.jpg', '0'], ['train\\\\Apple\\\\r_252_100.jpg', '0'], ['train\\\\Apple\\\\r_253_100.jpg', '0'], ['train\\\\Apple\\\\r_254_100.jpg', '0'], ['train\\\\Apple\\\\r_255_100.jpg', '0'], ['train\\\\Apple\\\\r_256_100.jpg', '0'], ['train\\\\Apple\\\\r_257_100.jpg', '0'], ['train\\\\Apple\\\\r_258_100.jpg', '0'], ['train\\\\Apple\\\\r_259_100.jpg', '0'], ['train\\\\Apple\\\\r_25_100.jpg', '0'], ['train\\\\Apple\\\\r_260_100.jpg', '0'], ['train\\\\Apple\\\\r_261_100.jpg', '0'], ['train\\\\Apple\\\\r_262_100.jpg', '0'], ['train\\\\Apple\\\\r_263_100.jpg', '0'], ['train\\\\Apple\\\\r_264_100.jpg', '0'], ['train\\\\Apple\\\\r_265_100.jpg', '0'], ['train\\\\Apple\\\\r_266_100.jpg', '0'], ['train\\\\Apple\\\\r_267_100.jpg', '0'], ['train\\\\Apple\\\\r_268_100.jpg', '0'], ['train\\\\Apple\\\\r_269_100.jpg', '0'], ['train\\\\Apple\\\\r_26_100.jpg', '0'], ['train\\\\Apple\\\\r_270_100.jpg', '0'], ['train\\\\Apple\\\\r_271_100.jpg', '0'], ['train\\\\Apple\\\\r_272_100.jpg', '0'], ['train\\\\Apple\\\\r_273_100.jpg', '0'], ['train\\\\Apple\\\\r_274_100.jpg', '0'], ['train\\\\Apple\\\\r_275_100.jpg', '0'], ['train\\\\Apple\\\\r_276_100.jpg', '0'], ['train\\\\Apple\\\\r_277_100.jpg', '0'], ['train\\\\Apple\\\\r_278_100.jpg', '0'], ['train\\\\Apple\\\\r_279_100.jpg', '0'], ['train\\\\Apple\\\\r_27_100.jpg', '0'], ['train\\\\Apple\\\\r_280_100.jpg', '0'], ['train\\\\Apple\\\\r_281_100.jpg', '0'], ['train\\\\Apple\\\\r_282_100.jpg', '0'], ['train\\\\Apple\\\\r_283_100.jpg', '0'], ['train\\\\Apple\\\\r_284_100.jpg', '0'], ['train\\\\Apple\\\\r_285_100.jpg', '0'], ['train\\\\Apple\\\\r_286_100.jpg', '0'], ['train\\\\Apple\\\\r_287_100.jpg', '0'], ['train\\\\Apple\\\\r_288_100.jpg', '0'], ['train\\\\Apple\\\\r_289_100.jpg', '0'], ['train\\\\Apple\\\\r_28_100.jpg', '0'], ['train\\\\Apple\\\\r_290_100.jpg', '0'], ['train\\\\Apple\\\\r_291_100.jpg', '0'], ['train\\\\Apple\\\\r_292_100.jpg', '0'], ['train\\\\Apple\\\\r_293_100.jpg', '0'], ['train\\\\Apple\\\\r_294_100.jpg', '0'], ['train\\\\Apple\\\\r_295_100.jpg', '0'], ['train\\\\Apple\\\\r_296_100.jpg', '0'], ['train\\\\Apple\\\\r_297_100.jpg', '0'], ['train\\\\Apple\\\\r_298_100.jpg', '0'], ['train\\\\Apple\\\\r_299_100.jpg', '0'], ['train\\\\Apple\\\\r_29_100.jpg', '0'], ['train\\\\Apple\\\\r_2_100.jpg', '0'], ['train\\\\Apple\\\\r_300_100.jpg', '0'], ['train\\\\Apple\\\\r_301_100.jpg', '0'], ['train\\\\Apple\\\\r_302_100.jpg', '0'], ['train\\\\Apple\\\\r_303_100.jpg', '0'], ['train\\\\Apple\\\\r_304_100.jpg', '0'], ['train\\\\Apple\\\\r_305_100.jpg', '0'], ['train\\\\Apple\\\\r_306_100.jpg', '0'], ['train\\\\Apple\\\\r_307_100.jpg', '0'], ['train\\\\Apple\\\\r_308_100.jpg', '0'], ['train\\\\Apple\\\\r_309_100.jpg', '0'], ['train\\\\Apple\\\\r_30_100.jpg', '0'], ['train\\\\Apple\\\\r_310_100.jpg', '0'], ['train\\\\Apple\\\\r_311_100.jpg', '0'], ['train\\\\Apple\\\\r_312_100.jpg', '0'], ['train\\\\Apple\\\\r_313_100.jpg', '0'], ['train\\\\Apple\\\\r_314_100.jpg', '0'], ['train\\\\Apple\\\\r_315_100.jpg', '0'], ['train\\\\Apple\\\\r_316_100.jpg', '0'], ['train\\\\Apple\\\\r_317_100.jpg', '0'], ['train\\\\Apple\\\\r_318_100.jpg', '0'], ['train\\\\Apple\\\\r_319_100.jpg', '0'], ['train\\\\Apple\\\\r_31_100.jpg', '0'], ['train\\\\Apple\\\\r_320_100.jpg', '0'], ['train\\\\Banana\\\\0_100.jpg', '1'], ['train\\\\Banana\\\\104_100.jpg', '1'], ['train\\\\Banana\\\\107_100.jpg', '1'], ['train\\\\Banana\\\\10_100.jpg', '1'], ['train\\\\Banana\\\\112_100.jpg', '1'], ['train\\\\Banana\\\\117_100.jpg', '1'], ['train\\\\Banana\\\\118_100.jpg', '1'], ['train\\\\Banana\\\\119_100.jpg', '1'], ['train\\\\Banana\\\\11_100.jpg', '1'], ['train\\\\Banana\\\\120_100.jpg', '1'], ['train\\\\Banana\\\\121_100.jpg', '1'], ['train\\\\Banana\\\\122_100.jpg', '1'], ['train\\\\Banana\\\\123_100.jpg', '1'], ['train\\\\Banana\\\\124_100.jpg', '1'], ['train\\\\Banana\\\\125_100.jpg', '1'], ['train\\\\Banana\\\\126_100.jpg', '1'], ['train\\\\Banana\\\\127_100.jpg', '1'], ['train\\\\Banana\\\\128_100.jpg', '1'], ['train\\\\Banana\\\\129_100.jpg', '1'], ['train\\\\Banana\\\\130_100.jpg', '1'], ['train\\\\Banana\\\\131_100.jpg', '1'], ['train\\\\Banana\\\\132_100.jpg', '1'], ['train\\\\Banana\\\\133_100.jpg', '1'], ['train\\\\Banana\\\\134_100.jpg', '1'], ['train\\\\Banana\\\\135_100.jpg', '1'], ['train\\\\Banana\\\\136_100.jpg', '1'], ['train\\\\Banana\\\\137_100.jpg', '1'], ['train\\\\Banana\\\\138_100.jpg', '1'], ['train\\\\Banana\\\\139_100.jpg', '1'], ['train\\\\Banana\\\\140_100.jpg', '1'], ['train\\\\Banana\\\\141_100.jpg', '1'], ['train\\\\Banana\\\\142_100.jpg', '1'], ['train\\\\Banana\\\\143_100.jpg', '1'], ['train\\\\Banana\\\\144_100.jpg', '1'], ['train\\\\Banana\\\\145_100.jpg', '1'], ['train\\\\Banana\\\\146_100.jpg', '1'], ['train\\\\Banana\\\\147_100.jpg', '1'], ['train\\\\Banana\\\\148_100.jpg', '1'], ['train\\\\Banana\\\\149_100.jpg', '1'], ['train\\\\Banana\\\\150_100.jpg', '1'], ['train\\\\Banana\\\\151_100.jpg', '1'], ['train\\\\Banana\\\\152_100.jpg', '1'], ['train\\\\Banana\\\\153_100.jpg', '1'], ['train\\\\Banana\\\\154_100.jpg', '1'], ['train\\\\Banana\\\\155_100.jpg', '1'], ['train\\\\Banana\\\\156_100.jpg', '1'], ['train\\\\Banana\\\\157_100.jpg', '1'], ['train\\\\Banana\\\\170_100.jpg', '1'], ['train\\\\Banana\\\\171_100.jpg', '1'], ['train\\\\Banana\\\\172_100.jpg', '1'], ['train\\\\Banana\\\\173_100.jpg', '1'], ['train\\\\Banana\\\\174_100.jpg', '1'], ['train\\\\Banana\\\\175_100.jpg', '1'], ['train\\\\Banana\\\\176_100.jpg', '1'], ['train\\\\Banana\\\\177_100.jpg', '1'], ['train\\\\Banana\\\\178_100.jpg', '1'], ['train\\\\Banana\\\\179_100.jpg', '1'], ['train\\\\Banana\\\\180_100.jpg', '1'], ['train\\\\Banana\\\\181_100.jpg', '1'], ['train\\\\Banana\\\\182_100.jpg', '1'], ['train\\\\Banana\\\\183_100.jpg', '1'], ['train\\\\Banana\\\\184_100.jpg', '1'], ['train\\\\Banana\\\\185_100.jpg', '1'], ['train\\\\Banana\\\\186_100.jpg', '1'], ['train\\\\Banana\\\\187_100.jpg', '1'], ['train\\\\Banana\\\\188_100.jpg', '1'], ['train\\\\Banana\\\\189_100.jpg', '1'], ['train\\\\Banana\\\\190_100.jpg', '1'], ['train\\\\Banana\\\\191_100.jpg', '1'], ['train\\\\Banana\\\\192_100.jpg', '1'], ['train\\\\Banana\\\\193_100.jpg', '1'], ['train\\\\Banana\\\\194_100.jpg', '1'], ['train\\\\Banana\\\\195_100.jpg', '1'], ['train\\\\Banana\\\\196_100.jpg', '1'], ['train\\\\Banana\\\\197_100.jpg', '1'], ['train\\\\Banana\\\\198_100.jpg', '1'], ['train\\\\Banana\\\\199_100.jpg', '1'], ['train\\\\Banana\\\\1_100.jpg', '1'], ['train\\\\Banana\\\\200_100.jpg', '1'], ['train\\\\Banana\\\\201_100.jpg', '1'], ['train\\\\Banana\\\\202_100.jpg', '1'], ['train\\\\Banana\\\\203_100.jpg', '1'], ['train\\\\Banana\\\\204_100.jpg', '1'], ['train\\\\Banana\\\\205_100.jpg', '1'], ['train\\\\Banana\\\\206_100.jpg', '1'], ['train\\\\Banana\\\\207_100.jpg', '1'], ['train\\\\Banana\\\\208_100.jpg', '1'], ['train\\\\Banana\\\\209_100.jpg', '1'], ['train\\\\Banana\\\\210_100.jpg', '1'], ['train\\\\Banana\\\\211_100.jpg', '1'], ['train\\\\Banana\\\\212_100.jpg', '1'], ['train\\\\Banana\\\\213_100.jpg', '1'], ['train\\\\Banana\\\\214_100.jpg', '1'], ['train\\\\Banana\\\\215_100.jpg', '1'], ['train\\\\Banana\\\\216_100.jpg', '1'], ['train\\\\Banana\\\\217_100.jpg', '1'], ['train\\\\Banana\\\\218_100.jpg', '1'], ['train\\\\Banana\\\\219_100.jpg', '1'], ['train\\\\Banana\\\\220_100.jpg', '1'], ['train\\\\Banana\\\\221_100.jpg', '1'], ['train\\\\Banana\\\\222_100.jpg', '1'], ['train\\\\Banana\\\\223_100.jpg', '1'], ['train\\\\Banana\\\\224_100.jpg', '1'], ['train\\\\Banana\\\\225_100.jpg', '1'], ['train\\\\Banana\\\\226_100.jpg', '1'], ['train\\\\Banana\\\\227_100.jpg', '1'], ['train\\\\Banana\\\\228_100.jpg', '1'], ['train\\\\Banana\\\\229_100.jpg', '1'], ['train\\\\Banana\\\\230_100.jpg', '1'], ['train\\\\Banana\\\\231_100.jpg', '1'], ['train\\\\Banana\\\\232_100.jpg', '1'], ['train\\\\Banana\\\\233_100.jpg', '1'], ['train\\\\Banana\\\\234_100.jpg', '1'], ['train\\\\Banana\\\\235_100.jpg', '1'], ['train\\\\Banana\\\\236_100.jpg', '1'], ['train\\\\Banana\\\\237_100.jpg', '1'], ['train\\\\Banana\\\\238_100.jpg', '1'], ['train\\\\Banana\\\\239_100.jpg', '1'], ['train\\\\Banana\\\\240_100.jpg', '1'], ['train\\\\Banana\\\\241_100.jpg', '1'], ['train\\\\Banana\\\\242_100.jpg', '1'], ['train\\\\Banana\\\\243_100.jpg', '1'], ['train\\\\Banana\\\\244_100.jpg', '1'], ['train\\\\Banana\\\\245_100.jpg', '1'], ['train\\\\Banana\\\\246_100.jpg', '1'], ['train\\\\Banana\\\\247_100.jpg', '1'], ['train\\\\Banana\\\\248_100.jpg', '1'], ['train\\\\Banana\\\\249_100.jpg', '1'], ['train\\\\Banana\\\\250_100.jpg', '1'], ['train\\\\Banana\\\\251_100.jpg', '1'], ['train\\\\Banana\\\\252_100.jpg', '1'], ['train\\\\Banana\\\\253_100.jpg', '1'], ['train\\\\Banana\\\\254_100.jpg', '1'], ['train\\\\Banana\\\\255_100.jpg', '1'], ['train\\\\Banana\\\\256_100.jpg', '1'], ['train\\\\Banana\\\\257_100.jpg', '1'], ['train\\\\Banana\\\\258_100.jpg', '1'], ['train\\\\Banana\\\\259_100.jpg', '1'], ['train\\\\Banana\\\\260_100.jpg', '1'], ['train\\\\Banana\\\\261_100.jpg', '1'], ['train\\\\Banana\\\\262_100.jpg', '1'], ['train\\\\Banana\\\\263_100.jpg', '1'], ['train\\\\Banana\\\\264_100.jpg', '1'], ['train\\\\Banana\\\\265_100.jpg', '1'], ['train\\\\Banana\\\\266_100.jpg', '1'], ['train\\\\Banana\\\\267_100.jpg', '1'], ['train\\\\Banana\\\\268_100.jpg', '1'], ['train\\\\Banana\\\\269_100.jpg', '1'], ['train\\\\Banana\\\\270_100.jpg', '1'], ['train\\\\Banana\\\\271_100.jpg', '1'], ['train\\\\Banana\\\\272_100.jpg', '1'], ['train\\\\Banana\\\\273_100.jpg', '1'], ['train\\\\Banana\\\\274_100.jpg', '1'], ['train\\\\Banana\\\\275_100.jpg', '1'], ['train\\\\Banana\\\\276_100.jpg', '1'], ['train\\\\Banana\\\\277_100.jpg', '1'], ['train\\\\Banana\\\\278_100.jpg', '1'], ['train\\\\Banana\\\\279_100.jpg', '1'], ['train\\\\Banana\\\\280_100.jpg', '1'], ['train\\\\Banana\\\\281_100.jpg', '1'], ['train\\\\Banana\\\\282_100.jpg', '1'], ['train\\\\Banana\\\\283_100.jpg', '1'], ['train\\\\Banana\\\\284_100.jpg', '1'], ['train\\\\Banana\\\\285_100.jpg', '1'], ['train\\\\Banana\\\\286_100.jpg', '1'], ['train\\\\Banana\\\\287_100.jpg', '1'], ['train\\\\Banana\\\\288_100.jpg', '1'], ['train\\\\Banana\\\\289_100.jpg', '1'], ['train\\\\Banana\\\\290_100.jpg', '1'], ['train\\\\Banana\\\\291_100.jpg', '1'], ['train\\\\Banana\\\\292_100.jpg', '1'], ['train\\\\Banana\\\\293_100.jpg', '1'], ['train\\\\Banana\\\\2_100.jpg', '1'], ['train\\\\Banana\\\\323_100.jpg', '1'], ['train\\\\Banana\\\\324_100.jpg', '1'], ['train\\\\Banana\\\\325_100.jpg', '1'], ['train\\\\Banana\\\\326_100.jpg', '1'], ['train\\\\Banana\\\\327_100.jpg', '1'], ['train\\\\Banana\\\\35_100.jpg', '1'], ['train\\\\Banana\\\\37_100.jpg', '1'], ['train\\\\Banana\\\\38_100.jpg', '1'], ['train\\\\Banana\\\\39_100.jpg', '1'], ['train\\\\Banana\\\\3_100.jpg', '1'], ['train\\\\Banana\\\\40_100.jpg', '1'], ['train\\\\Banana\\\\41_100.jpg', '1'], ['train\\\\Banana\\\\42_100.jpg', '1'], ['train\\\\Banana\\\\43_100.jpg', '1'], ['train\\\\Banana\\\\44_100.jpg', '1'], ['train\\\\Banana\\\\45_100.jpg', '1'], ['train\\\\Banana\\\\46_100.jpg', '1'], ['train\\\\Banana\\\\47_100.jpg', '1'], ['train\\\\Banana\\\\48_100.jpg', '1'], ['train\\\\Banana\\\\49_100.jpg', '1'], ['train\\\\Banana\\\\4_100.jpg', '1'], ['train\\\\Banana\\\\50_100.jpg', '1'], ['train\\\\Banana\\\\51_100.jpg', '1'], ['train\\\\Banana\\\\52_100.jpg', '1'], ['train\\\\Banana\\\\53_100.jpg', '1'], ['train\\\\Banana\\\\54_100.jpg', '1'], ['train\\\\Banana\\\\55_100.jpg', '1'], ['train\\\\Banana\\\\56_100.jpg', '1'], ['train\\\\Banana\\\\57_100.jpg', '1'], ['train\\\\Banana\\\\58_100.jpg', '1'], ['train\\\\Banana\\\\59_100.jpg', '1'], ['train\\\\Banana\\\\5_100.jpg', '1'], ['train\\\\Banana\\\\60_100.jpg', '1'], ['train\\\\Banana\\\\61_100.jpg', '1'], ['train\\\\Banana\\\\62_100.jpg', '1'], ['train\\\\Banana\\\\63_100.jpg', '1'], ['train\\\\Banana\\\\64_100.jpg', '1'], ['train\\\\Banana\\\\65_100.jpg', '1'], ['train\\\\Banana\\\\66_100.jpg', '1'], ['train\\\\Banana\\\\67_100.jpg', '1'], ['train\\\\Banana\\\\68_100.jpg', '1'], ['train\\\\Banana\\\\69_100.jpg', '1'], ['train\\\\Banana\\\\6_100.jpg', '1'], ['train\\\\Banana\\\\70_100.jpg', '1'], ['train\\\\Banana\\\\71_100.jpg', '1'], ['train\\\\Banana\\\\72_100.jpg', '1'], ['train\\\\Banana\\\\73_100.jpg', '1'], ['train\\\\Banana\\\\74_100.jpg', '1'], ['train\\\\Banana\\\\75_100.jpg', '1'], ['train\\\\Banana\\\\76_100.jpg', '1'], ['train\\\\Banana\\\\77_100.jpg', '1'], ['train\\\\Banana\\\\78_100.jpg', '1'], ['train\\\\Banana\\\\79_100.jpg', '1'], ['train\\\\Banana\\\\7_100.jpg', '1'], ['train\\\\Banana\\\\80_100.jpg', '1'], ['train\\\\Banana\\\\81_100.jpg', '1'], ['train\\\\Banana\\\\82_100.jpg', '1'], ['train\\\\Banana\\\\83_100.jpg', '1'], ['train\\\\Banana\\\\84_100.jpg', '1'], ['train\\\\Banana\\\\85_100.jpg', '1'], ['train\\\\Banana\\\\88_100.jpg', '1'], ['train\\\\Banana\\\\89_100.jpg', '1'], ['train\\\\Banana\\\\8_100.jpg', '1'], ['train\\\\Banana\\\\90_100.jpg', '1'], ['train\\\\Banana\\\\91_100.jpg', '1'], ['train\\\\Banana\\\\92_100.jpg', '1'], ['train\\\\Banana\\\\93_100.jpg', '1'], ['train\\\\Banana\\\\94_100.jpg', '1'], ['train\\\\Banana\\\\95_100.jpg', '1'], ['train\\\\Banana\\\\96_100.jpg', '1'], ['train\\\\Banana\\\\97_100.jpg', '1'], ['train\\\\Banana\\\\9_100.jpg', '1'], ['train\\\\Banana\\\\r_0_100.jpg', '1'], ['train\\\\Banana\\\\r_100_100.jpg', '1'], ['train\\\\Banana\\\\r_101_100.jpg', '1'], ['train\\\\Banana\\\\r_102_100.jpg', '1'], ['train\\\\Banana\\\\r_103_100.jpg', '1'], ['train\\\\Banana\\\\r_104_100.jpg', '1'], ['train\\\\Banana\\\\r_105_100.jpg', '1'], ['train\\\\Banana\\\\r_106_100.jpg', '1'], ['train\\\\Banana\\\\r_107_100.jpg', '1'], ['train\\\\Banana\\\\r_108_100.jpg', '1'], ['train\\\\Banana\\\\r_109_100.jpg', '1'], ['train\\\\Banana\\\\r_10_100.jpg', '1'], ['train\\\\Banana\\\\r_110_100.jpg', '1'], ['train\\\\Banana\\\\r_111_100.jpg', '1'], ['train\\\\Banana\\\\r_112_100.jpg', '1'], ['train\\\\Banana\\\\r_113_100.jpg', '1'], ['train\\\\Banana\\\\r_114_100.jpg', '1'], ['train\\\\Banana\\\\r_115_100.jpg', '1'], ['train\\\\Banana\\\\r_116_100.jpg', '1'], ['train\\\\Banana\\\\r_117_100.jpg', '1'], ['train\\\\Banana\\\\r_118_100.jpg', '1'], ['train\\\\Banana\\\\r_119_100.jpg', '1'], ['train\\\\Banana\\\\r_11_100.jpg', '1'], ['train\\\\Banana\\\\r_120_100.jpg', '1'], ['train\\\\Banana\\\\r_121_100.jpg', '1'], ['train\\\\Banana\\\\r_122_100.jpg', '1'], ['train\\\\Banana\\\\r_123_100.jpg', '1'], ['train\\\\Banana\\\\r_124_100.jpg', '1'], ['train\\\\Banana\\\\r_125_100.jpg', '1'], ['train\\\\Banana\\\\r_126_100.jpg', '1'], ['train\\\\Banana\\\\r_127_100.jpg', '1'], ['train\\\\Banana\\\\r_128_100.jpg', '1'], ['train\\\\Banana\\\\r_129_100.jpg', '1'], ['train\\\\Banana\\\\r_130_100.jpg', '1'], ['train\\\\Banana\\\\r_131_100.jpg', '1'], ['train\\\\Banana\\\\r_132_100.jpg', '1'], ['train\\\\Banana\\\\r_133_100.jpg', '1'], ['train\\\\Banana\\\\r_134_100.jpg', '1'], ['train\\\\Banana\\\\r_135_100.jpg', '1'], ['train\\\\Banana\\\\r_136_100.jpg', '1'], ['train\\\\Banana\\\\r_137_100.jpg', '1'], ['train\\\\Banana\\\\r_138_100.jpg', '1'], ['train\\\\Banana\\\\r_139_100.jpg', '1'], ['train\\\\Banana\\\\r_13_100.jpg', '1'], ['train\\\\Banana\\\\r_140_100.jpg', '1'], ['train\\\\Banana\\\\r_141_100.jpg', '1'], ['train\\\\Banana\\\\r_142_100.jpg', '1'], ['train\\\\Banana\\\\r_143_100.jpg', '1'], ['train\\\\Banana\\\\r_144_100.jpg', '1'], ['train\\\\Banana\\\\r_145_100.jpg', '1'], ['train\\\\Banana\\\\r_146_100.jpg', '1'], ['train\\\\Banana\\\\r_147_100.jpg', '1'], ['train\\\\Banana\\\\r_148_100.jpg', '1'], ['train\\\\Banana\\\\r_149_100.jpg', '1'], ['train\\\\Banana\\\\r_150_100.jpg', '1'], ['train\\\\Banana\\\\r_151_100.jpg', '1'], ['train\\\\Banana\\\\r_152_100.jpg', '1'], ['train\\\\Banana\\\\r_153_100.jpg', '1'], ['train\\\\Banana\\\\r_154_100.jpg', '1'], ['train\\\\Banana\\\\r_155_100.jpg', '1'], ['train\\\\Banana\\\\r_156_100.jpg', '1'], ['train\\\\Banana\\\\r_157_100.jpg', '1'], ['train\\\\Banana\\\\r_158_100.jpg', '1'], ['train\\\\Banana\\\\r_159_100.jpg', '1'], ['train\\\\Banana\\\\r_160_100.jpg', '1'], ['train\\\\Banana\\\\r_161_100.jpg', '1'], ['train\\\\Banana\\\\r_162_100.jpg', '1'], ['train\\\\Banana\\\\r_163_100.jpg', '1'], ['train\\\\Banana\\\\r_164_100.jpg', '1'], ['train\\\\Banana\\\\r_165_100.jpg', '1'], ['train\\\\Banana\\\\r_166_100.jpg', '1'], ['train\\\\Banana\\\\r_167_100.jpg', '1'], ['train\\\\Banana\\\\r_168_100.jpg', '1'], ['train\\\\Banana\\\\r_169_100.jpg', '1'], ['train\\\\Banana\\\\r_170_100.jpg', '1'], ['train\\\\Banana\\\\r_171_100.jpg', '1'], ['train\\\\Banana\\\\r_172_100.jpg', '1'], ['train\\\\Banana\\\\r_173_100.jpg', '1'], ['train\\\\Banana\\\\r_174_100.jpg', '1'], ['train\\\\Banana\\\\r_175_100.jpg', '1'], ['train\\\\Banana\\\\r_176_100.jpg', '1'], ['train\\\\Banana\\\\r_177_100.jpg', '1'], ['train\\\\Banana\\\\r_178_100.jpg', '1'], ['train\\\\Banana\\\\r_179_100.jpg', '1'], ['train\\\\Banana\\\\r_17_100.jpg', '1'], ['train\\\\Banana\\\\r_180_100.jpg', '1'], ['train\\\\Banana\\\\r_181_100.jpg', '1'], ['train\\\\Banana\\\\r_182_100.jpg', '1'], ['train\\\\Banana\\\\r_183_100.jpg', '1'], ['train\\\\Banana\\\\r_184_100.jpg', '1'], ['train\\\\Banana\\\\r_185_100.jpg', '1'], ['train\\\\Banana\\\\r_186_100.jpg', '1'], ['train\\\\Banana\\\\r_187_100.jpg', '1'], ['train\\\\Banana\\\\r_188_100.jpg', '1'], ['train\\\\Banana\\\\r_189_100.jpg', '1'], ['train\\\\Banana\\\\r_190_100.jpg', '1'], ['train\\\\Banana\\\\r_191_100.jpg', '1'], ['train\\\\Banana\\\\r_192_100.jpg', '1'], ['train\\\\Banana\\\\r_193_100.jpg', '1'], ['train\\\\Banana\\\\r_194_100.jpg', '1'], ['train\\\\Banana\\\\r_195_100.jpg', '1'], ['train\\\\Banana\\\\r_196_100.jpg', '1'], ['train\\\\Banana\\\\r_197_100.jpg', '1'], ['train\\\\Banana\\\\r_198_100.jpg', '1'], ['train\\\\Banana\\\\r_199_100.jpg', '1'], ['train\\\\Banana\\\\r_1_100.jpg', '1'], ['train\\\\Banana\\\\r_200_100.jpg', '1'], ['train\\\\Banana\\\\r_201_100.jpg', '1'], ['train\\\\Banana\\\\r_202_100.jpg', '1'], ['train\\\\Banana\\\\r_203_100.jpg', '1'], ['train\\\\Banana\\\\r_204_100.jpg', '1'], ['train\\\\Banana\\\\r_205_100.jpg', '1'], ['train\\\\Banana\\\\r_206_100.jpg', '1'], ['train\\\\Banana\\\\r_208_100.jpg', '1'], ['train\\\\Banana\\\\r_209_100.jpg', '1'], ['train\\\\Banana\\\\r_20_100.jpg', '1'], ['train\\\\Banana\\\\r_210_100.jpg', '1'], ['train\\\\Banana\\\\r_211_100.jpg', '1'], ['train\\\\Banana\\\\r_212_100.jpg', '1'], ['train\\\\Banana\\\\r_214_100.jpg', '1'], ['train\\\\Banana\\\\r_217_100.jpg', '1'], ['train\\\\Banana\\\\r_218_100.jpg', '1'], ['train\\\\Banana\\\\r_219_100.jpg', '1'], ['train\\\\Banana\\\\r_21_100.jpg', '1'], ['train\\\\Banana\\\\r_220_100.jpg', '1'], ['train\\\\Banana\\\\r_221_100.jpg', '1'], ['train\\\\Banana\\\\r_222_100.jpg', '1'], ['train\\\\Banana\\\\r_224_100.jpg', '1'], ['train\\\\Banana\\\\r_225_100.jpg', '1'], ['train\\\\Banana\\\\r_22_100.jpg', '1'], ['train\\\\Banana\\\\r_247_100.jpg', '1'], ['train\\\\Banana\\\\r_248_100.jpg', '1'], ['train\\\\Banana\\\\r_249_100.jpg', '1'], ['train\\\\Banana\\\\r_250_100.jpg', '1'], ['train\\\\Banana\\\\r_251_100.jpg', '1'], ['train\\\\Banana\\\\r_252_100.jpg', '1'], ['train\\\\Banana\\\\r_253_100.jpg', '1'], ['train\\\\Banana\\\\r_254_100.jpg', '1'], ['train\\\\Banana\\\\r_255_100.jpg', '1'], ['train\\\\Banana\\\\r_256_100.jpg', '1'], ['train\\\\Banana\\\\r_257_100.jpg', '1'], ['train\\\\Banana\\\\r_258_100.jpg', '1'], ['train\\\\Banana\\\\r_259_100.jpg', '1'], ['train\\\\Banana\\\\r_260_100.jpg', '1'], ['train\\\\Banana\\\\r_261_100.jpg', '1'], ['train\\\\Banana\\\\r_262_100.jpg', '1'], ['train\\\\Banana\\\\r_263_100.jpg', '1'], ['train\\\\Banana\\\\r_264_100.jpg', '1'], ['train\\\\Banana\\\\r_265_100.jpg', '1'], ['train\\\\Banana\\\\r_266_100.jpg', '1'], ['train\\\\Banana\\\\r_267_100.jpg', '1'], ['train\\\\Banana\\\\r_268_100.jpg', '1'], ['train\\\\Banana\\\\r_269_100.jpg', '1'], ['train\\\\Banana\\\\r_26_100.jpg', '1'], ['train\\\\Banana\\\\r_270_100.jpg', '1'], ['train\\\\Banana\\\\r_271_100.jpg', '1'], ['train\\\\Banana\\\\r_272_100.jpg', '1'], ['train\\\\Banana\\\\r_273_100.jpg', '1'], ['train\\\\Banana\\\\r_274_100.jpg', '1'], ['train\\\\Banana\\\\r_275_100.jpg', '1'], ['train\\\\Banana\\\\r_276_100.jpg', '1'], ['train\\\\Banana\\\\r_277_100.jpg', '1'], ['train\\\\Banana\\\\r_278_100.jpg', '1'], ['train\\\\Banana\\\\r_279_100.jpg', '1'], ['train\\\\Banana\\\\r_27_100.jpg', '1'], ['train\\\\Banana\\\\r_280_100.jpg', '1'], ['train\\\\Banana\\\\r_281_100.jpg', '1'], ['train\\\\Banana\\\\r_282_100.jpg', '1'], ['train\\\\Banana\\\\r_283_100.jpg', '1'], ['train\\\\Banana\\\\r_284_100.jpg', '1'], ['train\\\\Banana\\\\r_285_100.jpg', '1'], ['train\\\\Banana\\\\r_286_100.jpg', '1'], ['train\\\\Banana\\\\r_287_100.jpg', '1'], ['train\\\\Banana\\\\r_288_100.jpg', '1'], ['train\\\\Banana\\\\r_289_100.jpg', '1'], ['train\\\\Banana\\\\r_290_100.jpg', '1'], ['train\\\\Banana\\\\r_291_100.jpg', '1'], ['train\\\\Banana\\\\r_292_100.jpg', '1'], ['train\\\\Banana\\\\r_293_100.jpg', '1'], ['train\\\\Banana\\\\r_294_100.jpg', '1'], ['train\\\\Banana\\\\r_295_100.jpg', '1'], ['train\\\\Banana\\\\r_296_100.jpg', '1'], ['train\\\\Banana\\\\r_297_100.jpg', '1'], ['train\\\\Banana\\\\r_298_100.jpg', '1'], ['train\\\\Banana\\\\r_299_100.jpg', '1'], ['train\\\\Banana\\\\r_2_100.jpg', '1'], ['train\\\\Banana\\\\r_300_100.jpg', '1'], ['train\\\\Banana\\\\r_301_100.jpg', '1'], ['train\\\\Banana\\\\r_302_100.jpg', '1'], ['train\\\\Banana\\\\r_303_100.jpg', '1'], ['train\\\\Banana\\\\r_304_100.jpg', '1'], ['train\\\\Banana\\\\r_305_100.jpg', '1'], ['train\\\\Banana\\\\r_306_100.jpg', '1'], ['train\\\\Banana\\\\r_307_100.jpg', '1'], ['train\\\\Banana\\\\r_308_100.jpg', '1'], ['train\\\\Banana\\\\r_309_100.jpg', '1'], ['train\\\\Banana\\\\r_310_100.jpg', '1'], ['train\\\\Banana\\\\r_311_100.jpg', '1'], ['train\\\\Banana\\\\r_312_100.jpg', '1'], ['train\\\\Banana\\\\r_313_100.jpg', '1'], ['train\\\\Banana\\\\r_314_100.jpg', '1'], ['train\\\\Banana\\\\r_315_100.jpg', '1'], ['train\\\\Banana\\\\r_318_100.jpg', '1'], ['train\\\\Banana\\\\r_322_100.jpg', '1'], ['train\\\\Banana\\\\r_323_100.jpg', '1'], ['train\\\\Banana\\\\r_324_100.jpg', '1'], ['train\\\\Banana\\\\r_3_100.jpg', '1'], ['train\\\\Banana\\\\r_4_100.jpg', '1'], ['train\\\\Banana\\\\r_53_100.jpg', '1'], ['train\\\\Banana\\\\r_55_100.jpg', '1'], ['train\\\\Banana\\\\r_58_100.jpg', '1'], ['train\\\\Banana\\\\r_5_100.jpg', '1'], ['train\\\\Banana\\\\r_62_100.jpg', '1'], ['train\\\\Banana\\\\r_64_100.jpg', '1'], ['train\\\\Banana\\\\r_65_100.jpg', '1'], ['train\\\\Banana\\\\r_6_100.jpg', '1'], ['train\\\\Banana\\\\r_74_100.jpg', '1'], ['train\\\\Banana\\\\r_75_100.jpg', '1'], ['train\\\\Banana\\\\r_76_100.jpg', '1'], ['train\\\\Banana\\\\r_77_100.jpg', '1'], ['train\\\\Banana\\\\r_78_100.jpg', '1'], ['train\\\\Banana\\\\r_79_100.jpg', '1'], ['train\\\\Banana\\\\r_7_100.jpg', '1'], ['train\\\\Banana\\\\r_80_100.jpg', '1'], ['train\\\\Banana\\\\r_81_100.jpg', '1'], ['train\\\\Banana\\\\r_82_100.jpg', '1'], ['train\\\\Banana\\\\r_83_100.jpg', '1'], ['train\\\\Banana\\\\r_84_100.jpg', '1'], ['train\\\\Banana\\\\r_85_100.jpg', '1'], ['train\\\\Banana\\\\r_86_100.jpg', '1'], ['train\\\\Banana\\\\r_87_100.jpg', '1'], ['train\\\\Banana\\\\r_88_100.jpg', '1'], ['train\\\\Banana\\\\r_89_100.jpg', '1'], ['train\\\\Banana\\\\r_8_100.jpg', '1'], ['train\\\\Banana\\\\r_90_100.jpg', '1'], ['train\\\\Banana\\\\r_91_100.jpg', '1'], ['train\\\\Banana\\\\r_92_100.jpg', '1'], ['train\\\\Banana\\\\r_93_100.jpg', '1'], ['train\\\\Banana\\\\r_94_100.jpg', '1'], ['train\\\\Banana\\\\r_95_100.jpg', '1'], ['train\\\\Banana\\\\r_96_100.jpg', '1'], ['train\\\\Banana\\\\r_97_100.jpg', '1'], ['train\\\\Banana\\\\r_98_100.jpg', '1'], ['train\\\\Banana\\\\r_99_100.jpg', '1'], ['train\\\\Banana\\\\r_9_100.jpg', '1'], ['train\\\\Orange\\\\0_100.jpg', '2'], ['train\\\\Orange\\\\100_100.jpg', '2'], ['train\\\\Orange\\\\101_100.jpg', '2'], ['train\\\\Orange\\\\102_100.jpg', '2'], ['train\\\\Orange\\\\103_100.jpg', '2'], ['train\\\\Orange\\\\104_100.jpg', '2'], ['train\\\\Orange\\\\105_100.jpg', '2'], ['train\\\\Orange\\\\106_100.jpg', '2'], ['train\\\\Orange\\\\107_100.jpg', '2'], ['train\\\\Orange\\\\108_100.jpg', '2'], ['train\\\\Orange\\\\109_100.jpg', '2'], ['train\\\\Orange\\\\10_100.jpg', '2'], ['train\\\\Orange\\\\110_100.jpg', '2'], ['train\\\\Orange\\\\111_100.jpg', '2'], ['train\\\\Orange\\\\112_100.jpg', '2'], ['train\\\\Orange\\\\113_100.jpg', '2'], ['train\\\\Orange\\\\114_100.jpg', '2'], ['train\\\\Orange\\\\115_100.jpg', '2'], ['train\\\\Orange\\\\116_100.jpg', '2'], ['train\\\\Orange\\\\117_100.jpg', '2'], ['train\\\\Orange\\\\118_100.jpg', '2'], ['train\\\\Orange\\\\119_100.jpg', '2'], ['train\\\\Orange\\\\11_100.jpg', '2'], ['train\\\\Orange\\\\120_100.jpg', '2'], ['train\\\\Orange\\\\121_100.jpg', '2'], ['train\\\\Orange\\\\122_100.jpg', '2'], ['train\\\\Orange\\\\123_100.jpg', '2'], ['train\\\\Orange\\\\124_100.jpg', '2'], ['train\\\\Orange\\\\125_100.jpg', '2'], ['train\\\\Orange\\\\126_100.jpg', '2'], ['train\\\\Orange\\\\127_100.jpg', '2'], ['train\\\\Orange\\\\128_100.jpg', '2'], ['train\\\\Orange\\\\129_100.jpg', '2'], ['train\\\\Orange\\\\12_100.jpg', '2'], ['train\\\\Orange\\\\130_100.jpg', '2'], ['train\\\\Orange\\\\131_100.jpg', '2'], ['train\\\\Orange\\\\132_100.jpg', '2'], ['train\\\\Orange\\\\133_100.jpg', '2'], ['train\\\\Orange\\\\134_100.jpg', '2'], ['train\\\\Orange\\\\135_100.jpg', '2'], ['train\\\\Orange\\\\136_100.jpg', '2'], ['train\\\\Orange\\\\137_100.jpg', '2'], ['train\\\\Orange\\\\138_100.jpg', '2'], ['train\\\\Orange\\\\139_100.jpg', '2'], ['train\\\\Orange\\\\13_100.jpg', '2'], ['train\\\\Orange\\\\140_100.jpg', '2'], ['train\\\\Orange\\\\141_100.jpg', '2'], ['train\\\\Orange\\\\142_100.jpg', '2'], ['train\\\\Orange\\\\143_100.jpg', '2'], ['train\\\\Orange\\\\144_100.jpg', '2'], ['train\\\\Orange\\\\145_100.jpg', '2'], ['train\\\\Orange\\\\146_100.jpg', '2'], ['train\\\\Orange\\\\147_100.jpg', '2'], ['train\\\\Orange\\\\148_100.jpg', '2'], ['train\\\\Orange\\\\149_100.jpg', '2'], ['train\\\\Orange\\\\14_100.jpg', '2'], ['train\\\\Orange\\\\150_100.jpg', '2'], ['train\\\\Orange\\\\151_100.jpg', '2'], ['train\\\\Orange\\\\152_100.jpg', '2'], ['train\\\\Orange\\\\153_100.jpg', '2'], ['train\\\\Orange\\\\154_100.jpg', '2'], ['train\\\\Orange\\\\155_100.jpg', '2'], ['train\\\\Orange\\\\156_100.jpg', '2'], ['train\\\\Orange\\\\157_100.jpg', '2'], ['train\\\\Orange\\\\158_100.jpg', '2'], ['train\\\\Orange\\\\159_100.jpg', '2'], ['train\\\\Orange\\\\15_100.jpg', '2'], ['train\\\\Orange\\\\160_100.jpg', '2'], ['train\\\\Orange\\\\161_100.jpg', '2'], ['train\\\\Orange\\\\162_100.jpg', '2'], ['train\\\\Orange\\\\163_100.jpg', '2'], ['train\\\\Orange\\\\164_100.jpg', '2'], ['train\\\\Orange\\\\165_100.jpg', '2'], ['train\\\\Orange\\\\166_100.jpg', '2'], ['train\\\\Orange\\\\167_100.jpg', '2'], ['train\\\\Orange\\\\168_100.jpg', '2'], ['train\\\\Orange\\\\169_100.jpg', '2'], ['train\\\\Orange\\\\16_100.jpg', '2'], ['train\\\\Orange\\\\170_100.jpg', '2'], ['train\\\\Orange\\\\171_100.jpg', '2'], ['train\\\\Orange\\\\172_100.jpg', '2'], ['train\\\\Orange\\\\173_100.jpg', '2'], ['train\\\\Orange\\\\174_100.jpg', '2'], ['train\\\\Orange\\\\175_100.jpg', '2'], ['train\\\\Orange\\\\176_100.jpg', '2'], ['train\\\\Orange\\\\177_100.jpg', '2'], ['train\\\\Orange\\\\178_100.jpg', '2'], ['train\\\\Orange\\\\179_100.jpg', '2'], ['train\\\\Orange\\\\17_100.jpg', '2'], ['train\\\\Orange\\\\180_100.jpg', '2'], ['train\\\\Orange\\\\181_100.jpg', '2'], ['train\\\\Orange\\\\182_100.jpg', '2'], ['train\\\\Orange\\\\183_100.jpg', '2'], ['train\\\\Orange\\\\184_100.jpg', '2'], ['train\\\\Orange\\\\185_100.jpg', '2'], ['train\\\\Orange\\\\186_100.jpg', '2'], ['train\\\\Orange\\\\187_100.jpg', '2'], ['train\\\\Orange\\\\188_100.jpg', '2'], ['train\\\\Orange\\\\189_100.jpg', '2'], ['train\\\\Orange\\\\18_100.jpg', '2'], ['train\\\\Orange\\\\190_100.jpg', '2'], ['train\\\\Orange\\\\191_100.jpg', '2'], ['train\\\\Orange\\\\192_100.jpg', '2'], ['train\\\\Orange\\\\193_100.jpg', '2'], ['train\\\\Orange\\\\194_100.jpg', '2'], ['train\\\\Orange\\\\195_100.jpg', '2'], ['train\\\\Orange\\\\196_100.jpg', '2'], ['train\\\\Orange\\\\197_100.jpg', '2'], ['train\\\\Orange\\\\198_100.jpg', '2'], ['train\\\\Orange\\\\199_100.jpg', '2'], ['train\\\\Orange\\\\19_100.jpg', '2'], ['train\\\\Orange\\\\1_100.jpg', '2'], ['train\\\\Orange\\\\200_100.jpg', '2'], ['train\\\\Orange\\\\201_100.jpg', '2'], ['train\\\\Orange\\\\202_100.jpg', '2'], ['train\\\\Orange\\\\203_100.jpg', '2'], ['train\\\\Orange\\\\204_100.jpg', '2'], ['train\\\\Orange\\\\205_100.jpg', '2'], ['train\\\\Orange\\\\206_100.jpg', '2'], ['train\\\\Orange\\\\207_100.jpg', '2'], ['train\\\\Orange\\\\208_100.jpg', '2'], ['train\\\\Orange\\\\209_100.jpg', '2'], ['train\\\\Orange\\\\20_100.jpg', '2'], ['train\\\\Orange\\\\210_100.jpg', '2'], ['train\\\\Orange\\\\211_100.jpg', '2'], ['train\\\\Orange\\\\212_100.jpg', '2'], ['train\\\\Orange\\\\213_100.jpg', '2'], ['train\\\\Orange\\\\214_100.jpg', '2'], ['train\\\\Orange\\\\215_100.jpg', '2'], ['train\\\\Orange\\\\216_100.jpg', '2'], ['train\\\\Orange\\\\217_100.jpg', '2'], ['train\\\\Orange\\\\218_100.jpg', '2'], ['train\\\\Orange\\\\219_100.jpg', '2'], ['train\\\\Orange\\\\21_100.jpg', '2'], ['train\\\\Orange\\\\220_100.jpg', '2'], ['train\\\\Orange\\\\221_100.jpg', '2'], ['train\\\\Orange\\\\222_100.jpg', '2'], ['train\\\\Orange\\\\223_100.jpg', '2'], ['train\\\\Orange\\\\224_100.jpg', '2'], ['train\\\\Orange\\\\225_100.jpg', '2'], ['train\\\\Orange\\\\226_100.jpg', '2'], ['train\\\\Orange\\\\227_100.jpg', '2'], ['train\\\\Orange\\\\228_100.jpg', '2'], ['train\\\\Orange\\\\229_100.jpg', '2'], ['train\\\\Orange\\\\22_100.jpg', '2'], ['train\\\\Orange\\\\230_100.jpg', '2'], ['train\\\\Orange\\\\231_100.jpg', '2'], ['train\\\\Orange\\\\232_100.jpg', '2'], ['train\\\\Orange\\\\233_100.jpg', '2'], ['train\\\\Orange\\\\234_100.jpg', '2'], ['train\\\\Orange\\\\235_100.jpg', '2'], ['train\\\\Orange\\\\236_100.jpg', '2'], ['train\\\\Orange\\\\237_100.jpg', '2'], ['train\\\\Orange\\\\238_100.jpg', '2'], ['train\\\\Orange\\\\239_100.jpg', '2'], ['train\\\\Orange\\\\23_100.jpg', '2'], ['train\\\\Orange\\\\240_100.jpg', '2'], ['train\\\\Orange\\\\241_100.jpg', '2'], ['train\\\\Orange\\\\242_100.jpg', '2'], ['train\\\\Orange\\\\243_100.jpg', '2'], ['train\\\\Orange\\\\244_100.jpg', '2'], ['train\\\\Orange\\\\245_100.jpg', '2'], ['train\\\\Orange\\\\246_100.jpg', '2'], ['train\\\\Orange\\\\247_100.jpg', '2'], ['train\\\\Orange\\\\248_100.jpg', '2'], ['train\\\\Orange\\\\249_100.jpg', '2'], ['train\\\\Orange\\\\24_100.jpg', '2'], ['train\\\\Orange\\\\250_100.jpg', '2'], ['train\\\\Orange\\\\251_100.jpg', '2'], ['train\\\\Orange\\\\252_100.jpg', '2'], ['train\\\\Orange\\\\253_100.jpg', '2'], ['train\\\\Orange\\\\254_100.jpg', '2'], ['train\\\\Orange\\\\255_100.jpg', '2'], ['train\\\\Orange\\\\256_100.jpg', '2'], ['train\\\\Orange\\\\257_100.jpg', '2'], ['train\\\\Orange\\\\258_100.jpg', '2'], ['train\\\\Orange\\\\259_100.jpg', '2'], ['train\\\\Orange\\\\25_100.jpg', '2'], ['train\\\\Orange\\\\260_100.jpg', '2'], ['train\\\\Orange\\\\261_100.jpg', '2'], ['train\\\\Orange\\\\262_100.jpg', '2'], ['train\\\\Orange\\\\263_100.jpg', '2'], ['train\\\\Orange\\\\264_100.jpg', '2'], ['train\\\\Orange\\\\265_100.jpg', '2'], ['train\\\\Orange\\\\266_100.jpg', '2'], ['train\\\\Orange\\\\267_100.jpg', '2'], ['train\\\\Orange\\\\268_100.jpg', '2'], ['train\\\\Orange\\\\269_100.jpg', '2'], ['train\\\\Orange\\\\26_100.jpg', '2'], ['train\\\\Orange\\\\270_100.jpg', '2'], ['train\\\\Orange\\\\271_100.jpg', '2'], ['train\\\\Orange\\\\272_100.jpg', '2'], ['train\\\\Orange\\\\273_100.jpg', '2'], ['train\\\\Orange\\\\274_100.jpg', '2'], ['train\\\\Orange\\\\275_100.jpg', '2'], ['train\\\\Orange\\\\276_100.jpg', '2'], ['train\\\\Orange\\\\277_100.jpg', '2'], ['train\\\\Orange\\\\278_100.jpg', '2'], ['train\\\\Orange\\\\279_100.jpg', '2'], ['train\\\\Orange\\\\27_100.jpg', '2'], ['train\\\\Orange\\\\280_100.jpg', '2'], ['train\\\\Orange\\\\281_100.jpg', '2'], ['train\\\\Orange\\\\282_100.jpg', '2'], ['train\\\\Orange\\\\283_100.jpg', '2'], ['train\\\\Orange\\\\284_100.jpg', '2'], ['train\\\\Orange\\\\285_100.jpg', '2'], ['train\\\\Orange\\\\286_100.jpg', '2'], ['train\\\\Orange\\\\287_100.jpg', '2'], ['train\\\\Orange\\\\288_100.jpg', '2'], ['train\\\\Orange\\\\289_100.jpg', '2'], ['train\\\\Orange\\\\28_100.jpg', '2'], ['train\\\\Orange\\\\290_100.jpg', '2'], ['train\\\\Orange\\\\291_100.jpg', '2'], ['train\\\\Orange\\\\292_100.jpg', '2'], ['train\\\\Orange\\\\293_100.jpg', '2'], ['train\\\\Orange\\\\294_100.jpg', '2'], ['train\\\\Orange\\\\295_100.jpg', '2'], ['train\\\\Orange\\\\296_100.jpg', '2'], ['train\\\\Orange\\\\297_100.jpg', '2'], ['train\\\\Orange\\\\298_100.jpg', '2'], ['train\\\\Orange\\\\299_100.jpg', '2'], ['train\\\\Orange\\\\29_100.jpg', '2'], ['train\\\\Orange\\\\2_100.jpg', '2'], ['train\\\\Orange\\\\300_100.jpg', '2'], ['train\\\\Orange\\\\301_100.jpg', '2'], ['train\\\\Orange\\\\302_100.jpg', '2'], ['train\\\\Orange\\\\303_100.jpg', '2'], ['train\\\\Orange\\\\304_100.jpg', '2'], ['train\\\\Orange\\\\305_100.jpg', '2'], ['train\\\\Orange\\\\306_100.jpg', '2'], ['train\\\\Orange\\\\307_100.jpg', '2'], ['train\\\\Orange\\\\308_100.jpg', '2'], ['train\\\\Orange\\\\309_100.jpg', '2'], ['train\\\\Orange\\\\r_0_100.jpg', '2'], ['train\\\\Orange\\\\r_100_100.jpg', '2'], ['train\\\\Orange\\\\r_101_100.jpg', '2'], ['train\\\\Orange\\\\r_102_100.jpg', '2'], ['train\\\\Orange\\\\r_103_100.jpg', '2'], ['train\\\\Orange\\\\r_104_100.jpg', '2'], ['train\\\\Orange\\\\r_105_100.jpg', '2'], ['train\\\\Orange\\\\r_106_100.jpg', '2'], ['train\\\\Orange\\\\r_107_100.jpg', '2'], ['train\\\\Orange\\\\r_108_100.jpg', '2'], ['train\\\\Orange\\\\r_109_100.jpg', '2'], ['train\\\\Orange\\\\r_10_100.jpg', '2'], ['train\\\\Orange\\\\r_110_100.jpg', '2'], ['train\\\\Orange\\\\r_111_100.jpg', '2'], ['train\\\\Orange\\\\r_112_100.jpg', '2'], ['train\\\\Orange\\\\r_113_100.jpg', '2'], ['train\\\\Orange\\\\r_114_100.jpg', '2'], ['train\\\\Orange\\\\r_115_100.jpg', '2'], ['train\\\\Orange\\\\r_116_100.jpg', '2'], ['train\\\\Orange\\\\r_117_100.jpg', '2'], ['train\\\\Orange\\\\r_118_100.jpg', '2'], ['train\\\\Orange\\\\r_119_100.jpg', '2'], ['train\\\\Orange\\\\r_11_100.jpg', '2'], ['train\\\\Orange\\\\r_120_100.jpg', '2'], ['train\\\\Orange\\\\r_121_100.jpg', '2'], ['train\\\\Orange\\\\r_122_100.jpg', '2'], ['train\\\\Orange\\\\r_123_100.jpg', '2'], ['train\\\\Orange\\\\r_124_100.jpg', '2'], ['train\\\\Orange\\\\r_125_100.jpg', '2'], ['train\\\\Orange\\\\r_126_100.jpg', '2'], ['train\\\\Orange\\\\r_127_100.jpg', '2'], ['train\\\\Orange\\\\r_128_100.jpg', '2'], ['train\\\\Orange\\\\r_129_100.jpg', '2'], ['train\\\\Orange\\\\r_12_100.jpg', '2'], ['train\\\\Orange\\\\r_130_100.jpg', '2'], ['train\\\\Orange\\\\r_131_100.jpg', '2'], ['train\\\\Orange\\\\r_132_100.jpg', '2'], ['train\\\\Orange\\\\r_133_100.jpg', '2'], ['train\\\\Orange\\\\r_134_100.jpg', '2'], ['train\\\\Orange\\\\r_135_100.jpg', '2'], ['train\\\\Orange\\\\r_136_100.jpg', '2'], ['train\\\\Orange\\\\r_137_100.jpg', '2'], ['train\\\\Orange\\\\r_138_100.jpg', '2'], ['train\\\\Orange\\\\r_139_100.jpg', '2'], ['train\\\\Orange\\\\r_13_100.jpg', '2'], ['train\\\\Orange\\\\r_140_100.jpg', '2'], ['train\\\\Orange\\\\r_141_100.jpg', '2'], ['train\\\\Orange\\\\r_142_100.jpg', '2'], ['train\\\\Orange\\\\r_143_100.jpg', '2'], ['train\\\\Orange\\\\r_144_100.jpg', '2'], ['train\\\\Orange\\\\r_145_100.jpg', '2'], ['train\\\\Orange\\\\r_146_100.jpg', '2'], ['train\\\\Orange\\\\r_147_100.jpg', '2'], ['train\\\\Orange\\\\r_148_100.jpg', '2'], ['train\\\\Orange\\\\r_149_100.jpg', '2'], ['train\\\\Orange\\\\r_14_100.jpg', '2'], ['train\\\\Orange\\\\r_150_100.jpg', '2'], ['train\\\\Orange\\\\r_151_100.jpg', '2'], ['train\\\\Orange\\\\r_152_100.jpg', '2'], ['train\\\\Orange\\\\r_153_100.jpg', '2'], ['train\\\\Orange\\\\r_154_100.jpg', '2'], ['train\\\\Orange\\\\r_155_100.jpg', '2'], ['train\\\\Orange\\\\r_156_100.jpg', '2'], ['train\\\\Orange\\\\r_157_100.jpg', '2'], ['train\\\\Orange\\\\r_158_100.jpg', '2'], ['train\\\\Orange\\\\r_159_100.jpg', '2'], ['train\\\\Orange\\\\r_15_100.jpg', '2'], ['train\\\\Orange\\\\r_160_100.jpg', '2'], ['train\\\\Orange\\\\r_161_100.jpg', '2'], ['train\\\\Orange\\\\r_162_100.jpg', '2'], ['train\\\\Orange\\\\r_163_100.jpg', '2'], ['train\\\\Orange\\\\r_164_100.jpg', '2'], ['train\\\\Orange\\\\r_165_100.jpg', '2'], ['train\\\\Orange\\\\r_166_100.jpg', '2'], ['train\\\\Orange\\\\r_167_100.jpg', '2'], ['train\\\\Orange\\\\r_168_100.jpg', '2'], ['train\\\\Orange\\\\r_169_100.jpg', '2'], ['train\\\\Orange\\\\r_16_100.jpg', '2'], ['train\\\\Orange\\\\r_170_100.jpg', '2'], ['train\\\\Orange\\\\r_171_100.jpg', '2'], ['train\\\\Orange\\\\r_172_100.jpg', '2'], ['train\\\\Orange\\\\r_173_100.jpg', '2'], ['train\\\\Orange\\\\r_174_100.jpg', '2'], ['train\\\\Orange\\\\r_175_100.jpg', '2'], ['train\\\\Orange\\\\r_176_100.jpg', '2'], ['train\\\\Orange\\\\r_177_100.jpg', '2'], ['train\\\\Orange\\\\r_178_100.jpg', '2'], ['train\\\\Orange\\\\r_179_100.jpg', '2'], ['train\\\\Orange\\\\r_17_100.jpg', '2'], ['train\\\\Orange\\\\r_180_100.jpg', '2'], ['train\\\\Orange\\\\r_181_100.jpg', '2'], ['train\\\\Orange\\\\r_182_100.jpg', '2'], ['train\\\\Orange\\\\r_183_100.jpg', '2'], ['train\\\\Orange\\\\r_184_100.jpg', '2'], ['train\\\\Orange\\\\r_185_100.jpg', '2'], ['train\\\\Orange\\\\r_186_100.jpg', '2'], ['train\\\\Orange\\\\r_187_100.jpg', '2'], ['train\\\\Orange\\\\r_188_100.jpg', '2'], ['train\\\\Orange\\\\r_189_100.jpg', '2'], ['train\\\\Orange\\\\r_18_100.jpg', '2'], ['train\\\\Orange\\\\r_190_100.jpg', '2'], ['train\\\\Orange\\\\r_191_100.jpg', '2'], ['train\\\\Orange\\\\r_192_100.jpg', '2'], ['train\\\\Orange\\\\r_193_100.jpg', '2'], ['train\\\\Orange\\\\r_194_100.jpg', '2'], ['train\\\\Orange\\\\r_195_100.jpg', '2'], ['train\\\\Orange\\\\r_196_100.jpg', '2'], ['train\\\\Orange\\\\r_197_100.jpg', '2'], ['train\\\\Orange\\\\r_198_100.jpg', '2'], ['train\\\\Orange\\\\r_199_100.jpg', '2'], ['train\\\\Orange\\\\r_19_100.jpg', '2'], ['train\\\\Orange\\\\r_1_100.jpg', '2'], ['train\\\\Orange\\\\r_200_100.jpg', '2'], ['train\\\\Orange\\\\r_201_100.jpg', '2'], ['train\\\\Orange\\\\r_202_100.jpg', '2'], ['train\\\\Orange\\\\r_203_100.jpg', '2'], ['train\\\\Orange\\\\r_204_100.jpg', '2'], ['train\\\\Orange\\\\r_205_100.jpg', '2'], ['train\\\\Orange\\\\r_206_100.jpg', '2'], ['train\\\\Orange\\\\r_207_100.jpg', '2'], ['train\\\\Orange\\\\r_208_100.jpg', '2'], ['train\\\\Orange\\\\r_209_100.jpg', '2'], ['train\\\\Orange\\\\r_20_100.jpg', '2'], ['train\\\\Orange\\\\r_210_100.jpg', '2'], ['train\\\\Orange\\\\r_211_100.jpg', '2'], ['train\\\\Orange\\\\r_212_100.jpg', '2'], ['train\\\\Orange\\\\r_213_100.jpg', '2'], ['train\\\\Orange\\\\r_214_100.jpg', '2'], ['train\\\\Orange\\\\r_215_100.jpg', '2'], ['train\\\\Orange\\\\r_216_100.jpg', '2'], ['train\\\\Orange\\\\r_217_100.jpg', '2'], ['train\\\\Orange\\\\r_218_100.jpg', '2'], ['train\\\\Orange\\\\r_219_100.jpg', '2'], ['train\\\\Orange\\\\r_21_100.jpg', '2'], ['train\\\\Orange\\\\r_220_100.jpg', '2'], ['train\\\\Orange\\\\r_221_100.jpg', '2'], ['train\\\\Orange\\\\r_222_100.jpg', '2'], ['train\\\\Orange\\\\r_223_100.jpg', '2'], ['train\\\\Orange\\\\r_224_100.jpg', '2'], ['train\\\\Orange\\\\r_225_100.jpg', '2'], ['train\\\\Orange\\\\r_226_100.jpg', '2'], ['train\\\\Orange\\\\r_227_100.jpg', '2'], ['train\\\\Orange\\\\r_228_100.jpg', '2'], ['train\\\\Orange\\\\r_229_100.jpg', '2'], ['train\\\\Orange\\\\r_22_100.jpg', '2'], ['train\\\\Orange\\\\r_230_100.jpg', '2'], ['train\\\\Orange\\\\r_231_100.jpg', '2'], ['train\\\\Orange\\\\r_232_100.jpg', '2'], ['train\\\\Orange\\\\r_233_100.jpg', '2'], ['train\\\\Orange\\\\r_234_100.jpg', '2'], ['train\\\\Orange\\\\r_235_100.jpg', '2'], ['train\\\\Orange\\\\r_236_100.jpg', '2'], ['train\\\\Orange\\\\r_237_100.jpg', '2'], ['train\\\\Orange\\\\r_238_100.jpg', '2'], ['train\\\\Orange\\\\r_239_100.jpg', '2'], ['train\\\\Orange\\\\r_23_100.jpg', '2'], ['train\\\\Orange\\\\r_240_100.jpg', '2'], ['train\\\\Orange\\\\r_241_100.jpg', '2'], ['train\\\\Orange\\\\r_242_100.jpg', '2'], ['train\\\\Orange\\\\r_243_100.jpg', '2'], ['train\\\\Orange\\\\r_244_100.jpg', '2'], ['train\\\\Orange\\\\r_245_100.jpg', '2'], ['train\\\\Orange\\\\r_246_100.jpg', '2'], ['train\\\\Orange\\\\r_247_100.jpg', '2'], ['train\\\\Orange\\\\r_248_100.jpg', '2'], ['train\\\\Orange\\\\r_249_100.jpg', '2'], ['train\\\\Orange\\\\r_24_100.jpg', '2'], ['train\\\\Orange\\\\r_250_100.jpg', '2'], ['train\\\\Orange\\\\r_251_100.jpg', '2'], ['train\\\\Orange\\\\r_252_100.jpg', '2'], ['train\\\\Orange\\\\r_253_100.jpg', '2'], ['train\\\\Orange\\\\r_254_100.jpg', '2'], ['train\\\\Orange\\\\r_255_100.jpg', '2'], ['train\\\\Orange\\\\r_256_100.jpg', '2'], ['train\\\\Orange\\\\r_257_100.jpg', '2'], ['train\\\\Orange\\\\r_258_100.jpg', '2'], ['train\\\\Orange\\\\r_259_100.jpg', '2'], ['train\\\\Orange\\\\r_25_100.jpg', '2'], ['train\\\\Orange\\\\r_260_100.jpg', '2'], ['train\\\\Orange\\\\r_261_100.jpg', '2'], ['train\\\\Orange\\\\r_262_100.jpg', '2'], ['train\\\\Orange\\\\r_263_100.jpg', '2'], ['train\\\\Orange\\\\r_264_100.jpg', '2'], ['train\\\\Orange\\\\r_265_100.jpg', '2'], ['train\\\\Orange\\\\r_266_100.jpg', '2'], ['train\\\\Orange\\\\r_267_100.jpg', '2'], ['train\\\\Orange\\\\r_268_100.jpg', '2'], ['train\\\\Orange\\\\r_269_100.jpg', '2'], ['train\\\\Orange\\\\r_26_100.jpg', '2'], ['train\\\\Orange\\\\r_270_100.jpg', '2'], ['train\\\\Orange\\\\r_271_100.jpg', '2'], ['train\\\\Orange\\\\r_272_100.jpg', '2'], ['train\\\\Orange\\\\r_273_100.jpg', '2'], ['train\\\\Orange\\\\r_274_100.jpg', '2'], ['train\\\\Orange\\\\r_275_100.jpg', '2'], ['train\\\\Orange\\\\r_276_100.jpg', '2'], ['train\\\\Orange\\\\r_277_100.jpg', '2'], ['train\\\\Orange\\\\r_278_100.jpg', '2'], ['train\\\\Orange\\\\r_279_100.jpg', '2'], ['train\\\\Orange\\\\r_27_100.jpg', '2'], ['train\\\\Orange\\\\r_280_100.jpg', '2'], ['train\\\\Orange\\\\r_281_100.jpg', '2'], ['train\\\\Orange\\\\r_282_100.jpg', '2'], ['train\\\\Orange\\\\r_283_100.jpg', '2'], ['train\\\\Orange\\\\r_284_100.jpg', '2'], ['train\\\\Orange\\\\r_285_100.jpg', '2'], ['train\\\\Orange\\\\r_286_100.jpg', '2'], ['train\\\\Orange\\\\r_287_100.jpg', '2'], ['train\\\\Orange\\\\r_288_100.jpg', '2'], ['train\\\\Orange\\\\r_289_100.jpg', '2'], ['train\\\\Orange\\\\r_28_100.jpg', '2'], ['train\\\\Orange\\\\r_290_100.jpg', '2'], ['train\\\\Orange\\\\r_291_100.jpg', '2'], ['train\\\\Orange\\\\r_292_100.jpg', '2'], ['train\\\\Orange\\\\r_293_100.jpg', '2'], ['train\\\\Orange\\\\r_294_100.jpg', '2'], ['train\\\\Orange\\\\r_295_100.jpg', '2'], ['train\\\\Orange\\\\r_296_100.jpg', '2'], ['train\\\\Orange\\\\r_297_100.jpg', '2'], ['train\\\\Orange\\\\r_298_100.jpg', '2'], ['train\\\\Orange\\\\r_299_100.jpg', '2'], ['train\\\\Orange\\\\r_29_100.jpg', '2'], ['train\\\\Orange\\\\r_2_100.jpg', '2'], ['train\\\\Orange\\\\r_300_100.jpg', '2'], ['train\\\\Orange\\\\r_301_100.jpg', '2'], ['train\\\\Orange\\\\r_302_100.jpg', '2'], ['train\\\\Orange\\\\r_303_100.jpg', '2'], ['train\\\\Orange\\\\r_304_100.jpg', '2'], ['train\\\\Orange\\\\r_305_100.jpg', '2'], ['train\\\\Orange\\\\r_306_100.jpg', '2'], ['train\\\\Orange\\\\r_307_100.jpg', '2'], ['train\\\\Orange\\\\r_308_100.jpg', '2'], ['train\\\\Orange\\\\r_309_100.jpg', '2'], ['train\\\\Orange\\\\r_30_100.jpg', '2'], ['train\\\\Orange\\\\r_310_100.jpg', '2'], ['train\\\\Orange\\\\r_311_100.jpg', '2'], ['train\\\\Orange\\\\r_312_100.jpg', '2'], ['train\\\\Orange\\\\r_313_100.jpg', '2'], ['train\\\\Orange\\\\r_314_100.jpg', '2'], ['train\\\\Orange\\\\r_315_100.jpg', '2'], ['train\\\\Orange\\\\r_316_100.jpg', '2'], ['train\\\\Orange\\\\r_317_100.jpg', '2'], ['train\\\\Orange\\\\r_318_100.jpg', '2'], ['train\\\\Orange\\\\r_319_100.jpg', '2'], ['train\\\\Orange\\\\r_31_100.jpg', '2'], ['train\\\\Orange\\\\r_320_100.jpg', '2']]\n"
          ],
          "name": "stdout"
        }
      ]
    },
    {
      "cell_type": "code",
      "metadata": {
        "id": "pywk3Ul-Kkwa",
        "colab_type": "code",
        "colab": {}
      },
      "source": [
        "\n",
        "\n",
        "def readimg(path):\n",
        "  #경로 때문에 문제가 생겨서 수정 \n",
        "\n",
        "  if path.find('\\\\') > -1:\n",
        "    path = path.replace('\\\\','\\/')#############################\n",
        "    path = path.replace('\\\\','') #############################\n",
        "\n",
        "  \n",
        "  # 이미지를 그레이 색 기준으로 다차원 Numpy 배열로 로드함 (100*100 Numpy 2차원 배열 로드)\n",
        "  img = cv2.imread(path, cv2.IMREAD_GRAYSCALE)\n",
        "  #img = plt.imread(path, cmap='gray')\n",
        "  # imread는 이미지를 다차원 Numpy 배열로 로딩함\n",
        "\n",
        "  # 1차원 배열로 변환 - 100*100의 2차원 배열을 10000 크기의 1차원 배열로 (10000 = 100*100)\n",
        "  #img = np.reshape(img, [-1, 10000])\n",
        "  img = np.reshape(img, (-1,10000))\n",
        "  # 변경된 배열의 '-1' 위치의 차원은 \"원래 배열의 길이와 남은 차원으로 부터 추정\n",
        "\n",
        "  return img"
      ],
      "execution_count": 0,
      "outputs": []
    },
    {
      "cell_type": "code",
      "metadata": {
        "id": "BELtpDSvdy2r",
        "colab_type": "code",
        "outputId": "ce8f9057-5547-47d5-e4d6-1d1946da4190",
        "colab": {
          "base_uri": "https://localhost:8080/",
          "height": 35
        }
      },
      "source": [
        "# 이미지 배열화 함수 선언\n",
        "#############################\n",
        "!cd '/content'#경로 변경\n",
        "#############################"
      ],
      "execution_count": 14,
      "outputs": [
        {
          "output_type": "stream",
          "text": [
            "/bin/bash: line 0: cd: too many arguments\n"
          ],
          "name": "stdout"
        }
      ]
    },
    {
      "cell_type": "code",
      "metadata": {
        "id": "ghprbnR6ds0p",
        "colab_type": "code",
        "outputId": "9bbfa896-6dbb-4427-eb45-77c6e47af788",
        "colab": {
          "base_uri": "https://localhost:8080/",
          "height": 35
        }
      },
      "source": [
        "import os\n",
        "os.getcwd()"
      ],
      "execution_count": 6,
      "outputs": [
        {
          "output_type": "execute_result",
          "data": {
            "text/plain": [
              "'/content'"
            ]
          },
          "metadata": {
            "tags": []
          },
          "execution_count": 6
        }
      ]
    },
    {
      "cell_type": "code",
      "metadata": {
        "id": "sB3CuNZZMM6s",
        "colab_type": "code",
        "colab": {}
      },
      "source": [
        "# 이미지, 라벨 반환 정의\n",
        "def batch(train_list, batch_size):\n",
        "  img, label, paths = [], [], []\n",
        "  \n",
        "\n",
        "  for i in range(batch_size):\n",
        "\n",
        "    # img에는 readimg() 함수를 이용하여 1차원 이미지 배열 저장\n",
        "\n",
        "    img.append(readimg(train_list[0][0]))\n",
        "    # print(img)\n",
        "    # 인덱스 개수(3개)만큼 리스트를 사전에 초기화\n",
        "    label_list = [0 for _ in range(n_class)]\n",
        "    label_list[int(train_list[0][1])] = int(train_list[0][1])\n",
        "    label.append(label_list)\n",
        "    # print(label)\n",
        "\n",
        "    # 사과 = [0, 0, 0]\n",
        "    # 오렌지 = [0, 1, 0]\n",
        "    # 바나나 = [0, 0, 2]\n",
        "    paths.append(train_list.pop(0))\n",
        "  \n",
        "  return img, label"
      ],
      "execution_count": 0,
      "outputs": []
    },
    {
      "cell_type": "code",
      "metadata": {
        "id": "k56VrO9wNifD",
        "colab_type": "code",
        "colab": {}
      },
      "source": [
        "# 옵션(인자) 값 사전 정의\n",
        "\n",
        "# 옵션\n",
        "\n",
        "# 입력값의 크기 (이미지 크기, 높이*길이)\n",
        "n_input = 100*100\n",
        "\n",
        "# 인덱스의 개수 (사과, 오렌지, 바나나 3개)\n",
        "n_class = 3\n",
        "\n",
        "# 생성자의 입력값으로 사용할 노이즈의 크기\n",
        "n_noise = 128\n",
        "\n",
        "# 전체 데이터 학습 총 횟수 (세대 학습 숫자)\n",
        "total_epoch = 10\n",
        "\n",
        "# 한번에 학습할(입력할) 데이터의 개수, 1461개씩 학습시킴\n",
        "batch_size = 1461\n",
        "\n",
        "# 최적화 함수에 사용되는 학습률\n",
        "learning_rate = 0.0002\n",
        "\n",
        "# 은닉층 뉴런 개수\n",
        "n_hidden = 256"
      ],
      "execution_count": 0,
      "outputs": []
    },
    {
      "cell_type": "code",
      "metadata": {
        "id": "bzYcmBaKOPtS",
        "colab_type": "code",
        "colab": {}
      },
      "source": [
        "# 신경망 모델 구성\n",
        "\n",
        "# 인풋(이미지 입력) - 2차원 행렬을 1차원으로 변환하여 받음 (100*100 = 10000)\n",
        "X = tf.placeholder(tf.float32, [None, n_input])\n",
        "\n",
        "# 노이즈에 제공할 힌트 인덱스 라벨\n",
        "Y = tf.placeholder(tf.float32, [None, n_class])\n",
        "\n",
        "# 노이즈를 입력할 플레이스 홀더\n",
        "Z = tf.placeholder(tf.float32, [None, n_noise])"
      ],
      "execution_count": 0,
      "outputs": []
    },
    {
      "cell_type": "code",
      "metadata": {
        "id": "Yt72MFKbOe5W",
        "colab_type": "code",
        "colab": {}
      },
      "source": [
        "# 생성자 신경망 구현\n",
        "def generator(noise, labels):\n",
        "  with tf.variable_scope('generator'):\n",
        "    # noise 값에 labels 정보를 추가\n",
        "    inputs = tf.concat([noise, labels], 1) # noise 값에 label 추가\n",
        "\n",
        "    # tensorflow 에서 제공하는 유틸리티 함수 이용\n",
        "    hidden = tf.layers.dense(inputs, n_hidden, activation=tf.nn.relu)\n",
        "    output = tf.layers.dense(hidden, n_input, activation=tf.nn.sigmoid)\n",
        "\n",
        "  return output"
      ],
      "execution_count": 0,
      "outputs": []
    },
    {
      "cell_type": "code",
      "metadata": {
        "id": "F1xbcK4gPZNx",
        "colab_type": "code",
        "colab": {}
      },
      "source": [
        "# 구분자 신경망 구현\n",
        "def discriminator(inputs, labels, reuse=None):\n",
        "  with tf.variable_scope('discriminator') as scope:\n",
        "\n",
        "    # 노이즈에 생성한 이미지와 실제 이미지를 판별하는 모델 변수를 동일하게 하기 위해 이전 변수 재사용\n",
        "    if reuse:\n",
        "      scope.reuse_variables()\n",
        "\n",
        "    inputs = tf.concat([inputs, labels], 1)\n",
        "    hidden = tf.layers.dense(inputs, n_hidden, activation=tf.nn.relu)\n",
        "    \n",
        "    output = tf.layers.dense(hidden\n",
        "                             # 판별기의 최종 결과값은 얼마나 진짜와 가까운지 판단하는 1개의 스칼라 값\n",
        "                             , 1\n",
        "                             # 활성화 함수를 사용하지 않음\n",
        "                             # (손실 값 계산 시 sigmoid_cross_entropy_with_logits 함수 사용을 위함)\n",
        "                             , activation=None)\n",
        "  return output"
      ],
      "execution_count": 0,
      "outputs": []
    },
    {
      "cell_type": "code",
      "metadata": {
        "id": "-GHnG7NlSP8G",
        "colab_type": "code",
        "colab": {}
      },
      "source": [
        "# 노이즈 생성 유틸리티 함수 선언\n",
        "# 균등 분포를 통한 노이즈 생성\n",
        "def get_noise(batch_size, n_noise):\n",
        "  # np.random.uniform()을 이용하여 균등 분포 -1과 1 사이의 랜덤값 추출\n",
        "  # size= 랜덤값 배열들을 저장할 (행, 열) 크기\n",
        "  return np.random.uniform(size=(batch_size, n_noise))"
      ],
      "execution_count": 0,
      "outputs": []
    },
    {
      "cell_type": "code",
      "metadata": {
        "id": "iXoWfvS1TM7o",
        "colab_type": "code",
        "outputId": "2db2050d-3f7d-429a-be44-28f1fa037786",
        "colab": {
          "base_uri": "https://localhost:8080/",
          "height": 125
        }
      },
      "source": [
        "# 모델 구성\n",
        "\n",
        "# Generator1 - 노이즈를 입력받아 가짜 이미지를 생성시키는 생성자 G\n",
        "G = generator(Z, Y)\n",
        "\n",
        "# Discriminator1 - 진짜 이미지 데이터를 이용\n",
        "D_real = discriminator(X, Y)\n",
        "\n",
        "# Discriminator2 - 노이즈를 통해 얻어낸 가짜 이미지 데이터를 대입\n",
        "D_gene = discriminator(G, Y, True)"
      ],
      "execution_count": 13,
      "outputs": [
        {
          "output_type": "stream",
          "text": [
            "WARNING:tensorflow:From <ipython-input-10-40591a9a594b>:7: dense (from tensorflow.python.layers.core) is deprecated and will be removed in a future version.\n",
            "Instructions for updating:\n",
            "Use keras.layers.Dense instead.\n",
            "WARNING:tensorflow:From /tensorflow-1.15.2/python3.6/tensorflow_core/python/layers/core.py:187: Layer.apply (from tensorflow.python.keras.engine.base_layer) is deprecated and will be removed in a future version.\n",
            "Instructions for updating:\n",
            "Please use `layer.__call__` method instead.\n"
          ],
          "name": "stdout"
        }
      ]
    },
    {
      "cell_type": "code",
      "metadata": {
        "id": "Vms1STkFfbR6",
        "colab_type": "code",
        "colab": {}
      },
      "source": [
        "import tensorflow as tf\n",
        "old_v = tf.logging.get_verbosity()\n",
        "tf.logging.set_verbosity(tf.logging.ERROR)"
      ],
      "execution_count": 0,
      "outputs": []
    },
    {
      "cell_type": "code",
      "metadata": {
        "id": "jajEBQ8xTtht",
        "colab_type": "code",
        "colab": {}
      },
      "source": [
        "# 손실 함수 작성\n",
        "\n",
        "# 손실값1 - Generator가 만든 가짜 이미지를 Discriminator가 진짜라고 판단하는 손실값 (D_real, loss_D_real)\n",
        "# D_real은 진짜 이미지를 판단하는 것이므로 1에 가까움\n",
        "loss_D_real = tf.reduce_mean(\n",
        "    tf.nn.sigmoid_cross_entropy_with_logits(\n",
        "        logits=D_real\n",
        "        , labels=tf.ones_like(D_real)) # ones_like() : 1에 가깝게\n",
        "    )\n",
        "\n",
        "# 손실값2 - Generator가 만든 가짜 이미지를 Discriminator가 가짜라고 판단하는 손실값 (D_gene, loss_D_gene)\n",
        "# D_gene은 가짜 이미지를 판단하는 것이므로 0에 가까움\n",
        "loss_D_gene = tf.reduce_mean(\n",
        "    tf.nn.sigmoid_cross_entropy_with_logits(\n",
        "        logits=D_gene\n",
        "        , labels=tf.zeros_like(D_gene)) # zeros_like() : 0에 가깝게\n",
        "    )\n",
        "\n",
        "\n",
        "# loss_D_real 과 loss_D_gene을 더한 뒤 이 값을 최소화하도록 최적화\n",
        "loss_D = loss_D_real + loss_D_gene\n",
        "# 1에 가까울수록 실제 이미지로 판별\n",
        "# loss_D 값을 최대화하면 진짜 이미지를 판별할 능력이 생김\n",
        "\n",
        "# 생성자 generator(Z)를 통해서 얻은 G를 Discriminator에 대입한 D_gene 가짜 이미지 아웃풋이 1에 가깝게 만듦\n",
        "# 가짜 이미지를 넣어도 진짜 같다고 판별할 수 있게 함\n",
        "# 가짜 이미지가 진짜 이미지와 가까울 수 있도록 생성망을 학습시키기 위해 D_gene을 최대한 1에 가깝도록 만드는 손실함수\n",
        "loss_G = tf.reduce_mean(\n",
        "    tf.nn.sigmoid_cross_entropy_with_logits(\n",
        "        logits=D_gene # D_gene을 그대로 넣어 손실값으로 지정\n",
        "        , labels=tf.ones_like(D_gene)) # 1에 가깝게 할수록 가짜 이미지에 대한 학습이 가능해짐\n",
        "    )\n"
      ],
      "execution_count": 0,
      "outputs": []
    },
    {
      "cell_type": "code",
      "metadata": {
        "id": "eHTnPHknWCtm",
        "colab_type": "code",
        "colab": {}
      },
      "source": [
        "# 학습 모델 변수 선언\n",
        "\n",
        "vars_D = tf.get_collection(\n",
        "    tf.GraphKeys.TRAINABLE_VARIABLES\n",
        "    , scope = 'discriminator'\n",
        "    )\n",
        "\n",
        "vars_G = tf.get_collection(\n",
        "    tf.GraphKeys.TRAINABLE_VARIABLES\n",
        "    , scope = 'generator'\n",
        "    )\n",
        "\n",
        "train_D = tf.train.AdamOptimizer(learning_rate).minimize(loss_D\n",
        "                                                         , var_list=vars_D)\n",
        "\n",
        "train_G = tf.train.AdamOptimizer(learning_rate).minimize(loss_G\n",
        "                                                         , var_list=vars_G)"
      ],
      "execution_count": 0,
      "outputs": []
    },
    {
      "cell_type": "code",
      "metadata": {
        "id": "pIRPxTkQjwB8",
        "colab_type": "code",
        "colab": {}
      },
      "source": [
        ""
      ],
      "execution_count": 0,
      "outputs": []
    },
    {
      "cell_type": "code",
      "metadata": {
        "id": "5_NCWSXPY3Kz",
        "colab_type": "code",
        "outputId": "2d7fcf7c-56ba-43c4-8609-61bcd480e2b2",
        "colab": {
          "base_uri": "https://localhost:8080/",
          "height": 394
        }
      },
      "source": [
        "# 학습 진행\n",
        "# MNIST 데이터를 사용하지 않고 학습 시키기\n",
        "loss_val_D, loss_val_G = 0, 0\n",
        "# 신경망 모델 학습\n",
        "sess = tf.Session()\n",
        "saver = tf.train.Saver(tf.global_variables())\n",
        "\n",
        "cpkt = tf.train.get_checkpoint_state('./GAN') # GAN 폴더 내에 저장한 학습 세션이 있는지 확인\n",
        "if cpkt and tf.train.checkpoint_exists(cpkt.model_checkpoint_path):\n",
        "  saver.restore(sess, cpkt.model_checkpoint_path) # ./GAN 폴더 내에 학습한 세션이 있으면 다시 불러오고 종료\n",
        "  print('Load sess')\n",
        "else:\n",
        "  sess.run(tf.global_variables_initializer()) # 만약 ./GAN 폴더 내에 학습한 세션이 없다면 초기화\n",
        "\n",
        "  # 세대 학습\n",
        "  for epoch in range(12):\n",
        "    # 한 세대에 100회 반복 학습\n",
        "    for i in range(100):\n",
        "      batch_xs, batch_ys = batch(train_list, batch_size)\n",
        "      # batch_xs: 각 이미지별 1차원 리스트 존재\n",
        "      # batch_ys: 각 이미지 인덱스에 맞는 3-class 리스트 존재\n",
        "      \n",
        "      # 노이즈 함수를 통해 가짜 이미지와 유사한 1차원 배열 생성\n",
        "      noise = get_noise(batch_size, n_noise)\n",
        "\n",
        "      # 구분자 학습\n",
        "      _, loss_val_D = sess.run([train_D, loss_D]\n",
        "                               , feed_dict = {X:batch_xs\n",
        "                                              , Y: batch_ys\n",
        "                                              , Z: noise})\n",
        "      # 생성자 학습\n",
        "      _, loss_val_G = sess.run([train_G, loss_G]\n",
        "                               , feed_dict = {Y: batch_ys\n",
        "                                              , Z: noise})\n",
        "    print('Epoch= ', epoch, ', D loss= ', loss_val_D, ', G loss= ', loss_val_G)\n",
        "\n",
        "    # 학습 중간 과정 점검\n",
        "    if epoch == 0 or (epoch) % 2 == 0:\n",
        "      \n",
        "      # 샘플 이미지 10개\n",
        "      sample_size = 10\n",
        "      \n",
        "      # 노이즈 생성\n",
        "      noise = get_noise(sample_size, n_noise)\n",
        "\n",
        "      # 생성한 노이즈 출력\n",
        "      samples = sess.run(G, feed_dict = {Y: batch_ys[:sample_size], Z: noise})\n",
        "\n",
        "      # plt() 함수를 이용하여 이미지 출력\n",
        "      fig, ax = plt.subplots(2, sample_size, figsize=(sample_size, 1))\n",
        "      for i in range(sample_size):\n",
        "        ax[0][i].set_axis_off()\n",
        "        ax[1][i].set_axis_off()\n",
        "\n",
        "        # 100*100 크기 진짜 이미지 출력\n",
        "        ax[1][i].imshow(np.reshape(batch_xs[i], (100, 100)))\n",
        "\n",
        "        # 100*100 노이즈로 생성한 이미지 출력\n",
        "        ax[1][i].imshow(np.reshape(samples[i], (100, 100)))\n",
        "      \n",
        "      # samples2 폴더에 png로 저장\n",
        "      plt.savefig('./samples2/{}.png'.format(str(epoch).zfill(3)), bbox_inches='tight')\n",
        "      plt.close(fig)\n",
        "\n",
        "print('end')"
      ],
      "execution_count": 17,
      "outputs": [
        {
          "output_type": "error",
          "ename": "ValueError",
          "evalue": "ignored",
          "traceback": [
            "\u001b[0;31m---------------------------------------------------------------------------\u001b[0m",
            "\u001b[0;31mValueError\u001b[0m                                Traceback (most recent call last)",
            "\u001b[0;32m<ipython-input-17-92a05851928c>\u001b[0m in \u001b[0;36m<module>\u001b[0;34m()\u001b[0m\n\u001b[1;32m     26\u001b[0m                                , feed_dict = {X:batch_xs\n\u001b[1;32m     27\u001b[0m                                               \u001b[0;34m,\u001b[0m \u001b[0mY\u001b[0m\u001b[0;34m:\u001b[0m \u001b[0mbatch_ys\u001b[0m\u001b[0;34m\u001b[0m\u001b[0;34m\u001b[0m\u001b[0m\n\u001b[0;32m---> 28\u001b[0;31m                                               , Z: noise})\n\u001b[0m\u001b[1;32m     29\u001b[0m       \u001b[0;31m# 생성자 학습\u001b[0m\u001b[0;34m\u001b[0m\u001b[0;34m\u001b[0m\u001b[0;34m\u001b[0m\u001b[0m\n\u001b[1;32m     30\u001b[0m       _, loss_val_G = sess.run([train_G, loss_G]\n",
            "\u001b[0;32m/tensorflow-1.15.2/python3.6/tensorflow_core/python/client/session.py\u001b[0m in \u001b[0;36mrun\u001b[0;34m(self, fetches, feed_dict, options, run_metadata)\u001b[0m\n\u001b[1;32m    954\u001b[0m     \u001b[0;32mtry\u001b[0m\u001b[0;34m:\u001b[0m\u001b[0;34m\u001b[0m\u001b[0;34m\u001b[0m\u001b[0m\n\u001b[1;32m    955\u001b[0m       result = self._run(None, fetches, feed_dict, options_ptr,\n\u001b[0;32m--> 956\u001b[0;31m                          run_metadata_ptr)\n\u001b[0m\u001b[1;32m    957\u001b[0m       \u001b[0;32mif\u001b[0m \u001b[0mrun_metadata\u001b[0m\u001b[0;34m:\u001b[0m\u001b[0;34m\u001b[0m\u001b[0;34m\u001b[0m\u001b[0m\n\u001b[1;32m    958\u001b[0m         \u001b[0mproto_data\u001b[0m \u001b[0;34m=\u001b[0m \u001b[0mtf_session\u001b[0m\u001b[0;34m.\u001b[0m\u001b[0mTF_GetBuffer\u001b[0m\u001b[0;34m(\u001b[0m\u001b[0mrun_metadata_ptr\u001b[0m\u001b[0;34m)\u001b[0m\u001b[0;34m\u001b[0m\u001b[0;34m\u001b[0m\u001b[0m\n",
            "\u001b[0;32m/tensorflow-1.15.2/python3.6/tensorflow_core/python/client/session.py\u001b[0m in \u001b[0;36m_run\u001b[0;34m(self, handle, fetches, feed_dict, options, run_metadata)\u001b[0m\n\u001b[1;32m   1154\u001b[0m                 \u001b[0;34m'Cannot feed value of shape %r for Tensor %r, '\u001b[0m\u001b[0;34m\u001b[0m\u001b[0;34m\u001b[0m\u001b[0m\n\u001b[1;32m   1155\u001b[0m                 \u001b[0;34m'which has shape %r'\u001b[0m \u001b[0;34m%\u001b[0m\u001b[0;34m\u001b[0m\u001b[0;34m\u001b[0m\u001b[0m\n\u001b[0;32m-> 1156\u001b[0;31m                 (np_val.shape, subfeed_t.name, str(subfeed_t.get_shape())))\n\u001b[0m\u001b[1;32m   1157\u001b[0m           \u001b[0;32mif\u001b[0m \u001b[0;32mnot\u001b[0m \u001b[0mself\u001b[0m\u001b[0;34m.\u001b[0m\u001b[0mgraph\u001b[0m\u001b[0;34m.\u001b[0m\u001b[0mis_feedable\u001b[0m\u001b[0;34m(\u001b[0m\u001b[0msubfeed_t\u001b[0m\u001b[0;34m)\u001b[0m\u001b[0;34m:\u001b[0m\u001b[0;34m\u001b[0m\u001b[0;34m\u001b[0m\u001b[0m\n\u001b[1;32m   1158\u001b[0m             \u001b[0;32mraise\u001b[0m \u001b[0mValueError\u001b[0m\u001b[0;34m(\u001b[0m\u001b[0;34m'Tensor %s may not be fed.'\u001b[0m \u001b[0;34m%\u001b[0m \u001b[0msubfeed_t\u001b[0m\u001b[0;34m)\u001b[0m\u001b[0;34m\u001b[0m\u001b[0;34m\u001b[0m\u001b[0m\n",
            "\u001b[0;31mValueError\u001b[0m: Cannot feed value of shape (1461, 1, 10000) for Tensor 'Placeholder:0', which has shape '(?, 10000)'"
          ]
        }
      ]
    },
    {
      "cell_type": "code",
      "metadata": {
        "id": "NojFVNwXS7kw",
        "colab_type": "code",
        "colab": {}
      },
      "source": [
        "# 이미지 배열화 함수 선언\n",
        "!cd '/content'\n",
        "\n",
        "import os\n",
        "os.getcwd()\n",
        "\n",
        "def readimg(path):\n",
        "  path = path.replace('\\\\','\\/')\n",
        "  path = path.replace('\\\\','')\n",
        "  print(path)\n",
        "  # 이미지를 그레이 색 기준으로 다차원 Numpy 배열로 로드함 (100*100 Numpy 2차원 배열 로드)\n",
        "  img = cv2.imread(path, cv2.IMREAD_GRAYSCALE)\n",
        "  #img = plt.imread(path, cmap='gray')\n",
        "  # imread는 이미지를 다차원 Numpy 배열로 로딩함\n",
        "  print(type(img))\n",
        "\n",
        "  # 1차원 배열로 변환 - 100*100의 2차원 배열을 10000 크기의 1차원 배열로 (10000 = 100*100)\n",
        "  #img = np.reshape(img, [-1, 10000])\n",
        "  img = np.reshape(img, (-1,10000))\n",
        "  # 변경된 배열의 '-1' 위치의 차원은 \"원래 배열의 길이와 남은 차원으로 부터 추정\n",
        "\n",
        "  return img"
      ],
      "execution_count": 0,
      "outputs": []
    },
    {
      "cell_type": "code",
      "metadata": {
        "id": "iSlSiXByTCAj",
        "colab_type": "code",
        "colab": {}
      },
      "source": [
        "# 이미지, 라벨 반환 정의\n",
        "def batch(train_list, batch_size):\n",
        "  img, label, paths = [], [], []\n",
        "  \n",
        "\n",
        "  for i in range(batch_size):\n",
        "\n",
        "    # img에는 readimg() 함수를 이용하여 1차원 이미지 배열 저장\n",
        "    #img.append(readimg(train_list[0][0]))\n",
        "    img.append(readimg(train_list[0][0]))\n",
        "    # print(img)\n",
        "    # 인덱스 개수(3개)만큼 리스트를 사전에 초기화\n",
        "    label_list = [0 for _ in range(n_class)]\n",
        "    label_list[int(train_list[0][1])] = int(train_list[0][1])\n",
        "    label.append(label_list)\n",
        "    # print(label)\n",
        "\n",
        "    # 사과 = [0, 0, 0]\n",
        "    # 오렌지 = [0, 1, 0]\n",
        "    # 바나나 = [0, 0, 2]\n",
        "    paths.append(train_list.pop(0))\n",
        "  \n",
        "  return img, label"
      ],
      "execution_count": 0,
      "outputs": []
    },
    {
      "cell_type": "code",
      "metadata": {
        "id": "BOoPaDx-yZds",
        "colab_type": "code",
        "colab": {}
      },
      "source": [
        "from google.colab import drive\n",
        "drive.mount('/content/drive')"
      ],
      "execution_count": 0,
      "outputs": []
    }
  ]
}