{
  "nbformat": 4,
  "nbformat_minor": 0,
  "metadata": {
    "colab": {
      "name": "baekjoon_0505_0506.ipynb",
      "provenance": [],
      "collapsed_sections": []
    },
    "kernelspec": {
      "name": "python3",
      "display_name": "Python 3"
    },
    "accelerator": "GPU"
  },
  "cells": [
    {
      "cell_type": "code",
      "metadata": {
        "id": "L4wtoRL4rx27",
        "colab_type": "code",
        "outputId": "0e8c5b3f-e244-4b83-8ea0-84f8054d43fd",
        "colab": {
          "base_uri": "https://localhost:8080/",
          "height": 52
        }
      },
      "source": [
        "inp = int(input())\n",
        "\n",
        "facto = 1\n",
        "for i in range(1, inp + 1):\n",
        "  facto = facto * i\n",
        "print(facto)"
      ],
      "execution_count": 0,
      "outputs": [
        {
          "output_type": "stream",
          "text": [
            "10\n",
            "3628800\n"
          ],
          "name": "stdout"
        }
      ]
    },
    {
      "cell_type": "code",
      "metadata": {
        "id": "2J79Gpe0syub",
        "colab_type": "code",
        "outputId": "8dc5abb1-5bf4-4db1-9d7f-de62b7ab407d",
        "colab": {
          "base_uri": "https://localhost:8080/",
          "height": 52
        }
      },
      "source": [
        "# 1697\n",
        "\n",
        "# 수빈이의 위치가 X일 때 걷는다면 1초 후에 X-1 또는 X+1로 이동하게 된다. 순간이동을 하는 경우에는 1초 후에 2*X의 위치로 이동하게 된다.\n",
        "\n",
        "# 첫 번째 줄에 수빈이가 있는 위치 N과 동생이 있는 위치 K가 주어진다. N과 K는 정수이다\n",
        "\n",
        "N, K = map(int, input().split())\n",
        "\n",
        "cnt = 0\n",
        "while True:\n",
        "  if K == N:\n",
        "    print(cnt)\n",
        "    break\n",
        "  else:\n",
        "    if K % 2 != 0:\n",
        "      K = K + 1\n",
        "      cnt = cnt + 1\n",
        "\n",
        "    else:\n",
        "      K = K / 2\n",
        "      cnt = cnt + 1\n",
        "\n"
      ],
      "execution_count": 0,
      "outputs": [
        {
          "output_type": "stream",
          "text": [
            "5 17\n",
            "4\n"
          ],
          "name": "stdout"
        }
      ]
    },
    {
      "cell_type": "code",
      "metadata": {
        "id": "sjIklTwQ5fNy",
        "colab_type": "code",
        "outputId": "86bf5aa7-15ce-40a1-d71d-cf47534e823c",
        "colab": {
          "base_uri": "https://localhost:8080/",
          "height": 34
        }
      },
      "source": [
        "import random\n",
        "\n",
        "print(random.randint(1, 1000))"
      ],
      "execution_count": 0,
      "outputs": [
        {
          "output_type": "stream",
          "text": [
            "778\n"
          ],
          "name": "stdout"
        }
      ]
    },
    {
      "cell_type": "code",
      "metadata": {
        "id": "oSV9lN2O6_wi",
        "colab_type": "code",
        "colab": {}
      },
      "source": [
        "N, M = map(int, input().split())\n",
        "for i in range(N):\n",
        "  print(N, )"
      ],
      "execution_count": 0,
      "outputs": []
    },
    {
      "cell_type": "code",
      "metadata": {
        "id": "EGAKEKJB8Pxv",
        "colab_type": "code",
        "outputId": "0b48b196-2739-4fdc-b02c-0d2c8633298c",
        "colab": {
          "base_uri": "https://localhost:8080/",
          "height": 52
        }
      },
      "source": [
        "inp = int(input())\n",
        "\n",
        "li = [0, 1, 1]\n",
        "\n",
        "a1 = 1\n",
        "a2 = 1\n",
        "\n",
        "for i in range(inp):\n",
        "  an3 = a1 + a2\n",
        "  li.append(an3)\n",
        "  a1 = a2\n",
        "  a2 = an3\n",
        "print(li[inp])"
      ],
      "execution_count": 0,
      "outputs": [
        {
          "output_type": "stream",
          "text": [
            "10\n",
            "55\n"
          ],
          "name": "stdout"
        }
      ]
    },
    {
      "cell_type": "code",
      "metadata": {
        "id": "5M1IG3hA9zWt",
        "colab_type": "code",
        "outputId": "7fc7b46e-53f8-4286-aa48-15facd1440a8",
        "colab": {
          "base_uri": "https://localhost:8080/",
          "height": 439
        }
      },
      "source": [
        "# 14888\n",
        "\n",
        "inp = int(input())\n",
        "\n",
        "num = input().split()\n",
        "sym = list(map(int, input().split()))\n",
        "\n",
        "li = []\n",
        "if sym[0] == 1:\n",
        "  li.append('+')\n",
        "if sym[1] == 1:\n",
        "  li.append('-')\n",
        "if sym[2] == 1:\n",
        "  li.append('*')\n",
        "if sym[3] == 1:\n",
        "  li.append('//')\n",
        "\n",
        "li.append\n",
        "\n",
        "li_sum = sum(sym)\n",
        "for i in range(1, li_sum):\n",
        "  li_sum = li_sum * i\n",
        "\n",
        "import random\n",
        "li_t = []\n",
        "while len(li_t) < 12:\n",
        "  li_shuffle = random.shuffle(li)\n",
        "  if li_shuffle not in li_t:\n",
        "    li_t.append(li_shuffle)\n",
        "\n",
        "\n",
        "print(li_t)\n",
        "\n",
        "\n",
        "# eval()\n",
        "# print(maximum)\n",
        "# print(minimum)"
      ],
      "execution_count": 0,
      "outputs": [
        {
          "output_type": "stream",
          "text": [
            "4\n",
            "1 2 3 4\n",
            "1 0 1 1\n"
          ],
          "name": "stdout"
        },
        {
          "output_type": "error",
          "ename": "KeyboardInterrupt",
          "evalue": "ignored",
          "traceback": [
            "\u001b[0;31m---------------------------------------------------------------------------\u001b[0m",
            "\u001b[0;31mKeyboardInterrupt\u001b[0m                         Traceback (most recent call last)",
            "\u001b[0;32m<ipython-input-32-f7aac402c56f>\u001b[0m in \u001b[0;36m<module>\u001b[0;34m()\u001b[0m\n\u001b[1;32m     23\u001b[0m \u001b[0mli_t\u001b[0m \u001b[0;34m=\u001b[0m \u001b[0;34m[\u001b[0m\u001b[0;34m]\u001b[0m\u001b[0;34m\u001b[0m\u001b[0;34m\u001b[0m\u001b[0m\n\u001b[1;32m     24\u001b[0m \u001b[0;32mwhile\u001b[0m \u001b[0mlen\u001b[0m\u001b[0;34m(\u001b[0m\u001b[0mli_t\u001b[0m\u001b[0;34m)\u001b[0m \u001b[0;34m<\u001b[0m \u001b[0;36m12\u001b[0m\u001b[0;34m:\u001b[0m\u001b[0;34m\u001b[0m\u001b[0;34m\u001b[0m\u001b[0m\n\u001b[0;32m---> 25\u001b[0;31m   \u001b[0mli_shuffle\u001b[0m \u001b[0;34m=\u001b[0m \u001b[0mrandom\u001b[0m\u001b[0;34m.\u001b[0m\u001b[0mshuffle\u001b[0m\u001b[0;34m(\u001b[0m\u001b[0mli\u001b[0m\u001b[0;34m)\u001b[0m\u001b[0;34m\u001b[0m\u001b[0;34m\u001b[0m\u001b[0m\n\u001b[0m\u001b[1;32m     26\u001b[0m   \u001b[0;32mif\u001b[0m \u001b[0mli_shuffle\u001b[0m \u001b[0;32mnot\u001b[0m \u001b[0;32min\u001b[0m \u001b[0mli_t\u001b[0m\u001b[0;34m:\u001b[0m\u001b[0;34m\u001b[0m\u001b[0;34m\u001b[0m\u001b[0m\n\u001b[1;32m     27\u001b[0m     \u001b[0mli_t\u001b[0m\u001b[0;34m.\u001b[0m\u001b[0mappend\u001b[0m\u001b[0;34m(\u001b[0m\u001b[0mli_shuffle\u001b[0m\u001b[0;34m)\u001b[0m\u001b[0;34m\u001b[0m\u001b[0;34m\u001b[0m\u001b[0m\n",
            "\u001b[0;32m/usr/lib/python3.6/random.py\u001b[0m in \u001b[0;36mshuffle\u001b[0;34m(self, x, random)\u001b[0m\n\u001b[1;32m    274\u001b[0m             \u001b[0;32mfor\u001b[0m \u001b[0mi\u001b[0m \u001b[0;32min\u001b[0m \u001b[0mreversed\u001b[0m\u001b[0;34m(\u001b[0m\u001b[0mrange\u001b[0m\u001b[0;34m(\u001b[0m\u001b[0;36m1\u001b[0m\u001b[0;34m,\u001b[0m \u001b[0mlen\u001b[0m\u001b[0;34m(\u001b[0m\u001b[0mx\u001b[0m\u001b[0;34m)\u001b[0m\u001b[0;34m)\u001b[0m\u001b[0;34m)\u001b[0m\u001b[0;34m:\u001b[0m\u001b[0;34m\u001b[0m\u001b[0;34m\u001b[0m\u001b[0m\n\u001b[1;32m    275\u001b[0m                 \u001b[0;31m# pick an element in x[:i+1] with which to exchange x[i]\u001b[0m\u001b[0;34m\u001b[0m\u001b[0;34m\u001b[0m\u001b[0;34m\u001b[0m\u001b[0m\n\u001b[0;32m--> 276\u001b[0;31m                 \u001b[0mj\u001b[0m \u001b[0;34m=\u001b[0m \u001b[0mrandbelow\u001b[0m\u001b[0;34m(\u001b[0m\u001b[0mi\u001b[0m\u001b[0;34m+\u001b[0m\u001b[0;36m1\u001b[0m\u001b[0;34m)\u001b[0m\u001b[0;34m\u001b[0m\u001b[0;34m\u001b[0m\u001b[0m\n\u001b[0m\u001b[1;32m    277\u001b[0m                 \u001b[0mx\u001b[0m\u001b[0;34m[\u001b[0m\u001b[0mi\u001b[0m\u001b[0;34m]\u001b[0m\u001b[0;34m,\u001b[0m \u001b[0mx\u001b[0m\u001b[0;34m[\u001b[0m\u001b[0mj\u001b[0m\u001b[0;34m]\u001b[0m \u001b[0;34m=\u001b[0m \u001b[0mx\u001b[0m\u001b[0;34m[\u001b[0m\u001b[0mj\u001b[0m\u001b[0;34m]\u001b[0m\u001b[0;34m,\u001b[0m \u001b[0mx\u001b[0m\u001b[0;34m[\u001b[0m\u001b[0mi\u001b[0m\u001b[0;34m]\u001b[0m\u001b[0;34m\u001b[0m\u001b[0;34m\u001b[0m\u001b[0m\n\u001b[1;32m    278\u001b[0m         \u001b[0;32melse\u001b[0m\u001b[0;34m:\u001b[0m\u001b[0;34m\u001b[0m\u001b[0;34m\u001b[0m\u001b[0m\n",
            "\u001b[0;32m/usr/lib/python3.6/random.py\u001b[0m in \u001b[0;36m_randbelow\u001b[0;34m(self, n, int, maxsize, type, Method, BuiltinMethod)\u001b[0m\n\u001b[1;32m    233\u001b[0m             \u001b[0mr\u001b[0m \u001b[0;34m=\u001b[0m \u001b[0mgetrandbits\u001b[0m\u001b[0;34m(\u001b[0m\u001b[0mk\u001b[0m\u001b[0;34m)\u001b[0m          \u001b[0;31m# 0 <= r < 2**k\u001b[0m\u001b[0;34m\u001b[0m\u001b[0;34m\u001b[0m\u001b[0m\n\u001b[1;32m    234\u001b[0m             \u001b[0;32mwhile\u001b[0m \u001b[0mr\u001b[0m \u001b[0;34m>=\u001b[0m \u001b[0mn\u001b[0m\u001b[0;34m:\u001b[0m\u001b[0;34m\u001b[0m\u001b[0;34m\u001b[0m\u001b[0m\n\u001b[0;32m--> 235\u001b[0;31m                 \u001b[0mr\u001b[0m \u001b[0;34m=\u001b[0m \u001b[0mgetrandbits\u001b[0m\u001b[0;34m(\u001b[0m\u001b[0mk\u001b[0m\u001b[0;34m)\u001b[0m\u001b[0;34m\u001b[0m\u001b[0;34m\u001b[0m\u001b[0m\n\u001b[0m\u001b[1;32m    236\u001b[0m             \u001b[0;32mreturn\u001b[0m \u001b[0mr\u001b[0m\u001b[0;34m\u001b[0m\u001b[0;34m\u001b[0m\u001b[0m\n\u001b[1;32m    237\u001b[0m         \u001b[0;31m# There's an overridden random() method but no new getrandbits() method,\u001b[0m\u001b[0;34m\u001b[0m\u001b[0;34m\u001b[0m\u001b[0;34m\u001b[0m\u001b[0m\n",
            "\u001b[0;31mKeyboardInterrupt\u001b[0m: "
          ]
        }
      ]
    },
    {
      "cell_type": "code",
      "metadata": {
        "id": "MZuCS6avKn32",
        "colab_type": "code",
        "outputId": "acba4a7d-783e-40c2-f4f6-8ffb84b7bcbf",
        "colab": {
          "base_uri": "https://localhost:8080/",
          "height": 122
        }
      },
      "source": [
        "inp = int(input())\n",
        "for i in range(1, inp):\n",
        "  print(i * '*')\n",
        "for i in range(inp, 0, -1):\n",
        "  print(i * '*')"
      ],
      "execution_count": 0,
      "outputs": [
        {
          "output_type": "stream",
          "text": [
            "3\n",
            "*\n",
            "**\n",
            "***\n",
            "**\n",
            "*\n"
          ],
          "name": "stdout"
        }
      ]
    },
    {
      "cell_type": "code",
      "metadata": {
        "id": "NGlO-OEnM2S1",
        "colab_type": "code",
        "outputId": "2016b4dd-f478-473c-8503-3c237ead0e4d",
        "colab": {
          "base_uri": "https://localhost:8080/",
          "height": 53
        }
      },
      "source": [
        "# inp = int(input())\n",
        "\n",
        "# mid = 0\n",
        "\n",
        "# for i in range(1, 10001):\n",
        "#   for j in str(i):\n",
        "#     mid = mid + int(j)\n",
        "#     res = i + mid\n",
        "#   if inp == res:\n",
        "#     idx = i\n",
        "\n",
        "# print(i)\n"
      ],
      "execution_count": 0,
      "outputs": [
        {
          "output_type": "stream",
          "text": [
            "216\n",
            "10000\n"
          ],
          "name": "stdout"
        }
      ]
    },
    {
      "cell_type": "code",
      "metadata": {
        "id": "LHpQcBa9apwj",
        "colab_type": "code",
        "outputId": "d5741463-6436-4a2d-d6fc-86322873a40f",
        "colab": {
          "base_uri": "https://localhost:8080/",
          "height": 143
        }
      },
      "source": [
        "# 10814 - 틀림\n",
        "li = []\n",
        "for i in range(int(input())):\n",
        "  li.append(list(input().split()))\n",
        "\n",
        "li.sort()\n",
        "for i in li:\n",
        "  print(i[0], i[1])"
      ],
      "execution_count": 0,
      "outputs": [
        {
          "output_type": "stream",
          "text": [
            "3\n",
            "21 Junkyu\n",
            "21 Dohyun\n",
            "20 Sunyoung\n",
            "20 Sunyoung\n",
            "21 Dohyun\n",
            "21 Junkyu\n"
          ],
          "name": "stdout"
        }
      ]
    },
    {
      "cell_type": "code",
      "metadata": {
        "id": "i4X0wdCAdySc",
        "colab_type": "code",
        "outputId": "e51d1635-257d-437c-e2ff-5680a9584b7b",
        "colab": {
          "base_uri": "https://localhost:8080/",
          "height": 143
        }
      },
      "source": [
        "# 10814\n",
        "T = int(input())\n",
        "users = {}\n",
        "for tc in range(T):\n",
        "  key, value = input().split()\n",
        "  key = int(key)\n",
        "  if key not in users:\n",
        "    users[key] = [value]\n",
        "  else:\n",
        "    users[key].append(value)\n",
        "\n",
        "sorted_age = sorted(list(users.keys()))\n",
        "for age in sorted_age:\n",
        "  for name in users[age]:\n",
        "    print('{0} {1}'.format(age, name))"
      ],
      "execution_count": 0,
      "outputs": [
        {
          "output_type": "stream",
          "text": [
            "3\n",
            "21 Junkyu\n",
            "21 Dohyun\n",
            "20 Sunyoung\n",
            "20 Sunyoung\n",
            "21 Junkyu\n",
            "21 Dohyun\n"
          ],
          "name": "stdout"
        }
      ]
    },
    {
      "cell_type": "code",
      "metadata": {
        "id": "uVGrwV9cgpin",
        "colab_type": "code",
        "outputId": "2ab4db6b-fb7c-4615-d97e-b15f9c32d7cd",
        "colab": {
          "base_uri": "https://localhost:8080/",
          "height": 251
        }
      },
      "source": [
        "# 10989\n",
        "\n",
        "li = []\n",
        "inp = int(input())\n",
        "for i in range(inp):\n",
        "  num = int(input())\n",
        "  li.append(num)\n",
        "print(li)\n",
        "\n",
        "left = []\n",
        "right = []\n",
        "flag = inp // 2\n",
        "pivot = li[flag]\n"
      ],
      "execution_count": 0,
      "outputs": [
        {
          "output_type": "stream",
          "text": [
            "10\n",
            "5\n",
            "2\n",
            "3\n",
            "1\n",
            "4\n",
            "2\n",
            "3\n",
            "5\n",
            "1\n",
            "7\n",
            "[5, 2, 3, 1, 4, 2, 3, 5, 1, 7]\n",
            "[2, 3, 1, 3, 2, 3, 4, 1, 5, 7]\n"
          ],
          "name": "stdout"
        }
      ]
    },
    {
      "cell_type": "code",
      "metadata": {
        "id": "qICg8CuF4xmP",
        "colab_type": "code",
        "outputId": "1f9b2f98-2c27-4ad4-fb10-225e61e1e41a",
        "colab": {
          "base_uri": "https://localhost:8080/",
          "height": 233
        }
      },
      "source": [
        "# 10989 - 메모리 초과\n",
        "\n",
        "import random\n",
        "def qsort(l):\n",
        "    if not l: return l # empty sequence case\n",
        "    pivot = l[random.choice(range(0, len(l)))]\n",
        "\n",
        "    head = qsort([elem for elem in l if elem < pivot])\n",
        "    tail = qsort([elem for elem in l if elem > pivot])\n",
        "    return head + [elem for elem in l if elem == pivot] + tail\n",
        "\n",
        "\n",
        "li = []\n",
        "inp = int(input())\n",
        "for i in range(inp):\n",
        "  num = int(input())\n",
        "  li.append(num)\n",
        "\n",
        "qsort(li)"
      ],
      "execution_count": 0,
      "outputs": [
        {
          "output_type": "stream",
          "text": [
            "10\n",
            "5\n",
            "2\n",
            "3\n",
            "1\n",
            "4\n",
            "2\n",
            "3\n",
            "5\n",
            "1\n",
            "7\n"
          ],
          "name": "stdout"
        },
        {
          "output_type": "execute_result",
          "data": {
            "text/plain": [
              "[1, 1, 2, 2, 3, 3, 4, 5, 5, 7]"
            ]
          },
          "metadata": {
            "tags": []
          },
          "execution_count": 33
        }
      ]
    },
    {
      "cell_type": "code",
      "metadata": {
        "id": "w6l74t7V5oIF",
        "colab_type": "code",
        "outputId": "0b3c81bc-ed99-4253-b36d-63d83d365f06",
        "colab": {
          "base_uri": "https://localhost:8080/",
          "height": 233
        }
      },
      "source": [
        "# 10989 - 메모리초과\n",
        "\n",
        "def quicksort(arr):\n",
        "    \"\"\" Quicksort a list\n",
        "\n",
        "    :type arr: list\n",
        "    :param arr: List to sort\n",
        "    :returns: list -- Sorted list\n",
        "    \"\"\"\n",
        "    if not arr:\n",
        "        return []\n",
        "\n",
        "    return quicksort([x for x in arr if x < arr[0]]) \\\n",
        "        + [x for x in arr if x == arr[0]] \\\n",
        "        + quicksort([x for x in arr if x > arr[0]])\n",
        "\n",
        "li = []\n",
        "inp = int(input())\n",
        "for i in range(inp):\n",
        "  num = int(input())\n",
        "  li.append(num)\n",
        "\n",
        "quicksort(li)"
      ],
      "execution_count": 0,
      "outputs": [
        {
          "output_type": "stream",
          "text": [
            "10\n",
            "5\n",
            "2\n",
            "3\n",
            "1\n",
            "4\n",
            "2\n",
            "3\n",
            "5\n",
            "1\n",
            "7\n"
          ],
          "name": "stdout"
        },
        {
          "output_type": "execute_result",
          "data": {
            "text/plain": [
              "[1, 1, 2, 2, 3, 3, 4, 5, 5, 7]"
            ]
          },
          "metadata": {
            "tags": []
          },
          "execution_count": 34
        }
      ]
    },
    {
      "cell_type": "code",
      "metadata": {
        "id": "o0iXRNRu6jNN",
        "colab_type": "code",
        "outputId": "03fa6ac6-9e10-4d6f-eea0-cb88265e1911",
        "colab": {
          "base_uri": "https://localhost:8080/",
          "height": 233
        }
      },
      "source": [
        "# 10989-메모리 초과\n",
        "def quick_sort(arr):\n",
        "    def sort(low, high):\n",
        "        if high <= low:\n",
        "            return\n",
        "\n",
        "        mid = partition(low, high)\n",
        "        sort(low, mid - 1)\n",
        "        sort(mid, high)\n",
        "\n",
        "    def partition(low, high):\n",
        "        pivot = arr[(low + high) // 2]\n",
        "        while low <= high:\n",
        "            while arr[low] < pivot:\n",
        "                low += 1\n",
        "            while arr[high] > pivot:\n",
        "                high -= 1\n",
        "            if low <= high:\n",
        "                arr[low], arr[high] = arr[high], arr[low]\n",
        "                low, high = low + 1, high - 1\n",
        "        return low\n",
        "\n",
        "    return sort(0, len(arr) - 1)\n",
        "\n",
        "li = []\n",
        "inp = int(input())\n",
        "for i in range(inp):\n",
        "  num = int(input())\n",
        "  li.append(num)\n",
        "quick_sort(li)\n",
        "print(li)"
      ],
      "execution_count": 0,
      "outputs": [
        {
          "output_type": "stream",
          "text": [
            "10\n",
            "5\n",
            "2\n",
            "3\n",
            "1\n",
            "4\n",
            "2\n",
            "3\n",
            "5\n",
            "1\n",
            "7\n",
            "[1, 1, 2, 2, 3, 3, 4, 5, 5, 7]\n"
          ],
          "name": "stdout"
        }
      ]
    },
    {
      "cell_type": "code",
      "metadata": {
        "id": "LNBirRj47vhJ",
        "colab_type": "code",
        "colab": {}
      },
      "source": [
        "# 10989 - python보다 java가 나음\n",
        "\n",
        "import java.io.BufferedReader;\n",
        "import java.io.BufferedWriter;\n",
        "import java.io.InputStreamReader;\n",
        "import java.io.OutputStreamWriter;\n",
        "\n",
        "public class Main {\n",
        "\tpublic static void main(String[] args) throws Exception {\n",
        "\t\tBufferedReader br = new BufferedReader(new InputStreamReader(System.in));\n",
        "\t\t\n",
        "\t\tint n = Integer.parseInt(br.readLine());\n",
        "\t\tint[] input = new int[10001];\n",
        "\t\tfor (int i = 0; i < n; i++) {\n",
        "\t\t\tinput[Integer.parseInt(br.readLine())]++;\n",
        "\t\t}\n",
        "\t\t\n",
        "\t\tBufferedWriter bw = new BufferedWriter(new OutputStreamWriter(System.out));\n",
        "\t\tfor (int i = 1; i < 10001; i++) {\n",
        "\t\t\twhile (0 < input[i]--) {\n",
        "\t\t\t\tbw.write(Integer.toString(i) + \"\\n\");\n",
        "\t\t\t}\n",
        "\t\t}\n",
        "\t\tbr.close();\n",
        "        bw.close();\n",
        "\t}\n",
        "}"
      ],
      "execution_count": 0,
      "outputs": []
    },
    {
      "cell_type": "code",
      "metadata": {
        "id": "KR_SsCt6-M3y",
        "colab_type": "code",
        "outputId": "66ad1207-77a5-4531-9b4b-e2d8b6bb18cc",
        "colab": {
          "base_uri": "https://localhost:8080/",
          "height": 251
        }
      },
      "source": [
        "# 9012 - 틀림\n",
        "\n",
        "for i in range(int(input())):\n",
        "  VSP = input()\n",
        "  if VSP.count('(') == VSP.count(')'):\n",
        "    ans = 'YES'\n",
        "  else:\n",
        "    ans = 'NO'\n",
        "\n",
        "\n",
        "  print(ans)"
      ],
      "execution_count": 0,
      "outputs": [
        {
          "output_type": "stream",
          "text": [
            "6\n",
            "(())())\n",
            "NO\n",
            "(((()())()\n",
            "NO\n",
            "(()())((()))\n",
            "YES\n",
            "((()()(()))(((())))()\n",
            "NO\n",
            "()()()()(()()())()\n",
            "YES\n",
            "(()((())()(\n",
            "NO\n"
          ],
          "name": "stdout"
        }
      ]
    },
    {
      "cell_type": "code",
      "metadata": {
        "id": "us9TZHT3CYtw",
        "colab_type": "code",
        "outputId": "86e8e108-ee59-427d-e423-715ccfcaed85",
        "colab": {
          "base_uri": "https://localhost:8080/",
          "height": 107
        }
      },
      "source": [
        "# 9012\n",
        "\n",
        "T = int(input())\n",
        "for i in range(T):\n",
        "    arr = list(input())\n",
        "    while len(arr):\n",
        "        if arr[0] == ')':\n",
        "            print(\"NO\")\n",
        "            break\n",
        "        else:\n",
        "            if ')' in arr:\n",
        "                arr.remove(')')\n",
        "                arr.remove('(')\n",
        "            else:\n",
        "                print(\"NO\")\n",
        "                break\n",
        "    if len(arr) == 0:\n",
        "        print(\"YES\")"
      ],
      "execution_count": 0,
      "outputs": [
        {
          "output_type": "stream",
          "text": [
            "1\n",
            "())(()\n",
            "['(', ')', '(', '(', ')']\n",
            "[')', '(', '(', ')']\n",
            "NO\n"
          ],
          "name": "stdout"
        }
      ]
    }
  ]
}