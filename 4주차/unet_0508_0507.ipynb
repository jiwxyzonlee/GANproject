{
  "nbformat": 4,
  "nbformat_minor": 0,
  "metadata": {
    "colab": {
      "name": "unet_0508_0507.ipynb",
      "provenance": [],
      "collapsed_sections": []
    },
    "kernelspec": {
      "name": "python3",
      "display_name": "Python 3"
    },
    "accelerator": "GPU"
  },
  "cells": [
    {
      "cell_type": "markdown",
      "metadata": {
        "id": "otYnxjP2OGes",
        "colab_type": "text"
      },
      "source": [
        "주말동안 읽을 것:\\\n",
        "https://www.tensorflow.org/tutorials/images/segmentation"
      ]
    },
    {
      "cell_type": "markdown",
      "metadata": {
        "id": "EDsfUkfrJGht",
        "colab_type": "text"
      },
      "source": [
        "# Step2: U-net MNIST's image segmentation\n",
        "\n",
        "- Restore ruined MNIST data by fitting in U-net model"
      ]
    },
    {
      "cell_type": "markdown",
      "metadata": {
        "id": "-bmKzBitH3eD",
        "colab_type": "text"
      },
      "source": [
        "## Before a start\n",
        "### check and change version of keras and tensorflow"
      ]
    },
    {
      "cell_type": "code",
      "metadata": {
        "id": "5Q2svlNyOfZC",
        "colab_type": "code",
        "outputId": "239456a4-a1bf-43f3-a9ed-5a34c8184942",
        "colab": {
          "base_uri": "https://localhost:8080/",
          "height": 53
        }
      },
      "source": [
        "# !pip uninstall keras\n",
        "# !pip install keras==2.1.5\n",
        "\n",
        "import keras\n",
        "keras.__version__\n",
        "\n",
        "\"\"\"\n",
        "Using TensorFlow backend.\n",
        "'2.1.5'\n",
        "\"\"\""
      ],
      "execution_count": 0,
      "outputs": [
        {
          "output_type": "stream",
          "text": [
            "Using TensorFlow backend.\n"
          ],
          "name": "stderr"
        },
        {
          "output_type": "execute_result",
          "data": {
            "text/plain": [
              "'2.1.5'"
            ]
          },
          "metadata": {
            "tags": []
          },
          "execution_count": 1
        }
      ]
    },
    {
      "cell_type": "code",
      "metadata": {
        "id": "LRjOGwYBIY7a",
        "colab_type": "code",
        "outputId": "ecc3484e-96ac-44ba-c561-523932e47b58",
        "colab": {
          "base_uri": "https://localhost:8080/",
          "height": 35
        }
      },
      "source": [
        "# in case of using colab\n",
        "%tensorflow_version 1.x"
      ],
      "execution_count": 1,
      "outputs": [
        {
          "output_type": "stream",
          "text": [
            "TensorFlow 1.x selected.\n"
          ],
          "name": "stdout"
        }
      ]
    },
    {
      "cell_type": "markdown",
      "metadata": {
        "id": "hHfQIXtlrEpC",
        "colab_type": "text"
      },
      "source": [
        "Ref: \\\n",
        "https://github.com/YBIGTA/data-science-2018/blob/master/DLCV/2018-02-10-Keras-U-Net-starter.md\n",
        "\\\n",
        "https://towardsdatascience.com/a-simple-2d-cnn-for-mnist-digit-recognition-a998dbc1e79a\n",
        "\n",
        "my_unet_01_유동2.ipynb by Juwon lee"
      ]
    },
    {
      "cell_type": "markdown",
      "metadata": {
        "id": "pLs2RpP-IIYM",
        "colab_type": "text"
      },
      "source": [
        "## Load module and prepare data"
      ]
    },
    {
      "cell_type": "code",
      "metadata": {
        "id": "73qLicZQtMqS",
        "colab_type": "code",
        "colab": {}
      },
      "source": [
        "import os\n",
        "import sys\n",
        "import random\n",
        "import warnings\n",
        "\n",
        "import numpy as np\n",
        "import pandas as pd\n",
        "\n",
        "import matplotlib.pyplot as plt\n",
        "\n",
        "from tqdm import tqdm\n",
        "from itertools import chain\n",
        "from skimage.io import imread, imshow, imread_collection, concatenate_images\n",
        "from skimage.transform import resize\n",
        "from skimage.morphology import label\n",
        "\n",
        "from tensorflow.keras.models import Model, load_model\n",
        "from tensorflow.keras.layers import Input, Dropout, Lambda, Conv2D, Conv2DTranspose, MaxPooling2D, concatenate, UpSampling2D, BatchNormalization\n",
        "\n",
        "from tensorflow.keras.callbacks import EarlyStopping, ModelCheckpoint\n",
        "from tensorflow.keras import backend as K\n",
        "\n",
        "\n",
        "import tensorflow as tf\n",
        "\n",
        "from numpy import expand_dims\n",
        "from tensorflow.keras.datasets import mnist\n",
        "\n",
        "\n",
        "## Before starting\n",
        "warnings.filterwarnings('ignore', category=UserWarning, module='skimage')\n",
        "seed = 42\n",
        "random.seed = seed\n",
        "np.random.seed = seed\n",
        "\n",
        "\n",
        "## Load MNIST data\n",
        "(X_train, _), (x_test, _) = mnist.load_data()\n",
        "train = expand_dims(X_train, axis=-1)\n",
        "test = expand_dims(x_test, axis=-1)\n",
        "\n",
        "train_ids, IMG_HEIGHT, IMG_WIDTH, IMG_CHANNELS = train.shape  # (60000, 28, 28, 1)\n",
        "test_ids, _, _, _ = test.shape # (10000, 28, 28, 1)\n",
        "\n",
        "\n",
        "## Data Normalization (inputs)\n",
        "train = train.astype('float32')\n",
        "train = train / 255.0\n",
        "\n",
        "test = test.astype('float32')\n",
        "test = test / 255.0\n",
        "\n",
        "## Prepare inputs(ruined) and outputs(normal) of training data\n",
        "normal = train\n",
        "\n",
        "# noise range for ruined\n",
        "rrn = 5\n",
        "\n",
        "ruined = train.copy()\n",
        "\n",
        "for i in range(0, ruined.shape[0]):\n",
        "  x = np.random.randint(0, ruined.shape[1]-rrn)\n",
        "  y = np.random.randint(0, ruined.shape[1]-rrn)\n",
        "  z = np.random.randint(0, ruined.shape[1]-rrn)\n",
        "  ruined[i, 5:19, x : x+rrn] = 1.\n",
        "  ruined[i, y : y+rrn, 2:10] = 1.\n",
        "  ruined[i, z : z+rrn, z : z+rrn] = 1.\n",
        "\n",
        "## Prepare inputs(ruined) and outputs(normal) of testing data\n",
        "test_normal = test\n",
        "\n",
        "# noise range for test_ruined\n",
        "trn = 3\n",
        "\n",
        "test_ruined = test.copy()\n",
        "for i in range(0, test_ruined.shape[0]):\n",
        "  x = np.random.randint(0, test_ruined.shape[1]-trn)\n",
        "  y = np.random.randint(0, test_ruined.shape[1]-trn)\n",
        "  z = np.random.randint(0, test_ruined.shape[1]-trn)\n",
        "  test_ruined[i, 5:19, x : x+trn] = 1.\n",
        "  test_ruined[i, y : y+trn, 2:10] = 1.\n",
        "  test_ruined[i, z : z+trn, z : z+trn] = 1."
      ],
      "execution_count": 0,
      "outputs": []
    },
    {
      "cell_type": "markdown",
      "metadata": {
        "id": "gjbKB07HIXWM",
        "colab_type": "text"
      },
      "source": [
        "## Check data with visuals "
      ]
    },
    {
      "cell_type": "code",
      "metadata": {
        "id": "hNNZ6QO5tGtf",
        "colab_type": "code",
        "outputId": "fe073aa5-ee46-4840-a872-de86320241eb",
        "colab": {
          "base_uri": "https://localhost:8080/",
          "height": 312
        }
      },
      "source": [
        "# Check if training data looks all right\n",
        "\n",
        "fig, axs = plt.subplots(2,10, figsize=(15, 5))\n",
        "for i in range(10) :\n",
        "    ix = random.randint(0, train_ids)\n",
        "    fig.suptitle('Train set(Broken_MNIST & Normal_MNIST)', fontsize=14)\n",
        "    axs[0, i].set_axis_off()\n",
        "    axs[0, i].imshow(ruined[ix].reshape(28,28), cmap='gray')\n",
        "    axs[1, i].set_axis_off()\n",
        "    axs[1, i].imshow(normal[ix].reshape(28,28), cmap='gray')"
      ],
      "execution_count": 3,
      "outputs": [
        {
          "output_type": "display_data",
          "data": {
            "image/png": "[encoded data removed]",
            "text/plain": [
              "<Figure size 1080x360 with 20 Axes>"
            ]
          },
          "metadata": {
            "tags": [],
            "needs_background": "light"
          }
        }
      ]
    },
    {
      "cell_type": "markdown",
      "metadata": {
        "id": "ByN84X-YItx2",
        "colab_type": "text"
      },
      "source": [
        "## Build U-net model"
      ]
    },
    {
      "cell_type": "code",
      "metadata": {
        "id": "MMAtIwzIyy3f",
        "colab_type": "code",
        "outputId": "93123fe7-9b37-436b-827d-7cfb438fced1",
        "colab": {
          "base_uri": "https://localhost:8080/",
          "height": 1000
        }
      },
      "source": [
        "# Build U-Net model\n",
        "def unet(input_size=(IMG_HEIGHT, IMG_WIDTH, IMG_CHANNELS)):\n",
        "    inputs = Input(input_size)\n",
        "    s = Lambda(lambda x: x / 255) (inputs)\n",
        "\n",
        "    # peak 3 (1, 2까지만 maxpooling)\n",
        "    # 6 - 2\n",
        "    # 7 - 1\n",
        "    c1 = Conv2D(16, (3, 3), activation='elu', kernel_initializer='he_normal', padding='same') (s)\n",
        "    c1 = Dropout(0.1) (c1)\n",
        "    c1 = Conv2D(16, (3, 3), activation='elu', kernel_initializer='he_normal', padding='same') (c1)\n",
        "    p1 = MaxPooling2D((2, 2)) (c1)\n",
        "    \n",
        "    c2 = Conv2D(32, (3, 3), activation='elu', kernel_initializer='he_normal', padding='same') (p1)\n",
        "    c2 = Dropout(0.1) (c2)\n",
        "    c2 = Conv2D(32, (3, 3), activation='elu', kernel_initializer='he_normal', padding='same') (c2)\n",
        "    p2 = MaxPooling2D((2, 2)) (c2)\n",
        "    \n",
        "    # peak\n",
        "    c3 = Conv2D(64, (3, 3), activation='elu', kernel_initializer='he_normal', padding='same') (p2)\n",
        "    c3 = Dropout(0.2) (c3)\n",
        "    c3 = Conv2D(64, (3, 3), activation='elu', kernel_initializer='he_normal', padding='same') (c3)\n",
        "    \n",
        "    u4 = Conv2DTranspose(32, (2, 2), strides=(2, 2), padding='same') (c3)\n",
        "    u4 = concatenate([u4, c2])\n",
        "    c4 = Conv2D(32, (3, 3), activation='elu', kernel_initializer='he_normal', padding='same') (u4)\n",
        "    c4 = Dropout(0.2) (c4)\n",
        "    c4 = Conv2D(32, (3, 3), activation='elu', kernel_initializer='he_normal', padding='same') (c4)\n",
        "    \n",
        "    u5 = Conv2DTranspose(16, (2, 2), strides=(2, 2), padding='same') (c4)\n",
        "    u5 = concatenate([u5, c1], axis=3)\n",
        "    c5 = Conv2D(16, (3, 3), activation='elu', kernel_initializer='he_normal', padding='same') (u5)\n",
        "    c5 = Dropout(0.2) (c5)\n",
        "    c5 = Conv2D(16, (3, 3), activation='elu', kernel_initializer='he_normal', padding='same') (c5)\n",
        "    \n",
        "    outputs = Conv2D(1, (1, 1), activation='sigmoid') (c5)\n",
        "    \n",
        "    return Model(inputs=[inputs], outputs=[outputs])\n",
        "\n",
        "model = unet()\n",
        "model.compile(optimizer='adam', loss='binary_crossentropy', metrics=['accuracy'])\n",
        "model.summary()"
      ],
      "execution_count": 4,
      "outputs": [
        {
          "output_type": "stream",
          "text": [
            "WARNING:tensorflow:From /tensorflow-1.15.2/python3.6/tensorflow_core/python/ops/resource_variable_ops.py:1630: calling BaseResourceVariable.__init__ (from tensorflow.python.ops.resource_variable_ops) with constraint is deprecated and will be removed in a future version.\n",
            "Instructions for updating:\n",
            "If using Keras pass *_constraint arguments to layers.\n",
            "WARNING:tensorflow:From /tensorflow-1.15.2/python3.6/tensorflow_core/python/ops/nn_impl.py:183: where (from tensorflow.python.ops.array_ops) is deprecated and will be removed in a future version.\n",
            "Instructions for updating:\n",
            "Use tf.where in 2.0, which has the same broadcast rule as np.where\n",
            "Model: \"model\"\n",
            "__________________________________________________________________________________________________\n",
            "Layer (type)                    Output Shape         Param #     Connected to                     \n",
            "==================================================================================================\n",
            "input_1 (InputLayer)            [(None, 28, 28, 1)]  0                                            \n",
            "__________________________________________________________________________________________________\n",
            "lambda (Lambda)                 (None, 28, 28, 1)    0           input_1[0][0]                    \n",
            "__________________________________________________________________________________________________\n",
            "conv2d (Conv2D)                 (None, 28, 28, 16)   160         lambda[0][0]                     \n",
            "__________________________________________________________________________________________________\n",
            "dropout (Dropout)               (None, 28, 28, 16)   0           conv2d[0][0]                     \n",
            "__________________________________________________________________________________________________\n",
            "conv2d_1 (Conv2D)               (None, 28, 28, 16)   2320        dropout[0][0]                    \n",
            "__________________________________________________________________________________________________\n",
            "max_pooling2d (MaxPooling2D)    (None, 14, 14, 16)   0           conv2d_1[0][0]                   \n",
            "__________________________________________________________________________________________________\n",
            "conv2d_2 (Conv2D)               (None, 14, 14, 32)   4640        max_pooling2d[0][0]              \n",
            "__________________________________________________________________________________________________\n",
            "dropout_1 (Dropout)             (None, 14, 14, 32)   0           conv2d_2[0][0]                   \n",
            "__________________________________________________________________________________________________\n",
            "conv2d_3 (Conv2D)               (None, 14, 14, 32)   9248        dropout_1[0][0]                  \n",
            "__________________________________________________________________________________________________\n",
            "max_pooling2d_1 (MaxPooling2D)  (None, 7, 7, 32)     0           conv2d_3[0][0]                   \n",
            "__________________________________________________________________________________________________\n",
            "conv2d_4 (Conv2D)               (None, 7, 7, 64)     18496       max_pooling2d_1[0][0]            \n",
            "__________________________________________________________________________________________________\n",
            "dropout_2 (Dropout)             (None, 7, 7, 64)     0           conv2d_4[0][0]                   \n",
            "__________________________________________________________________________________________________\n",
            "conv2d_5 (Conv2D)               (None, 7, 7, 64)     36928       dropout_2[0][0]                  \n",
            "__________________________________________________________________________________________________\n",
            "conv2d_transpose (Conv2DTranspo (None, 14, 14, 32)   8224        conv2d_5[0][0]                   \n",
            "__________________________________________________________________________________________________\n",
            "concatenate (Concatenate)       (None, 14, 14, 64)   0           conv2d_transpose[0][0]           \n",
            "                                                                 conv2d_3[0][0]                   \n",
            "__________________________________________________________________________________________________\n",
            "conv2d_6 (Conv2D)               (None, 14, 14, 32)   18464       concatenate[0][0]                \n",
            "__________________________________________________________________________________________________\n",
            "dropout_3 (Dropout)             (None, 14, 14, 32)   0           conv2d_6[0][0]                   \n",
            "__________________________________________________________________________________________________\n",
            "conv2d_7 (Conv2D)               (None, 14, 14, 32)   9248        dropout_3[0][0]                  \n",
            "__________________________________________________________________________________________________\n",
            "conv2d_transpose_1 (Conv2DTrans (None, 28, 28, 16)   2064        conv2d_7[0][0]                   \n",
            "__________________________________________________________________________________________________\n",
            "concatenate_1 (Concatenate)     (None, 28, 28, 32)   0           conv2d_transpose_1[0][0]         \n",
            "                                                                 conv2d_1[0][0]                   \n",
            "__________________________________________________________________________________________________\n",
            "conv2d_8 (Conv2D)               (None, 28, 28, 16)   4624        concatenate_1[0][0]              \n",
            "__________________________________________________________________________________________________\n",
            "dropout_4 (Dropout)             (None, 28, 28, 16)   0           conv2d_8[0][0]                   \n",
            "__________________________________________________________________________________________________\n",
            "conv2d_9 (Conv2D)               (None, 28, 28, 16)   2320        dropout_4[0][0]                  \n",
            "__________________________________________________________________________________________________\n",
            "conv2d_10 (Conv2D)              (None, 28, 28, 1)    17          conv2d_9[0][0]                   \n",
            "==================================================================================================\n",
            "Total params: 116,753\n",
            "Trainable params: 116,753\n",
            "Non-trainable params: 0\n",
            "__________________________________________________________________________________________________\n"
          ],
          "name": "stdout"
        }
      ]
    },
    {
      "cell_type": "markdown",
      "metadata": {
        "id": "RaBal0Y2I3-F",
        "colab_type": "text"
      },
      "source": [
        "## Model Fitting"
      ]
    },
    {
      "cell_type": "code",
      "metadata": {
        "id": "th16yBDkCNkc",
        "colab_type": "code",
        "outputId": "b0a092b7-f0b2-4495-de13-36c631dc2625",
        "colab": {
          "base_uri": "https://localhost:8080/",
          "height": 399
        }
      },
      "source": [
        "# Fitting\n",
        "\n",
        "# earlystopper = EarlyStopping(patience=5, verbose=1)\n",
        "# checkpointer = ModelCheckpoint('model-2020-1.h5', verbose=1, save_best_only=True)\n",
        "# checkpointer = ModelCheckpoint(filepath = 'model_2020_05.hdf5', verbose=1, save_best_only=True, save_weights_only = True)\n",
        "# hist = model.fit(ruined, normal, validation_split=0.1, batch_size=10, epochs=50, callbacks=[checkpointer, earlystopper])\n",
        "\n",
        "hist = model.fit(ruined, normal, validation_split=0.1, batch_size=10, epochs=10)\n",
        "\n",
        "model.save('unet.h5')\n",
        "\n",
        "# score = model.evaluate(test_ruined, test_normal, verbose=0)\n",
        "# print('Test loss:', score[0])\n",
        "# print('Test accuracy:', score[1])"
      ],
      "execution_count": 5,
      "outputs": [
        {
          "output_type": "stream",
          "text": [
            "Train on 54000 samples, validate on 6000 samples\n",
            "Epoch 1/10\n",
            "54000/54000 [==============================] - 34s 621us/sample - loss: 0.1051 - acc: 0.8099 - val_loss: 0.0838 - val_acc: 0.8135\n",
            "Epoch 2/10\n",
            "54000/54000 [==============================] - 32s 592us/sample - loss: 0.0824 - acc: 0.8133 - val_loss: 0.0797 - val_acc: 0.8125\n",
            "Epoch 3/10\n",
            "54000/54000 [==============================] - 32s 586us/sample - loss: 0.0788 - acc: 0.8137 - val_loss: 0.0757 - val_acc: 0.8142\n",
            "Epoch 4/10\n",
            "54000/54000 [==============================] - 32s 586us/sample - loss: 0.0771 - acc: 0.8139 - val_loss: 0.0745 - val_acc: 0.8145\n",
            "Epoch 5/10\n",
            "54000/54000 [==============================] - 32s 585us/sample - loss: 0.0761 - acc: 0.8140 - val_loss: 0.0739 - val_acc: 0.8146\n",
            "Epoch 6/10\n",
            "54000/54000 [==============================] - 32s 595us/sample - loss: 0.0753 - acc: 0.8141 - val_loss: 0.0732 - val_acc: 0.8144\n",
            "Epoch 7/10\n",
            "54000/54000 [==============================] - 32s 602us/sample - loss: 0.0748 - acc: 0.8142 - val_loss: 0.0730 - val_acc: 0.8145\n",
            "Epoch 8/10\n",
            "54000/54000 [==============================] - 32s 594us/sample - loss: 0.0744 - acc: 0.8142 - val_loss: 0.0732 - val_acc: 0.8142\n",
            "Epoch 9/10\n",
            "54000/54000 [==============================] - 31s 580us/sample - loss: 0.0741 - acc: 0.8143 - val_loss: 0.0727 - val_acc: 0.8145\n",
            "Epoch 10/10\n",
            "54000/54000 [==============================] - 32s 585us/sample - loss: 0.0738 - acc: 0.8143 - val_loss: 0.0724 - val_acc: 0.8145\n"
          ],
          "name": "stdout"
        }
      ]
    },
    {
      "cell_type": "code",
      "metadata": {
        "id": "8gMTh_9p0QJd",
        "colab_type": "code",
        "colab": {
          "base_uri": "https://localhost:8080/",
          "height": 35
        },
        "outputId": "7ec6f7cb-51b5-42ad-c114-69149e4ac9d8"
      },
      "source": [
        "# print(type(hist))"
      ],
      "execution_count": 20,
      "outputs": [
        {
          "output_type": "stream",
          "text": [
            "<class 'tensorflow.python.keras.callbacks.History'>\n"
          ],
          "name": "stdout"
        }
      ]
    },
    {
      "cell_type": "code",
      "metadata": {
        "id": "wpcof4wc72Qd",
        "colab_type": "code",
        "colab": {
          "base_uri": "https://localhost:8080/",
          "height": 54
        },
        "outputId": "4acb7998-1f07-4eb3-90d9-968208b6d66d"
      },
      "source": [
        "score = model.evaluate(test_ruined, test_normal, verbose=0)\n",
        "print('Test loss:', score[0])\n",
        "print('Test accuracy:', score[1])"
      ],
      "execution_count": 6,
      "outputs": [
        {
          "output_type": "stream",
          "text": [
            "Test loss: 0.07722239427566528\n",
            "Test accuracy: 0.81034106\n"
          ],
          "name": "stdout"
        }
      ]
    },
    {
      "cell_type": "markdown",
      "metadata": {
        "id": "8UBNNhKNI_Dy",
        "colab_type": "text"
      },
      "source": [
        "## Visualize accuracy and loss"
      ]
    },
    {
      "cell_type": "code",
      "metadata": {
        "id": "VgF99yRwskyD",
        "colab_type": "code",
        "outputId": "fffd465b-62e1-4410-d191-cfb1fe47a502",
        "colab": {
          "base_uri": "https://localhost:8080/",
          "height": 297
        }
      },
      "source": [
        "# plotting the metrics\n",
        "fig = plt.figure()\n",
        "plt.subplot(2,1,1)\n",
        "plt.plot(hist.history['acc'])\n",
        "plt.plot(hist.history['val_acc'])\n",
        "plt.title('model accuracy')\n",
        "plt.ylabel('accuracy')\n",
        "plt.xlabel('epoch')\n",
        "plt.legend(['train', 'test'], loc='lower right')\n",
        "plt.subplot(2,1,2)\n",
        "plt.plot(hist.history['loss'])\n",
        "plt.plot(hist.history['val_loss'])\n",
        "plt.title('model loss')\n",
        "plt.ylabel('loss')\n",
        "plt.xlabel('epoch')\n",
        "plt.legend(['train', 'test'], loc='upper right')\n",
        "plt.tight_layout()"
      ],
      "execution_count": 7,
      "outputs": [
        {
          "output_type": "display_data",
          "data": {
            "image/png": "[encoded data removed]",
            "text/plain": [
              "<Figure size 432x288 with 2 Axes>"
            ]
          },
          "metadata": {
            "tags": [],
            "needs_background": "light"
          }
        }
      ]
    },
    {
      "cell_type": "markdown",
      "metadata": {
        "id": "_Bh1G4vYJ5E8",
        "colab_type": "text"
      },
      "source": [
        "## Make plots to check the result"
      ]
    },
    {
      "cell_type": "code",
      "metadata": {
        "id": "nL1oYfLLA-5V",
        "colab_type": "code",
        "colab": {
          "base_uri": "https://localhost:8080/",
          "height": 392
        },
        "outputId": "6196ef13-3b46-40fd-dbc2-755eaabb078e"
      },
      "source": [
        "def plotPredictions(model, x_train, y_train, x_test, y_test):\n",
        "    ix = np.random.randint(0, len(x_train))\n",
        "\n",
        "    input_ = x_train[ix:ix+1]\n",
        "    mask_ = y_train[ix:ix+1]\n",
        "\n",
        "    preds_train = model.predict(input_)\n",
        "    preds_train_t = (preds_train > 0.5).astype(np.uint8)\n",
        "\n",
        "    plt.figure(figsize=(10,10))\n",
        "    plt.subplot(1,4,1)\n",
        "    plt.title(\"X_train\")\n",
        "    plt.axis('off')\n",
        "    plt.imshow(input_[0].reshape((28,28)), 'gray')\n",
        "\n",
        "    plt.subplot(1,4,2)\n",
        "    plt.title(\"Y_train\")\n",
        "    plt.axis('off')\n",
        "    plt.imshow(mask_[0][:,:,0], 'gray')\n",
        "\n",
        "    plt.subplot(1,4,3)\n",
        "    ret = model.evaluate(input_, mask_)\n",
        "    plt.title(\"Prediction: %.4f\" % (ret[1]))\n",
        "    plt.axis('off')\n",
        "    plt.imshow(preds_train_t[0][:,:,0], 'gray')\n",
        "\n",
        "    # detect residual in train data\n",
        "    train_residual = input_ - preds_train_t\n",
        "    train_residual_ = train_residual.reshape((28,28))\n",
        "\n",
        "    # transformed into 3 channels (RGB)\n",
        "    train_residual_ = np.stack((train_residual_,)*3, -1)\n",
        "    rows, cols, channels = train_residual_.shape\n",
        "\n",
        "    # changing 255 to 0 in first channel\n",
        "    for i in range(rows): \n",
        "        for j in range(cols):\n",
        "            if train_residual_[i, j, 0] == 1 :\n",
        "                train_residual_[i, j, 0] = 1\n",
        "\n",
        "    for i in range(rows):\n",
        "        for j in range(cols):\n",
        "            if train_residual_[i, j, 1] == 1 :\n",
        "                train_residual_[i, j, 1] = 0\n",
        "\n",
        "    for i in range(rows):\n",
        "        for j in range(cols):\n",
        "            if train_residual_[i, j, 2] == 1 :\n",
        "                train_residual_[i, j, 2] = 0            \n",
        "\n",
        "    plt.subplot(1,4,4)\n",
        "    plt.title(\"anomaly\")\n",
        "    plt.axis('off')\n",
        "    plt.imshow(train_residual_)\n",
        "    plt.show()\n",
        "    plt.close()\n",
        "\n",
        "    ix = np.random.randint(0, len(x_test))\n",
        "    input_ = x_test[ix:ix+1]\n",
        "    mask_ = y_test[ix:ix+1]\n",
        "    preds_test = model.predict(input_)\n",
        "    preds_test_t = (preds_test > 0.5).astype(np.uint8)\n",
        "\n",
        "    plt.figure(figsize=(10,10))\n",
        "    plt.subplot(1,4,1)\n",
        "    plt.title(\"X_test\")\n",
        "    plt.axis('off')\n",
        "    plt.imshow(input_[0].reshape((28,28)), 'gray')\n",
        "\n",
        "    plt.subplot(1,4,2)\n",
        "    plt.title(\"Y_test\")\n",
        "    plt.axis('off')\n",
        "    plt.imshow(mask_[0][:,:,0], 'gray')\n",
        "\n",
        "    plt.subplot(1,4,3)\n",
        "    ret = model.evaluate(input_, mask_)\n",
        "    plt.title(\"Prediction: %.4f\" % (ret[1]))\n",
        "    plt.axis('off')\n",
        "    plt.imshow(preds_test_t[0][:,:,0], 'gray')\n",
        "\n",
        "    # detect residual in test data\n",
        "    test_residual = input_ - preds_test_t\n",
        "    test_residual_ = test_residual.reshape((28,28))\n",
        "\n",
        "    # transformed into 3 channels (RGB)\n",
        "    test_residual_ = np.stack((test_residual_,)*3, -1)\n",
        "    rows, cols, channels = test_residual_.shape\n",
        "    \n",
        "    # changing 255 to 0 in first channel\n",
        "    for i in range(rows):\n",
        "        for j in range(cols):\n",
        "            if test_residual_[i, j, 0] == 1 :\n",
        "                test_residual_[i, j, 0] = 1\n",
        "\n",
        "    for i in range(rows):\n",
        "        for j in range(cols):\n",
        "            if test_residual_[i, j, 1] == 1 :\n",
        "                test_residual_[i, j, 1] = 0\n",
        "\n",
        "    for i in range(rows):\n",
        "        for j in range(cols):\n",
        "            if test_residual_[i, j, 2] == 1 :\n",
        "                test_residual_[i, j, 2] = 0            \n",
        "\n",
        "    plt.subplot(1,4,4)\n",
        "    plt.title(\"anomaly\")\n",
        "    plt.axis('off')\n",
        "    plt.imshow(test_residual_)\n",
        "    plt.show()\n",
        "    plt.close()\n",
        "\n",
        "# plot with color\n",
        "plotPredictions(model, ruined, normal, test_ruined, test_normal)"
      ],
      "execution_count": 8,
      "outputs": [
        {
          "output_type": "stream",
          "text": [
            "\r1/1 [==============================] - 0s 3ms/sample - loss: 0.0863 - acc: 0.7398\n"
          ],
          "name": "stdout"
        },
        {
          "output_type": "stream",
          "text": [
            "Clipping input data to the valid range for imshow with RGB data ([0..1] for floats or [0..255] for integers).\n"
          ],
          "name": "stderr"
        },
        {
          "output_type": "display_data",
          "data": {
            "image/png": "[encoded data removed]",
            "text/plain": [
              "<Figure size 720x720 with 4 Axes>"
            ]
          },
          "metadata": {
            "tags": [],
            "needs_background": "light"
          }
        },
        {
          "output_type": "stream",
          "text": [
            "\r1/1 [==============================] - 0s 3ms/sample - loss: 0.1051 - acc: 0.7921\n"
          ],
          "name": "stdout"
        },
        {
          "output_type": "stream",
          "text": [
            "Clipping input data to the valid range for imshow with RGB data ([0..1] for floats or [0..255] for integers).\n"
          ],
          "name": "stderr"
        },
        {
          "output_type": "display_data",
          "data": {
            "image/png": "[encoded data removed]",
            "text/plain": [
              "<Figure size 720x720 with 4 Axes>"
            ]
          },
          "metadata": {
            "tags": [],
            "needs_background": "light"
          }
        }
      ]
    },
    {
      "cell_type": "markdown",
      "metadata": {
        "id": "jCHrw3uKHWks",
        "colab_type": "text"
      },
      "source": [
        "# Step3 output -> dcgan discriminator -> 0 or 1\n",
        "1. output prediction 개선할 것\n",
        "2. dcgan discriminator 개선 후 output 입력해볼 것"
      ]
    },
    {
      "cell_type": "code",
      "metadata": {
        "id": "VwwwSTnvKs7O",
        "colab_type": "code",
        "colab": {}
      },
      "source": [
        ""
      ],
      "execution_count": 0,
      "outputs": []
    },
    {
      "cell_type": "code",
      "metadata": {
        "id": "mrcWHx_osoCD",
        "colab_type": "code",
        "colab": {}
      },
      "source": [
        ""
      ],
      "execution_count": 0,
      "outputs": []
    }
  ]
}