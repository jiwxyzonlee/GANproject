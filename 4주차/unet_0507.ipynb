{
  "nbformat": 4,
  "nbformat_minor": 0,
  "metadata": {
    "colab": {
      "name": "unet_0507.ipynb",
      "provenance": [],
      "collapsed_sections": []
    },
    "kernelspec": {
      "name": "python3",
      "display_name": "Python 3"
    },
    "accelerator": "GPU"
  },
  "cells": [
    {
      "cell_type": "markdown",
      "metadata": {
        "id": "otYnxjP2OGes",
        "colab_type": "text"
      },
      "source": [
        "https://www.tensorflow.org/tutorials/images/segmentation"
      ]
    },
    {
      "cell_type": "code",
      "metadata": {
        "id": "5Q2svlNyOfZC",
        "colab_type": "code",
        "colab": {
          "base_uri": "https://localhost:8080/",
          "height": 53
        },
        "outputId": "239456a4-a1bf-43f3-a9ed-5a34c8184942"
      },
      "source": [
        "# !pip uninstall keras\n",
        "# !pip install keras==2.1.5\n",
        "\n",
        "import keras\n",
        "keras.__version__"
      ],
      "execution_count": 1,
      "outputs": [
        {
          "output_type": "stream",
          "text": [
            "Using TensorFlow backend.\n"
          ],
          "name": "stderr"
        },
        {
          "output_type": "execute_result",
          "data": {
            "text/plain": [
              "'2.1.5'"
            ]
          },
          "metadata": {
            "tags": []
          },
          "execution_count": 1
        }
      ]
    },
    {
      "cell_type": "code",
      "metadata": {
        "id": "LRjOGwYBIY7a",
        "colab_type": "code",
        "colab": {
          "base_uri": "https://localhost:8080/",
          "height": 35
        },
        "outputId": "171dec19-c323-43b1-989f-fc1fc8ae19c0"
      },
      "source": [
        "%tensorflow_version 1.x"
      ],
      "execution_count": 1,
      "outputs": [
        {
          "output_type": "stream",
          "text": [
            "TensorFlow 1.x selected.\n"
          ],
          "name": "stdout"
        }
      ]
    },
    {
      "cell_type": "markdown",
      "metadata": {
        "id": "hHfQIXtlrEpC",
        "colab_type": "text"
      },
      "source": [
        "copied and edited from: \\\n",
        "https://github.com/YBIGTA/data-science-2018/blob/master/DLCV/2018-02-10-Keras-U-Net-starter.md"
      ]
    },
    {
      "cell_type": "code",
      "metadata": {
        "id": "73qLicZQtMqS",
        "colab_type": "code",
        "colab": {}
      },
      "source": [
        "import os\n",
        "import sys\n",
        "import random\n",
        "import warnings\n",
        "\n",
        "import numpy as np\n",
        "import pandas as pd\n",
        "\n",
        "import matplotlib.pyplot as plt\n",
        "\n",
        "from tqdm import tqdm\n",
        "from itertools import chain\n",
        "from skimage.io import imread, imshow, imread_collection, concatenate_images\n",
        "from skimage.transform import resize\n",
        "from skimage.morphology import label\n",
        "\n",
        "from tensorflow.keras.models import Model, load_model\n",
        "from tensorflow.keras.layers import Input, Dropout, Lambda, Conv2D, Conv2DTranspose, MaxPooling2D, concatenate\n",
        "\n",
        "from tensorflow.keras.callbacks import EarlyStopping, ModelCheckpoint\n",
        "from tensorflow.keras import backend as K\n",
        "\n",
        "\n",
        "import tensorflow as tf\n",
        "\n",
        "from numpy import expand_dims\n",
        "from tensorflow.keras.datasets import mnist\n",
        "\n",
        "# from tensorflow.python.keras import backend\n",
        "\n",
        "\n",
        "(x_train, y_train), (_, _) = mnist.load_data()\n",
        "X = expand_dims(x_train, axis=-1)\n",
        "\n",
        "ids, IMG_HEIGHT, IMG_WIDTH, IMG_CHANNELS = X.shape  # (60000, 28, 28, 1)\n",
        "\n",
        "X = X.astype('float32')\n",
        "X = X / 255.0\n",
        "\n",
        "\n",
        "\n",
        "# mnist (output)\n",
        "# normal = X[1000:2000]\n",
        "normal = X[:1000]\n",
        "\n",
        "# 줄 낙서 (input)\n",
        "X_anomal = X[1000:2000]\n",
        "X_anomal[:, 15, 2:10] = 1.0\n",
        "X_anomal[:, 2:19, 7] = 1.0\n",
        "ruined = X_anomal\n",
        "\n",
        "\n",
        "warnings.filterwarnings('ignore', category=UserWarning, module='skimage')\n",
        "seed = 42\n",
        "random.seed = seed\n",
        "np.random.seed = seed\n",
        "\n",
        "# Get train and test IDs\n",
        "normal_ids = normal.shape[0]\n",
        "ruined_ids = ruined.shape[0]"
      ],
      "execution_count": 0,
      "outputs": []
    },
    {
      "cell_type": "code",
      "metadata": {
        "id": "SzvDXx2lpVGK",
        "colab_type": "code",
        "colab": {}
      },
      "source": [
        "# convert class vectors to binary class matrices\n",
        "\n",
        "y_train = X[2000:3000]\n",
        "y_train[:, 15, 2:10] = 1.0\n",
        "y_train[:, 2:19, 7] = 1.0\n",
        "\n",
        "y_test = X[3000:4000]"
      ],
      "execution_count": 0,
      "outputs": []
    },
    {
      "cell_type": "code",
      "metadata": {
        "id": "XKJKLmfGtBji",
        "colab_type": "code",
        "colab": {}
      },
      "source": [
        "# # Get and resize train images and masks\n",
        "# # X_train = np.zeros((len(normal_ids), IMG_HEIGHT, IMG_WIDTH, IMG_CHANNELS), dtype=np.uint8)\n",
        "# Y_train = np.zeros((len(normal_ids), IMG_HEIGHT, IMG_WIDTH, 1), dtype=np.bool)\n",
        "# print('Getting and resizing train images and masks ... ')\n",
        "# sys.stdout.flush()\n",
        "# for n, id_ in tqdm(enumerate(normal_ids), total=len(normal_ids)):\n",
        "#     path = TRAIN_PATH + id_\n",
        "#     img = imread(path + '/images/' + id_ + '.png')[:,:,:IMG_CHANNELS]\n",
        "#     img = resize(img, (IMG_HEIGHT, IMG_WIDTH), mode='constant', preserve_range=True)\n",
        "#     X_train[n] = img\n",
        "#     mask = np.zeros((IMG_HEIGHT, IMG_WIDTH, 1), dtype=np.bool)\n",
        "#     for mask_file in next(os.walk(path + '/masks/'))[2]:\n",
        "#         mask_ = imread(path + '/masks/' + mask_file)\n",
        "#         mask_ = np.expand_dims(resize(mask_, (IMG_HEIGHT, IMG_WIDTH), mode='constant', \n",
        "#                                       preserve_range=True), axis=-1)\n",
        "#         mask = np.maximum(mask, mask_)\n",
        "#     Y_train[n] = mask\n",
        "\n",
        "# # Get and resize test images\n",
        "# X_test = np.zeros((len(ruined_ids), IMG_HEIGHT, IMG_WIDTH, IMG_CHANNELS), dtype=np.uint8)\n",
        "# sizes_test = []\n",
        "# print('\\nGetting and resizing test images ... ')\n",
        "# sys.stdout.flush()\n",
        "# for n, id_ in tqdm(enumerate(ruined_ids), total=len(ruinde_ids)):\n",
        "#     path = TEST_PATH + id_\n",
        "#     img = imread(path + '/images/' + id_ + '.png')[:,:,:IMG_CHANNELS]\n",
        "#     sizes_test.append([img.shape[0], img.shape[1]])\n",
        "#     img = resize(img, (IMG_HEIGHT, IMG_WIDTH), mode='constant', preserve_range=True)\n",
        "#     X_test[n] = img\n",
        "\n",
        "# print('\\nDone!')"
      ],
      "execution_count": 0,
      "outputs": []
    },
    {
      "cell_type": "code",
      "metadata": {
        "id": "6m776_OFuuDM",
        "colab_type": "code",
        "colab": {
          "base_uri": "https://localhost:8080/",
          "height": 35
        },
        "outputId": "a4c97fc6-f801-4fa7-f369-952a4101f34e"
      },
      "source": [
        "print(normal_ids)"
      ],
      "execution_count": 3,
      "outputs": [
        {
          "output_type": "stream",
          "text": [
            "1000\n"
          ],
          "name": "stdout"
        }
      ]
    },
    {
      "cell_type": "code",
      "metadata": {
        "id": "hNNZ6QO5tGtf",
        "colab_type": "code",
        "colab": {
          "base_uri": "https://localhost:8080/",
          "height": 297
        },
        "outputId": "8202ac7c-a0fb-4784-b96a-63519e6760a6"
      },
      "source": [
        "# Check if training data looks all right\n",
        "ix = random.randint(0, normal_ids)\n",
        "imshow(normal[ix].reshape(28,28))\n",
        "plt.show()"
      ],
      "execution_count": 10,
      "outputs": [
        {
          "output_type": "display_data",
          "data": {
            "image/png": "[encoded data removed]",
            "text/plain": [
              "<Figure size 432x288 with 1 Axes>"
            ]
          },
          "metadata": {
            "tags": [],
            "needs_background": "light"
          }
        }
      ]
    },
    {
      "cell_type": "code",
      "metadata": {
        "id": "BZCCyPxOMnm0",
        "colab_type": "code",
        "colab": {
          "base_uri": "https://localhost:8080/",
          "height": 297
        },
        "outputId": "9665bd23-44fc-4b76-d0ad-038db3721599"
      },
      "source": [
        "imshow(ruined[ix].reshape(28,28))\n",
        "plt.show()"
      ],
      "execution_count": 6,
      "outputs": [
        {
          "output_type": "display_data",
          "data": {
            "image/png": "[encoded data removed]",
            "text/plain": [
              "<Figure size 432x288 with 1 Axes>"
            ]
          },
          "metadata": {
            "tags": [],
            "needs_background": "light"
          }
        }
      ]
    },
    {
      "cell_type": "code",
      "metadata": {
        "id": "z49R9z9Ss_Rj",
        "colab_type": "code",
        "colab": {}
      },
      "source": [
        "# Define IoU metric\n",
        "def mean_iou(y_true, y_pred):\n",
        "    prec = []\n",
        "    for t in np.arange(0.5, 1.0, 0.05):\n",
        "        y_pred_ = tf.to_int32(y_pred > t)\n",
        "        score, up_opt = tf.metrics.mean_iou(y_true, y_pred_, 2)\n",
        "        K.get_session().run(tf.local_variables_initializer())\n",
        "        with tf.control_dependencies([up_opt]):\n",
        "            score = tf.identity(score)\n",
        "        prec.append(score)\n",
        "    return K.mean(K.stack(prec), axis=0)"
      ],
      "execution_count": 0,
      "outputs": []
    },
    {
      "cell_type": "code",
      "metadata": {
        "id": "MMAtIwzIyy3f",
        "colab_type": "code",
        "colab": {
          "base_uri": "https://localhost:8080/",
          "height": 1000
        },
        "outputId": "43bb0572-f9e0-40f4-dbed-771b36b00fad"
      },
      "source": [
        "# Build U-Net model\n",
        "inputs = Input((IMG_HEIGHT, IMG_WIDTH, IMG_CHANNELS))\n",
        "s = Lambda(lambda x: x / 255) (inputs)\n",
        "\n",
        "# 3 peak (1, 2까지만 maxpooling)\n",
        "# 6 - 2\n",
        "# 7 - 1\n",
        "\n",
        "c1 = Conv2D(16, (3, 3), activation='elu', kernel_initializer='he_normal', padding='same') (s)\n",
        "c1 = Dropout(0.1) (c1)\n",
        "c1 = Conv2D(16, (3, 3), activation='elu', kernel_initializer='he_normal', padding='same') (c1)\n",
        "p1 = MaxPooling2D((2, 2)) (c1)\n",
        "\n",
        "\n",
        "c2 = Conv2D(32, (3, 3), activation='elu', kernel_initializer='he_normal', padding='same') (p1)\n",
        "c2 = Dropout(0.1) (c2)\n",
        "c2 = Conv2D(32, (3, 3), activation='elu', kernel_initializer='he_normal', padding='same') (c2)\n",
        "p2 = MaxPooling2D((2, 2)) (c2)\n",
        "\n",
        "# peak\n",
        "c3 = Conv2D(64, (3, 3), activation='elu', kernel_initializer='he_normal', padding='same') (p2)\n",
        "c3 = Dropout(0.2) (c3)\n",
        "c3 = Conv2D(64, (3, 3), activation='elu', kernel_initializer='he_normal', padding='same') (c3)\n",
        "\n",
        "\n",
        "u4 = Conv2DTranspose(32, (2, 2), strides=(2, 2), padding='same') (c3)\n",
        "u4 = concatenate([u4, c2])\n",
        "c4 = Conv2D(32, (3, 3), activation='elu', kernel_initializer='he_normal', padding='same') (u4)\n",
        "c4 = Dropout(0.2) (c4)\n",
        "c4 = Conv2D(32, (3, 3), activation='elu', kernel_initializer='he_normal', padding='same') (c4)\n",
        "\n",
        "\n",
        "u5 = Conv2DTranspose(16, (2, 2), strides=(2, 2), padding='same') (c4)\n",
        "u5 = concatenate([u5, c1], axis=3)\n",
        "c5 = Conv2D(16, (3, 3), activation='elu', kernel_initializer='he_normal', padding='same') (u5)\n",
        "c5 = Dropout(0.2) (c5)\n",
        "c5 = Conv2D(16, (3, 3), activation='elu', kernel_initializer='he_normal', padding='same') (c5)\n",
        "\n",
        "\n",
        "outputs = Conv2D(1, (1, 1), activation='sigmoid') (c5)\n",
        "\n",
        "model = Model(inputs=[inputs], outputs=[outputs])\n",
        "model.compile(optimizer='adam', loss='binary_crossentropy', metrics=[mean_iou])\n",
        "model.summary()"
      ],
      "execution_count": 6,
      "outputs": [
        {
          "output_type": "stream",
          "text": [
            "WARNING:tensorflow:From /tensorflow-1.15.2/python3.6/tensorflow_core/python/ops/resource_variable_ops.py:1630: calling BaseResourceVariable.__init__ (from tensorflow.python.ops.resource_variable_ops) with constraint is deprecated and will be removed in a future version.\n",
            "Instructions for updating:\n",
            "If using Keras pass *_constraint arguments to layers.\n",
            "WARNING:tensorflow:From <ipython-input-5-eac6d04dc953>:4: to_int32 (from tensorflow.python.ops.math_ops) is deprecated and will be removed in a future version.\n",
            "Instructions for updating:\n",
            "Use `tf.cast` instead.\n",
            "WARNING:tensorflow:From /tensorflow-1.15.2/python3.6/tensorflow_core/python/ops/metrics_impl.py:1177: where (from tensorflow.python.ops.array_ops) is deprecated and will be removed in a future version.\n",
            "Instructions for updating:\n",
            "Use tf.where in 2.0, which has the same broadcast rule as np.where\n",
            "WARNING:tensorflow:From /tensorflow-1.15.2/python3.6/tensorflow_core/python/ops/metrics_impl.py:1178: div (from tensorflow.python.ops.math_ops) is deprecated and will be removed in a future version.\n",
            "Instructions for updating:\n",
            "Deprecated in favor of operator or tf.math.divide.\n",
            "Model: \"model\"\n",
            "__________________________________________________________________________________________________\n",
            "Layer (type)                    Output Shape         Param #     Connected to                     \n",
            "==================================================================================================\n",
            "input_1 (InputLayer)            [(None, 28, 28, 1)]  0                                            \n",
            "__________________________________________________________________________________________________\n",
            "lambda (Lambda)                 (None, 28, 28, 1)    0           input_1[0][0]                    \n",
            "__________________________________________________________________________________________________\n",
            "conv2d (Conv2D)                 (None, 28, 28, 16)   160         lambda[0][0]                     \n",
            "__________________________________________________________________________________________________\n",
            "dropout (Dropout)               (None, 28, 28, 16)   0           conv2d[0][0]                     \n",
            "__________________________________________________________________________________________________\n",
            "conv2d_1 (Conv2D)               (None, 28, 28, 16)   2320        dropout[0][0]                    \n",
            "__________________________________________________________________________________________________\n",
            "max_pooling2d (MaxPooling2D)    (None, 14, 14, 16)   0           conv2d_1[0][0]                   \n",
            "__________________________________________________________________________________________________\n",
            "conv2d_2 (Conv2D)               (None, 14, 14, 32)   4640        max_pooling2d[0][0]              \n",
            "__________________________________________________________________________________________________\n",
            "dropout_1 (Dropout)             (None, 14, 14, 32)   0           conv2d_2[0][0]                   \n",
            "__________________________________________________________________________________________________\n",
            "conv2d_3 (Conv2D)               (None, 14, 14, 32)   9248        dropout_1[0][0]                  \n",
            "__________________________________________________________________________________________________\n",
            "max_pooling2d_1 (MaxPooling2D)  (None, 7, 7, 32)     0           conv2d_3[0][0]                   \n",
            "__________________________________________________________________________________________________\n",
            "conv2d_4 (Conv2D)               (None, 7, 7, 64)     18496       max_pooling2d_1[0][0]            \n",
            "__________________________________________________________________________________________________\n",
            "dropout_2 (Dropout)             (None, 7, 7, 64)     0           conv2d_4[0][0]                   \n",
            "__________________________________________________________________________________________________\n",
            "conv2d_5 (Conv2D)               (None, 7, 7, 64)     36928       dropout_2[0][0]                  \n",
            "__________________________________________________________________________________________________\n",
            "conv2d_transpose (Conv2DTranspo (None, 14, 14, 32)   8224        conv2d_5[0][0]                   \n",
            "__________________________________________________________________________________________________\n",
            "concatenate (Concatenate)       (None, 14, 14, 64)   0           conv2d_transpose[0][0]           \n",
            "                                                                 conv2d_3[0][0]                   \n",
            "__________________________________________________________________________________________________\n",
            "conv2d_6 (Conv2D)               (None, 14, 14, 32)   18464       concatenate[0][0]                \n",
            "__________________________________________________________________________________________________\n",
            "dropout_3 (Dropout)             (None, 14, 14, 32)   0           conv2d_6[0][0]                   \n",
            "__________________________________________________________________________________________________\n",
            "conv2d_7 (Conv2D)               (None, 14, 14, 32)   9248        dropout_3[0][0]                  \n",
            "__________________________________________________________________________________________________\n",
            "conv2d_transpose_1 (Conv2DTrans (None, 28, 28, 16)   2064        conv2d_7[0][0]                   \n",
            "__________________________________________________________________________________________________\n",
            "concatenate_1 (Concatenate)     (None, 28, 28, 32)   0           conv2d_transpose_1[0][0]         \n",
            "                                                                 conv2d_1[0][0]                   \n",
            "__________________________________________________________________________________________________\n",
            "conv2d_8 (Conv2D)               (None, 28, 28, 16)   4624        concatenate_1[0][0]              \n",
            "__________________________________________________________________________________________________\n",
            "dropout_4 (Dropout)             (None, 28, 28, 16)   0           conv2d_8[0][0]                   \n",
            "__________________________________________________________________________________________________\n",
            "conv2d_9 (Conv2D)               (None, 28, 28, 16)   2320        dropout_4[0][0]                  \n",
            "__________________________________________________________________________________________________\n",
            "conv2d_10 (Conv2D)              (None, 28, 28, 1)    17          conv2d_9[0][0]                   \n",
            "==================================================================================================\n",
            "Total params: 116,753\n",
            "Trainable params: 116,753\n",
            "Non-trainable params: 0\n",
            "__________________________________________________________________________________________________\n"
          ],
          "name": "stdout"
        }
      ]
    },
    {
      "cell_type": "code",
      "metadata": {
        "id": "th16yBDkCNkc",
        "colab_type": "code",
        "colab": {
          "base_uri": "https://localhost:8080/",
          "height": 1000
        },
        "outputId": "c3e43d57-994f-425e-9750-439c11af07de"
      },
      "source": [
        "earlystopper = EarlyStopping(patience=5, verbose=1)\n",
        "# checkpointer = ModelCheckpoint('model-2020-1.h5', verbose=1, save_best_only=True)\n",
        "checkpointer = ModelCheckpoint(filepath = 'model_2020_05.hdf5', verbose=1, save_best_only=True, save_weights_only = True)\n",
        "\n",
        "model.fit(ruined, normal\n",
        "          , validation_split=0.1\n",
        "          , batch_size=16\n",
        "          , epochs=50\n",
        "          , callbacks=[checkpointer, earlystopper])\n",
        "\n",
        "\n",
        "model.save('my_model.h5')\n",
        "score = model.evaluate(y_train, y_test, verbose=0)\n",
        "print('Test loss:', score[0])\n",
        "print('Test accuracy:', score[1])"
      ],
      "execution_count": 9,
      "outputs": [
        {
          "output_type": "stream",
          "text": [
            "Train on 900 samples, validate on 100 samples\n",
            "Epoch 1/50\n",
            "896/900 [============================>.] - ETA: 0s - loss: 0.2606 - mean_iou: 0.4979\n",
            "Epoch 00001: val_loss improved from inf to 0.26633, saving model to model_2020_05.hdf5\n",
            "900/900 [==============================] - 1s 1ms/sample - loss: 0.2605 - mean_iou: 0.4979 - val_loss: 0.2663 - val_mean_iou: 0.4979\n",
            "Epoch 2/50\n",
            "896/900 [============================>.] - ETA: 0s - loss: 0.2606 - mean_iou: 0.4979\n",
            "Epoch 00002: val_loss improved from 0.26633 to 0.26341, saving model to model_2020_05.hdf5\n",
            "900/900 [==============================] - 1s 1ms/sample - loss: 0.2606 - mean_iou: 0.4979 - val_loss: 0.2634 - val_mean_iou: 0.4979\n",
            "Epoch 3/50\n",
            "848/900 [===========================>..] - ETA: 0s - loss: 0.2600 - mean_iou: 0.4979\n",
            "Epoch 00003: val_loss improved from 0.26341 to 0.26312, saving model to model_2020_05.hdf5\n",
            "900/900 [==============================] - 1s 1ms/sample - loss: 0.2599 - mean_iou: 0.4979 - val_loss: 0.2631 - val_mean_iou: 0.4979\n",
            "Epoch 4/50\n",
            "848/900 [===========================>..] - ETA: 0s - loss: 0.2596 - mean_iou: 0.4979\n",
            "Epoch 00004: val_loss did not improve from 0.26312\n",
            "900/900 [==============================] - 1s 995us/sample - loss: 0.2601 - mean_iou: 0.4979 - val_loss: 0.2632 - val_mean_iou: 0.4979\n",
            "Epoch 5/50\n",
            "848/900 [===========================>..] - ETA: 0s - loss: 0.2584 - mean_iou: 0.4979\n",
            "Epoch 00005: val_loss did not improve from 0.26312\n",
            "900/900 [==============================] - 1s 986us/sample - loss: 0.2594 - mean_iou: 0.4979 - val_loss: 0.2642 - val_mean_iou: 0.4979\n",
            "Epoch 6/50\n",
            "896/900 [============================>.] - ETA: 0s - loss: 0.2605 - mean_iou: 0.4979\n",
            "Epoch 00006: val_loss did not improve from 0.26312\n",
            "900/900 [==============================] - 1s 1ms/sample - loss: 0.2605 - mean_iou: 0.4979 - val_loss: 0.2642 - val_mean_iou: 0.4979\n",
            "Epoch 7/50\n",
            "880/900 [============================>.] - ETA: 0s - loss: 0.2602 - mean_iou: 0.4979\n",
            "Epoch 00007: val_loss improved from 0.26312 to 0.26309, saving model to model_2020_05.hdf5\n",
            "900/900 [==============================] - 1s 1ms/sample - loss: 0.2598 - mean_iou: 0.4979 - val_loss: 0.2631 - val_mean_iou: 0.4979\n",
            "Epoch 8/50\n",
            "896/900 [============================>.] - ETA: 0s - loss: 0.2594 - mean_iou: 0.4979\n",
            "Epoch 00008: val_loss did not improve from 0.26309\n",
            "900/900 [==============================] - 1s 1ms/sample - loss: 0.2593 - mean_iou: 0.4979 - val_loss: 0.2634 - val_mean_iou: 0.4979\n",
            "Epoch 9/50\n",
            "896/900 [============================>.] - ETA: 0s - loss: 0.2592 - mean_iou: 0.4979\n",
            "Epoch 00009: val_loss improved from 0.26309 to 0.26205, saving model to model_2020_05.hdf5\n",
            "900/900 [==============================] - 1s 1ms/sample - loss: 0.2593 - mean_iou: 0.4979 - val_loss: 0.2621 - val_mean_iou: 0.4979\n",
            "Epoch 10/50\n",
            "848/900 [===========================>..] - ETA: 0s - loss: 0.2592 - mean_iou: 0.4979\n",
            "Epoch 00010: val_loss did not improve from 0.26205\n",
            "900/900 [==============================] - 1s 1ms/sample - loss: 0.2592 - mean_iou: 0.4979 - val_loss: 0.2634 - val_mean_iou: 0.4979\n",
            "Epoch 11/50\n",
            "848/900 [===========================>..] - ETA: 0s - loss: 0.2585 - mean_iou: 0.4979\n",
            "Epoch 00011: val_loss did not improve from 0.26205\n",
            "900/900 [==============================] - 1s 1ms/sample - loss: 0.2588 - mean_iou: 0.4979 - val_loss: 0.2628 - val_mean_iou: 0.4979\n",
            "Epoch 12/50\n",
            "848/900 [===========================>..] - ETA: 0s - loss: 0.2587 - mean_iou: 0.4979\n",
            "Epoch 00012: val_loss did not improve from 0.26205\n",
            "900/900 [==============================] - 1s 1ms/sample - loss: 0.2585 - mean_iou: 0.4979 - val_loss: 0.2628 - val_mean_iou: 0.4979\n",
            "Epoch 13/50\n",
            "848/900 [===========================>..] - ETA: 0s - loss: 0.2580 - mean_iou: 0.4979\n",
            "Epoch 00013: val_loss did not improve from 0.26205\n",
            "900/900 [==============================] - 1s 997us/sample - loss: 0.2587 - mean_iou: 0.4979 - val_loss: 0.2631 - val_mean_iou: 0.4979\n",
            "Epoch 14/50\n",
            "848/900 [===========================>..] - ETA: 0s - loss: 0.2580 - mean_iou: 0.4979\n",
            "Epoch 00014: val_loss did not improve from 0.26205\n",
            "900/900 [==============================] - 1s 1ms/sample - loss: 0.2589 - mean_iou: 0.4979 - val_loss: 0.2642 - val_mean_iou: 0.4979\n",
            "Epoch 00014: early stopping\n",
            "Test loss: 0.26733279156684875\n",
            "Test accuracy: 0.49794006\n"
          ],
          "name": "stdout"
        }
      ]
    },
    {
      "cell_type": "code",
      "metadata": {
        "id": "VgF99yRwskyD",
        "colab_type": "code",
        "colab": {
          "base_uri": "https://localhost:8080/",
          "height": 1000
        },
        "outputId": "6aec54e6-904e-475d-d58d-7ba4e7cc6811"
      },
      "source": [
        "# Predict on train, val and test\n",
        "# model = load_model('model-dsbowl2020-1.h5', custom_objects={'mean_iou': mean_iou})\n",
        "model = load_model('my_model.h5', custom_objects={'mean_iou': mean_iou})\n",
        "preds_train = model.predict(ruined[:int(ruined.shape[0]*0.9)], verbose=1)\n",
        "preds_val = model.predict(y_train[int(y_train.shape[0]*0.9):], verbose=1)\n",
        "preds_test = model.predict(normal, verbose=1)\n",
        "\n",
        "# Threshold predictions\n",
        "preds_train_t = (preds_train > 0.5).astype(np.uint8)\n",
        "preds_val_t = (preds_val > 0.5).astype(np.uint8)\n",
        "preds_test_t = (preds_test > 0.5).astype(np.uint8)\n",
        "\n",
        "# Create list of upsampled test masks\n",
        "# preds_test_upsampled = []\n",
        "# for i in range(len(preds_test)):\n",
        "#     preds_test_upsampled.append(resize(np.squeeze(preds_test[i]), \n",
        "#                                        (sizes_test[i][0], sizes_test[i][1]), \n",
        "#                                        mode='constant', preserve_range=True))\n",
        "\n",
        "\n",
        "# Perform a sanity check on some random training samples\n",
        "ix = random.randint(0, len(preds_train_t))\n",
        "imshow(ruined[ix].reshape(28, 28))\n",
        "plt.show()\n",
        "imshow(np.squeeze(y_train[ix]))\n",
        "plt.show()\n",
        "imshow(np.squeeze(preds_train_t[ix]))\n",
        "plt.show()\n",
        "# Perform a sanity check on some random validation samples\n",
        "ix = random.randint(0, len(preds_val_t))\n",
        "imshow(ruined[int(ruined.shape[0]*0.9):][ix].reshape(28, 28))\n",
        "plt.show()\n",
        "imshow(np.squeeze(y_train[int(y_train.shape[0]*0.9):][ix]))\n",
        "plt.show()\n",
        "imshow(np.squeeze(preds_val_t[ix]))\n",
        "plt.show()"
      ],
      "execution_count": 13,
      "outputs": [
        {
          "output_type": "stream",
          "text": [
            "900/900 [==============================] - 0s 356us/sample\n",
            "100/100 [==============================] - 0s 107us/sample\n",
            "1000/1000 [==============================] - 0s 68us/sample\n"
          ],
          "name": "stdout"
        },
        {
          "output_type": "display_data",
          "data": {
            "image/png": "[encoded data removed]",
            "text/plain": [
              "<Figure size 432x288 with 1 Axes>"
            ]
          },
          "metadata": {
            "tags": [],
            "needs_background": "light"
          }
        },
        {
          "output_type": "display_data",
          "data": {
            "image/png": "[encoded data removed]",
            "text/plain": [
              "<Figure size 432x288 with 1 Axes>"
            ]
          },
          "metadata": {
            "tags": [],
            "needs_background": "light"
          }
        },
        {
          "output_type": "display_data",
          "data": {
            "image/png": "[encoded data removed]",
            "text/plain": [
              "<Figure size 432x288 with 2 Axes>"
            ]
          },
          "metadata": {
            "tags": [],
            "needs_background": "light"
          }
        },
        {
          "output_type": "display_data",
          "data": {
            "image/png": "[encoded data removed]",
            "text/plain": [
              "<Figure size 432x288 with 1 Axes>"
            ]
          },
          "metadata": {
            "tags": [],
            "needs_background": "light"
          }
        },
        {
          "output_type": "display_data",
          "data": {
            "image/png": "[encoded data removed]",
            "text/plain": [
              "<Figure size 432x288 with 1 Axes>"
            ]
          },
          "metadata": {
            "tags": [],
            "needs_background": "light"
          }
        },
        {
          "output_type": "display_data",
          "data": {
            "image/png": "[encoded data removed]",
            "text/plain": [
              "<Figure size 432x288 with 2 Axes>"
            ]
          },
          "metadata": {
            "tags": [],
            "needs_background": "light"
          }
        }
      ]
    },
    {
      "cell_type": "code",
      "metadata": {
        "id": "nL1oYfLLA-5V",
        "colab_type": "code",
        "colab": {}
      },
      "source": [
        "\n"
      ],
      "execution_count": 0,
      "outputs": []
    },
    {
      "cell_type": "code",
      "metadata": {
        "id": "mrcWHx_osoCD",
        "colab_type": "code",
        "colab": {}
      },
      "source": [
        "# Run-length encoding stolen from https://www.kaggle.com/rakhlin/fast-run-length-encoding-python\n",
        "def rle_encoding(x):\n",
        "    dots = np.where(x.T.flatten() == 1)[0]\n",
        "    run_lengths = []\n",
        "    prev = -2\n",
        "    for b in dots:\n",
        "        if (b>prev+1): run_lengths.extend((b + 1, 0))\n",
        "        run_lengths[-1] += 1\n",
        "        prev = b\n",
        "    return run_lengths\n",
        "\n",
        "def prob_to_rles(x, cutoff=0.5):\n",
        "    lab_img = label(x > cutoff)\n",
        "    for i in range(1, lab_img.max() + 1):\n",
        "        yield rle_encoding(lab_img == i)\n",
        "\n",
        "\n",
        "new_test_ids = []\n",
        "rles = []\n",
        "for n, id_ in enumerate(test_ids):\n",
        "    rle = list(prob_to_rles(preds_test_upsampled[n]))\n",
        "    rles.extend(rle)\n",
        "    new_test_ids.extend([id_] * len(rle))\n",
        "\n",
        "# Create submission DataFrame\n",
        "sub = pd.DataFrame()\n",
        "sub['ImageId'] = new_test_ids\n",
        "sub['EncodedPixels'] = pd.Series(rles).apply(lambda x: ' '.join(str(y) for y in x))\n",
        "sub.to_csv('sub-dsbowl2018-1.csv', index=False)"
      ],
      "execution_count": 0,
      "outputs": []
    }
  ]
}