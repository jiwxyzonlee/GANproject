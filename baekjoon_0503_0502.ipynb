{
  "nbformat": 4,
  "nbformat_minor": 0,
  "metadata": {
    "colab": {
      "name": "baekjoon_0503_0502.ipynb",
      "provenance": [],
      "collapsed_sections": []
    },
    "kernelspec": {
      "name": "python3",
      "display_name": "Python 3"
    }
  },
  "cells": [
    {
      "cell_type": "code",
      "metadata": {
        "id": "xonw6-61Qse1",
        "colab_type": "code",
        "outputId": "d7a788ae-c7df-49a9-902e-c2abd9f72bb3",
        "colab": {
          "base_uri": "https://localhost:8080/",
          "height": 105
        }
      },
      "source": [
        "result = int(input())\n",
        "for _ in range(result):\n",
        "    word = input()\n",
        "    for i in range(1, len(word)):\n",
        "        if word.find(word[i-1]) > word.find(word[i]):\n",
        "            result -= 1\n",
        "            break\n",
        "print(result)"
      ],
      "execution_count": 0,
      "outputs": [
        {
          "output_type": "stream",
          "text": [
            "3\n",
            "happy\n",
            "new\n",
            "year\n",
            "3\n"
          ],
          "name": "stdout"
        }
      ]
    },
    {
      "cell_type": "code",
      "metadata": {
        "id": "wqgUGrsrRWgj",
        "colab_type": "code",
        "outputId": "b8191001-dc21-4e9d-fc8f-3acf1a01ba46",
        "colab": {
          "base_uri": "https://localhost:8080/",
          "height": 52
        }
      },
      "source": [
        "# TR(P*Q) = TC(TFC + TVC) 되는 지점의 Q 구하기\n",
        "\n",
        "# AC = MC = P\n",
        "# TC = P*Q = TR\n",
        "\n",
        "def _1712():\n",
        "  TFC, AVC, P = map(int, input().split())\n",
        "  # AC = TFC / Q  + AVC = P\n",
        "  if AVC >= P:\n",
        "    print('-1')\n",
        "\n",
        "  AFC = P - AVC\n",
        "  \n",
        "  # 최초로 총 수입이 총 비용보다 많아져 이익이 발생하는 지점을 손익분기점(BREAK-EVEN POINT)\n",
        "  Q = (TFC // AFC) + 1\n",
        "  print(Q)\n",
        "\n",
        "_1712()"
      ],
      "execution_count": 0,
      "outputs": [
        {
          "output_type": "stream",
          "text": [
            "TFC, AVC, P: 1000 70 170\n",
            "11\n"
          ],
          "name": "stdout"
        }
      ]
    },
    {
      "cell_type": "code",
      "metadata": {
        "id": "OZoWJeTAXQvc",
        "colab_type": "code",
        "colab": {}
      },
      "source": [
        "def _1712():\n",
        "    A, B, C = map(int, input().split(' '))\n",
        "\n",
        "    if B >= C:\n",
        "        print('-1')\n",
        "        return\n",
        "\n",
        "    print((A // (C-B)) + 1)\n",
        "\n",
        "_1712()"
      ],
      "execution_count": 0,
      "outputs": []
    },
    {
      "cell_type": "code",
      "metadata": {
        "id": "e9qg8C87XrjD",
        "colab_type": "code",
        "outputId": "aa187f7b-af81-4f03-821f-73e9a79670f0",
        "colab": {
          "base_uri": "https://localhost:8080/",
          "height": 140
        }
      },
      "source": [
        "'''\n",
        "상근이는 요즘 설탕공장에서 설탕을 배달하고 있다. 상근이는 지금 사탕가게에 설탕을 정확하게 N킬로그램을 배달해야 한다. 설탕공장에서 만드는 설탕은 봉지에 담겨져 있다. 봉지는 3킬로그램 봉지와 5킬로그램 봉지가 있다.\n",
        "\n",
        "상근이는 귀찮기 때문에, 최대한 적은 봉지를 들고 가려고 한다. 예를 들어, 18킬로그램 설탕을 배달해야 할 때, 3킬로그램 봉지 6개를 가져가도 되지만, 5킬로그램 3개와 3킬로그램 1개를 배달하면, 더 적은 개수의 봉지를 배달할 수 있다.\n",
        "\n",
        "상근이가 설탕을 정확하게 N킬로그램 배달해야 할 때, 봉지 몇 개를 가져가면 되는지 그 수를 구하는 프로그램을 작성하시오\n",
        "'''\n",
        "# 틀림\n",
        "# def baekjoon_2839():\n",
        "#   N = int(input())\n",
        "  \n",
        "#   x = N // 5\n",
        "#   if N % 5 != 0 and N % 3 != 0 and (N - 5) % 3 != 0 and (N - 3) % 5 != 0:\n",
        "#     print('-1')\n",
        "#   else:\n",
        "#     li = []\n",
        "#     for i in range(x + 1):\n",
        "#       y = (N - 5 * i) // 3\n",
        "#       print(i, y)\n",
        "#       res = i + y\n",
        "#       li.append(res)\n",
        "#     print(min(li))\n",
        "\n",
        "# baekjoon_2839()"
      ],
      "execution_count": 0,
      "outputs": [
        {
          "output_type": "stream",
          "text": [
            "21\n",
            "0 7\n",
            "1 5\n",
            "2 3\n",
            "3 2\n",
            "4 0\n",
            "4\n"
          ],
          "name": "stdout"
        }
      ]
    },
    {
      "cell_type": "code",
      "metadata": {
        "id": "uJHnp4PlXrli",
        "colab_type": "code",
        "outputId": "e0d4a24e-a82d-4de9-8ea6-d0020f6f7e44",
        "colab": {
          "base_uri": "https://localhost:8080/",
          "height": 52
        }
      },
      "source": [
        "inp = int(input())\n",
        "Box = 0\n",
        "while True:\n",
        "    if (inp % 5) == 0:\n",
        "        Box = Box + (inp//5)\n",
        "        print(Box)\n",
        "        break\n",
        "    inp = inp-3\n",
        "    Box += 1\n",
        "    if inp < 0:\n",
        "        print(\"-1\")\n",
        "        break"
      ],
      "execution_count": 0,
      "outputs": [
        {
          "output_type": "stream",
          "text": [
            "4\n",
            "-1\n"
          ],
          "name": "stdout"
        }
      ]
    },
    {
      "cell_type": "code",
      "metadata": {
        "id": "w4_iv3f0Xrn3",
        "colab_type": "code",
        "outputId": "28435449-6319-44d9-c376-ca1c9cd99c96",
        "colab": {
          "base_uri": "https://localhost:8080/",
          "height": 52
        }
      },
      "source": [
        "def _2292():\n",
        "  getbee = int(input())\n",
        "  roomNum = 1\n",
        "  value = 1\n",
        "  n = 0\n",
        "\n",
        "  for i in range(getbee):\n",
        "    n = n + 1\n",
        "    value = 6 * n + 1\n",
        "    roomNum = roomNum + 1\n",
        "    if value >= getbee:\n",
        "      print(roomNum - 1)\n",
        "      break\n",
        "\n",
        "_2292()"
      ],
      "execution_count": 0,
      "outputs": [
        {
          "output_type": "stream",
          "text": [
            "9\n",
            "2\n"
          ],
          "name": "stdout"
        }
      ]
    },
    {
      "cell_type": "code",
      "metadata": {
        "id": "jpFeRAd7XrqJ",
        "colab_type": "code",
        "outputId": "bbbffbdf-8f14-49a5-a1fb-bbfb3a8bc2cc",
        "colab": {
          "base_uri": "https://localhost:8080/",
          "height": 140
        }
      },
      "source": [
        "N = int(input())\n",
        "\n",
        "for i in range(1, N + 1):\n",
        "  print(1 + (i * (i - 1) / 2), (i * (i + 1)) / 2)"
      ],
      "execution_count": 0,
      "outputs": [
        {
          "output_type": "stream",
          "text": [
            "6\n",
            "1.0 1.0\n",
            "2.0 3.0\n",
            "4.0 6.0\n",
            "7.0 10.0\n",
            "11.0 15.0\n",
            "16.0 21.0\n"
          ],
          "name": "stdout"
        }
      ]
    },
    {
      "cell_type": "code",
      "metadata": {
        "id": "PeMdxSvTl3rC",
        "colab_type": "code",
        "outputId": "17d99497-0fc5-4d6a-9d1e-b77f9ba9a401",
        "colab": {
          "base_uri": "https://localhost:8080/",
          "height": 105
        }
      },
      "source": [
        "for i in range(5):\n",
        "  print(' ' * (5 - i) + (2 * i + 1) * '*')"
      ],
      "execution_count": 0,
      "outputs": [
        {
          "output_type": "stream",
          "text": [
            "     *\n",
            "    ***\n",
            "   *****\n",
            "  *******\n",
            " *********\n"
          ],
          "name": "stdout"
        }
      ]
    },
    {
      "cell_type": "code",
      "metadata": {
        "id": "BjJ_atZEqaTn",
        "colab_type": "code",
        "outputId": "fdc65508-d2b3-4f4e-c9d3-b893a61ce0f6",
        "colab": {
          "base_uri": "https://localhost:8080/",
          "height": 122
        }
      },
      "source": [
        "N = int(input())\n",
        "for i in range(N):\n",
        "  left_space = ' ' * (N - i)\n",
        "  middle_space = ' ' * (2 * i - 1)\n",
        "  top = i + 1\n",
        "  left_wing = (2 * i) % 10\n",
        "  right_wing = (2 * i + 1) % 10\n",
        "  if i == 0:\n",
        "    print('{0}{1}'.format(left_space, top))\n",
        "  elif i == N - 1:\n",
        "    last = ''\n",
        "    for j in range(left_wing, 2 * left_wing + 1):\n",
        "      last = last + str(j % 10)\n",
        "    print(left_space + last)\n",
        "  else:\n",
        "    print('{0}{1}{2}{3}'.format(left_space, left_wing, middle_space, right_wing))"
      ],
      "execution_count": 0,
      "outputs": [
        {
          "output_type": "stream",
          "text": [
            "5\n",
            "     1\n",
            "    2 3\n",
            "   4   5\n",
            "  6     7\n",
            " 890123456\n"
          ],
          "name": "stdout"
        }
      ]
    },
    {
      "cell_type": "code",
      "metadata": {
        "id": "M7nFCggext64",
        "colab_type": "code",
        "outputId": "c4c6b025-214e-4989-ee62-d4e00d2f7a4d",
        "colab": {
          "base_uri": "https://localhost:8080/",
          "height": 34
        }
      },
      "source": [
        "b = ''\n",
        "for i in range(10):\n",
        "  b = b + str(i)\n",
        "print(b)"
      ],
      "execution_count": 0,
      "outputs": [
        {
          "output_type": "stream",
          "text": [
            "0123456789\n"
          ],
          "name": "stdout"
        }
      ]
    },
    {
      "cell_type": "code",
      "metadata": {
        "id": "-nkp2vxvAN8Z",
        "colab_type": "code",
        "outputId": "4bde0852-3528-4084-8732-c99de31016e4",
        "colab": {
          "base_uri": "https://localhost:8080/",
          "height": 52
        }
      },
      "source": [
        "A = []\n",
        "B = []\n",
        "n = 0\n",
        "\n",
        "inp = int(input())\n",
        "\n",
        "while inp > 0:\n",
        "  n = n + 1\n",
        "  inp = inp - n\n",
        "  \n",
        "  for i in range(1, n + 1):\n",
        "    a = i\n",
        "    A.append(a)\n",
        "  for i in range(n, 0, -1):\n",
        "    b = i\n",
        "    B.append(b)\n",
        "\n",
        "if inp % 2 == 0:\n",
        "  ans = str(A[inp - 1]) + '/' + str(B[inp - 1])\n",
        "  print(ans)\n",
        "else:\n",
        "  ans = str(B[inp - 1]) + '/' + str(A[inp - 1])\n",
        "  print(ans)"
      ],
      "execution_count": 0,
      "outputs": [
        {
          "output_type": "stream",
          "text": [
            "14\n",
            "2/4\n"
          ],
          "name": "stdout"
        }
      ]
    },
    {
      "cell_type": "code",
      "metadata": {
        "id": "x8pGKBOl0-5r",
        "colab_type": "code",
        "outputId": "945a4f02-78b8-44ac-9612-c67c4a452e29",
        "colab": {
          "base_uri": "https://localhost:8080/",
          "height": 386
        }
      },
      "source": [
        "inp = int(input())\n",
        "i = 0\n",
        "while inp > 0:\n",
        "    inp = inp - i\n",
        "    i = i + 1\n",
        "    \n",
        "inp = i + inp - 1\n",
        "res = str(inp) + '/' + str(i - inp)\n",
        "\n",
        "if i % 2 == 0:\n",
        "    res = str(i - inp) + '/' + str(inp)\n",
        "\n",
        "print(res)"
      ],
      "execution_count": 0,
      "outputs": [
        {
          "output_type": "stream",
          "text": [
            "14\n",
            "inp 14\n",
            "i 1\n",
            "inp 13\n",
            "i 2\n",
            "inp 11\n",
            "i 3\n",
            "inp 8\n",
            "i 4\n",
            "inp 4\n",
            "i 5\n",
            "inp -1\n",
            "i 6\n",
            "inp 4\n",
            "i 6\n",
            "inp 4\n",
            "i - inp 2\n",
            "i 6\n",
            "inp 4\n",
            "i - inp 2\n",
            "2/4\n"
          ],
          "name": "stdout"
        }
      ]
    },
    {
      "cell_type": "code",
      "metadata": {
        "id": "dG-3kFi-Loln",
        "colab_type": "code",
        "outputId": "367c0b8f-f459-49ce-8e58-2a4a63003a3c",
        "colab": {
          "base_uri": "https://localhost:8080/",
          "height": 52
        }
      },
      "source": [
        "day, night, height = map(int, input().split())\n",
        "\n",
        "\n",
        "take = 0\n",
        "cnt = 0\n",
        "while height !=  0:\n",
        "  cnt = cnt + 1\n",
        "  height = height - day\n",
        "  if height == 0:\n",
        "    break\n",
        "  height = height + night\n",
        "\n",
        "print(cnt)"
      ],
      "execution_count": 0,
      "outputs": [
        {
          "output_type": "stream",
          "text": [
            "2 1 5\n",
            "4\n"
          ],
          "name": "stdout"
        }
      ]
    },
    {
      "cell_type": "code",
      "metadata": {
        "id": "B5G37DHLRR_C",
        "colab_type": "code",
        "outputId": "891776b7-19bc-4ee2-f90c-ebbeb0529ed0",
        "colab": {
          "base_uri": "https://localhost:8080/",
          "height": 52
        }
      },
      "source": [
        "day, night, height = map(int, input().split())\n",
        " \n",
        "print((height - day) // (day - night) + 1 if (height - day) % (day - night) == 0 else (height - day) // (day - night) + 2)"
      ],
      "execution_count": 0,
      "outputs": [
        {
          "output_type": "stream",
          "text": [
            "2 1 5\n",
            "4\n"
          ],
          "name": "stdout"
        }
      ]
    },
    {
      "cell_type": "code",
      "metadata": {
        "id": "L4BaWAffSe43",
        "colab_type": "code",
        "outputId": "d815a713-9590-4128-e07f-70d8af000858",
        "colab": {
          "base_uri": "https://localhost:8080/",
          "height": 105
        }
      },
      "source": [
        "testdata = int(input())\n",
        "\n",
        "for i in range(testdata):\n",
        "  floor, room, guest_N = map(int, input().split())\n",
        "\n",
        "  n =  []\n",
        "  for i in range(1, room + 1):\n",
        "    for j in range(1, floor + 1):\n",
        "      if i // 10 == 0:\n",
        "        b = str(j) + '0' + str(i)\n",
        "        n.append(b)\n",
        "      else:\n",
        "        b = str(j) + str(i)\n",
        "        n.append(b)\n",
        "  print(n[guest_N - 1])"
      ],
      "execution_count": 0,
      "outputs": [
        {
          "output_type": "stream",
          "text": [
            "2\n",
            "6 12 10\n",
            "402\n",
            "30 50 72\n",
            "1203\n"
          ],
          "name": "stdout"
        }
      ]
    },
    {
      "cell_type": "code",
      "metadata": {
        "id": "9zihNfZkbE-O",
        "colab_type": "code",
        "colab": {}
      },
      "source": [
        "for _ in range(int(input())):\n",
        "    H, W, N = map(int, input().split())\n",
        "    a = N % H; b = N // H + 1\n",
        "    if a == 0 : a = H; b -= 1\n",
        "    print(a * 100 + b)\n",
        "\n",
        "\n",
        "# 출처: https://leedakyeong.tistory.com/entry/백준-10250번-ACM-호텔-in-python [슈퍼짱짱]"
      ],
      "execution_count": 0,
      "outputs": []
    },
    {
      "cell_type": "code",
      "metadata": {
        "id": "BCli07n6bzjf",
        "colab_type": "code",
        "outputId": "ff277398-f5cf-4b51-ed16-a41b9d75261d",
        "colab": {
          "base_uri": "https://localhost:8080/",
          "height": 210
        }
      },
      "source": [
        "# a층의 b호에 살려면 자신의 아래(a-1)층의 1호부터 b호까지 사람들의 수의 합만큼 사람들을 데려와 살아야 한다\n",
        "\n",
        "# k층에 n호에는 몇 명이 살고 있는지 출력\n",
        "\n",
        "# 단, 아파트에는 0층부터 있고 각층에는 1호부터 있으며, 0층의 i호에는 i명이 산다.\n",
        "\n",
        "#i+1#1 2 3 4\n",
        "#    0 1 2 3\n",
        "# 1 /1\n",
        "# 2 /2 3 4 5\n",
        "# 3 /3 6 10 15\n",
        "# 4 /4 10 20 35\n",
        "# 5 /5 15 25 50\n",
        "\n",
        "\n",
        "\n",
        "for _ in range(int(input())):\n",
        "    k = int(input()); n = int(input())\n",
        "    v = [i for i in range(1, n + 1)]\n",
        "    for _ in range(k):\n",
        "        for j in range(1, n):\n",
        "            v[j] += v[j - 1]\n",
        "    print(v[n - 1])\n",
        "\n",
        "\n",
        "# 출처: https://leedakyeong.tistory.com/entry/백준-2775번-부녀회장이-될테야-in-python-파이썬 [슈퍼짱짱]\n"
      ],
      "execution_count": 0,
      "outputs": [
        {
          "output_type": "stream",
          "text": [
            "2\n",
            "1\n",
            "3\n",
            "[1, 2, 3]\n",
            "[1, 3, 6]\n",
            "6\n",
            "2\n",
            "3\n",
            "[1, 2, 3]\n",
            "[1, 4, 10]\n",
            "10\n"
          ],
          "name": "stdout"
        }
      ]
    },
    {
      "cell_type": "code",
      "metadata": {
        "id": "xBXGuNQybzlw",
        "colab_type": "code",
        "outputId": "5a428e28-75d3-4c9a-c511-a7e538eeec5d",
        "colab": {
          "base_uri": "https://localhost:8080/",
          "height": 70
        }
      },
      "source": [
        "# 피보나치\n",
        "# 1 1 2 3 5 8 13 21 ...\n",
        "\n",
        "def _1003():\n",
        "  ans = 0\n",
        "  li = []\n",
        "\n",
        "  inp = int(input())\n",
        "\n",
        "  ans0 = 0\n",
        "  ans1 = 1\n",
        "  ans2 = 1\n",
        "\n",
        "  if inp == 0:\n",
        "    ans1 = ans1\n",
        "    ans2 = ans0\n",
        "\n",
        "  elif inp == 1:\n",
        "    ans1 = ans0\n",
        "    ans2 = ans1\n",
        "\n",
        "  elif inp == 2:\n",
        "    ans1 = ans1\n",
        "    ans2 = ans1\n",
        "\n",
        "  elif inp >= 3:\n",
        "    li = [0, 1, 1]\n",
        "    for _ in range(inp - 2):\n",
        "      ans = ans1 + ans2\n",
        "      ans1 = ans2\n",
        "      ans2 = ans\n",
        "      li.append(ans)\n",
        "  \n",
        "  print('{0} {1}'.format(ans1, ans2))\n",
        "\n",
        "for _ in range(int(input())):\n",
        "  _1003()\n"
      ],
      "execution_count": 0,
      "outputs": [
        {
          "output_type": "stream",
          "text": [
            "1\n",
            "0\n",
            "1 0\n"
          ],
          "name": "stdout"
        }
      ]
    },
    {
      "cell_type": "code",
      "metadata": {
        "id": "1H6QTlMtbzoF",
        "colab_type": "code",
        "outputId": "0221ad7a-d1e8-4d2b-dddd-2f83d368cb53",
        "colab": {
          "base_uri": "https://localhost:8080/",
          "height": 70
        }
      },
      "source": [
        "case = int(input())\n",
        "\n",
        "def fibonacci(i):\n",
        "    if i == 0:\n",
        "        print(1, 0)\n",
        "    elif i == 1:\n",
        "        print(0, 1)\n",
        "    elif i == 2:\n",
        "        print(1, 1)\n",
        "    else: \n",
        "        temp = 0\n",
        "        current = 1\n",
        "        before = 0\n",
        "        for j in range(i - 1):\n",
        "            temp = current\n",
        "            current = before + temp \n",
        "            before = temp\n",
        "        \n",
        "        print(before, current)\n",
        "\n",
        "for _ in range(case):\n",
        "    num = int(input())\n",
        "    fibonacci(num)"
      ],
      "execution_count": 0,
      "outputs": [
        {
          "output_type": "stream",
          "text": [
            "1\n",
            "5\n",
            "3 5\n"
          ],
          "name": "stdout"
        }
      ]
    },
    {
      "cell_type": "code",
      "metadata": {
        "id": "CJXS0GFMyxtn",
        "colab_type": "code",
        "outputId": "cb273a3d-c962-4618-ab52-9f1a1dd2407f",
        "colab": {
          "base_uri": "https://localhost:8080/",
          "height": 70
        }
      },
      "source": [
        "# 피보나치\n",
        "# 1 1 2 3 5 8 13 21 ...\n",
        "\n",
        "def _1003():\n",
        "    ans = 0\n",
        "    inp = int(input())\n",
        "    ans0 = 0\n",
        "    ans1 = 1\n",
        "    ans2 = 1\n",
        "    \n",
        "    if inp == 0:\n",
        "        ans1 = 1\n",
        "        ans2 = 0\n",
        "    elif inp == 1:\n",
        "        ans1 = 0\n",
        "        ans2 = 1\n",
        "    elif inp == 2:\n",
        "        ans1 = 1\n",
        "        ans2 = 1\n",
        "    elif inp >= 3:\n",
        "        for _ in range(inp - 2):\n",
        "            ans = ans1 + ans2\n",
        "            ans1 = ans2\n",
        "            ans2 = ans\n",
        "    print('{0} {1}'.format(ans1, ans2))\n",
        "\n",
        "for _ in range(int(input())):\n",
        "    _1003()"
      ],
      "execution_count": 0,
      "outputs": [
        {
          "output_type": "stream",
          "text": [
            "1\n",
            "5\n",
            "3 5\n"
          ],
          "name": "stdout"
        }
      ]
    },
    {
      "cell_type": "code",
      "metadata": {
        "id": "luA72Oo6zoGi",
        "colab_type": "code",
        "outputId": "5de486da-e6f8-4033-c1e4-62e2eef2fc2b",
        "colab": {
          "base_uri": "https://localhost:8080/",
          "height": 210
        }
      },
      "source": [
        "def _1009():\n",
        "  for _ in range(int(input())):\n",
        "    a, b = map(int, input().split())\n",
        "    last = a ** b % 10\n",
        "    print(last)\n",
        "\n",
        "_1009()"
      ],
      "execution_count": 0,
      "outputs": [
        {
          "output_type": "stream",
          "text": [
            "5\n",
            "1 6\n",
            "1\n",
            "3 7\n",
            "7\n",
            "6 2\n",
            "6\n",
            "7 100\n",
            "1\n",
            "9 635\n",
            "9\n"
          ],
          "name": "stdout"
        }
      ]
    },
    {
      "cell_type": "code",
      "metadata": {
        "id": "_8evN5RE1deX",
        "colab_type": "code",
        "colab": {}
      },
      "source": [
        "def solution():\n",
        "    result = []\n",
        "    A, B = map(int, input().split(' '))\n",
        "    C = 1\n",
        "    for i in range(0, B):\n",
        "        C = C * A\n",
        "        C = C % 10\n",
        "        if C in result:\n",
        "            break\n",
        "        result.append(C)\n",
        "\n",
        "    C = result[B % len(result)-1]\n",
        "\n",
        "    if C == 0:\n",
        "        print(10)\n",
        "    else :\n",
        "        print(C)\n",
        "T = int(input())\n",
        "\n",
        "for i in range(T):\n",
        "    solution()\n",
        "\n",
        "\n",
        "T = int(input())\n",
        "\n",
        "for _ in range(T):\n",
        "    a, b = map(int, input().split())\n",
        "    a = a % 10\n",
        "    \n",
        "    if a == 0:\n",
        "        print(10)\n",
        "    elif a == 1 or a == 5 or a == 6:\n",
        "        print(a)\n",
        "    elif a == 4 or a == 9:\n",
        "        b = b % 2\n",
        "        if b == 1:\n",
        "            print(a)\n",
        "        else:\n",
        "            print((a * a) % 10)\n",
        "    else:\n",
        "        b = b % 4\n",
        "        if b == 0:\n",
        "            print((a**4) % 10 % 10 % 10)\n",
        "        else:\n",
        "            print((a**b) % 10 % 10 % 10)"
      ],
      "execution_count": 0,
      "outputs": []
    },
    {
      "cell_type": "code",
      "metadata": {
        "id": "r-Kxd7yM2_dO",
        "colab_type": "code",
        "outputId": "460275d7-aee4-4d09-df55-53aa57c4bc80",
        "colab": {
          "base_uri": "https://localhost:8080/",
          "height": 140
        }
      },
      "source": [
        "# 틀림\n",
        "\n",
        "def _1010():\n",
        "  for _ in range(int(input())):\n",
        "    a, b = map(int, input().split())\n",
        "    \n",
        "    if a == b:\n",
        "      print(1)\n",
        "    else:\n",
        "      print(a * b)\n",
        "\n",
        "_1010()"
      ],
      "execution_count": 0,
      "outputs": [
        {
          "output_type": "stream",
          "text": [
            "3\n",
            "2 2\n",
            "1\n",
            "1 5\n",
            "5\n",
            "13 29\n",
            "377\n"
          ],
          "name": "stdout"
        }
      ]
    },
    {
      "cell_type": "code",
      "metadata": {
        "id": "AKibcbVD5-zl",
        "colab_type": "code",
        "colab": {}
      },
      "source": [
        "#1010\n",
        "\n",
        "def mCn():\n",
        "  T = int(input())\n",
        "  for _ in range(T):\n",
        "    m, n = map(int, input().split())\n",
        "    answer = 1\n",
        "    k = n - m\n",
        "    \n",
        "    while n > k:\n",
        "        answer *= n\n",
        "        n -= 1\n",
        "    while m > 1:\n",
        "        answer = answer // m\n",
        "        m -= 1\n",
        "    \n",
        "    print(answer)\n",
        "\n",
        "mCn()"
      ],
      "execution_count": 0,
      "outputs": []
    },
    {
      "cell_type": "code",
      "metadata": {
        "id": "vQGFLRZQ6y65",
        "colab_type": "code",
        "outputId": "013fc294-f57b-459a-c590-4ff48e4c5e12",
        "colab": {
          "base_uri": "https://localhost:8080/",
          "height": 193
        }
      },
      "source": [
        "#1018 - 어려움\n",
        "\n",
        "N, M = map(int, input().split())\n",
        "\n",
        "w = 1\n",
        "b = -1\n",
        "start_w = []\n",
        "start_b = []\n",
        "\n",
        "for m in range(M):\n",
        "  if m % 2 == 0:\n",
        "    start_w.append(w)\n",
        "    start_b.append(b)\n",
        "  if m % 2 != 0:\n",
        "    start_w.append(b)\n",
        "    start_b.append(w)\n",
        "\n",
        "map_w = []\n",
        "map_b = []\n",
        "for n in range(N):\n",
        "  if n % 2 == 0:\n",
        "    map_w.append(start_w)\n",
        "    map_b.append(start_b)\n",
        "  if n % 2 != 0:\n",
        "    map_w.append(start_b)\n",
        "    map_b.append(start_w)\n",
        "\n",
        "map_e = []\n",
        "for i in range(M):\n",
        "  inp = input().replace('W', '1 ').replace('B', '0 ').split()\n",
        "  k = []\n",
        "  for j in inp:\n",
        "    k.append(int(j))\n",
        "    map_e.append(k)\n",
        "  if map_e[0][0] == 1:\n",
        "    map_t = map_e[i] + map_w[i]\n",
        "    for j in map_t:\n",
        "      if 'o' in str(j):\n",
        "        cnt = cnt + 1\n",
        "\n",
        "  if map_e[0][0] == 0:\n",
        "    map_t = map_e[i] + map_b[i]\n",
        "    for j in map_t:\n",
        "      if '0' in str(j):\n",
        "        cnt = cnt + 1\n",
        "\n",
        "print(cnt)"
      ],
      "execution_count": 0,
      "outputs": [
        {
          "output_type": "stream",
          "text": [
            "8 8\n",
            "WBWBWBWB\n",
            "BWBWBWBW\n",
            "WBWBWBWB\n",
            "BWBBBWBW\n",
            "WBWBWBWB\n",
            "BWBWBWBW\n",
            "WBWBWBWB\n",
            "BWBWBWBW\n",
            "0\n"
          ],
          "name": "stdout"
        }
      ]
    },
    {
      "cell_type": "code",
      "metadata": {
        "id": "B5zKdA3v6zFM",
        "colab_type": "code",
        "colab": {}
      },
      "source": [
        "y_axis, x_axis = map(int, input().split())\n",
        "\n",
        "board = []\n",
        "for _ in range(y_axis):\n",
        "    board.append(list(map(str, list(input()))))\n",
        "    \n",
        "num_replaced_by_line_BW = [[0 for _ in range(x_axis)] for _ in range(y_axis)]\n",
        "num_replaced_by_line_WB = [[0 for _ in range(x_axis)] for _ in range(y_axis)]\n",
        "\n",
        "#BW테스트\n",
        "for i in range(x_axis):\n",
        "    for j in range(y_axis):\n",
        "        if (i + j) % 2 == 0:\n",
        "            if board[j][i] == 'B':\n",
        "                pass\n",
        "            else:\n",
        "                num_replaced_by_line_BW[j][i] += 1\n",
        "        else:\n",
        "            if board[j][i] == 'W':\n",
        "                pass\n",
        "            else:\n",
        "                num_replaced_by_line_BW[j][i] += 1\n",
        "\n",
        "#WB테스트 \n",
        "for i in range(x_axis):\n",
        "    for j in range(y_axis):\n",
        "        if (i + j) % 2 == 0:\n",
        "            if board[j][i] == 'W':\n",
        "                pass\n",
        "            else:\n",
        "                num_replaced_by_line_WB[j][i] += 1\n",
        "        else:\n",
        "            if board[j][i] == 'B':\n",
        "                pass\n",
        "            else:\n",
        "                num_replaced_by_line_WB[j][i] += 1\n",
        "\n",
        "#8x8 행렬 중 최소 값을 찾아내는 과정\n",
        "\n",
        "min_num = 64\n",
        "\n",
        "#BW판 최소값\n",
        "for i in range(7, x_axis) :\n",
        "    for j in range(7, y_axis):\n",
        "        sum_num = 0\n",
        "        for p in range(8):\n",
        "            for q in range(8):\n",
        "                if num_replaced_by_line_BW[j-q][i-p]:\n",
        "                    sum_num += 1\n",
        "        if sum_num <= min_num:\n",
        "            min_num = sum_num\n",
        "\n",
        "#WB판 최소값\n",
        "for i in range(7, x_axis) :\n",
        "    for j in range(7, y_axis):\n",
        "        sum_num = 0\n",
        "        for p in range(8):\n",
        "            for q in range(8):\n",
        "                if num_replaced_by_line_WB[j-q][i-p]:\n",
        "                    sum_num += 1\n",
        "        if sum_num <= min_num:\n",
        "            min_num = sum_num\n",
        "            \n",
        "print(int(min_num))"
      ],
      "execution_count": 0,
      "outputs": []
    },
    {
      "cell_type": "code",
      "metadata": {
        "id": "QTV5u0RJ6y_h",
        "colab_type": "code",
        "outputId": "13ba6253-c486-4057-dc75-a29033183c2d",
        "colab": {
          "base_uri": "https://localhost:8080/",
          "height": 210
        }
      },
      "source": [
        "# li = []\n",
        "# inp = int(input())\n",
        "# for i in range(inp):\n",
        "#   num = int(input())\n",
        "#   li.append(num)\n",
        "\n",
        "# li.sort()\n",
        "# for i in range(inp):\n",
        "#   print(li[i])\n",
        "\n",
        "\n",
        "N = int(input())\n",
        "\n",
        "li = []\n",
        "for i in range(N):\n",
        "  li.append(int(input()))\n",
        "li = sorted(li)\n",
        "for i in range(N):\n",
        "  print(li[i])\n"
      ],
      "execution_count": 0,
      "outputs": [
        {
          "output_type": "stream",
          "text": [
            "5\n",
            "5\n",
            "4\n",
            "3\n",
            "2\n",
            "1\n",
            "1\n",
            "2\n",
            "3\n",
            "4\n",
            "5\n"
          ],
          "name": "stdout"
        }
      ]
    },
    {
      "cell_type": "code",
      "metadata": {
        "id": "j-gKiRUd6y9h",
        "colab_type": "code",
        "outputId": "229de0a6-e859-4c2a-abf2-4edc131f655b",
        "colab": {
          "base_uri": "https://localhost:8080/",
          "height": 52
        }
      },
      "source": [
        "# 1463\n",
        "\n",
        "'''\n",
        "정수 X에 사용할 수 있는 연산은 다음과 같이 세 가지 이다.\n",
        "\n",
        "X가 3으로 나누어 떨어지면, 3으로 나눈다.\n",
        "X가 2로 나누어 떨어지면, 2로 나눈다.\n",
        "1을 뺀다.\n",
        "정수 N이 주어졌을 때, 위와 같은 연산 세 개를 적절히 사용해서 1을 만들려고 한다. 연산을 사용하는 횟수의 최솟값을 출력하시오.\n",
        "\n",
        "입력\n",
        "첫째 줄에 1보다 크거나 같고, 106보다 작거나 같은 정수 N이 주어진다.\n",
        "\n",
        "출력\n",
        "첫째 줄에 연산을 하는 횟수의 최솟값을 출력한다.\n",
        "'''\n",
        "\n",
        "N = int(input())\n",
        "\n",
        "cnt = 0\n",
        "while N != 1:\n",
        "  if N % 3 == 0:\n",
        "    N = N / 3\n",
        "  elif N % 2 ==0:\n",
        "    N = N / 2\n",
        "  else:\n",
        "    N = N - 1\n",
        "  cnt = cnt + 1\n",
        "print(cnt)"
      ],
      "execution_count": 0,
      "outputs": [
        {
          "output_type": "stream",
          "text": [
            "5\n",
            "3\n"
          ],
          "name": "stdout"
        }
      ]
    },
    {
      "cell_type": "code",
      "metadata": {
        "id": "P2QXfXlegmPb",
        "colab_type": "code",
        "colab": {}
      },
      "source": [
        "N = int(input())\n",
        "\n",
        "result = [0 for _ in range(N + 1)]\n",
        "\n",
        "for i in range(1, N + 1):\n",
        "    if i == 1:\n",
        "        result[i] = 0\n",
        "        continue\n",
        "    result[i] = result[i-1] + 1\n",
        "    if i % 3 == 0 and result[i//3] + 1 < result[i]:\n",
        "        result[i] = result[i//3] + 1\n",
        "    if i % 2 == 0 and result[i//2] + 1< result[i]:\n",
        "        result[i] = result[i//2] + 1\n",
        "        \n",
        "print(result[N])"
      ],
      "execution_count": 0,
      "outputs": []
    },
    {
      "cell_type": "code",
      "metadata": {
        "id": "3Ld0tThRhdpU",
        "colab_type": "code",
        "outputId": "1e188d4f-53c4-4cc7-988c-b11b9d760668",
        "colab": {
          "base_uri": "https://localhost:8080/",
          "height": 175
        }
      },
      "source": [
        "#1920 - 시간초과\n",
        "\n",
        "num1 = input()\n",
        "inp = input().split()\n",
        "\n",
        "num2 = input()\n",
        "com = input().split()\n",
        "\n",
        "for i in com:\n",
        "  print(1 if i in inp else 0)"
      ],
      "execution_count": 0,
      "outputs": [
        {
          "output_type": "stream",
          "text": [
            "5\n",
            "4 1 2 5 3\n",
            "5\n",
            "1 3 5 9 7\n",
            "1\n",
            "1\n",
            "1\n",
            "0\n",
            "0\n"
          ],
          "name": "stdout"
        }
      ]
    },
    {
      "cell_type": "code",
      "metadata": {
        "id": "aZHh3XEhkaxz",
        "colab_type": "code",
        "colab": {}
      },
      "source": [
        "def _1920():\n",
        "    N = int(input())\n",
        "    arrN = list(map(int, input().split(' ')))\n",
        "    M = int(input())\n",
        "    arrM = list(map(int, input().split(' ')))\n",
        "\n",
        "    arrN.sort()\n",
        "\n",
        "    for i in range(M):\n",
        "        flag = 0\n",
        "\n",
        "        left = 0\n",
        "        right = len(arrN)\n",
        "\n",
        "        while left < right:\n",
        "            mid = (left + right) // 2\n",
        "\n",
        "            if left == mid and arrM[i] != arrN[mid]:\n",
        "                break\n",
        "\n",
        "            if arrM[i] > arrN[mid]:\n",
        "                left = mid\n",
        "            elif arrM[i] < arrN[mid]:\n",
        "                right = mid\n",
        "            elif arrM[i] == arrN[mid]:\n",
        "                flag = 1\n",
        "                print(1)\n",
        "                break\n",
        "\n",
        "\n",
        "        if flag == 0:\n",
        "            print(0)\n",
        "_1920()"
      ],
      "execution_count": 0,
      "outputs": []
    },
    {
      "cell_type": "code",
      "metadata": {
        "id": "0_NkCid8mQsS",
        "colab_type": "code",
        "outputId": "2ceacf7f-ea93-43c0-b53d-3cca835e0c3f",
        "colab": {
          "base_uri": "https://localhost:8080/",
          "height": 246
        }
      },
      "source": [
        ""
      ],
      "execution_count": 0,
      "outputs": [
        {
          "output_type": "stream",
          "text": [
            "4 2\n",
            "1\n",
            "1 \n",
            "2\n",
            "2\n",
            "2 \n",
            "3\n",
            "3\n",
            "3 \n",
            "4\n",
            "4\n",
            "4 \n",
            "5\n"
          ],
          "name": "stdout"
        }
      ]
    }
  ]
}