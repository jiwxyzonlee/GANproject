{
 "cells": [
  {
   "cell_type": "code",
   "execution_count": 2,
   "metadata": {},
   "outputs": [
    {
     "name": "stderr",
     "output_type": "stream",
     "text": [
      "Using TensorFlow backend.\n"
     ]
    }
   ],
   "source": [
    "from __future__ import print_function\n",
    "from keras.models import Sequential, Model\n",
    "from keras.layers import Input, Reshape, Dense, Dropout, MaxPooling2D, Conv2D, Flatten\n",
    "from keras.layers import Conv2DTranspose, LeakyReLU\n",
    "from keras.layers.core import Activation\n",
    "from keras.layers.normalization import BatchNormalization\n",
    "from keras.optimizers import Adam, RMSprop\n",
    "from keras import backend as K\n",
    "from keras import initializers\n",
    "import tensorflow as tf\n",
    "import numpy as np\n",
    "from tqdm import tqdm\n",
    "import cv2\n",
    "import math\n",
    "\n",
    "from keras.datasets import mnist\n",
    "\n",
    "import os\n",
    "\n",
    "from keras.utils.vis_utils import plot_model\n",
    "from keras.utils.generic_utils import Progbar\n",
    "\n",
    "import matplotlib.pyplot as plt"
   ]
  },
  {
   "cell_type": "code",
   "execution_count": 20,
   "metadata": {},
   "outputs": [
    {
     "name": "stdout",
     "output_type": "stream",
     "text": [
      "Collecting pydot-ng\n",
      "  Downloading pydot_ng-2.0.0-py2.py3-none-any.whl (20 kB)\n",
      "Requirement already satisfied: pyparsing>=2.0.1 in c:\\users\\user\\anaconda3\\lib\\site-packages (from pydot-ng) (2.4.6)\n",
      "Installing collected packages: pydot-ng\n",
      "Successfully installed pydot-ng-2.0.0\n",
      "Note: you may need to restart the kernel to use updated packages.\n"
     ]
    }
   ],
   "source": [
    "#pip install pydot-ng"
   ]
  },
  {
   "cell_type": "code",
   "execution_count": 21,
   "metadata": {},
   "outputs": [
    {
     "name": "stdout",
     "output_type": "stream",
     "text": [
      "Collecting graphviz\n",
      "  Downloading graphviz-0.14-py2.py3-none-any.whl (18 kB)\n",
      "Installing collected packages: graphviz\n",
      "Successfully installed graphviz-0.14\n",
      "Note: you may need to restart the kernel to use updated packages.\n"
     ]
    }
   ],
   "source": [
    "#pip install graphviz"
   ]
  },
  {
   "cell_type": "code",
   "execution_count": 22,
   "metadata": {},
   "outputs": [
    {
     "name": "stdout",
     "output_type": "stream",
     "text": [
      "Collecting pydot==1.2.3\n",
      "  Downloading pydot-1.2.3.tar.gz (20 kB)\n",
      "Requirement already satisfied: pyparsing>=2.1.4 in c:\\users\\user\\anaconda3\\lib\\site-packages (from pydot==1.2.3) (2.4.6)\n",
      "Building wheels for collected packages: pydot\n",
      "  Building wheel for pydot (setup.py): started\n",
      "  Building wheel for pydot (setup.py): finished with status 'done'\n",
      "  Created wheel for pydot: filename=pydot-1.2.3-py3-none-any.whl size=18931 sha256=719dfeeb0c2cb3db3d6c064767749262f60649e615641978958540bf6e407f81\n",
      "  Stored in directory: c:\\users\\user\\appdata\\local\\pip\\cache\\wheels\\94\\a8\\4b\\d76c975fd000ecff606a1b170d541bbef0f6429fe1084dcb49\n",
      "Successfully built pydot\n",
      "Installing collected packages: pydot\n",
      "Successfully installed pydot-1.2.3\n",
      "Note: you may need to restart the kernel to use updated packages.\n"
     ]
    }
   ],
   "source": [
    "#pip install pydot==1.2.3"
   ]
  },
  {
   "cell_type": "code",
   "execution_count": 3,
   "metadata": {},
   "outputs": [],
   "source": [
    "def load_mnist_data():\n",
    "    \"\"\" load mnist data \"\"\"\n",
    "    (X_train, Y_train), (X_test, Y_test) = mnist.load_data()\n",
    "    X_train = (X_train.astype(np.float32) - 127.5) / 127.5\n",
    "    X_test = (X_test.astype(np.float32) - 127.5) / 127.5\n",
    "\n",
    "    X_train = X_train[:,:,:,None]\n",
    "    X_test = X_test[:,:,:,None]\n",
    "\n",
    "    X_test_original = X_test.copy()\n",
    "\n",
    "    #X_train = X_train[Y_train==0]\n",
    "    #X_test = X_test[Y_test==0]\n",
    "    print('train shape: ', X_train.shape)\n",
    "\n",
    "    return X_train, X_test, X_test_original, Y_test "
   ]
  },
  {
   "cell_type": "code",
   "execution_count": 4,
   "metadata": {},
   "outputs": [],
   "source": [
    "\"\"\" build generator model \"\"\"\n",
    "def generator_model(z_dim, imgsize, channels): \n",
    "    col = int(imgsize / 4)\n",
    "    inputs = Input((z_dim, ))\n",
    "    fc1 = Dense(input_dim=z_dim, units=128*col*col)(inputs)\n",
    "    fc1 = BatchNormalization()(fc1)\n",
    "    fc1 = LeakyReLU(0.2)(fc1)\n",
    "\n",
    "    fc2 = Reshape((col, col, 128), input_shape=(128*col*col,))(fc1)\n",
    "    up1 = Conv2DTranspose(64, (2, 2), strides=(2, 2), padding='same')(fc2)\n",
    "    conv1 = Conv2D(64, (3,3), padding='same')(up1)\n",
    "    conv1 = BatchNormalization()(conv1)\n",
    "    conv1 = Activation('relu')(conv1)\n",
    "\n",
    "    up2 = Conv2DTranspose(64, (2, 2), strides=(2, 2), padding='same')(conv1)\n",
    "    conv2 = Conv2D(channels, (5, 5), padding='same')(up2)\n",
    "    outputs = Activation('tanh')(conv2)\n",
    "\n",
    "    model = Model(inputs=[inputs], outputs=[outputs])\n",
    "    model.summary()\n",
    "\n",
    "    return model"
   ]
  },
  {
   "cell_type": "code",
   "execution_count": 5,
   "metadata": {},
   "outputs": [],
   "source": [
    "\"\"\" build discriminator model \"\"\"\n",
    "def discriminator_model(img_size, channels):\n",
    "    inputs = Input((img_size, img_size, channels))\n",
    "\n",
    "    conv1 = Conv2D(64, (5,5), padding='same')(inputs)\n",
    "    conv1 = LeakyReLU(0.2)(conv1)\n",
    "    pool1 = MaxPooling2D(pool_size=(2,2))(conv1)\n",
    "\n",
    "    conv2 = Conv2D(128, (5,5), padding='same')(pool1)\n",
    "    conv2 = LeakyReLU(0.2)(conv2)\n",
    "    pool2 = MaxPooling2D(pool_size=(2,2))(conv2)\n",
    "\n",
    "    fc1 = Flatten()(pool2)\n",
    "    fc1 = Dense(1)(fc1)\n",
    "    outputs = Activation('sigmoid')(fc1)\n",
    "\n",
    "    model = Model(inputs=[inputs], outputs=[outputs])\n",
    "    model.summary()\n",
    "\n",
    "    return model"
   ]
  },
  {
   "cell_type": "code",
   "execution_count": 6,
   "metadata": {},
   "outputs": [],
   "source": [
    "def generator_containg_discriminator(g, d, z_dim):\n",
    "    d.trainable = False\n",
    "\n",
    "    ganInput = Input(shape=(z_dim, ))\n",
    "    x = g(ganInput)\n",
    "    ganOutput = d(x)\n",
    "    gan = Model(inputs=ganInput, outputs=ganOutput)\n",
    "\n",
    "    return gan"
   ]
  },
  {
   "cell_type": "code",
   "execution_count": 7,
   "metadata": {},
   "outputs": [],
   "source": [
    "class DCGAN():\n",
    "    def __init__(self, imgsize,channels,zdims,epoch,batchsize):\n",
    "\n",
    "        self.img_size = imgsize\n",
    "        self.channels = channels\n",
    "        self.z_dim = zdims\n",
    "        self.epochs = epoch\n",
    "        self.batch_size = batchsize\n",
    "\n",
    "        self.d_opt = Adam(lr=1e-5, beta_1=0.1)\n",
    "        self.g_opt = Adam(lr=2e-4, beta_1=0.5)\n",
    "\n",
    "        if not os.path.exists('./result/'):\n",
    "            os.makedirs('./result/')\n",
    "        if not os.path.exists('./model_images/'):\n",
    "            os.makedirs('./model_images/')\n",
    "\n",
    "        \"\"\" build discriminator model \"\"\"\n",
    "        self.d = discriminator_model(self.img_size, self.channels)\n",
    "        plot_model(self.d, to_file='./model_images/discriminator.png', show_shapes=True)\n",
    "\n",
    "        \"\"\" build generator model \"\"\"\n",
    "        self.g = generator_model(self.z_dim, self.img_size, self.channels)\n",
    "        plot_model(self.g, to_file='./model_images/generator.png', show_shapes=True)\n",
    "\n",
    "        \"\"\" discriminator on generator model \"\"\"\n",
    "        self.d_on_g = generator_containg_discriminator(self.g, self.d, self.z_dim)\n",
    "        plot_model(self.d_on_g, to_file='./model_images/d_on_g.png', show_shapes=True)\n",
    "\n",
    "        self.g.compile(loss='mse', optimizer=self.g_opt)\n",
    "        self.d_on_g.compile(loss='mse', optimizer=self.g_opt)\n",
    "        self.d.trainable = True\n",
    "        self.d.compile(loss='mse', optimizer=self.d_opt)\n",
    "\n",
    "    \"\"\" plot images for visualization \"\"\"\n",
    "    def plot_generate_images(self, gen_images):\n",
    "        num = gen_images.shape[0]\n",
    "        width = int(math.sqrt(num))\n",
    "        height = int(math.ceil(float(num)/width))\n",
    "        shape = gen_images.shape[1:4]\n",
    "        image = np.zeros((height*shape[0], width*shape[1], shape[2]),\n",
    "                            dtype=gen_images.dtype)\n",
    "        for index, img in enumerate(gen_images):\n",
    "            i = int(index/width)\n",
    "            j = index % width\n",
    "            image[i*shape[0]:(i+1)*shape[0], j*shape[1]:(j+1)*shape[1], :] = img[:, :, :]\n",
    "        return image\n",
    "\n",
    "    \"\"\" generate image \"\"\"\n",
    "    def generate(self, batch_size):\n",
    "        self.g.load_weights('./saved_model/generator.h5')\n",
    "        noise = np.random.uniform(0, 1, (batch_size, self.z_dim))\n",
    "        generate_img = self.g.predict(noise)\n",
    "\n",
    "        return generate_img\n",
    "\n",
    "    def train(self, X_train):\n",
    "        for epoch in range(self.epochs):\n",
    "            print (\"Epoch is \", epoch)\n",
    "            n_iter = int(X_train.shape[0] / self.batch_size)\n",
    "            progress_bar = Progbar(target=n_iter)\n",
    "\n",
    "            for index in range(n_iter):\n",
    "                # create random noise -> U(0,1) 10 vactors\n",
    "                noise = np.random.uniform(0, 1, size=(self.batch_size, self.z_dim))\n",
    "\n",
    "                \"\"\" load real data & generate fake data \"\"\"\n",
    "                image_batch = X_train[index*self.batch_size:(index+1)*self.batch_size]\n",
    "                gen_images = self.g.predict(noise, verbose=0)\n",
    "\n",
    "                # visualize training result\n",
    "                if index % 50 == 0:\n",
    "                    image = self.plot_generate_images(gen_images)\n",
    "                    image =  image*127.5+127.5\n",
    "                    cv2.imwrite('./result/' + str(epoch)+\"_\"+str(index)+ \".png\", image )\n",
    "\n",
    "                # attach label for training discriminator\n",
    "                X = np.concatenate((image_batch, gen_images))\n",
    "                y = np.array([1] * self.batch_size + [0] * self.batch_size)\n",
    "\n",
    "                \"\"\" training discriminator \"\"\"\n",
    "                d_loss = self.d.train_on_batch(X, y)\n",
    "\n",
    "                \"\"\" training generator \"\"\"\n",
    "                self.d.trainable = False\n",
    "                g_loss = self.d_on_g.train_on_batch(noise, np.array([1] * self.batch_size))\n",
    "                self.d.trainable = True\n",
    "\n",
    "                progress_bar.update(index, values=[('g', g_loss), ('d', d_loss)])\n",
    "            print('')\n",
    "\n",
    "            \"\"\" save weights for each epoch \"\"\"\n",
    "            if not os.path.exists('./saved_model/'):\n",
    "                os.makedirs('./saved_model/')\n",
    "            self.g.save_weights('./saved_model/generator.h5', True)\n",
    "            self.d.save_weights('./saved_model/discriminator.h5',True)\n",
    "\n",
    "        return self.d, self.g"
   ]
  },
  {
   "cell_type": "code",
   "execution_count": 8,
   "metadata": {
    "scrolled": true
   },
   "outputs": [
    {
     "name": "stdout",
     "output_type": "stream",
     "text": [
      "initialize DCGAN \n",
      "Model: \"model_1\"\n",
      "_________________________________________________________________\n",
      "Layer (type)                 Output Shape              Param #   \n",
      "=================================================================\n",
      "input_1 (InputLayer)         (None, 28, 28, 1)         0         \n",
      "_________________________________________________________________\n",
      "conv2d_1 (Conv2D)            (None, 28, 28, 64)        1664      \n",
      "_________________________________________________________________\n",
      "leaky_re_lu_1 (LeakyReLU)    (None, 28, 28, 64)        0         \n",
      "_________________________________________________________________\n",
      "max_pooling2d_1 (MaxPooling2 (None, 14, 14, 64)        0         \n",
      "_________________________________________________________________\n",
      "conv2d_2 (Conv2D)            (None, 14, 14, 128)       204928    \n",
      "_________________________________________________________________\n",
      "leaky_re_lu_2 (LeakyReLU)    (None, 14, 14, 128)       0         \n",
      "_________________________________________________________________\n",
      "max_pooling2d_2 (MaxPooling2 (None, 7, 7, 128)         0         \n",
      "_________________________________________________________________\n",
      "flatten_1 (Flatten)          (None, 6272)              0         \n",
      "_________________________________________________________________\n",
      "dense_1 (Dense)              (None, 1)                 6273      \n",
      "_________________________________________________________________\n",
      "activation_1 (Activation)    (None, 1)                 0         \n",
      "=================================================================\n",
      "Total params: 212,865\n",
      "Trainable params: 212,865\n",
      "Non-trainable params: 0\n",
      "_________________________________________________________________\n",
      "Model: \"model_2\"\n",
      "_________________________________________________________________\n",
      "Layer (type)                 Output Shape              Param #   \n",
      "=================================================================\n",
      "input_2 (InputLayer)         (None, 100)               0         \n",
      "_________________________________________________________________\n",
      "dense_2 (Dense)              (None, 6272)              633472    \n",
      "_________________________________________________________________\n",
      "batch_normalization_1 (Batch (None, 6272)              25088     \n",
      "_________________________________________________________________\n",
      "leaky_re_lu_3 (LeakyReLU)    (None, 6272)              0         \n",
      "_________________________________________________________________\n",
      "reshape_1 (Reshape)          (None, 7, 7, 128)         0         \n",
      "_________________________________________________________________\n",
      "conv2d_transpose_1 (Conv2DTr (None, 14, 14, 64)        32832     \n",
      "_________________________________________________________________\n",
      "conv2d_3 (Conv2D)            (None, 14, 14, 64)        36928     \n",
      "_________________________________________________________________\n",
      "batch_normalization_2 (Batch (None, 14, 14, 64)        256       \n",
      "_________________________________________________________________\n",
      "activation_2 (Activation)    (None, 14, 14, 64)        0         \n",
      "_________________________________________________________________\n",
      "conv2d_transpose_2 (Conv2DTr (None, 28, 28, 64)        16448     \n",
      "_________________________________________________________________\n",
      "conv2d_4 (Conv2D)            (None, 28, 28, 1)         1601      \n",
      "_________________________________________________________________\n",
      "activation_3 (Activation)    (None, 28, 28, 1)         0         \n",
      "=================================================================\n",
      "Total params: 746,625\n",
      "Trainable params: 733,953\n",
      "Non-trainable params: 12,672\n",
      "_________________________________________________________________\n",
      "train shape:  (60000, 28, 28, 1)\n",
      "============ train on DCGAN ============\n",
      "Epoch is  0\n",
      "935/937 [============================>.] - ETA: 0s - g: 0.0929 - d: 0.1562\n",
      "Epoch is  1\n",
      "936/937 [============================>.] - ETA: 0s - g: 0.1921 - d: 0.2582\n",
      "Epoch is  2\n",
      "935/937 [============================>.] - ETA: 0s - g: 0.2275 - d: 0.2405\n",
      "Epoch is  3\n",
      "935/937 [============================>.] - ETA: 0s - g: 0.2387 - d: 0.2340\n",
      "Epoch is  4\n",
      "935/937 [============================>.] - ETA: 0s - g: 0.2474 - d: 0.2324 ETA: 0s - g: 0.2474 - d: 0.23\n",
      "Epoch is  5\n",
      "935/937 [============================>.] - ETA: 0s - g: 0.2471 - d: 0.2368\n",
      "Epoch is  6\n",
      "936/937 [============================>.] - ETA: 0s - g: 0.2480 - d: 0.2393\n",
      "Epoch is  7\n",
      "935/937 [============================>.] - ETA: 0s - g: 0.2487 - d: 0.2398\n",
      "Epoch is  8\n",
      "936/937 [============================>.] - ETA: 0s - g: 0.2505 - d: 0.2419\n",
      "Epoch is  9\n",
      "935/937 [============================>.] - ETA: 0s - g: 0.2515 - d: 0.2412\n"
     ]
    },
    {
     "data": {
      "image/png": "[encoded data removed]",
      "text/plain": [
       "<Figure size 288x288 with 1 Axes>"
      ]
     },
     "metadata": {
      "needs_background": "light"
     },
     "output_type": "display_data"
    }
   ],
   "source": [
    "print(\"initialize DCGAN \")\n",
    "imgsize = 28\n",
    "channels = 1\n",
    "zdims = 100\n",
    "epoch = 10\n",
    "batchsize = 64\n",
    "dcgan = DCGAN(imgsize,channels,zdims,epoch,batchsize)\n",
    "\n",
    "X_train, X_test, X_test_original, Y_test = load_mnist_data()\n",
    "\n",
    "print ('============ train on DCGAN ============')\n",
    "dcgan.train(X_train)\n",
    "\n",
    "\"\"\" test generator \"\"\"\n",
    "gen_img = dcgan.generate(25)\n",
    "img = dcgan.plot_generate_images(gen_img)\n",
    "img = (img*127.5)+127.5\n",
    "img = img.astype(np.uint8)\n",
    "img = cv2.resize(img, None, fx=4, fy=4, interpolation=cv2.INTER_NEAREST)\n",
    "\n",
    "\"\"\" plt view \"\"\"\n",
    "plt.figure(num=0, figsize=(4, 4))\n",
    "plt.title('trained generator')\n",
    "plt.imshow(img, cmap=plt.cm.gray)\n",
    "plt.show()"
   ]
  },
  {
   "cell_type": "code",
   "execution_count": 25,
   "metadata": {},
   "outputs": [],
   "source": [
    "ruined = X_train[:1000].copy()\n",
    "normal = X_train[1000:2000].copy()"
   ]
  },
  {
   "cell_type": "code",
   "execution_count": 30,
   "metadata": {},
   "outputs": [],
   "source": [
    "ruined[:,3,5:15] = 1\n",
    "ruined[:,1:10,5:10] = 1"
   ]
  },
  {
   "cell_type": "code",
   "execution_count": 31,
   "metadata": {},
   "outputs": [
    {
     "data": {
      "text/plain": [
       "<matplotlib.image.AxesImage at 0x270db6aca48>"
      ]
     },
     "execution_count": 31,
     "metadata": {},
     "output_type": "execute_result"
    },
    {
     "data": {
      "image/png": "[encoded data removed]",
      "text/plain": [
       "<Figure size 432x288 with 1 Axes>"
      ]
     },
     "metadata": {
      "needs_background": "light"
     },
     "output_type": "display_data"
    }
   ],
   "source": [
    "plt.imshow(ruined[0].reshape((28,28)), cmap='gray')"
   ]
  },
  {
   "cell_type": "code",
   "execution_count": 33,
   "metadata": {},
   "outputs": [],
   "source": [
    "predicted_normal = dcgan.d.predict(normal)\n",
    "predicted_ruined = dcgan.d.predict(ruined)"
   ]
  },
  {
   "cell_type": "code",
   "execution_count": 29,
   "metadata": {},
   "outputs": [
    {
     "data": {
      "image/png": "[encoded data removed]",
      "text/plain": [
       "<Figure size 432x288 with 1 Axes>"
      ]
     },
     "metadata": {
      "needs_background": "light"
     },
     "output_type": "display_data"
    },
    {
     "data": {
      "image/png": "[encoded data removed]",
      "text/plain": [
       "<Figure size 432x288 with 1 Axes>"
      ]
     },
     "metadata": {
      "needs_background": "light"
     },
     "output_type": "display_data"
    }
   ],
   "source": [
    "import matplotlib.pyplot as plt\n",
    "\n",
    "plt.hist(predicted_normal, bins=50, range=(0,1))\n",
    "plt.gca().set(title='Frequency Histogram', ylabel='Frequency');\n",
    "plt.show()\n",
    "\n",
    "plt.hist(predicted_ruined, bins=50, range=(0,1))\n",
    "plt.gca().set(title='Frequency Histogram', ylabel='Frequency');\n"
   ]
  },
  {
   "cell_type": "code",
   "execution_count": 34,
   "metadata": {},
   "outputs": [
    {
     "data": {
      "image/png": "[encoded data removed]",
      "text/plain": [
       "<Figure size 432x288 with 1 Axes>"
      ]
     },
     "metadata": {
      "needs_background": "light"
     },
     "output_type": "display_data"
    },
    {
     "data": {
      "image/png": "[encoded data removed]",
      "text/plain": [
       "<Figure size 432x288 with 1 Axes>"
      ]
     },
     "metadata": {
      "needs_background": "light"
     },
     "output_type": "display_data"
    }
   ],
   "source": [
    "import matplotlib.pyplot as plt\n",
    "\n",
    "plt.hist(predicted_normal, bins=50, range=(0,1))\n",
    "plt.gca().set(title='Frequency Histogram', ylabel='Frequency');\n",
    "plt.show()\n",
    "\n",
    "plt.hist(predicted_ruined, bins=50, range=(0,1))\n",
    "plt.gca().set(title='Frequency Histogram', ylabel='Frequency');\n"
   ]
  },
  {
   "cell_type": "code",
   "execution_count": 35,
   "metadata": {},
   "outputs": [
    {
     "name": "stdout",
     "output_type": "stream",
     "text": [
      "[[0.5499465 ]\n",
      " [0.5768991 ]\n",
      " [0.47738972]\n",
      " [0.608556  ]\n",
      " [0.46044612]\n",
      " [0.5836755 ]\n",
      " [0.50669247]\n",
      " [0.50132823]\n",
      " [0.5773849 ]\n",
      " [0.5532083 ]]\n"
     ]
    }
   ],
   "source": [
    "print(predicted_normal[:10])"
   ]
  },
  {
   "cell_type": "code",
   "execution_count": null,
   "metadata": {},
   "outputs": [],
   "source": []
  }
 ],
 "metadata": {
  "kernelspec": {
   "display_name": "mnist_pro_kernel",
   "language": "python",
   "name": "mnist_pro"
  },
  "language_info": {
   "codemirror_mode": {
    "name": "ipython",
    "version": 3
   },
   "file_extension": ".py",
   "mimetype": "text/x-python",
   "name": "python",
   "nbconvert_exporter": "python",
   "pygments_lexer": "ipython3",
   "version": "3.7.7"
  }
 },
 "nbformat": 4,
 "nbformat_minor": 4
}
