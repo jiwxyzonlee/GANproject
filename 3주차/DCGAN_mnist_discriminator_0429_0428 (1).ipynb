{
 "cells": [
  {
   "cell_type": "markdown",
   "metadata": {},
   "source": [
    "copied and edited from:\\\n",
    "https://machinelearningmastery.com/how-to-develop-a-generative-adversarial-network-for-an-mnist-handwritten-digits-from-scratch-in-keras/"
   ]
  },
  {
   "cell_type": "code",
   "execution_count": 2,
   "metadata": {},
   "outputs": [
    {
     "name": "stdout",
     "output_type": "stream",
     "text": [
      "[name: \"/device:CPU:0\"\n",
      "device_type: \"CPU\"\n",
      "memory_limit: 268435456\n",
      "locality {\n",
      "}\n",
      "incarnation: 7656803756757358178\n",
      ", name: \"/device:GPU:0\"\n",
      "device_type: \"GPU\"\n",
      "memory_limit: 6686252073\n",
      "locality {\n",
      "  bus_id: 1\n",
      "  links {\n",
      "  }\n",
      "}\n",
      "incarnation: 6189101227613999903\n",
      "physical_device_desc: \"device: 0, name: GeForce GTX 1070, pci bus id: 0000:01:00.0, compute capability: 6.1\"\n",
      "]\n"
     ]
    }
   ],
   "source": [
    "# How to check if the code is running on GPU or CPU?\n",
    "\n",
    "from tensorflow.python.client import device_lib\n",
    "\n",
    "print(device_lib.list_local_devices())"
   ]
  },
  {
   "cell_type": "code",
   "execution_count": 2,
   "metadata": {},
   "outputs": [
    {
     "name": "stdout",
     "output_type": "stream",
     "text": [
      "Tue Apr 28 13:59:00 2020       \n",
      "+-----------------------------------------------------------------------------+\n",
      "| NVIDIA-SMI 432.00       Driver Version: 432.00       CUDA Version: 10.1     |\n",
      "|-------------------------------+----------------------+----------------------+\n",
      "| GPU  Name            TCC/WDDM | Bus-Id        Disp.A | Volatile Uncorr. ECC |\n",
      "| Fan  Temp  Perf  Pwr:Usage/Cap|         Memory-Usage | GPU-Util  Compute M. |\n",
      "|===============================+======================+======================|\n",
      "|   0  GeForce GTX 1070   WDDM  | 00000000:01:00.0  On |                  N/A |\n",
      "| 50%   62C    P2    37W / 151W |    544MiB /  8192MiB |      1%      Default |\n",
      "+-------------------------------+----------------------+----------------------+\n",
      "                                                                               \n",
      "+-----------------------------------------------------------------------------+\n",
      "| Processes:                                                       GPU Memory |\n",
      "|  GPU       PID   Type   Process name                             Usage      |\n",
      "|=============================================================================|\n",
      "|    0      2948    C+G   ...54.91.0_x64__kzf8qxf38zg5c\\SkypeApp.exe N/A      |\n",
      "|    0      3136    C+G   ...xperience\\NVIDIA GeForce Experience.exe N/A      |\n",
      "|    0      3400      C   ...mData\\Anaconda3\\envs\\project\\python.exe N/A      |\n",
      "|    0      4680    C+G   ...1.85.0_x64__8wekyb3d8bbwe\\YourPhone.exe N/A      |\n",
      "|    0      4964    C+G   ...5n1h2txyewy\\StartMenuExperienceHost.exe N/A      |\n",
      "|    0      5144    C+G   ...x64__8wekyb3d8bbwe\\Microsoft.Photos.exe N/A      |\n",
      "|    0      5676    C+G   C:\\Windows\\explorer.exe                    N/A      |\n",
      "|    0      6576    C+G   ...9.0_x64__8wekyb3d8bbwe\\WinStore.App.exe N/A      |\n",
      "|    0      6612    C+G   ...6)\\Google\\Chrome\\Application\\chrome.exe N/A      |\n",
      "|    0      6812    C+G   ...dows.Cortana_cw5n1h2txyewy\\SearchUI.exe N/A      |\n",
      "|    0      8556    C+G   ...hell.Experiences.TextInput.InputApp.exe N/A      |\n",
      "|    0      8564    C+G   ...t_cw5n1h2txyewy\\ShellExperienceHost.exe N/A      |\n",
      "|    0      9148    C+G   ...mmersiveControlPanel\\SystemSettings.exe N/A      |\n",
      "|    0      9288    C+G   ...DIA GeForce Experience\\NVIDIA Share.exe N/A      |\n",
      "|    0     11044    C+G   Insufficient Permissions                   N/A      |\n",
      "+-----------------------------------------------------------------------------+\n"
     ]
    }
   ],
   "source": [
    "!nvidia-smi"
   ]
  },
  {
   "cell_type": "code",
   "execution_count": 1,
   "metadata": {},
   "outputs": [
    {
     "name": "stderr",
     "output_type": "stream",
     "text": [
      "Using TensorFlow backend.\n"
     ]
    }
   ],
   "source": [
    "# example of training a gan on mnist\n",
    "from numpy import expand_dims\n",
    "from numpy import zeros\n",
    "from numpy import ones\n",
    "from numpy import vstack\n",
    "from numpy.random import randn\n",
    "from numpy.random import randint\n",
    "from keras.datasets.mnist import load_data\n",
    "from keras.optimizers import Adam\n",
    "from keras.models import Sequential\n",
    "from keras.layers import Dense\n",
    "from keras.layers import Reshape\n",
    "from keras.layers import Flatten\n",
    "from keras.layers import Conv2D\n",
    "from keras.layers import Conv2DTranspose\n",
    "from keras.layers import LeakyReLU\n",
    "from keras.layers import Dropout\n",
    "from matplotlib import pyplot\n",
    "\n",
    "# define the standalone discriminator model\n",
    "def define_discriminator(in_shape=(28,28,1)):\n",
    "    model = Sequential()\n",
    "    model.add(Conv2D(64, (3,3), strides=(2, 2), padding='same', input_shape=in_shape))\n",
    "    model.add(LeakyReLU(alpha=0.2))\n",
    "    model.add(Dropout(0.4))\n",
    "    model.add(Conv2D(64, (3,3), strides=(2, 2), padding='same'))\n",
    "    model.add(LeakyReLU(alpha=0.2))\n",
    "    model.add(Dropout(0.4))\n",
    "    model.add(Flatten())\n",
    "    model.add(Dense(1, activation='sigmoid'))\n",
    "    # compile model\n",
    "    opt = Adam(lr=0.0002, beta_1=0.5)\n",
    "    model.compile(loss='binary_crossentropy', optimizer=opt, metrics=['accuracy'])\n",
    "    return model\n",
    "\n",
    "# define the standalone generator model\n",
    "def define_generator(latent_dim):\n",
    "    model = Sequential()\n",
    "    # foundation for 7x7 image\n",
    "    n_nodes = 128 * 7 * 7\n",
    "    model.add(Dense(n_nodes, input_dim=latent_dim))\n",
    "    model.add(LeakyReLU(alpha=0.2))\n",
    "    model.add(Reshape((7, 7, 128)))\n",
    "    # upsample to 14x14\n",
    "    model.add(Conv2DTranspose(128, (4,4), strides=(2,2), padding='same'))\n",
    "    model.add(LeakyReLU(alpha=0.2))\n",
    "    # upsample to 28x28\n",
    "    model.add(Conv2DTranspose(128, (4,4), strides=(2,2), padding='same'))\n",
    "    model.add(LeakyReLU(alpha=0.2))\n",
    "    model.add(Conv2D(1, (7,7), activation='sigmoid', padding='same'))\n",
    "    return model\n",
    "\n",
    "# define the combined generator and discriminator model, for updating the generator\n",
    "def define_gan(g_model, d_model):\n",
    "    # make weights in the discriminator not trainable\n",
    "    d_model.trainable = False\n",
    "    # connect them\n",
    "    model = Sequential()\n",
    "    # add generator\n",
    "    model.add(g_model)\n",
    "    # add the discriminator\n",
    "    model.add(d_model)\n",
    "    # compile model\n",
    "    opt = Adam(lr=0.0002, beta_1=0.5)\n",
    "    model.compile(loss='binary_crossentropy', optimizer=opt)\n",
    "    return model\n",
    "\n",
    "# load and prepare mnist training images\n",
    "def load_real_samples():\n",
    "    # load mnist dataset\n",
    "    (trainX, _), (_, _) = load_data()\n",
    "    # expand to 3d, e.g. add channels dimension\n",
    "    X = expand_dims(trainX, axis=-1)\n",
    "    # convert from unsigned ints to floats\n",
    "    X = X.astype('float32')\n",
    "    # scale from [0,255] to [0,1]\n",
    "    X = X / 255.0\n",
    "    return X\n",
    "\n",
    "# select real samples\n",
    "def generate_real_samples(dataset, n_samples):\n",
    "    # choose random instances\n",
    "    ix = randint(0, dataset.shape[0], n_samples)\n",
    "    # retrieve selected images\n",
    "    X = dataset[ix]\n",
    "    # generate 'real' class labels (1)\n",
    "    y = ones((n_samples, 1))\n",
    "    return X, y\n",
    "\n",
    "# generate points in latent space as input for the generator\n",
    "def generate_latent_points(latent_dim, n_samples):\n",
    "    # generate points in the latent space\n",
    "    x_input = randn(latent_dim * n_samples)\n",
    "    # reshape into a batch of inputs for the network\n",
    "    x_input = x_input.reshape(n_samples, latent_dim)\n",
    "    return x_input\n",
    "\n",
    "# use the generator to generate n fake examples, with class labels\n",
    "def generate_fake_samples(g_model, latent_dim, n_samples):\n",
    "    # generate points in latent space\n",
    "    x_input = generate_latent_points(latent_dim, n_samples)\n",
    "    # predict outputs\n",
    "    X = g_model.predict(x_input)\n",
    "    # create 'fake' class labels (0)\n",
    "    y = zeros((n_samples, 1))\n",
    "    return X, y\n",
    "\n",
    "# create and save a plot of generated images (reversed grayscale)\n",
    "def save_plot(examples, epoch, n=10):\n",
    "    # plot images\n",
    "    for i in range(n * n):\n",
    "        # define subplot\n",
    "        pyplot.subplot(n, n, 1 + i)\n",
    "        # turn off axis\n",
    "        pyplot.axis('off')\n",
    "        # plot raw pixel data\n",
    "        pyplot.imshow(examples[i, :, :, 0], cmap='gray_r')\n",
    "    # save plot to file\n",
    "    filename = 'generated_plot_e%03d.png' % (epoch+1)\n",
    "    pyplot.savefig(filename)\n",
    "    pyplot.close()\n",
    "\n",
    "# evaluate the discriminator, plot generated images, save generator model\n",
    "def summarize_performance(epoch, g_model, d_model, dataset, latent_dim, n_samples=100):\n",
    "    # prepare real samples\n",
    "    X_real, y_real = generate_real_samples(dataset, n_samples)\n",
    "    # evaluate discriminator on real examples\n",
    "    _, acc_real = d_model.evaluate(X_real, y_real, verbose=0)\n",
    "    # prepare fake examples\n",
    "    x_fake, y_fake = generate_fake_samples(g_model, latent_dim, n_samples)\n",
    "    # evaluate discriminator on fake examples\n",
    "    _, acc_fake = d_model.evaluate(x_fake, y_fake, verbose=0)\\\n",
    "    # summarize discriminator performance\\\n",
    "    print('>Accuracy real: %.0f%%, fake: %.0f%%' % (acc_real*100, acc_fake*100))\n",
    "    # save plot\n",
    "    save_plot(x_fake, epoch)\n",
    "    # save the generator model tile file\n",
    "    filename = 'generator_model_%03d.h5' % (epoch + 1)\n",
    "    g_model.save(filename)\n",
    "\n",
    "# train the generator and discriminator\n",
    "def train(g_model, d_model, gan_model, dataset, latent_dim, n_epochs=200, n_batch=256):\n",
    "    bat_per_epo = int(dataset.shape[0] / n_batch)\n",
    "    half_batch = int(n_batch / 2)\n",
    "    # manually enumerate epochs\n",
    "    for i in range(n_epochs):\n",
    "        # enumerate batches over the training set\n",
    "        for j in range(bat_per_epo):\n",
    "            # get randomly selected 'real' samples\n",
    "            X_real, y_real = generate_real_samples(dataset, half_batch)\n",
    "            # generate 'fake' examples\n",
    "            X_fake, y_fake = generate_fake_samples(g_model, latent_dim, half_batch)\n",
    "            # create training set for the discriminator\n",
    "            X, y = vstack((X_real, X_fake)), vstack((y_real, y_fake))\n",
    "            # update discriminator model weights\n",
    "            d_loss, _ = d_model.train_on_batch(X, y)\n",
    "            # prepare points in latent space as input for the generator\n",
    "            X_gan = generate_latent_points(latent_dim, n_batch)\n",
    "            # create inverted labels for the fake samples\n",
    "            y_gan = ones((n_batch, 1))\n",
    "            # update the generator via the discriminator's error\n",
    "            g_loss = gan_model.train_on_batch(X_gan, y_gan)\n",
    "            # summarize loss on this batch\n",
    "            if (j+1) == bat_per_epo:\n",
    "                print('>%d, %d/%d, d=%.3f, g=%.3f' % (i+1, j+1, bat_per_epo, d_loss, g_loss))\n",
    "        # evaluate the model performance, sometimes\n",
    "        if (i+1) % 10 == 0:\n",
    "            summarize_performance(i, g_model, d_model, dataset, latent_dim)"
   ]
  },
  {
   "cell_type": "code",
   "execution_count": 3,
   "metadata": {},
   "outputs": [
    {
     "name": "stderr",
     "output_type": "stream",
     "text": [
      "C:\\ProgramData\\Anaconda3\\envs\\project\\lib\\site-packages\\keras\\engine\\training.py:297: UserWarning: Discrepancy between trainable weights and collected trainable weights, did you set `model.trainable` without calling `model.compile` after ?\n",
      "  'Discrepancy between trainable weights and collected trainable'\n",
      "C:\\ProgramData\\Anaconda3\\envs\\project\\lib\\site-packages\\keras\\engine\\training.py:297: UserWarning: Discrepancy between trainable weights and collected trainable weights, did you set `model.trainable` without calling `model.compile` after ?\n",
      "  'Discrepancy between trainable weights and collected trainable'\n"
     ]
    },
    {
     "name": "stdout",
     "output_type": "stream",
     "text": [
      ">1, 234/234, d=0.390, g=1.072\n",
      ">2, 234/234, d=0.701, g=0.735\n",
      ">3, 234/234, d=0.667, g=0.727\n",
      ">4, 234/234, d=0.678, g=0.719\n",
      ">5, 234/234, d=0.686, g=0.707\n",
      ">6, 234/234, d=0.703, g=0.727\n",
      ">7, 234/234, d=0.700, g=0.702\n",
      ">8, 234/234, d=0.697, g=0.717\n",
      ">9, 234/234, d=0.685, g=0.638\n",
      ">10, 234/234, d=0.687, g=0.726\n",
      ">Accuracy real: 33%, fake: 89%\n",
      ">11, 234/234, d=0.690, g=0.745\n",
      ">12, 234/234, d=0.691, g=0.698\n",
      ">13, 234/234, d=0.677, g=0.732\n",
      ">14, 234/234, d=0.686, g=0.699\n",
      ">15, 234/234, d=0.683, g=0.729\n",
      ">16, 234/234, d=0.684, g=0.653\n",
      ">17, 234/234, d=0.689, g=0.724\n",
      ">18, 234/234, d=0.684, g=0.747\n",
      ">19, 234/234, d=0.688, g=0.743\n",
      ">20, 234/234, d=0.690, g=0.708\n",
      ">Accuracy real: 42%, fake: 97%\n",
      ">21, 234/234, d=0.696, g=0.756\n",
      ">22, 234/234, d=0.686, g=0.745\n",
      ">23, 234/234, d=0.689, g=0.723\n",
      ">24, 234/234, d=0.684, g=0.726\n",
      ">25, 234/234, d=0.681, g=0.699\n",
      ">26, 234/234, d=0.684, g=0.714\n",
      ">27, 234/234, d=0.692, g=0.764\n",
      ">28, 234/234, d=0.687, g=0.723\n",
      ">29, 234/234, d=0.687, g=0.737\n",
      ">30, 234/234, d=0.687, g=0.740\n",
      ">Accuracy real: 6%, fake: 100%\n",
      ">31, 234/234, d=0.682, g=0.717\n",
      ">32, 234/234, d=0.683, g=0.792\n",
      ">33, 234/234, d=0.688, g=0.794\n",
      ">34, 234/234, d=0.677, g=0.727\n",
      ">35, 234/234, d=0.692, g=0.746\n",
      ">36, 234/234, d=0.681, g=0.629\n",
      ">37, 234/234, d=0.687, g=0.661\n",
      ">38, 234/234, d=0.704, g=0.762\n",
      ">39, 234/234, d=0.690, g=0.737\n",
      ">40, 234/234, d=0.690, g=0.691\n",
      ">Accuracy real: 52%, fake: 80%\n",
      ">41, 234/234, d=0.691, g=0.773\n",
      ">42, 234/234, d=0.691, g=0.672\n",
      ">43, 234/234, d=0.686, g=0.685\n",
      ">44, 234/234, d=0.696, g=0.716\n",
      ">45, 234/234, d=0.688, g=0.728\n",
      ">46, 234/234, d=0.685, g=0.755\n",
      ">47, 234/234, d=0.689, g=0.706\n",
      ">48, 234/234, d=0.687, g=0.701\n",
      ">49, 234/234, d=0.685, g=0.700\n",
      ">50, 234/234, d=0.694, g=0.714\n",
      ">Accuracy real: 21%, fake: 95%\n",
      ">51, 234/234, d=0.696, g=0.646\n",
      ">52, 234/234, d=0.703, g=0.724\n",
      ">53, 234/234, d=0.686, g=0.712\n",
      ">54, 234/234, d=0.687, g=0.717\n",
      ">55, 234/234, d=0.700, g=0.693\n",
      ">56, 234/234, d=0.690, g=0.699\n",
      ">57, 234/234, d=0.686, g=0.674\n",
      ">58, 234/234, d=0.698, g=0.701\n",
      ">59, 234/234, d=0.687, g=0.706\n",
      ">60, 234/234, d=0.697, g=0.686\n",
      ">Accuracy real: 40%, fake: 88%\n",
      ">61, 234/234, d=0.693, g=0.677\n",
      ">62, 234/234, d=0.694, g=0.718\n",
      ">63, 234/234, d=0.691, g=0.711\n",
      ">64, 234/234, d=0.696, g=0.708\n",
      ">65, 234/234, d=0.689, g=0.664\n",
      ">66, 234/234, d=0.688, g=0.699\n",
      ">67, 234/234, d=0.685, g=0.696\n",
      ">68, 234/234, d=0.690, g=0.698\n",
      ">69, 234/234, d=0.686, g=0.671\n",
      ">70, 234/234, d=0.697, g=0.720\n",
      ">Accuracy real: 8%, fake: 100%\n",
      ">71, 234/234, d=0.696, g=0.710\n",
      ">72, 234/234, d=0.690, g=0.712\n",
      ">73, 234/234, d=0.691, g=0.690\n",
      ">74, 234/234, d=0.691, g=0.731\n",
      ">75, 234/234, d=0.692, g=0.710\n",
      ">76, 234/234, d=0.693, g=0.693\n",
      ">77, 234/234, d=0.686, g=0.738\n",
      ">78, 234/234, d=0.688, g=0.693\n",
      ">79, 234/234, d=0.689, g=0.705\n",
      ">80, 234/234, d=0.693, g=0.691\n",
      ">Accuracy real: 32%, fake: 80%\n",
      ">81, 234/234, d=0.694, g=0.678\n",
      ">82, 234/234, d=0.692, g=0.697\n",
      ">83, 234/234, d=0.693, g=0.702\n",
      ">84, 234/234, d=0.695, g=0.721\n",
      ">85, 234/234, d=0.687, g=0.677\n",
      ">86, 234/234, d=0.691, g=0.707\n",
      ">87, 234/234, d=0.687, g=0.697\n",
      ">88, 234/234, d=0.693, g=0.689\n",
      ">89, 234/234, d=0.685, g=0.717\n",
      ">90, 234/234, d=0.688, g=0.695\n",
      ">Accuracy real: 24%, fake: 89%\n",
      ">91, 234/234, d=0.693, g=0.687\n",
      ">92, 234/234, d=0.697, g=0.707\n",
      ">93, 234/234, d=0.679, g=0.691\n",
      ">94, 234/234, d=0.687, g=0.681\n",
      ">95, 234/234, d=0.689, g=0.688\n",
      ">96, 234/234, d=0.695, g=0.699\n",
      ">97, 234/234, d=0.700, g=0.674\n",
      ">98, 234/234, d=0.693, g=0.713\n",
      ">99, 234/234, d=0.690, g=0.709\n",
      ">100, 234/234, d=0.687, g=0.727\n",
      ">Accuracy real: 1%, fake: 100%\n",
      ">101, 234/234, d=0.693, g=0.705\n",
      ">102, 234/234, d=0.689, g=0.707\n",
      ">103, 234/234, d=0.697, g=0.718\n",
      ">104, 234/234, d=0.692, g=0.698\n",
      ">105, 234/234, d=0.694, g=0.693\n",
      ">106, 234/234, d=0.689, g=0.699\n",
      ">107, 234/234, d=0.694, g=0.687\n",
      ">108, 234/234, d=0.692, g=0.688\n",
      ">109, 234/234, d=0.694, g=0.686\n",
      ">110, 234/234, d=0.693, g=0.676\n",
      ">Accuracy real: 65%, fake: 53%\n",
      ">111, 234/234, d=0.686, g=0.692\n",
      ">112, 234/234, d=0.695, g=0.702\n",
      ">113, 234/234, d=0.697, g=0.686\n",
      ">114, 234/234, d=0.691, g=0.667\n",
      ">115, 234/234, d=0.695, g=0.716\n",
      ">116, 234/234, d=0.699, g=0.710\n",
      ">117, 234/234, d=0.691, g=0.715\n",
      ">118, 234/234, d=0.686, g=0.680\n",
      ">119, 234/234, d=0.691, g=0.698\n",
      ">120, 234/234, d=0.692, g=0.706\n",
      ">Accuracy real: 4%, fake: 100%\n",
      ">121, 234/234, d=0.691, g=0.704\n",
      ">122, 234/234, d=0.695, g=0.708\n",
      ">123, 234/234, d=0.692, g=0.698\n",
      ">124, 234/234, d=0.696, g=0.701\n",
      ">125, 234/234, d=0.690, g=0.727\n",
      ">126, 234/234, d=0.689, g=0.692\n",
      ">127, 234/234, d=0.687, g=0.679\n",
      ">128, 234/234, d=0.690, g=0.696\n",
      ">129, 234/234, d=0.698, g=0.685\n",
      ">130, 234/234, d=0.693, g=0.704\n",
      ">Accuracy real: 9%, fake: 94%\n",
      ">131, 234/234, d=0.696, g=0.702\n",
      ">132, 234/234, d=0.687, g=0.708\n",
      ">133, 234/234, d=0.694, g=0.695\n",
      ">134, 234/234, d=0.692, g=0.710\n",
      ">135, 234/234, d=0.691, g=0.702\n",
      ">136, 234/234, d=0.697, g=0.697\n",
      ">137, 234/234, d=0.692, g=0.697\n",
      ">138, 234/234, d=0.691, g=0.691\n",
      ">139, 234/234, d=0.692, g=0.695\n",
      ">140, 234/234, d=0.691, g=0.706\n",
      ">Accuracy real: 7%, fake: 99%\n",
      ">141, 234/234, d=0.701, g=0.704\n",
      ">142, 234/234, d=0.690, g=0.694\n",
      ">143, 234/234, d=0.696, g=0.697\n",
      ">144, 234/234, d=0.697, g=0.703\n",
      ">145, 234/234, d=0.691, g=0.699\n",
      ">146, 234/234, d=0.696, g=0.707\n",
      ">147, 234/234, d=0.690, g=0.705\n",
      ">148, 234/234, d=0.691, g=0.685\n",
      ">149, 234/234, d=0.692, g=0.692\n",
      ">150, 234/234, d=0.691, g=0.690\n",
      ">Accuracy real: 25%, fake: 91%\n",
      ">151, 234/234, d=0.697, g=0.689\n",
      ">152, 234/234, d=0.695, g=0.693\n",
      ">153, 234/234, d=0.695, g=0.714\n",
      ">154, 234/234, d=0.697, g=0.704\n",
      ">155, 234/234, d=0.692, g=0.708\n",
      ">156, 234/234, d=0.692, g=0.691\n",
      ">157, 234/234, d=0.691, g=0.695\n",
      ">158, 234/234, d=0.692, g=0.691\n",
      ">159, 234/234, d=0.691, g=0.704\n",
      ">160, 234/234, d=0.692, g=0.689\n",
      ">Accuracy real: 9%, fake: 95%\n",
      ">161, 234/234, d=0.695, g=0.695\n",
      ">162, 234/234, d=0.692, g=0.679\n",
      ">163, 234/234, d=0.694, g=0.697\n",
      ">164, 234/234, d=0.692, g=0.707\n",
      ">165, 234/234, d=0.698, g=0.680\n",
      ">166, 234/234, d=0.695, g=0.700\n",
      ">167, 234/234, d=0.692, g=0.690\n",
      ">168, 234/234, d=0.694, g=0.691\n",
      ">169, 234/234, d=0.692, g=0.715\n",
      ">170, 234/234, d=0.690, g=0.692\n",
      ">Accuracy real: 7%, fake: 96%\n",
      ">171, 234/234, d=0.696, g=0.687\n",
      ">172, 234/234, d=0.691, g=0.690\n",
      ">173, 234/234, d=0.693, g=0.695\n",
      ">174, 234/234, d=0.688, g=0.697\n",
      ">175, 234/234, d=0.692, g=0.694\n",
      ">176, 234/234, d=0.693, g=0.708\n",
      ">177, 234/234, d=0.687, g=0.691\n",
      ">178, 234/234, d=0.693, g=0.699\n",
      ">179, 234/234, d=0.690, g=0.690\n",
      ">180, 234/234, d=0.694, g=0.698\n",
      ">Accuracy real: 2%, fake: 100%\n",
      ">181, 234/234, d=0.685, g=0.694\n",
      ">182, 234/234, d=0.690, g=0.702\n",
      ">183, 234/234, d=0.693, g=0.696\n",
      ">184, 234/234, d=0.694, g=0.711\n",
      ">185, 234/234, d=0.688, g=0.703\n",
      ">186, 234/234, d=0.691, g=0.690\n",
      ">187, 234/234, d=0.689, g=0.711\n",
      ">188, 234/234, d=0.695, g=0.697\n",
      ">189, 234/234, d=0.692, g=0.693\n",
      ">190, 234/234, d=0.691, g=0.704\n",
      ">Accuracy real: 3%, fake: 100%\n",
      ">191, 234/234, d=0.686, g=0.682\n",
      ">192, 234/234, d=0.692, g=0.695\n",
      ">193, 234/234, d=0.696, g=0.690\n",
      ">194, 234/234, d=0.695, g=0.697\n",
      ">195, 234/234, d=0.694, g=0.693\n",
      ">196, 234/234, d=0.690, g=0.675\n",
      ">197, 234/234, d=0.693, g=0.703\n",
      ">198, 234/234, d=0.691, g=0.685\n",
      ">199, 234/234, d=0.695, g=0.693\n",
      ">200, 234/234, d=0.696, g=0.701\n",
      ">Accuracy real: 1%, fake: 100%\n"
     ]
    }
   ],
   "source": [
    "# size of the latent space\n",
    "latent_dim = 100\n",
    "# create the discriminator\n",
    "d_model = define_discriminator()\n",
    "# create the generator\n",
    "g_model = define_generator(latent_dim)\n",
    "# create the gan\n",
    "gan_model = define_gan(g_model, d_model)\n",
    "# load image data\n",
    "dataset = load_real_samples()\n",
    "# train model\n",
    "train(g_model, d_model, gan_model, dataset, latent_dim)"
   ]
  },
  {
   "cell_type": "code",
   "execution_count": 4,
   "metadata": {},
   "outputs": [
    {
     "name": "stderr",
     "output_type": "stream",
     "text": [
      "C:\\ProgramData\\Anaconda3\\envs\\project\\lib\\site-packages\\keras\\engine\\saving.py:341: UserWarning: No training configuration found in save file: the model was *not* compiled. Compile it manually.\n",
      "  warnings.warn('No training configuration found in save file: '\n"
     ]
    },
    {
     "data": {
      "image/png": "[encoded data removed]",
      "text/plain": [
       "<Figure size 432x288 with 25 Axes>"
      ]
     },
     "metadata": {
      "needs_background": "light"
     },
     "output_type": "display_data"
    }
   ],
   "source": [
    "# example of loading the generator model and generating images\n",
    "from keras.models import load_model\n",
    "from numpy.random import randn\n",
    "from matplotlib import pyplot\n",
    "\n",
    "# generate points in latent space as input for the generator\n",
    "def generate_latent_points(latent_dim, n_samples):\n",
    "    # generate points in the latent space\n",
    "    x_input = randn(latent_dim * n_samples)\n",
    "    # reshape into a batch of inputs for the network\n",
    "    x_input = x_input.reshape(n_samples, latent_dim)\n",
    "    return x_input\n",
    "\n",
    "# create and save a plot of generated images (reversed grayscale)\n",
    "def save_plot(examples, n):\n",
    "    # plot images\n",
    "    for i in range(n * n):\n",
    "        # define subplot\n",
    "        pyplot.subplot(n, n, 1 + i)\n",
    "        # turn off axis\n",
    "        pyplot.axis('off')\n",
    "        # plot raw pixel data\n",
    "        pyplot.imshow(examples[i, :, :, 0], cmap='gray_r')\n",
    "    pyplot.show()\n",
    "\n",
    "# load model\n",
    "model = load_model('generator_model_200.h5')\n",
    "# generate images\n",
    "latent_points = generate_latent_points(100, 25)\n",
    "# generate images\n",
    "X = model.predict(latent_points)\n",
    "# plot the result\n",
    "save_plot(X, 5)"
   ]
  },
  {
   "cell_type": "code",
   "execution_count": 5,
   "metadata": {},
   "outputs": [
    {
     "data": {
      "image/png": "[encoded data removed]",
      "text/plain": [
       "<Figure size 432x288 with 1 Axes>"
      ]
     },
     "metadata": {
      "needs_background": "light"
     },
     "output_type": "display_data"
    }
   ],
   "source": [
    "# example of generating an image for a specific point in the latent space\n",
    "from keras.models import load_model\n",
    "from numpy import asarray\n",
    "import matplotlib.pyplot as plt\n",
    "# load model\n",
    "model = load_model('generator_model_200.h5')\n",
    "# all 0s\n",
    "vector = asarray([[0.0 for _ in range(100)]])\n",
    "# generate image\n",
    "X = model.predict(vector)\n",
    "# plot the result\n",
    "plt.imshow(X[0, :, :, 0], cmap='gray_r')\n",
    "plt.show()"
   ]
  },
  {
   "cell_type": "code",
   "execution_count": 6,
   "metadata": {},
   "outputs": [],
   "source": [
    "from keras.models import load_model\n",
    "from sklearn.manifold import TSNE\n",
    "import numpy as np\n",
    "\n",
    "epoch = 200\n",
    "# save the discriminator model tile file\n",
    "d_filename = 'discriminator_model_%03d.h5' % (epoch)\n",
    "d_model.save(d_filename)"
   ]
  },
  {
   "cell_type": "code",
   "execution_count": 7,
   "metadata": {},
   "outputs": [],
   "source": [
    "# load test data\n",
    "(trainX, _), (_, _) = load_data()\n",
    "\n",
    "# expand to 3d, e.g. add channels dimension\n",
    "X = expand_dims(trainX, axis=-1)\n",
    "\n",
    "# convert from unsigned ints to floats\n",
    "X = X.astype('float32')\n",
    "\n",
    "# scale from [0,255] to [0,1]\n",
    "X = X / 255.0"
   ]
  },
  {
   "cell_type": "code",
   "execution_count": 8,
   "metadata": {},
   "outputs": [
    {
     "name": "stdout",
     "output_type": "stream",
     "text": [
      "(1000, 28, 28, 1)\n",
      "(1000, 28, 28, 1)\n",
      "a sample from generated anomaly images - X_anomal\n"
     ]
    },
    {
     "data": {
      "image/png": "[encoded data removed]",
      "text/plain": [
       "<Figure size 144x144 with 1 Axes>"
      ]
     },
     "metadata": {
      "needs_background": "light"
     },
     "output_type": "display_data"
    }
   ],
   "source": [
    "# 줄 낙서 (비교군)\n",
    "X_anomal = X[:1000]\n",
    "X_anomal[:, 15:20, :] = 1.\n",
    "print(X_anomal.shape) #(1000, 28, 28, 1)\n",
    "\n",
    "# mnist (대조군)\n",
    "X_normal = X[1000:2000]\n",
    "print(X_normal.shape) #(2000, 28, 28, 1)\n",
    "\n",
    "print(\"a sample from generated anomaly images - X_anomal\")\n",
    "plt.figure(figsize=(2, 2))\n",
    "plt.imshow(X_anomal[0].reshape(28,28), cmap=pyplot.cm.gray)\n",
    "plt.show()"
   ]
  },
  {
   "cell_type": "code",
   "execution_count": 9,
   "metadata": {},
   "outputs": [
    {
     "data": {
      "image/png": "[encoded data removed]",
      "text/plain": [
       "<Figure size 432x288 with 1 Axes>"
      ]
     },
     "metadata": {
      "needs_background": "light"
     },
     "output_type": "display_data"
    },
    {
     "data": {
      "image/png": "[encoded data removed]",
      "text/plain": [
       "<Figure size 432x288 with 1 Axes>"
      ]
     },
     "metadata": {
      "needs_background": "light"
     },
     "output_type": "display_data"
    }
   ],
   "source": [
    "# 모델 load 안 된 상태에서 predict\n",
    "\n",
    "predicted_normal = d_model.predict(X_normal)\n",
    "predicted_ruined = d_model.predict(X_anomal)\n",
    "\n",
    "plt.hist(predicted_ruined, bins=1000)\n",
    "plt.title('Histogram of Ruined')\n",
    "plt.show()\n",
    "plt.hist(predicted_normal, bins=1000)\n",
    "plt.title('Histogram of Normal')\n",
    "plt.show()"
   ]
  },
  {
   "cell_type": "code",
   "execution_count": 10,
   "metadata": {},
   "outputs": [
    {
     "name": "stdout",
     "output_type": "stream",
     "text": [
      "1000/1000 [==============================] - 0s 92us/step\n",
      "1000/1000 [==============================] - 0s 60us/step\n"
     ]
    },
    {
     "data": {
      "image/png": "[encoded data removed]",
      "text/plain": [
       "<Figure size 432x288 with 1 Axes>"
      ]
     },
     "metadata": {
      "needs_background": "light"
     },
     "output_type": "display_data"
    },
    {
     "data": {
      "image/png": "[encoded data removed]",
      "text/plain": [
       "<Figure size 432x288 with 1 Axes>"
      ]
     },
     "metadata": {
      "needs_background": "light"
     },
     "output_type": "display_data"
    }
   ],
   "source": [
    "# load discriminator model\n",
    "model = load_model('discriminator_model_100.h5')\n",
    "\n",
    "\n",
    "# proceed loaded model\n",
    "predicted_ruined = model.predict(X_anomal, verbose=1)\n",
    "predicted_normal = model.predict(X_normal, verbose=1)\n",
    "\n",
    "plt.hist(predicted_ruined, bins=1000)\n",
    "plt.title('Histogram of Ruined')\n",
    "plt.show()\n",
    "plt.hist(predicted_normal, bins=1000)\n",
    "plt.title('Histogram of Normal')\n",
    "plt.show()"
   ]
  },
  {
   "cell_type": "markdown",
   "metadata": {},
   "source": [
    "WGAN-MNIST:\\\n",
    "https://github.com/dhrim/bmac_seminar/blob/master/material/wgan_mnist.ipynb"
   ]
  },
  {
   "cell_type": "code",
   "execution_count": null,
   "metadata": {},
   "outputs": [],
   "source": []
  },
  {
   "cell_type": "code",
   "execution_count": null,
   "metadata": {},
   "outputs": [],
   "source": []
  }
 ],
 "metadata": {
  "kernelspec": {
   "display_name": "Python 3",
   "language": "python",
   "name": "python3"
  },
  "language_info": {
   "codemirror_mode": {
    "name": "ipython",
    "version": 3
   },
   "file_extension": ".py",
   "mimetype": "text/x-python",
   "name": "python",
   "nbconvert_exporter": "python",
   "pygments_lexer": "ipython3",
   "version": "3.7.6"
  }
 },
 "nbformat": 4,
 "nbformat_minor": 4
}
