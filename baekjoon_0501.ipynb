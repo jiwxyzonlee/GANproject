{
  "nbformat": 4,
  "nbformat_minor": 0,
  "metadata": {
    "colab": {
      "name": "baekjoon_0501.ipynb",
      "provenance": [],
      "collapsed_sections": []
    },
    "kernelspec": {
      "name": "python3",
      "display_name": "Python 3"
    }
  },
  "cells": [
    {
      "cell_type": "code",
      "metadata": {
        "id": "h4XZC6cgYYrx",
        "colab_type": "code",
        "colab": {}
      },
      "source": [
        "num = int(input())\n",
        "for i in range(2 * num):\n",
        "  if num == 1:\n",
        "    print('*')\n",
        "  elif i % 2 == 0:\n",
        "    print('*')\n",
        "  else:\n",
        "    print(' *')"
      ],
      "execution_count": 0,
      "outputs": []
    },
    {
      "cell_type": "code",
      "metadata": {
        "id": "62O8rykiY7ME",
        "colab_type": "code",
        "outputId": "35f7ce28-fb86-4169-93f3-daf5deac1896",
        "colab": {
          "base_uri": "https://localhost:8080/",
          "height": 422
        }
      },
      "source": [
        "N = int(input())\n",
        "\n",
        "if N == 1:\n",
        "    print('*')\n",
        "    \n",
        "else:\n",
        "    if N % 2 == 0:\n",
        "        a = '* ' * (N//2)\n",
        "        b = ' *' * (N//2)\n",
        "    else:\n",
        "        a = '* ' * (N//2) + '*'\n",
        "        b = ' *' * (N//2)\n",
        "    \n",
        "    for _ in range(N):\n",
        "        print(a)\n",
        "        print(b)"
      ],
      "execution_count": 0,
      "outputs": [
        {
          "output_type": "stream",
          "text": [
            "11\n",
            "* * * * * *\n",
            " * * * * *\n",
            "* * * * * *\n",
            " * * * * *\n",
            "* * * * * *\n",
            " * * * * *\n",
            "* * * * * *\n",
            " * * * * *\n",
            "* * * * * *\n",
            " * * * * *\n",
            "* * * * * *\n",
            " * * * * *\n",
            "* * * * * *\n",
            " * * * * *\n",
            "* * * * * *\n",
            " * * * * *\n",
            "* * * * * *\n",
            " * * * * *\n",
            "* * * * * *\n",
            " * * * * *\n",
            "* * * * * *\n",
            " * * * * *\n"
          ],
          "name": "stdout"
        }
      ]
    },
    {
      "cell_type": "code",
      "metadata": {
        "id": "daob59_qZuJ3",
        "colab_type": "code",
        "outputId": "0eea4a8f-1866-4967-9dbe-082156480fcf",
        "colab": {
          "base_uri": "https://localhost:8080/",
          "height": 70
        }
      },
      "source": [
        "# N개의 정수가 주어진다. 이때, 최솟값과 최댓값을 구하는 프로그램을 작성하시오.\n",
        "\n",
        "# 첫째 줄에 정수의 개수 N (1 ≤ N ≤ 1,000,000)이 주어진다.\n",
        "# 둘째 줄에는 N개의 정수를 공백으로 구분해서 주어진다.\n",
        "# 모든 정수는 -1,000,000보다 크거나 같고, 1,000,000보다 작거나 같은 정수이다.\n",
        "\n",
        "# 첫째 줄에 주어진 정수 N개의 최솟값과 최댓값을 공백으로 구분해 출력한다.\n",
        "\n",
        "num = int(input())\n",
        "inp = input().split()\n",
        "\n",
        "li = []\n",
        "for i in inp:\n",
        "  i = int(i)\n",
        "  li.append(i)\n",
        "\n",
        "li.sort()\n",
        "print(li[0], li[-1])"
      ],
      "execution_count": 0,
      "outputs": [
        {
          "output_type": "stream",
          "text": [
            "5\n",
            "20 10 35 30 7\n",
            "7 35\n"
          ],
          "name": "stdout"
        }
      ]
    },
    {
      "cell_type": "code",
      "metadata": {
        "id": "FYITyZl9ZuOM",
        "colab_type": "code",
        "outputId": "bfa6ea18-fa26-4a07-99ee-f64831162536",
        "colab": {
          "base_uri": "https://localhost:8080/",
          "height": 210
        }
      },
      "source": [
        "'''\n",
        "9개의 서로 다른 자연수가 주어질 때, 이들 중 최댓값을 찾고 그 최댓값이 몇 번째 수인지를 구하는 프로그램을 작성하시오.\n",
        "\n",
        "예를 들어, 서로 다른 9개의 자연수\n",
        "\n",
        "3, 29, 38, 12, 57, 74, 40, 85, 61\n",
        "\n",
        "이 주어지면, 이들 중 최댓값은 85이고, 이 값은 8번째 수이다.\n",
        "\n",
        "첫 째 줄부터 아홉 번째 줄까지 한 줄에 하나의 자연수가 주어진다. 주어지는 자연수는 100 보다 작다.\n",
        "\n",
        "첫째 줄에 최댓값을 출력하고, 둘째 줄에 최댓값이 몇 번째 수인지를 출력한다.\n",
        "\n",
        "\n",
        "3\n",
        "29\n",
        "38\n",
        "12\n",
        "57\n",
        "74\n",
        "40\n",
        "85\n",
        "61\n",
        "\n",
        "85\n",
        "8\n",
        "'''\n",
        "\n",
        "max_num = 0\n",
        "\n",
        "for i in range(1, 10):\n",
        "  num = int(input())\n",
        "  if max_num < num:\n",
        "    max_num = num\n",
        "    flag = i\n",
        "\n",
        "print(max_num)\n",
        "print(flag)"
      ],
      "execution_count": 0,
      "outputs": [
        {
          "output_type": "stream",
          "text": [
            "3\n",
            "29\n",
            "38\n",
            "12\n",
            "57\n",
            "74\n",
            "40\n",
            "85\n",
            "61\n",
            "85\n",
            "8\n"
          ],
          "name": "stdout"
        }
      ]
    },
    {
      "cell_type": "code",
      "metadata": {
        "id": "UhCFACNnZuQv",
        "colab_type": "code",
        "outputId": "41f601ad-781b-4178-8774-6c89ab929d38",
        "colab": {
          "base_uri": "https://localhost:8080/",
          "height": 246
        }
      },
      "source": [
        "# 세 개의 자연수 A, B, C가 주어질 때 A×B×C를 계산한 결과에 0부터 9까지 각각의 숫자가 몇 번씩 쓰였는지를 구하는 프로그램을 작성하시오.\n",
        "\n",
        "# 예를 들어 A = 150, B = 266, C = 427 이라면 \n",
        "\n",
        "# A × B × C = 150 × 266 × 427 = 17037300 이 되고, \n",
        "\n",
        "# 계산한 결과 17037300 에는 0이 3번, 1이 1번, 3이 2번, 7이 2번 쓰였다.\n",
        "\n",
        "\n",
        "\n",
        "# 첫째 줄에 A, 둘째 줄에 B, 셋째 줄에 C가 주어진다. A, B, C는 모두 100보다 같거나 크고, 1,000보다 작은 자연수이다.\n",
        "\n",
        "# 첫째 줄에는 A×B×C의 결과에 0 이 몇 번 쓰였는지 출력한다. \n",
        "# 마찬가지로 둘째 줄부터 열 번째 줄까지 A×B×C의 결과에 1부터 9까지의 숫자가 각각 몇 번 쓰였는지 차례로 한 줄에 하나씩 출력한다.\n",
        "\n",
        "a = int(input())\n",
        "b = int(input())\n",
        "c = int(input())\n",
        "\n",
        "mul = list(str(a * b * c))\n",
        "for i in range(10):\n",
        "    num_count = mul.count(str(i))\n",
        "    print(num_count)"
      ],
      "execution_count": 0,
      "outputs": [
        {
          "output_type": "stream",
          "text": [
            "150\n",
            "266\n",
            "427\n",
            "3\n",
            "1\n",
            "0\n",
            "2\n",
            "0\n",
            "0\n",
            "0\n",
            "2\n",
            "0\n",
            "0\n"
          ],
          "name": "stdout"
        }
      ]
    },
    {
      "cell_type": "code",
      "metadata": {
        "id": "1MzhbAVC2OA4",
        "colab_type": "code",
        "outputId": "cb68e33f-c857-4726-a521-9e438f62d117",
        "colab": {
          "base_uri": "https://localhost:8080/",
          "height": 210
        }
      },
      "source": [
        "'''\n",
        "두 자연수 A와 B가 있을 때, A%B는 A를 B로 나눈 나머지 이다. 예를 들어, 7, 14, 27, 38을 3으로 나눈 나머지는 1, 2, 0, 2이다. \n",
        "\n",
        "수 10개를 입력받은 뒤, 이를 42로 나눈 나머지를 구한다. 그 다음 서로 다른 값이 몇 개 있는지 출력하는 프로그램을 작성하시오.\n",
        "\n",
        "첫째 줄부터 열번째 줄 까지 숫자가 한 줄에 하나씩 주어진다. 이 숫자는 1,000보다 작거나 같고, 음이 아닌 정수이다.\n",
        "\n",
        "첫째 줄에, 42로 나누었을 때, 서로 다른 나머지가 몇 개 있는지 출력한다.\n",
        "\n",
        "39\n",
        "40\n",
        "41\n",
        "42\n",
        "43\n",
        "44\n",
        "82\n",
        "83\n",
        "84\n",
        "85\n",
        "'''\n",
        "li = []\n",
        "for i in range(10):\n",
        "  num = int(input()) % 42\n",
        "  if num not in li:\n",
        "    li.append(num)\n",
        "\n",
        "print(len(li))"
      ],
      "execution_count": 0,
      "outputs": [
        {
          "output_type": "stream",
          "text": [
            "39\n",
            "40\n",
            "41\n",
            "42\n",
            "43\n",
            "44\n",
            "82\n",
            "83\n",
            "84\n",
            "85\n",
            "6\n"
          ],
          "name": "stdout"
        }
      ]
    },
    {
      "cell_type": "code",
      "metadata": {
        "id": "jPz2V3m42ODW",
        "colab_type": "code",
        "outputId": "3aef722e-a154-4d96-94a7-c7c50805dcb7",
        "colab": {
          "base_uri": "https://localhost:8080/",
          "height": 70
        }
      },
      "source": [
        "'''\n",
        "세준이는 기말고사를 망쳤다. 세준이는 점수를 조작해서 집에 가져가기로 했다. 일단 세준이는 자기 점수 중에 최댓값을 골랐다. 이 값을 M이라고 한다. 그리고 나서 모든 점수를 점수/M*100으로 고쳤다.\n",
        "\n",
        "예를 들어, 세준이의 최고점이 70이고, 수학점수가 50이었으면 수학점수는 50/70*100이 되어 71.43점이 된다.\n",
        "\n",
        "세준이의 성적을 위의 방법대로 새로 계산했을 때, 새로운 평균을 구하는 프로그램을 작성하시오.\n",
        "\n",
        "입력\n",
        "첫째 줄에 시험 본 과목의 개수 N이 주어진다. 이 값은 1000보다 작거나 같다. 둘째 줄에 세준이의 현재 성적이 주어진다. 이 값은 100보다 작거나 같은 음이 아닌 정수이고, 적어도 하나의 값은 0보다 크다.\n",
        "\n",
        "출력\n",
        "첫째 줄에 새로운 평균을 출력한다. 실제 정답과 출력값의 절대오차 또는 상대오차가 10-2 이하이면 정답이다.\n",
        "3\n",
        "40 80 60\n",
        "'''\n",
        "\n",
        "N = int(input())\n",
        "inp = input().split()\n",
        "\n",
        "li = []\n",
        "for i in inp:\n",
        "  i = int(i)\n",
        "  li.append(i)\n",
        "\n",
        "M = max(li)\n",
        "\n",
        "def mnm(x):\n",
        "  y = x / M * 100\n",
        "\n",
        "  return y\n",
        "\n",
        "score = []\n",
        "for i in li:\n",
        "  j = mnm(i)\n",
        "  score.append(j)\n",
        "\n",
        "k = 0\n",
        "for i in score:\n",
        "  k = k + i\n",
        "\n",
        "print(k / N)"
      ],
      "execution_count": 0,
      "outputs": [
        {
          "output_type": "stream",
          "text": [
            "4\n",
            "1 100 100 100\n",
            "75.25\n"
          ],
          "name": "stdout"
        }
      ]
    },
    {
      "cell_type": "code",
      "metadata": {
        "id": "xVKwBV4A2OGF",
        "colab_type": "code",
        "outputId": "4346c26b-d30f-400b-9ae7-d198a2838533",
        "colab": {
          "base_uri": "https://localhost:8080/",
          "height": 140
        }
      },
      "source": [
        "'''\n",
        "문제\n",
        "\"OOXXOXXOOO\"와 같은 OX퀴즈의 결과가 있다. O는 문제를 맞은 것이고, X는 문제를 틀린 것이다.\n",
        "문제를 맞은 경우 그 문제의 점수는 그 문제까지 연속된 O의 개수가 된다. 예를 들어, 10번 문제의 점수는 3이 된다.\n",
        "\n",
        "\"OOXXOXXOOO\"의 점수는 1+2+0+0+1+0+0+1+2+3 = 10점이다.\n",
        "\n",
        "OX퀴즈의 결과가 주어졌을 때, 점수를 구하는 프로그램을 작성하시오.\n",
        "\n",
        "입력\n",
        "첫째 줄에 테스트 케이스의 개수가 주어진다. 각 테스트 케이스는 한 줄로 이루어져 있고, 길이가 0보다 크고 80보다 작은 문자열이 주어진다. 문자열은 O와 X만으로 이루어져 있다.\n",
        "\n",
        "출력\n",
        "각 테스트 케이스마다 점수를 출력한다.\n",
        "\n",
        "5\n",
        "OOXXOXXOOO\n",
        "OOXXOOXXOO\n",
        "OXOXOXOXOXOXOX\n",
        "OOOOOOOOOO\n",
        "OOOOXOOOOXOOOOX\n",
        "\n",
        "10\n",
        "9\n",
        "7\n",
        "55\n",
        "30\n",
        "'''\n",
        "# 'O' = 1\n",
        "# '00' = 2\n",
        "# '000' = 3\n",
        "# 'X' = 0\n",
        "\n",
        "n = int(input())\n",
        "for i in range(n):\n",
        "    Num = input()\n",
        "    score = 0\n",
        "    cnt = 0\n",
        "    for j in range(len(Num)):\n",
        "        if Num[j] == 'O':\n",
        "            cnt += 1\n",
        "            score += cnt\n",
        "        elif Num[j] == 'X':\n",
        "            score += 0\n",
        "            cnt = 0\n",
        "    print(score)\n",
        "\n"
      ],
      "execution_count": 0,
      "outputs": [
        {
          "output_type": "stream",
          "text": [
            "5\n",
            "OOXXOXXOOO\n",
            "OOXXOOXXOO\n",
            "OXOXOXOXOXOXOX\n",
            "OOOOOOOOOO\n",
            "OOOOXOOOOXOOOOX\n",
            "[['OO', '', 'O', '', 'OOO'], ['OO', '', 'OO', '', 'OO'], ['O', 'O', 'O', 'O', 'O', 'O', 'O', ''], ['OOOOOOOOOO'], ['OOOO', 'OOOO', 'OOOO', '']]\n"
          ],
          "name": "stdout"
        }
      ]
    },
    {
      "cell_type": "code",
      "metadata": {
        "id": "vPZQ2FocrICp",
        "colab_type": "code",
        "outputId": "d6292d84-e5dc-41d2-c163-feb2e10068bb",
        "colab": {
          "base_uri": "https://localhost:8080/",
          "height": 70
        }
      },
      "source": [
        "'''\n",
        "문제\n",
        "대학생 새내기들의 90%는 자신이 반에서 평균은 넘는다고 생각한다. 당신은 그들에게 슬픈 진실을 알려줘야 한다.\n",
        "\n",
        "입력\n",
        "첫째 줄에는 테스트 케이스의 개수 C가 주어진다.\n",
        "\n",
        "둘째 줄부터 각 테스트 케이스마다 학생의 수 N(1 ≤ N ≤ 1000, N은 정수)이 첫 수로 주어지고, 이어서 N명의 점수가 주어진다.\n",
        "점수는 0보다 크거나 같고, 100보다 작거나 같은 정수이다.\n",
        "\n",
        "출력\n",
        "각 케이스마다 한 줄씩 평균을 넘는 학생들의 비율을 반올림하여 소수점 셋째 자리까지 출력한다.\n",
        "\n",
        "\n",
        "5\n",
        "5 50 50 70 80 100\n",
        "7 100 95 90 80 70 60 50\n",
        "3 70 90 80\n",
        "3 70 90 81\n",
        "9 100 99 98 97 96 95 94 93 91\n",
        "\n",
        "40.000%\n",
        "57.143%\n",
        "33.333%\n",
        "66.667%\n",
        "55.556%\n",
        "'''\n",
        "C = int(input())\n",
        "for i in range(C):\n",
        "  case = []\n",
        "  inp = input().split()\n",
        "  for j in inp:\n",
        "    k = int(j)\n",
        "    case.append(k)\n",
        "  num = case[0]\n",
        "  score = case[1:]\n",
        "  m = sum(score) / num\n",
        "\n",
        "  count = 0\n",
        "  for i in score:\n",
        "    if i > m:\n",
        "      count = count + 1\n",
        "    prc = round(count / num * 100, 3)\n",
        "  print(prc)"
      ],
      "execution_count": 0,
      "outputs": [
        {
          "output_type": "stream",
          "text": [
            "1\n",
            "9 100 99 98 97 96 95 94 93 91\n",
            "55.556\n"
          ],
          "name": "stdout"
        }
      ]
    },
    {
      "cell_type": "code",
      "metadata": {
        "id": "f9kBKcG2rIFO",
        "colab_type": "code",
        "colab": {}
      },
      "source": [
        "num = int(input())\n",
        "avg = []\n",
        "for i in range(num):\n",
        "        sco = list(map(int,input().split()))\n",
        "        stu = sco[0]\n",
        "        del sco[0]\n",
        "        sum = 0\n",
        "        cnt = 0\n",
        "        \n",
        "        for j in sco:\n",
        "                sum += j\n",
        "        avg.append(sum/stu)\n",
        " \n",
        "        for j in sco:\n",
        "                if j > avg[i]:\n",
        "                        cnt = cnt+1\n",
        "        avg[i] = cnt/stu*100\n",
        "        \n",
        "for i in range(len(avg)):\n",
        "        print(\"%.3f%%\" %round(avg[i], 3))"
      ],
      "execution_count": 0,
      "outputs": []
    },
    {
      "cell_type": "code",
      "metadata": {
        "id": "70wV6gr2rIHn",
        "colab_type": "code",
        "outputId": "558e5b60-7298-48cd-efa5-46a7c426d40e",
        "colab": {
          "base_uri": "https://localhost:8080/",
          "height": 52
        }
      },
      "source": [
        "# 정수 n개가 주어졌을 때, n개의 합을 구하는 함수를 작성하시오.\n",
        "\n",
        "def solve():\n",
        "  x = 0\n",
        "  a = list(map(int, input().split()))\n",
        "  for i in a:\n",
        "    x = x + i\n",
        "  return x\n",
        "\n",
        "solve()"
      ],
      "execution_count": 0,
      "outputs": [
        {
          "output_type": "stream",
          "text": [
            "1 2 3 4 5\n"
          ],
          "name": "stdout"
        },
        {
          "output_type": "execute_result",
          "data": {
            "text/plain": [
              "15"
            ]
          },
          "metadata": {
            "tags": []
          },
          "execution_count": 22
        }
      ]
    },
    {
      "cell_type": "code",
      "metadata": {
        "id": "xJGuKpzXrIJ5",
        "colab_type": "code",
        "outputId": "7db8ce03-f590-4b8c-eb76-adb40477f730",
        "colab": {
          "base_uri": "https://localhost:8080/",
          "height": 1000
        }
      },
      "source": [
        "'''\n",
        "셀프 넘버는 1949년 인도 수학자 D.R. Kaprekar가 이름 붙였다. 양의 정수 n에 대해서 d(n)을 n과 n의 각 자리수를 더하는 함수라고 정의하자. 예를 들어, d(75) = 75+7+5 = 87이다.\n",
        "\n",
        "양의 정수 n이 주어졌을 때, 이 수를 시작해서 n, d(n), d(d(n)), d(d(d(n))), ...과 같은 무한 수열을 만들 수 있다. \n",
        "\n",
        "예를 들어, 33으로 시작한다면 다음 수는 33 + 3 + 3 = 39이고, 그 다음 수는 39 + 3 + 9 = 51, 다음 수는 51 + 5 + 1 = 57이다. 이런식으로 다음과 같은 수열을 만들 수 있다.\n",
        "\n",
        "33, 39, 51, 57, 69, 84, 96, 111, 114, 120, 123, 129, 141, ...\n",
        "\n",
        "n을 d(n)의 생성자라고 한다. 위의 수열에서 33은 39의 생성자이고, 39는 51의 생성자, 51은 57의 생성자이다. 생성자가 한 개보다 많은 경우도 있다. 예를 들어, 101은 생성자가 2개(91과 100) 있다. \n",
        "\n",
        "생성자가 없는 숫자를 셀프 넘버라고 한다. 100보다 작은 셀프 넘버는 총 13개가 있다. 1, 3, 5, 7, 9, 20, 31, 42, 53, 64, 75, 86, 97\n",
        "\n",
        "10000보다 작거나 같은 셀프 넘버를 한 줄에 하나씩 출력하는 프로그램을 작성하시오.\n",
        "'''\n",
        "natural_number_set = set(range(1, 10001))\n",
        "generated_number_set= set()\n",
        "\n",
        "for i in range(1, 10001):\n",
        "    for j in str(i):\n",
        "        i += int(j)\n",
        "    generated_number_set.add(i)\n",
        "\n",
        "self_number_set = natural_number_set - generated_number_set\n",
        "\n",
        "for i in sorted(self_number_set):\n",
        "    print(i)\n",
        "\n",
        "\n",
        "\n",
        "natural_number_set = set(range(1, 1001))\n",
        "generated_number_set = set()\n",
        "\n",
        "for i in range(1, 1001):\n",
        "    print('currnet i = ' + str(i))\n",
        "    for j in str(i):\n",
        "        print('currnet j = ' + str(j))\n",
        "        i += int(j)\n",
        "    print('**managed num = ' + str(i))\n",
        "    generated_number_set.add(i)\n",
        "    print()\n",
        "\n",
        "print(generated_number_set)\n",
        "print(natural_number_set)\n",
        "\n",
        "self_numbers_set = natural_number_set - generated_number_set\n",
        "print(sorted(self_numbers_set))"
      ],
      "execution_count": 0,
      "outputs": [
        {
          "output_type": "stream",
          "text": [
            "currnet i = 1\n",
            "currnet j = 1\n",
            "**managed num = 2\n",
            "\n",
            "currnet i = 2\n",
            "currnet j = 2\n",
            "**managed num = 4\n",
            "\n",
            "currnet i = 3\n",
            "currnet j = 3\n",
            "**managed num = 6\n",
            "\n",
            "currnet i = 4\n",
            "currnet j = 4\n",
            "**managed num = 8\n",
            "\n",
            "currnet i = 5\n",
            "currnet j = 5\n",
            "**managed num = 10\n",
            "\n",
            "currnet i = 6\n",
            "currnet j = 6\n",
            "**managed num = 12\n",
            "\n",
            "currnet i = 7\n",
            "currnet j = 7\n",
            "**managed num = 14\n",
            "\n",
            "currnet i = 8\n",
            "currnet j = 8\n",
            "**managed num = 16\n",
            "\n",
            "currnet i = 9\n",
            "currnet j = 9\n",
            "**managed num = 18\n",
            "\n",
            "currnet i = 10\n",
            "currnet j = 1\n",
            "currnet j = 0\n",
            "**managed num = 11\n",
            "\n",
            "currnet i = 11\n",
            "currnet j = 1\n",
            "currnet j = 1\n",
            "**managed num = 13\n",
            "\n",
            "currnet i = 12\n",
            "currnet j = 1\n",
            "currnet j = 2\n",
            "**managed num = 15\n",
            "\n",
            "currnet i = 13\n",
            "currnet j = 1\n",
            "currnet j = 3\n",
            "**managed num = 17\n",
            "\n",
            "currnet i = 14\n",
            "currnet j = 1\n",
            "currnet j = 4\n",
            "**managed num = 19\n",
            "\n",
            "currnet i = 15\n",
            "currnet j = 1\n",
            "currnet j = 5\n",
            "**managed num = 21\n",
            "\n",
            "currnet i = 16\n",
            "currnet j = 1\n",
            "currnet j = 6\n",
            "**managed num = 23\n",
            "\n",
            "currnet i = 17\n",
            "currnet j = 1\n",
            "currnet j = 7\n",
            "**managed num = 25\n",
            "\n",
            "currnet i = 18\n",
            "currnet j = 1\n",
            "currnet j = 8\n",
            "**managed num = 27\n",
            "\n",
            "currnet i = 19\n",
            "currnet j = 1\n",
            "currnet j = 9\n",
            "**managed num = 29\n",
            "\n",
            "currnet i = 20\n",
            "currnet j = 2\n",
            "currnet j = 0\n",
            "**managed num = 22\n",
            "\n",
            "currnet i = 21\n",
            "currnet j = 2\n",
            "currnet j = 1\n",
            "**managed num = 24\n",
            "\n",
            "currnet i = 22\n",
            "currnet j = 2\n",
            "currnet j = 2\n",
            "**managed num = 26\n",
            "\n",
            "currnet i = 23\n",
            "currnet j = 2\n",
            "currnet j = 3\n",
            "**managed num = 28\n",
            "\n",
            "currnet i = 24\n",
            "currnet j = 2\n",
            "currnet j = 4\n",
            "**managed num = 30\n",
            "\n",
            "currnet i = 25\n",
            "currnet j = 2\n",
            "currnet j = 5\n",
            "**managed num = 32\n",
            "\n",
            "currnet i = 26\n",
            "currnet j = 2\n",
            "currnet j = 6\n",
            "**managed num = 34\n",
            "\n",
            "currnet i = 27\n",
            "currnet j = 2\n",
            "currnet j = 7\n",
            "**managed num = 36\n",
            "\n",
            "currnet i = 28\n",
            "currnet j = 2\n",
            "currnet j = 8\n",
            "**managed num = 38\n",
            "\n",
            "currnet i = 29\n",
            "currnet j = 2\n",
            "currnet j = 9\n",
            "**managed num = 40\n",
            "\n",
            "currnet i = 30\n",
            "currnet j = 3\n",
            "currnet j = 0\n",
            "**managed num = 33\n",
            "\n",
            "currnet i = 31\n",
            "currnet j = 3\n",
            "currnet j = 1\n",
            "**managed num = 35\n",
            "\n",
            "currnet i = 32\n",
            "currnet j = 3\n",
            "currnet j = 2\n",
            "**managed num = 37\n",
            "\n",
            "currnet i = 33\n",
            "currnet j = 3\n",
            "currnet j = 3\n",
            "**managed num = 39\n",
            "\n",
            "currnet i = 34\n",
            "currnet j = 3\n",
            "currnet j = 4\n",
            "**managed num = 41\n",
            "\n",
            "currnet i = 35\n",
            "currnet j = 3\n",
            "currnet j = 5\n",
            "**managed num = 43\n",
            "\n",
            "currnet i = 36\n",
            "currnet j = 3\n",
            "currnet j = 6\n",
            "**managed num = 45\n",
            "\n",
            "currnet i = 37\n",
            "currnet j = 3\n",
            "currnet j = 7\n",
            "**managed num = 47\n",
            "\n",
            "currnet i = 38\n",
            "currnet j = 3\n",
            "currnet j = 8\n",
            "**managed num = 49\n",
            "\n",
            "currnet i = 39\n",
            "currnet j = 3\n",
            "currnet j = 9\n",
            "**managed num = 51\n",
            "\n",
            "currnet i = 40\n",
            "currnet j = 4\n",
            "currnet j = 0\n",
            "**managed num = 44\n",
            "\n",
            "currnet i = 41\n",
            "currnet j = 4\n",
            "currnet j = 1\n",
            "**managed num = 46\n",
            "\n",
            "currnet i = 42\n",
            "currnet j = 4\n",
            "currnet j = 2\n",
            "**managed num = 48\n",
            "\n",
            "currnet i = 43\n",
            "currnet j = 4\n",
            "currnet j = 3\n",
            "**managed num = 50\n",
            "\n",
            "currnet i = 44\n",
            "currnet j = 4\n",
            "currnet j = 4\n",
            "**managed num = 52\n",
            "\n",
            "currnet i = 45\n",
            "currnet j = 4\n",
            "currnet j = 5\n",
            "**managed num = 54\n",
            "\n",
            "currnet i = 46\n",
            "currnet j = 4\n",
            "currnet j = 6\n",
            "**managed num = 56\n",
            "\n",
            "currnet i = 47\n",
            "currnet j = 4\n",
            "currnet j = 7\n",
            "**managed num = 58\n",
            "\n",
            "currnet i = 48\n",
            "currnet j = 4\n",
            "currnet j = 8\n",
            "**managed num = 60\n",
            "\n",
            "currnet i = 49\n",
            "currnet j = 4\n",
            "currnet j = 9\n",
            "**managed num = 62\n",
            "\n",
            "currnet i = 50\n",
            "currnet j = 5\n",
            "currnet j = 0\n",
            "**managed num = 55\n",
            "\n",
            "currnet i = 51\n",
            "currnet j = 5\n",
            "currnet j = 1\n",
            "**managed num = 57\n",
            "\n",
            "currnet i = 52\n",
            "currnet j = 5\n",
            "currnet j = 2\n",
            "**managed num = 59\n",
            "\n",
            "currnet i = 53\n",
            "currnet j = 5\n",
            "currnet j = 3\n",
            "**managed num = 61\n",
            "\n",
            "currnet i = 54\n",
            "currnet j = 5\n",
            "currnet j = 4\n",
            "**managed num = 63\n",
            "\n",
            "currnet i = 55\n",
            "currnet j = 5\n",
            "currnet j = 5\n",
            "**managed num = 65\n",
            "\n",
            "currnet i = 56\n",
            "currnet j = 5\n",
            "currnet j = 6\n",
            "**managed num = 67\n",
            "\n",
            "currnet i = 57\n",
            "currnet j = 5\n",
            "currnet j = 7\n",
            "**managed num = 69\n",
            "\n",
            "currnet i = 58\n",
            "currnet j = 5\n",
            "currnet j = 8\n",
            "**managed num = 71\n",
            "\n",
            "currnet i = 59\n",
            "currnet j = 5\n",
            "currnet j = 9\n",
            "**managed num = 73\n",
            "\n",
            "currnet i = 60\n",
            "currnet j = 6\n",
            "currnet j = 0\n",
            "**managed num = 66\n",
            "\n",
            "currnet i = 61\n",
            "currnet j = 6\n",
            "currnet j = 1\n",
            "**managed num = 68\n",
            "\n",
            "currnet i = 62\n",
            "currnet j = 6\n",
            "currnet j = 2\n",
            "**managed num = 70\n",
            "\n",
            "currnet i = 63\n",
            "currnet j = 6\n",
            "currnet j = 3\n",
            "**managed num = 72\n",
            "\n",
            "currnet i = 64\n",
            "currnet j = 6\n",
            "currnet j = 4\n",
            "**managed num = 74\n",
            "\n",
            "currnet i = 65\n",
            "currnet j = 6\n",
            "currnet j = 5\n",
            "**managed num = 76\n",
            "\n",
            "currnet i = 66\n",
            "currnet j = 6\n",
            "currnet j = 6\n",
            "**managed num = 78\n",
            "\n",
            "currnet i = 67\n",
            "currnet j = 6\n",
            "currnet j = 7\n",
            "**managed num = 80\n",
            "\n",
            "currnet i = 68\n",
            "currnet j = 6\n",
            "currnet j = 8\n",
            "**managed num = 82\n",
            "\n",
            "currnet i = 69\n",
            "currnet j = 6\n",
            "currnet j = 9\n",
            "**managed num = 84\n",
            "\n",
            "currnet i = 70\n",
            "currnet j = 7\n",
            "currnet j = 0\n",
            "**managed num = 77\n",
            "\n",
            "currnet i = 71\n",
            "currnet j = 7\n",
            "currnet j = 1\n",
            "**managed num = 79\n",
            "\n",
            "currnet i = 72\n",
            "currnet j = 7\n",
            "currnet j = 2\n",
            "**managed num = 81\n",
            "\n",
            "currnet i = 73\n",
            "currnet j = 7\n",
            "currnet j = 3\n",
            "**managed num = 83\n",
            "\n",
            "currnet i = 74\n",
            "currnet j = 7\n",
            "currnet j = 4\n",
            "**managed num = 85\n",
            "\n",
            "currnet i = 75\n",
            "currnet j = 7\n",
            "currnet j = 5\n",
            "**managed num = 87\n",
            "\n",
            "currnet i = 76\n",
            "currnet j = 7\n",
            "currnet j = 6\n",
            "**managed num = 89\n",
            "\n",
            "currnet i = 77\n",
            "currnet j = 7\n",
            "currnet j = 7\n",
            "**managed num = 91\n",
            "\n",
            "currnet i = 78\n",
            "currnet j = 7\n",
            "currnet j = 8\n",
            "**managed num = 93\n",
            "\n",
            "currnet i = 79\n",
            "currnet j = 7\n",
            "currnet j = 9\n",
            "**managed num = 95\n",
            "\n",
            "currnet i = 80\n",
            "currnet j = 8\n",
            "currnet j = 0\n",
            "**managed num = 88\n",
            "\n",
            "currnet i = 81\n",
            "currnet j = 8\n",
            "currnet j = 1\n",
            "**managed num = 90\n",
            "\n",
            "currnet i = 82\n",
            "currnet j = 8\n",
            "currnet j = 2\n",
            "**managed num = 92\n",
            "\n",
            "currnet i = 83\n",
            "currnet j = 8\n",
            "currnet j = 3\n",
            "**managed num = 94\n",
            "\n",
            "currnet i = 84\n",
            "currnet j = 8\n",
            "currnet j = 4\n",
            "**managed num = 96\n",
            "\n",
            "currnet i = 85\n",
            "currnet j = 8\n",
            "currnet j = 5\n",
            "**managed num = 98\n",
            "\n",
            "currnet i = 86\n",
            "currnet j = 8\n",
            "currnet j = 6\n",
            "**managed num = 100\n",
            "\n",
            "currnet i = 87\n",
            "currnet j = 8\n",
            "currnet j = 7\n",
            "**managed num = 102\n",
            "\n",
            "currnet i = 88\n",
            "currnet j = 8\n",
            "currnet j = 8\n",
            "**managed num = 104\n",
            "\n",
            "currnet i = 89\n",
            "currnet j = 8\n",
            "currnet j = 9\n",
            "**managed num = 106\n",
            "\n",
            "currnet i = 90\n",
            "currnet j = 9\n",
            "currnet j = 0\n",
            "**managed num = 99\n",
            "\n",
            "currnet i = 91\n",
            "currnet j = 9\n",
            "currnet j = 1\n",
            "**managed num = 101\n",
            "\n",
            "currnet i = 92\n",
            "currnet j = 9\n",
            "currnet j = 2\n",
            "**managed num = 103\n",
            "\n",
            "currnet i = 93\n",
            "currnet j = 9\n",
            "currnet j = 3\n",
            "**managed num = 105\n",
            "\n",
            "currnet i = 94\n",
            "currnet j = 9\n",
            "currnet j = 4\n",
            "**managed num = 107\n",
            "\n",
            "currnet i = 95\n",
            "currnet j = 9\n",
            "currnet j = 5\n",
            "**managed num = 109\n",
            "\n",
            "currnet i = 96\n",
            "currnet j = 9\n",
            "currnet j = 6\n",
            "**managed num = 111\n",
            "\n",
            "currnet i = 97\n",
            "currnet j = 9\n",
            "currnet j = 7\n",
            "**managed num = 113\n",
            "\n",
            "currnet i = 98\n",
            "currnet j = 9\n",
            "currnet j = 8\n",
            "**managed num = 115\n",
            "\n",
            "currnet i = 99\n",
            "currnet j = 9\n",
            "currnet j = 9\n",
            "**managed num = 117\n",
            "\n",
            "currnet i = 100\n",
            "currnet j = 1\n",
            "currnet j = 0\n",
            "currnet j = 0\n",
            "**managed num = 101\n",
            "\n",
            "{2, 4, 6, 8, 10, 11, 12, 13, 14, 15, 16, 17, 18, 19, 21, 22, 23, 24, 25, 26, 27, 28, 29, 30, 32, 33, 34, 35, 36, 37, 38, 39, 40, 41, 43, 44, 45, 46, 47, 48, 49, 50, 51, 52, 54, 55, 56, 57, 58, 59, 60, 61, 62, 63, 65, 66, 67, 68, 69, 70, 71, 72, 73, 74, 76, 77, 78, 79, 80, 81, 82, 83, 84, 85, 87, 88, 89, 90, 91, 92, 93, 94, 95, 96, 98, 99, 100, 101, 102, 103, 104, 105, 106, 107, 109, 111, 113, 115, 117}\n",
            "{1, 2, 3, 4, 5, 6, 7, 8, 9, 10, 11, 12, 13, 14, 15, 16, 17, 18, 19, 20, 21, 22, 23, 24, 25, 26, 27, 28, 29, 30, 31, 32, 33, 34, 35, 36, 37, 38, 39, 40, 41, 42, 43, 44, 45, 46, 47, 48, 49, 50, 51, 52, 53, 54, 55, 56, 57, 58, 59, 60, 61, 62, 63, 64, 65, 66, 67, 68, 69, 70, 71, 72, 73, 74, 75, 76, 77, 78, 79, 80, 81, 82, 83, 84, 85, 86, 87, 88, 89, 90, 91, 92, 93, 94, 95, 96, 97, 98, 99, 100}\n",
            "[1, 3, 5, 7, 9, 20, 31, 42, 53, 64, 75, 86, 97]\n"
          ],
          "name": "stdout"
        }
      ]
    },
    {
      "cell_type": "code",
      "metadata": {
        "id": "eTwKShDPrINR",
        "colab_type": "code",
        "outputId": "d316e8f1-fbf0-4baa-e4bc-88b5605ae206",
        "colab": {
          "base_uri": "https://localhost:8080/",
          "height": 52
        }
      },
      "source": [
        "'''\n",
        "문제\n",
        "어떤 양의 정수 X의 각 자리가 등차수열을 이룬다면, 그 수를 한수라고 한다. 등차수열은 연속된 두 개의 수의 차이가 일정한 수열을 말한다.\n",
        "N이 주어졌을 때, 1보다 크거나 같고, N보다 작거나 같은 한수의 개수를 출력하는 프로그램을 작성하시오. \n",
        "\n",
        "입력\n",
        "첫째 줄에 1,000보다 작거나 같은 자연수 N이 주어진다.\n",
        "\n",
        "출력\n",
        "첫째 줄에 1보다 크거나 같고, N보다 작거나 같은 한수의 개수를 출력한다.\n",
        "'''\n",
        "def Han(n):\n",
        "        cnt = 0\n",
        "        if (n < 100):\n",
        "                return n\n",
        "        else:\n",
        "                for i in range(100,(n+1)):\n",
        "                        hund = (i//100)\n",
        "                        ten = ((i%100)//10)\n",
        "                        one = ((i%100)%10)\n",
        " \n",
        "                        if ((hund - ten) == (ten - one)):\n",
        "                                cnt += 1\n",
        "                return (99+cnt)\n",
        " \n",
        "inp = int(input())\n",
        "res = Han(inp)\n",
        "print(res)"
      ],
      "execution_count": 0,
      "outputs": [
        {
          "output_type": "stream",
          "text": [
            "123\n",
            "101\n"
          ],
          "name": "stdout"
        }
      ]
    },
    {
      "cell_type": "code",
      "metadata": {
        "id": "AVDt6GAHEGEf",
        "colab_type": "code",
        "outputId": "b0c47b3a-db36-4728-ea13-8773d4a01987",
        "colab": {
          "base_uri": "https://localhost:8080/",
          "height": 52
        }
      },
      "source": [
        "'''\n",
        "문제\n",
        "알파벳 소문자, 대문자, 숫자 0-9중 하나가 주어졌을 때, 주어진 글자의 아스키 코드값을 출력하는 프로그램을 작성하시오.\n",
        "\n",
        "입력\n",
        "알파벳 소문자, 대문자, 숫자 0-9 중 하나가 첫째 줄에 주어진다.\n",
        "\n",
        "출력\n",
        "입력으로 주어진 글자의 아스키 코드 값을 출력한다.\n",
        "\n",
        "A 65\n",
        "C 67\n",
        "Z 90\n",
        "\n",
        "0 48\n",
        "9 57\n",
        "\n",
        "a 97\n",
        "z 122\n",
        "\n",
        "'''\n",
        "def asc():\n",
        "  number = ['0', '1', '2', '3', '4', '5', '6', '7', '8', '9']\n",
        "  A_Z = ['A', 'B', 'C', 'D', 'E', 'F', 'G', 'H', 'I', 'J', 'K', 'L', 'M', 'N', 'O', 'P', 'Q', 'R', 'S', 'T', 'U', 'V', 'W', 'X', 'Y', 'Z']\n",
        "  a_z = []\n",
        "  for i in A_Z:\n",
        "    a_z.append(i.lower())\n",
        "  inp = input()\n",
        "  if inp in number:\n",
        "    print(number.index(inp) + 48)\n",
        "  elif inp in A_Z:\n",
        "    print(A_Z.index(inp) + 65)\n",
        "  elif inp in a_z:\n",
        "    print(a_z.index(inp) + 97)\n",
        "\n",
        "asc()"
      ],
      "execution_count": 0,
      "outputs": [
        {
          "output_type": "stream",
          "text": [
            "9\n",
            "57\n"
          ],
          "name": "stdout"
        }
      ]
    },
    {
      "cell_type": "code",
      "metadata": {
        "id": "RjysyErUEGG0",
        "colab_type": "code",
        "outputId": "1226501c-396d-4ad7-a960-1a64cd602eb3",
        "colab": {
          "base_uri": "https://localhost:8080/",
          "height": 70
        }
      },
      "source": [
        "length = int(input())\n",
        "\n",
        "num = input()\n",
        "ans = 0\n",
        "for i in num:\n",
        "  ans = ans + int(i)\n",
        "\n",
        "print(ans)"
      ],
      "execution_count": 0,
      "outputs": [
        {
          "output_type": "stream",
          "text": [
            "5\n",
            "54321\n",
            "15\n"
          ],
          "name": "stdout"
        }
      ]
    },
    {
      "cell_type": "code",
      "metadata": {
        "id": "Y3Hqe8LpEGJe",
        "colab_type": "code",
        "outputId": "39c406b6-e96a-4a44-98fa-1df0c1220f01",
        "colab": {
          "base_uri": "https://localhost:8080/",
          "height": 52
        }
      },
      "source": [
        "inp = input()\n",
        "\n",
        "a_z = ['a', 'b', 'c', 'd', 'e', 'f', 'g', 'h', 'i', 'j', 'k', 'l', 'm', 'n', 'o', 'p', 'q', 'r', 's', 't', 'u', 'v', 'w', 'x', 'y', 'z']\n",
        "\n",
        "ans = ''\n",
        "for i in range(len(a_z)):\n",
        "  res = inp.lower().find(a_z[i])\n",
        "  ans = ans + str(res) + ' '\n",
        "\n",
        "print(ans)"
      ],
      "execution_count": 0,
      "outputs": [
        {
          "output_type": "stream",
          "text": [
            "baekjoon\n",
            "1 0 -1 -1 2 -1 -1 -1 -1 4 3 -1 -1 7 5 -1 -1 -1 -1 -1 -1 -1 -1 -1 -1 -1 \n"
          ],
          "name": "stdout"
        }
      ]
    },
    {
      "cell_type": "code",
      "metadata": {
        "id": "5R_lv0wDEGL1",
        "colab_type": "code",
        "outputId": "057b6dc5-9a83-4097-8418-98e6083a300b",
        "colab": {
          "base_uri": "https://localhost:8080/",
          "height": 105
        }
      },
      "source": [
        "N = int(input())\n",
        "for i in range(N):\n",
        "  sent = list(input().split())\n",
        "  num = int(sent[0])\n",
        "  word = sent[1]\n",
        "  ans = ''\n",
        "  for j in word:\n",
        "    ans = ans + j * num\n",
        "  print(ans)"
      ],
      "execution_count": 0,
      "outputs": [
        {
          "output_type": "stream",
          "text": [
            "2\n",
            "3 ABC\n",
            "AAABBBCCC\n",
            "5 /HTP\n",
            "/////HHHHHTTTTTPPPPP\n"
          ],
          "name": "stdout"
        }
      ]
    },
    {
      "cell_type": "code",
      "metadata": {
        "id": "EO8-NIhEEGOQ",
        "colab_type": "code",
        "outputId": "efdc8a55-1cdd-47f1-9142-a078fbdead30",
        "colab": {
          "base_uri": "https://localhost:8080/",
          "height": 52
        }
      },
      "source": [
        "inp = input().upper()\n",
        "d = {}\n",
        "for i in inp:\n",
        "  d[i] = inp.count(i)\n",
        "\n",
        "key = list(d.keys())\n",
        "val = list(d.values())\n",
        "\n",
        "\n",
        "m = max(val)\n",
        "\n",
        "ind = val.index(m)\n",
        "\n",
        "\n",
        "cnt = di.count(m)\n",
        "if cnt >= 2:\n",
        "  print('?')\n",
        "else:\n",
        "  print(key[ind])\n",
        "\n",
        "\n",
        "words = input().upper()\n",
        "words_list = list(set(words))\n",
        "word_count = list()\n",
        "\n",
        "for i in words_list:\n",
        "    count = words.count(i)\n",
        "    word_count.append(count)\n",
        "\n",
        "if(word_count.count(max(word_count)) >= 2):\n",
        "    print('?')\n",
        "else:\n",
        "    print(words_list[(word_count.index(max(word_count)))])"
      ],
      "execution_count": 0,
      "outputs": [
        {
          "output_type": "stream",
          "text": [
            "baaa\n",
            "A\n"
          ],
          "name": "stdout"
        }
      ]
    },
    {
      "cell_type": "code",
      "metadata": {
        "id": "Z1RzsFQiEGRp",
        "colab_type": "code",
        "outputId": "8e0a5212-9276-410b-ebb9-8c8ceff39acf",
        "colab": {
          "base_uri": "https://localhost:8080/",
          "height": 52
        }
      },
      "source": [
        "words = input().split()\n",
        "cnt = len(words)\n",
        "print(cnt)"
      ],
      "execution_count": 0,
      "outputs": [
        {
          "output_type": "stream",
          "text": [
            "The Curious Case of Benjamin Button\n",
            "6\n"
          ],
          "name": "stdout"
        }
      ]
    },
    {
      "cell_type": "code",
      "metadata": {
        "id": "t_nH8VVemZml",
        "colab_type": "code",
        "outputId": "72f70621-742e-4f43-9f5e-cad4f2d1eab3",
        "colab": {
          "base_uri": "https://localhost:8080/",
          "height": 52
        }
      },
      "source": [
        "a, b = input().split()\n",
        "\n",
        "c = ''\n",
        "d = ''\n",
        "\n",
        "for i in range(2, -1, -1):\n",
        "  c = c + a[i]\n",
        "  d = d + b[i]\n",
        "\n",
        "print(max(c, d))"
      ],
      "execution_count": 0,
      "outputs": [
        {
          "output_type": "stream",
          "text": [
            "734 893\n",
            "437\n"
          ],
          "name": "stdout"
        }
      ]
    },
    {
      "cell_type": "code",
      "metadata": {
        "id": "l6DNkKWBvdSZ",
        "colab_type": "code",
        "outputId": "530c4e0c-d4df-4c17-d8d3-2022c57d78c5",
        "colab": {
          "base_uri": "https://localhost:8080/",
          "height": 52
        }
      },
      "source": [
        "# 첫째 줄에 알파벳 대문자로 이루어진 단어가 주어진다. 단어는 2글자~15글자로 이루어져 있다.\n",
        "# 첫째 줄에 다이얼을 걸기 위해서 필요한 시간을 출력한다.\n",
        "\n",
        "# UNUCIC 868242\n",
        "\n",
        "num = ['0', '1', 'ABC', 'DEF', 'GHI', 'JKL', 'MNO', 'PQRS', 'TUV', 'WXYZ']\n",
        "\n",
        "inp = input().upper().replace('', ' ').split()\n",
        "\n",
        "li = []\n",
        "for i in num:\n",
        "  for j in inp:\n",
        "    if i.find(j) != -1:\n",
        "      ind = num.index(i) + 1\n",
        "      li.append(ind)\n",
        "print(sum(li))"
      ],
      "execution_count": 0,
      "outputs": [
        {
          "output_type": "stream",
          "text": [
            "UNUCIC\n",
            "36\n"
          ],
          "name": "stdout"
        }
      ]
    },
    {
      "cell_type": "code",
      "metadata": {
        "id": "naS6Yaw90P3q",
        "colab_type": "code",
        "outputId": "b14e1330-9360-4761-c5ac-860a2830fce0",
        "colab": {
          "base_uri": "https://localhost:8080/",
          "height": 193
        }
      },
      "source": [
        "alph = ['c=', 'c-', 'dz=', 'd-', 'lj', 'nj', 's=', 'z=','e', 'a', 'k']\n",
        "\n",
        "inp = input()\n",
        "\n",
        "li = []\n",
        "for i in alph:\n",
        "  if i == 'dz=':\n",
        "    a = inp.count(i)\n",
        "    li.append(a)\n",
        "    inp = inp.replace('dz=', ' ')\n",
        "\n",
        "  a = inp.count(i)\n",
        "  li.append(a)\n",
        "  if a >= 1:\n",
        "    left = inp.replace(i, ' ').split()\n",
        "    print(i)\n",
        "    length = len(left)\n",
        "if left[0] == inp:\n",
        "  length = 0\n",
        "\n",
        "print(left)\n",
        "print(li)\n",
        "print(sum(li) + length)"
      ],
      "execution_count": 0,
      "outputs": [
        {
          "output_type": "stream",
          "text": [
            "ljes=njak\n",
            "lj\n",
            "nj\n",
            "s=\n",
            "e\n",
            "a\n",
            "k\n",
            "['ljes=nja']\n",
            "[0, 0, 0, 0, 0, 1, 1, 1, 0, 1, 1, 1]\n",
            "7\n"
          ],
          "name": "stdout"
        }
      ]
    },
    {
      "cell_type": "code",
      "metadata": {
        "id": "prOu3UFoPS7i",
        "colab_type": "code",
        "outputId": "3f171042-29e6-4e43-8e22-6e17e90115e8",
        "colab": {
          "base_uri": "https://localhost:8080/",
          "height": 52
        }
      },
      "source": [
        "words = input()\n",
        "cro_word_list = ['c=', 'c-', 'dz=', 'd-', 'lj', 'nj', 's=', 'z=']\n",
        "\n",
        "for cro in cro_word_list:\n",
        "    words = words.replace(cro, '.')\n",
        "print(len(words))"
      ],
      "execution_count": 0,
      "outputs": [
        {
          "output_type": "stream",
          "text": [
            "ddz=z=\n",
            "3\n"
          ],
          "name": "stdout"
        }
      ]
    },
    {
      "cell_type": "code",
      "metadata": {
        "id": "M6OIcP5OQN0n",
        "colab_type": "code",
        "outputId": "bb577d10-1749-4ae3-bc5e-282e0c7a3bb8",
        "colab": {
          "base_uri": "https://localhost:8080/",
          "height": 105
        }
      },
      "source": [
        "N = int(input())\n",
        "\n",
        "cnt = 0\n",
        "for i in range(N):\n",
        "  words = input()\n",
        "for i in len(words):\n",
        "  if words[i] == words[i+1]:\n",
        "    cnt = 0\n",
        "  else:\n",
        "    cnt = cnt + 1\n",
        "print(cnt)\n"
      ],
      "execution_count": 0,
      "outputs": [
        {
          "output_type": "stream",
          "text": [
            "3\n",
            "happy\n",
            "new\n",
            "year\n",
            "4\n"
          ],
          "name": "stdout"
        }
      ]
    },
    {
      "cell_type": "code",
      "metadata": {
        "id": "zm6Hy3YWTfRd",
        "colab_type": "code",
        "outputId": "eede5228-c71f-438f-a6b7-3a21fe722c23",
        "colab": {
          "base_uri": "https://localhost:8080/",
          "height": 34
        }
      },
      "source": [
        "word = 'happy'\n",
        "# for j in word:\n",
        "#   print(word.count('{0}{1}'.format(j, j)))\n",
        "print(word.count('pp'))"
      ],
      "execution_count": 0,
      "outputs": [
        {
          "output_type": "stream",
          "text": [
            "1\n"
          ],
          "name": "stdout"
        }
      ]
    }
  ]
}