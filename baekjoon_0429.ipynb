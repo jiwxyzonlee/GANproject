{
  "nbformat": 4,
  "nbformat_minor": 0,
  "metadata": {
    "colab": {
      "name": "baekjoon_0429.ipynb",
      "provenance": [],
      "collapsed_sections": []
    },
    "kernelspec": {
      "name": "python3",
      "display_name": "Python 3"
    }
  },
  "cells": [
    {
      "cell_type": "code",
      "metadata": {
        "id": "Oe2QfsqWlRKo",
        "colab_type": "code",
        "colab": {}
      },
      "source": [
        "\"\"\"\n",
        "\\    /\\\n",
        " )  ( ')\n",
        "(  /  )\n",
        " \\(__)|\n",
        "\"\"\""
      ],
      "execution_count": 0,
      "outputs": []
    },
    {
      "cell_type": "code",
      "metadata": {
        "id": "Ozg-2kiflYez",
        "colab_type": "code",
        "colab": {
          "base_uri": "https://localhost:8080/",
          "height": 89
        },
        "outputId": "47546999-74ab-4984-8cc5-6411bef61c93"
      },
      "source": [
        "print(\"\\\\    /\\\\\")\n",
        "print(\" )  ( ')\")\n",
        "print(\"(  /  )\")\n",
        "print(\" \\\\(__)|\")"
      ],
      "execution_count": 6,
      "outputs": [
        {
          "output_type": "stream",
          "text": [
            "\\    /\\\n",
            " )  ( ')\n",
            "(  /  )\n",
            " \\(__)|\n"
          ],
          "name": "stdout"
        }
      ]
    },
    {
      "cell_type": "code",
      "metadata": {
        "id": "aYQDTeHClYhX",
        "colab_type": "code",
        "colab": {}
      },
      "source": [
        "\"\"\"\n",
        "|\\_/|\n",
        "|q p|   /}\n",
        "( 0 )\"\"\"\\\n",
        "|\"^\"`    |\n",
        "||_/=\\\\__|\n",
        "\"\"\""
      ],
      "execution_count": 0,
      "outputs": []
    },
    {
      "cell_type": "code",
      "metadata": {
        "id": "2zynCMCnlYjX",
        "colab_type": "code",
        "colab": {
          "base_uri": "https://localhost:8080/",
          "height": 107
        },
        "outputId": "f153b16e-d4eb-4a8a-bfd0-1da627c35c2f"
      },
      "source": [
        "print(\"|\\\\_/|\")\n",
        "print(\"|q p|   /}\")\n",
        "print('( 0 )\"\"\"\\\\')\n",
        "print('|\"^\"`    |')\n",
        "print('||_/=\\\\\\\\__|')"
      ],
      "execution_count": 7,
      "outputs": [
        {
          "output_type": "stream",
          "text": [
            "|\\_/|\n",
            "|q p|   /}\n",
            "( 0 )\"\"\"\\\n",
            "|\"^\"`    |\n",
            "||_/=\\\\__|\n"
          ],
          "name": "stdout"
        }
      ]
    },
    {
      "cell_type": "code",
      "metadata": {
        "id": "2K7A2LsfmREY",
        "colab_type": "code",
        "colab": {}
      },
      "source": [
        "1 2"
      ],
      "execution_count": 0,
      "outputs": []
    },
    {
      "cell_type": "code",
      "metadata": {
        "id": "g-CCL_ZIoIIy",
        "colab_type": "code",
        "colab": {
          "base_uri": "https://localhost:8080/",
          "height": 35
        },
        "outputId": "32cd14ec-52dc-4307-e20d-314835ceabd7"
      },
      "source": [
        "string = input()"
      ],
      "execution_count": 20,
      "outputs": [
        {
          "output_type": "stream",
          "text": [
            "1 2\n"
          ],
          "name": "stdout"
        }
      ]
    },
    {
      "cell_type": "code",
      "metadata": {
        "id": "jd3fmbXioSIp",
        "colab_type": "code",
        "colab": {}
      },
      "source": [
        "li = string.split(' ')"
      ],
      "execution_count": 0,
      "outputs": []
    },
    {
      "cell_type": "code",
      "metadata": {
        "id": "wAt4Jw6kooAh",
        "colab_type": "code",
        "colab": {
          "base_uri": "https://localhost:8080/",
          "height": 35
        },
        "outputId": "203cdf7a-2efc-4b89-ea56-6b5011d04551"
      },
      "source": [
        "print(li)"
      ],
      "execution_count": 22,
      "outputs": [
        {
          "output_type": "stream",
          "text": [
            "['1', '2']\n"
          ],
          "name": "stdout"
        }
      ]
    },
    {
      "cell_type": "code",
      "metadata": {
        "id": "z-zkQUYYotaA",
        "colab_type": "code",
        "colab": {
          "base_uri": "https://localhost:8080/",
          "height": 35
        },
        "outputId": "5cfa8933-e572-42c5-d7a0-1390b210054a"
      },
      "source": [
        "lis = []\n",
        "for i in li:\n",
        "  i = int(i)\n",
        "  lis.append(i)\n",
        "\n",
        "print(lis[0] + lis[1])"
      ],
      "execution_count": 26,
      "outputs": [
        {
          "output_type": "stream",
          "text": [
            "3\n"
          ],
          "name": "stdout"
        }
      ]
    },
    {
      "cell_type": "code",
      "metadata": {
        "id": "vEhzo8mBqaKj",
        "colab_type": "code",
        "colab": {
          "base_uri": "https://localhost:8080/",
          "height": 35
        },
        "outputId": "67d060bb-4602-46c0-b452-ac4fb47a899e"
      },
      "source": [
        "string = input()"
      ],
      "execution_count": 27,
      "outputs": [
        {
          "output_type": "stream",
          "text": [
            "3 2\n"
          ],
          "name": "stdout"
        }
      ]
    },
    {
      "cell_type": "code",
      "metadata": {
        "id": "z4Dw_6ZjqfbQ",
        "colab_type": "code",
        "colab": {
          "base_uri": "https://localhost:8080/",
          "height": 35
        },
        "outputId": "e0a05b98-0e97-42e9-f678-036c5a774b2f"
      },
      "source": [
        "li = string.split(' ')\n",
        "# print(li)"
      ],
      "execution_count": 29,
      "outputs": [
        {
          "output_type": "stream",
          "text": [
            "['3', '2']\n"
          ],
          "name": "stdout"
        }
      ]
    },
    {
      "cell_type": "code",
      "metadata": {
        "id": "yR0p8ddeqfdo",
        "colab_type": "code",
        "colab": {
          "base_uri": "https://localhost:8080/",
          "height": 35
        },
        "outputId": "eb5f54a5-d77f-4abf-a652-f56cca80eaa3"
      },
      "source": [
        "lis = []\n",
        "for i in li:\n",
        "  i = int(i)\n",
        "  lis.append(i)\n",
        "\n",
        "print(lis[0] - lis[1])"
      ],
      "execution_count": 30,
      "outputs": [
        {
          "output_type": "stream",
          "text": [
            "1\n"
          ],
          "name": "stdout"
        }
      ]
    },
    {
      "cell_type": "code",
      "metadata": {
        "id": "xeTSTtJxqff0",
        "colab_type": "code",
        "colab": {}
      },
      "source": [
        "1 2\n",
        "3 4"
      ],
      "execution_count": 0,
      "outputs": []
    },
    {
      "cell_type": "code",
      "metadata": {
        "id": "5JEECrKvq84D",
        "colab_type": "code",
        "colab": {
          "base_uri": "https://localhost:8080/",
          "height": 89
        },
        "outputId": "b31fe92c-37c9-4624-cb22-f40deac11603"
      },
      "source": [
        "def mul():\n",
        "  string = input()\n",
        "  li = string.split(' ')\n",
        "  lis = []\n",
        "  for i in li:\n",
        "    i = int(i)\n",
        "    lis.append(i)\n",
        "\n",
        "  print(lis[0] * lis[1])\n",
        "\n",
        "mul()\n",
        "mul()"
      ],
      "execution_count": 43,
      "outputs": [
        {
          "output_type": "stream",
          "text": [
            "1 2\n",
            "2\n",
            "3 4\n",
            "12\n"
          ],
          "name": "stdout"
        }
      ]
    },
    {
      "cell_type": "code",
      "metadata": {
        "id": "vvSYRfpDtai7",
        "colab_type": "code",
        "colab": {
          "base_uri": "https://localhost:8080/",
          "height": 89
        },
        "outputId": "e7e4e3f0-f3e4-417f-98f6-9ed371c688be"
      },
      "source": [
        "def mul():\n",
        "  string = input()\n",
        "  a = int(string[0])\n",
        "  b = int(string[2])\n",
        "  print(a * b)\n",
        "\n",
        "mul()\n",
        "mul()"
      ],
      "execution_count": 48,
      "outputs": [
        {
          "output_type": "stream",
          "text": [
            "1 2\n",
            "2\n",
            "3 4\n",
            "12\n"
          ],
          "name": "stdout"
        }
      ]
    },
    {
      "cell_type": "code",
      "metadata": {
        "id": "99xcElVlq86R",
        "colab_type": "code",
        "colab": {
          "base_uri": "https://localhost:8080/",
          "height": 89
        },
        "outputId": "a4c12077-a037-4167-b758-e50d5431d9e9"
      },
      "source": [
        "string = input()\n",
        "li = string.split(' ')\n",
        "lis = []\n",
        "for i in li:\n",
        "  i = int(i)\n",
        "  lis.append(i)\n",
        "\n",
        "print(lis[0] * lis[1])\n",
        "\n",
        "string1 = input()\n",
        "li = string1.split(' ')\n",
        "lis = []\n",
        "for i in li:\n",
        "  i = int(i)\n",
        "  lis.append(i)\n",
        "\n",
        "print(lis[0] * lis[1])"
      ],
      "execution_count": 46,
      "outputs": [
        {
          "output_type": "stream",
          "text": [
            "1 2\n",
            "2\n",
            "3 4\n",
            "12\n"
          ],
          "name": "stdout"
        }
      ]
    },
    {
      "cell_type": "code",
      "metadata": {
        "id": "BnqM2d42q88h",
        "colab_type": "code",
        "colab": {}
      },
      "source": [
        "a,b = input().split()\n",
        "a = int(a)\n",
        "b = int(b)\n",
        "print(a/b)"
      ],
      "execution_count": 0,
      "outputs": []
    },
    {
      "cell_type": "code",
      "metadata": {
        "id": "pt-3A0Gtq8-x",
        "colab_type": "code",
        "colab": {
          "base_uri": "https://localhost:8080/",
          "height": 125
        },
        "outputId": "a522158c-06cf-4fde-db66-9e4d834ece17"
      },
      "source": [
        "a, b = input().split()\n",
        "a = int(a)\n",
        "b = int(b)\n",
        "print(a + b)\n",
        "print(a - b)\n",
        "print(a * b)\n",
        "print(a // b)\n",
        "print(a % b)"
      ],
      "execution_count": 50,
      "outputs": [
        {
          "output_type": "stream",
          "text": [
            "7 3\n",
            "10\n",
            "4\n",
            "21\n",
            "2\n",
            "1\n"
          ],
          "name": "stdout"
        }
      ]
    },
    {
      "cell_type": "code",
      "metadata": {
        "id": "PvUOO4uUq9Ac",
        "colab_type": "code",
        "colab": {
          "base_uri": "https://localhost:8080/",
          "height": 107
        },
        "outputId": "7f64f678-f890-454d-efcd-8e49057f1fb7"
      },
      "source": [
        "\"첫째 줄에 (A+B)%C, 둘째 줄에 ((A%C) + (B%C))%C, 셋째 줄에 (A×B)%C, 넷째 줄에 ((A%C) × (B%C))%C를 출력한다.\"\n",
        "\"5 8 4\"\n",
        "\n",
        "\n",
        "a, b, c = input().split()\n",
        "A = int(a)\n",
        "B = int(b)\n",
        "C = int(c)\n",
        "\n",
        "print((A+B)%C)\n",
        "print(((A%C) + (B%C))%C)\n",
        "print((A*B)%C)\n",
        "print(((A%C) * (B%C))%C)"
      ],
      "execution_count": 55,
      "outputs": [
        {
          "output_type": "stream",
          "text": [
            "5 8 4\n",
            "1\n",
            "1\n",
            "0\n",
            "0\n"
          ],
          "name": "stdout"
        }
      ]
    },
    {
      "cell_type": "code",
      "metadata": {
        "id": "KxjVVGBuwEML",
        "colab_type": "code",
        "colab": {}
      },
      "source": [
        "a = 472\n",
        "b, c, d = 385.split()\n",
        "\n",
        "a = int(a)\n",
        "b = int(b)\n",
        "c = int(c)\n",
        "d = int(d)\n",
        "\n",
        "w = a * d\n",
        "x = a * c\n",
        "y = a * b\n",
        "\n",
        "z = w + x*10 + y**10\n",
        "\n",
        "2360 = 472*5\n",
        "3776 = 472*8\n",
        "1416 = 472 * 3\n",
        "181720 = "
      ],
      "execution_count": 0,
      "outputs": []
    },
    {
      "cell_type": "code",
      "metadata": {
        "id": "W54axTZ0wEOY",
        "colab_type": "code",
        "colab": {
          "base_uri": "https://localhost:8080/",
          "height": 143
        },
        "outputId": "58fe617a-bf18-47b9-843b-0719c13cfe45"
      },
      "source": [
        "a = input()\n",
        "b, c, d = input().replace('', ' ').split()\n",
        "\n",
        "a = int(a)\n",
        "b = int(b)\n",
        "c = int(c)\n",
        "d = int(d)\n",
        "\n",
        "w = a * d\n",
        "x = a * c\n",
        "y = a * b\n",
        "\n",
        "z = w + x*10 + y*10*10\n",
        "\n",
        "print(w)\n",
        "print(x)\n",
        "print(y)\n",
        "print(z)"
      ],
      "execution_count": 62,
      "outputs": [
        {
          "output_type": "stream",
          "text": [
            "472\n",
            "385\n",
            "3\n",
            "2360\n",
            "3776\n",
            "1416\n",
            "181720\n"
          ],
          "name": "stdout"
        }
      ]
    },
    {
      "cell_type": "code",
      "metadata": {
        "id": "SpmhTek9wEQt",
        "colab_type": "code",
        "colab": {
          "base_uri": "https://localhost:8080/",
          "height": 53
        },
        "outputId": "2357e3dd-e4b1-4d05-ae26-2a6457a6f855"
      },
      "source": [
        "\"\"\"\n",
        "A가 B보다 큰 경우에는 '>'를 출력한다.\n",
        "A가 B보다 작은 경우에는 '<'를 출력한다.\n",
        "A와 B가 같은 경우에는 '=='를 출력한다.\n",
        "\"\"\"\n",
        "\n",
        "a,b = input().split()\n",
        "\n",
        "if a > b:\n",
        "  print('>')\n",
        "if a < b:\n",
        "  print('<')\n",
        "if a == b:\n",
        "  print('==')"
      ],
      "execution_count": 65,
      "outputs": [
        {
          "output_type": "stream",
          "text": [
            "2 2\n",
            "==\n"
          ],
          "name": "stdout"
        }
      ]
    },
    {
      "cell_type": "code",
      "metadata": {
        "id": "Jfoa9UpAwESv",
        "colab_type": "code",
        "colab": {
          "base_uri": "https://localhost:8080/",
          "height": 53
        },
        "outputId": "40da40e1-26cb-42da-80d9-b1f14cf0d065"
      },
      "source": [
        "a, b = map(int, input().split())\n",
        " \n",
        "if a > b:\n",
        "  print(\">\")\n",
        "elif a == b:\n",
        "  print(\"==\")\n",
        "else:\n",
        "  print(\"<\")"
      ],
      "execution_count": 68,
      "outputs": [
        {
          "output_type": "stream",
          "text": [
            "10 2\n",
            ">\n"
          ],
          "name": "stdout"
        }
      ]
    },
    {
      "cell_type": "code",
      "metadata": {
        "id": "ZzCBiGyN0OOE",
        "colab_type": "code",
        "colab": {}
      },
      "source": [
        "\"시험 점수를 입력받아 90 ~ 100점은 A, 80 ~ 89점은 B, 70 ~ 79점은 C, 60 ~ 69점은 D, 나머지 점수는 F를 출력하는 프로그램을 작성하시오.\"\n",
        "\n",
        "\"첫째 줄에 시험 점수가 주어진다. 시험 점수는 0보다 크거나 같고, 100보다 작거나 같은 정수이다.\""
      ],
      "execution_count": 0,
      "outputs": []
    },
    {
      "cell_type": "code",
      "metadata": {
        "id": "MFZp1RJZ0OQa",
        "colab_type": "code",
        "colab": {
          "base_uri": "https://localhost:8080/",
          "height": 53
        },
        "outputId": "2f047c62-952d-437c-ffb8-78bdf39d92bb"
      },
      "source": [
        "a = input()\n",
        "score = int(a)\n",
        "\n",
        "if 90 <= score <= 100:\n",
        "  print('A')\n",
        "elif 80 <= score < 90:\n",
        "  print('B')\n",
        "elif 70 <= score < 80:\n",
        "  print('C')\n",
        "elif 60 <= score < 70:\n",
        "  print('D')\n",
        "else:\n",
        "  print('F')"
      ],
      "execution_count": 69,
      "outputs": [
        {
          "output_type": "stream",
          "text": [
            "100\n",
            "A\n"
          ],
          "name": "stdout"
        }
      ]
    },
    {
      "cell_type": "code",
      "metadata": {
        "id": "R2-LH6Xv0OSj",
        "colab_type": "code",
        "colab": {
          "base_uri": "https://localhost:8080/",
          "height": 53
        },
        "outputId": "236698d6-432f-4474-da08-0de2c6554bbe"
      },
      "source": [
        "\"\"\"\n",
        "연도가 주어졌을 때, 윤년이면 1, 아니면 0을 출력하는 프로그램을 작성하시오.\n",
        "\n",
        "윤년은 연도가 4의 배수이면서, 100의 배수가 아닐 때 또는 400의 배수일 때이다.\n",
        "\n",
        "예를 들어, 2012년은 4의 배수이면서 100의 배수가 아니라서 윤년이다. 1900년은 100의 배수이고 400의 배수는 아니기 때문에 윤년이 아니다. 하지만, 2000년은 400의 배수이기 때문에 윤년이다.\n",
        "\n",
        "첫째 줄에 연도가 주어진다. 연도는 1보다 크거나 같고, 4000보다 작거나 같은 자연수이다.\n",
        "\n",
        "첫째 줄에 윤년이면 1, 아니면 0을 출력한다.\n",
        "\"\"\"\n",
        "\n",
        "a = input()\n",
        "year = int(a)\n",
        "\n",
        "if (year % 4 == 0 and year % 100 != 0) or year % 400 == 0:\n",
        "  print(1)\n",
        "else:\n",
        "  print(0)"
      ],
      "execution_count": 71,
      "outputs": [
        {
          "output_type": "stream",
          "text": [
            "2000\n",
            "1\n"
          ],
          "name": "stdout"
        }
      ]
    },
    {
      "cell_type": "code",
      "metadata": {
        "id": "jY-w4t0C0OU-",
        "colab_type": "code",
        "colab": {}
      },
      "source": [
        "# 사분면\n",
        "\n",
        "x = int(input())\n",
        "y = int(input())\n",
        "\n",
        "if x > 0 and y > 0:\n",
        "  print(1)\n",
        "elif x > 0 and y < 0:\n",
        "  print(4)\n",
        "elif x < 0 and y < 0:\n",
        "  print(3)\n",
        "elif x < 0 and y > 0:\n",
        "  print(2)\n"
      ],
      "execution_count": 0,
      "outputs": []
    },
    {
      "cell_type": "code",
      "metadata": {
        "id": "9OAkeAZGKzlt",
        "colab_type": "code",
        "colab": {
          "base_uri": "https://localhost:8080/",
          "height": 53
        },
        "outputId": "efa0c8ba-832d-451c-aaa1-e90aa2d99293"
      },
      "source": [
        "# 10 10  9 25\n",
        "# 0 30  23 45\n",
        "# 23 40  22 55\n",
        "\n",
        "\n",
        "#  (0 ≤ H ≤ 23, 0 ≤ M ≤ 59) \n",
        "\n",
        "H, M = map(int, input().split())\n",
        "\n",
        "if M < 45:\n",
        "  H = H - 1\n",
        "  M = M + 15\n",
        "  if H <= 0:\n",
        "    H = (H + 24) % 24\n",
        "\n",
        "print(H, M)"
      ],
      "execution_count": 83,
      "outputs": [
        {
          "output_type": "stream",
          "text": [
            "9 25\n",
            "8 40\n"
          ],
          "name": "stdout"
        }
      ]
    },
    {
      "cell_type": "code",
      "metadata": {
        "id": "NxGsffUGKzoC",
        "colab_type": "code",
        "colab": {}
      },
      "source": [
        "H, M = map(int, input().split())\n",
        "\n",
        "if M > 44 :\n",
        "    print(H, M - 45);\n",
        "elif M < 45 and H > 0 :\n",
        "    print(H-1, M + 15)\n",
        "else :\n",
        "    print(23, M + 15)"
      ],
      "execution_count": 0,
      "outputs": []
    },
    {
      "cell_type": "code",
      "metadata": {
        "id": "pyZKcIpPKzqV",
        "colab_type": "code",
        "colab": {
          "base_uri": "https://localhost:8080/",
          "height": 197
        },
        "outputId": "6ca2cc48-8f95-4b8b-d5e4-24c1ee6ae519"
      },
      "source": [
        "\"\"\"\n",
        "첫째 줄에 N이 주어진다. N은 1보다 크거나 같고, 9보다 작거나 같다.\n",
        "출력형식과 같게 N*1부터 N*9까지 출력한다.\n",
        "2 * 1 = 2\n",
        "2 * 2 = 4\n",
        "2 * 3 = 6\n",
        "2 * 4 = 8\n",
        "2 * 5 = 10\n",
        "2 * 6 = 12\n",
        "2 * 7 = 14\n",
        "2 * 8 = 16\n",
        "2 * 9 = 18\n",
        "\"\"\"\n",
        "\n",
        "li = [0, 1, 2, 3, 4, 5, 6, 7, 8, 9]\n",
        "\n",
        "num = int(input())\n",
        "if num in li:\n",
        "  for i in range(9):\n",
        "    print(num, \"*\", i+1, \"=\", num*(i+1))"
      ],
      "execution_count": 90,
      "outputs": [
        {
          "output_type": "stream",
          "text": [
            "9\n",
            "9 * 1 = 9\n",
            "9 * 2 = 18\n",
            "9 * 3 = 27\n",
            "9 * 4 = 36\n",
            "9 * 5 = 45\n",
            "9 * 6 = 54\n",
            "9 * 7 = 63\n",
            "9 * 8 = 72\n",
            "9 * 9 = 81\n"
          ],
          "name": "stdout"
        }
      ]
    },
    {
      "cell_type": "code",
      "metadata": {
        "id": "R6-T_PvpKzs2",
        "colab_type": "code",
        "colab": {
          "base_uri": "https://localhost:8080/",
          "height": 215
        },
        "outputId": "e5be4859-58e5-4bf7-97e1-e5d7a1744002"
      },
      "source": [
        "\"\"\"\n",
        "두 정수 A와 B를 입력받은 다음, A+B를 출력하는 프로그램을 작성하시오.\n",
        "첫째 줄에 테스트 케이스의 개수 T가 주어진다.\n",
        "\n",
        "각 테스트 케이스는 한 줄로 이루어져 있으며, 각 줄에 A와 B가 주어진다. (0 < A, B < 10)\n",
        "\n",
        "\n",
        "5\n",
        "1 1\n",
        "2 3\n",
        "3 4\n",
        "9 8\n",
        "5 2\n",
        "\n",
        "\n",
        "2\n",
        "5\n",
        "7\n",
        "17\n",
        "7\n",
        "\"\"\"\n",
        "\n",
        "l = int(input())\n",
        "for i in range(l):\n",
        "    a, b = input().split()\n",
        "    print(int(a) + int(b))"
      ],
      "execution_count": 92,
      "outputs": [
        {
          "output_type": "stream",
          "text": [
            "5\n",
            "1 1\n",
            "2\n",
            "2 3\n",
            "5\n",
            "3 1\n",
            "4\n",
            "9 8\n",
            "17\n",
            "5 2\n",
            "7\n"
          ],
          "name": "stdout"
        }
      ]
    },
    {
      "cell_type": "code",
      "metadata": {
        "id": "mqxA2q8wKzul",
        "colab_type": "code",
        "colab": {
          "base_uri": "https://localhost:8080/",
          "height": 53
        },
        "outputId": "d17044a0-cdb5-4db0-9810-695288cd6883"
      },
      "source": [
        "\"\"\"\n",
        "n이 주어졌을 때, 1부터 n까지 합을 구하는 프로그램을 작성하시오.\n",
        "\n",
        "첫째 줄에 n (1 ≤ n ≤ 10,000)이 주어진다.\n",
        "\n",
        "1부터 n까지 합을 출력한다.\n",
        "\n",
        "3  = 1 + 2 + 3 = 6\n",
        "\"\"\"\n",
        "\n",
        "num = int(input())\n",
        "sum = 0\n",
        "for i in range(num + 1):\n",
        "  sum = sum + i\n",
        "print(sum)"
      ],
      "execution_count": 99,
      "outputs": [
        {
          "output_type": "stream",
          "text": [
            "3\n",
            "6\n"
          ],
          "name": "stdout"
        }
      ]
    },
    {
      "cell_type": "code",
      "metadata": {
        "id": "ahm71AFBSUls",
        "colab_type": "code",
        "colab": {
          "base_uri": "https://localhost:8080/",
          "height": 215
        },
        "outputId": "ecf94bbc-16cf-4cda-d2e2-f3a860e99995"
      },
      "source": [
        "\"\"\"\n",
        "Python을 사용하고 있다면, input 대신 sys.stdin.readline을 사용할 수 있다. 단, 이때는 맨 끝의 개행문자까지 같이 입력받기 때문에 문자열을 저장하고 싶을 경우 .rstrip()을 추가로 해 주는 것이 좋다.\n",
        "\n",
        "또한 입력과 출력 스트림은 별개이므로, 테스트케이스를 전부 입력받아서 저장한 뒤 전부 출력할 필요는 없다. 테스트케이스를 하나 받은 뒤 하나 출력해도 된다.\n",
        "\n",
        "첫 줄에 테스트케이스의 개수 T가 주어진다. T는 최대 1,000,000이다. 다음 T줄에는 각각 두 정수 A와 B가 주어진다. A와 B는 1 이상, 1,000 이하이다.\n",
        "\n",
        "각 테스트케이스마다 A+B를 한 줄에 하나씩 순서대로 출력한다.\n",
        "\n",
        "5\n",
        "1 1\n",
        "12 34\n",
        "5 500\n",
        "40 60\n",
        "1000 1000\n",
        "\n",
        "2\n",
        "46\n",
        "505\n",
        "100\n",
        "2000\n",
        "\"\"\"\n",
        "\n",
        "T = int(input())\n",
        "\n",
        "for i in range(T):\n",
        "  a, b = map(int, input().split())\n",
        "  print(a + b)\n",
        "\n",
        "\n",
        "# 시간 초과\n",
        "import sys\n",
        " \n",
        "inp = int(input())\n",
        "for i in range(inp):\n",
        "        a,b = map(int, sys.stdin.readline().split())\n",
        "        print(a+b)"
      ],
      "execution_count": 100,
      "outputs": [
        {
          "output_type": "stream",
          "text": [
            "5\n",
            "1 1\n",
            "2\n",
            "12 34\n",
            "46\n",
            "5 500\n",
            "505\n",
            "40 60\n",
            "100\n",
            "1000 1000\n",
            "2000\n"
          ],
          "name": "stdout"
        }
      ]
    },
    {
      "cell_type": "code",
      "metadata": {
        "id": "0VUkEGXwSUn7",
        "colab_type": "code",
        "colab": {
          "base_uri": "https://localhost:8080/",
          "height": 125
        },
        "outputId": "0a8c2ca5-445b-4af0-a5e1-1855515e15fe"
      },
      "source": [
        "# 자연수 N이 주어졌을 때, 1부터 N까지 한 줄에 하나씩 출력하는 프로그램을 작성하시오.\n",
        "\n",
        "num = int(input())\n",
        "for i in range(num):\n",
        "  print(i + 1)"
      ],
      "execution_count": 102,
      "outputs": [
        {
          "output_type": "stream",
          "text": [
            "5\n",
            "1\n",
            "2\n",
            "3\n",
            "4\n",
            "5\n"
          ],
          "name": "stdout"
        }
      ]
    },
    {
      "cell_type": "code",
      "metadata": {
        "id": "CqhS7UCfSUqs",
        "colab_type": "code",
        "colab": {
          "base_uri": "https://localhost:8080/",
          "height": 125
        },
        "outputId": "2c35bf6e-9a60-405e-9d23-a8c72aa35727"
      },
      "source": [
        "# 자연수 N이 주어졌을 때, N부터 1까지 한 줄에 하나씩 출력하는 프로그램을 작성하시오.\n",
        "\n",
        "num = int(input())\n",
        "for i in range(num):\n",
        "  print(num - i)\n"
      ],
      "execution_count": 104,
      "outputs": [
        {
          "output_type": "stream",
          "text": [
            "5\n",
            "5\n",
            "4\n",
            "3\n",
            "2\n",
            "1\n"
          ],
          "name": "stdout"
        }
      ]
    },
    {
      "cell_type": "code",
      "metadata": {
        "id": "P0s8uuwPSUuC",
        "colab_type": "code",
        "colab": {
          "base_uri": "https://localhost:8080/",
          "height": 215
        },
        "outputId": "559139cb-afdc-426f-8b82-03d0783c2b65"
      },
      "source": [
        "\"\"\"\n",
        "두 정수 A와 B를 입력받은 다음, A+B를 출력하는 프로그램을 작성하시오.\n",
        "\n",
        "첫째 줄에 테스트 케이스의 개수 T가 주어진다.\n",
        "\n",
        "각 테스트 케이스는 한 줄로 이루어져 있으며, 각 줄에 A와 B가 주어진다. (0 < A, B < 10)\n",
        "\n",
        "각 테스트 케이스마다 \"Case #x: \"를 출력한 다음, A+B를 출력한다. 테스트 케이스 번호는 1부터 시작한다.\n",
        "\n",
        "5\n",
        "1 1\n",
        "2 3\n",
        "3 4\n",
        "9 8\n",
        "5 2\n",
        "\n",
        "Case #1: 2\n",
        "Case #2: 5\n",
        "Case #3: 7\n",
        "Case #4: 17\n",
        "Case #5: 7\n",
        "\"\"\"\n",
        "num = int(input())\n",
        "\n",
        "for i in range(num):\n",
        "  a, b = map(int, input().split())\n",
        "  print(\"Case #%s: %s\"%(i + 1, a + b))\n",
        "\n",
        "cases = int(input())\n",
        "\n",
        "for i in range(cases):\n",
        "    a,b = map(int, input().split())\n",
        "    ans = a + b\n",
        "    print(\"Case #%s: %s\"%(i+1, ans ))"
      ],
      "execution_count": 109,
      "outputs": [
        {
          "output_type": "stream",
          "text": [
            "5\n",
            "1 1\n",
            "Case #1:  2\n",
            "2 3\n",
            "Case #2:  5\n",
            "3 4\n",
            "Case #3:  7\n",
            "9 8\n",
            "Case #4:  17\n",
            "5 2\n",
            "Case #5:  7\n"
          ],
          "name": "stdout"
        }
      ]
    },
    {
      "cell_type": "code",
      "metadata": {
        "id": "eJe-17nhSUsq",
        "colab_type": "code",
        "colab": {
          "base_uri": "https://localhost:8080/",
          "height": 215
        },
        "outputId": "faa91f67-5c22-4795-e07a-ad641911abaa"
      },
      "source": [
        "# \"Case #x: A + B = C\"\n",
        "\n",
        "num = int(input())\n",
        "\n",
        "for i in range(num):\n",
        "  a, b = map(int, input().split())\n",
        "  print(\"Case #%s: %s + %s = %s\"%(i + 1, a, b, a + b))"
      ],
      "execution_count": 110,
      "outputs": [
        {
          "output_type": "stream",
          "text": [
            "5\n",
            "1 1\n",
            "Case #1: 1 + 1 = 2\n",
            "2 3\n",
            "Case #2: 2 + 3 = 5\n",
            "3 4\n",
            "Case #3: 3 + 4 = 7\n",
            "9 8\n",
            "Case #4: 9 + 8 = 17\n",
            "5 2\n",
            "Case #5: 5 + 2 = 7\n"
          ],
          "name": "stdout"
        }
      ]
    },
    {
      "cell_type": "code",
      "metadata": {
        "id": "F3HROtmkXbsJ",
        "colab_type": "code",
        "colab": {
          "base_uri": "https://localhost:8080/",
          "height": 125
        },
        "outputId": "8220fc9b-7101-4362-b168-b461e0dd7f07"
      },
      "source": [
        "# 첫째 줄에는 별 1개, 둘째 줄에는 별 2개, N번째 줄에는 별 N개를 찍는 문제\n",
        "\n",
        "# num = int(input())\n",
        "\n",
        "# for i in range(num):\n",
        "#   for j in range(num):\n",
        "#     print('*' * (j + 1))\n",
        "\n",
        "num = int(input())\n",
        "\n",
        "for i in range(num):\n",
        "  print(\"*\" * (i+1))"
      ],
      "execution_count": 118,
      "outputs": [
        {
          "output_type": "stream",
          "text": [
            "5\n",
            "*\n",
            "**\n",
            "***\n",
            "****\n",
            "*****\n"
          ],
          "name": "stdout"
        }
      ]
    },
    {
      "cell_type": "code",
      "metadata": {
        "id": "Qb8745gPXcnc",
        "colab_type": "code",
        "colab": {
          "base_uri": "https://localhost:8080/",
          "height": 125
        },
        "outputId": "34d14794-6672-4de1-91dc-67fb27859983"
      },
      "source": [
        "'''\n",
        "첫째 줄에는 별 1개, 둘째 줄에는 별 2개, N번째 줄에는 별 N개를 찍는 문제\n",
        "\n",
        "하지만, 오른쪽을 기준으로 정렬한 별(예제 참고)을 출력하시오.\n",
        "    *\n",
        "   **\n",
        "  ***\n",
        " ****\n",
        "*****\n",
        "'''\n",
        "\n",
        "num = int(input())\n",
        "\n",
        "for i in range(num):\n",
        "  print(' ' * ((num - 1) - i) + '*' * (i + 1))"
      ],
      "execution_count": 124,
      "outputs": [
        {
          "output_type": "stream",
          "text": [
            "5\n",
            "    *\n",
            "   **\n",
            "  ***\n",
            " ****\n",
            "*****\n"
          ],
          "name": "stdout"
        }
      ]
    },
    {
      "cell_type": "code",
      "metadata": {
        "id": "unMqHSS7bS6_",
        "colab_type": "code",
        "colab": {
          "base_uri": "https://localhost:8080/",
          "height": 287
        },
        "outputId": "1bff6330-18c3-4264-80ec-1ad4c91ce4fb"
      },
      "source": [
        "'''\n",
        "정수 N개로 이루어진 수열 A와 정수 X가 주어진다. 이때, A에서 X보다 작은 수를 모두 출력하는 프로그램을 작성하시오.\n",
        "\n",
        "첫째 줄에 N과 X가 주어진다. (1 ≤ N, X ≤ 10,000)\n",
        "\n",
        "둘째 줄에 수열 A를 이루는 정수 N개가 주어진다. 주어지는 정수는 모두 1보다 크거나 같고, 10,000보다 작거나 같은 정수이다.\n",
        "\n",
        "X보다 작은 수를 입력받은 순서대로 공백으로 구분해 출력한다. X보다 작은 수는 적어도 하나 존재한다.\n",
        "\n",
        "10 5\n",
        "1 10 4 9 2 3 8 5 7 6\n",
        "\n",
        "\n",
        "1 4 2 3\n",
        "'''\n",
        "\n",
        "a, b = map(int, input().split())\n",
        "li = []\n",
        "for i in range(a):\n",
        "  c = int(input())\n",
        "  li.append(c)\n",
        "for i in li:\n",
        "  if i < b:\n",
        "    print(i)\n",
        "  \n",
        "a1, a2 = map(int, input().split())\n",
        "b = list(map(int, input().split()))\n",
        "\n",
        "for i in b:\n",
        "    if i < a2:\n",
        "        print(i, end=\" \")"
      ],
      "execution_count": 128,
      "outputs": [
        {
          "output_type": "stream",
          "text": [
            "10 5\n",
            "1\n",
            "10\n",
            "4\n",
            "9\n",
            "2\n",
            "3\n",
            "8\n",
            "5\n",
            "7\n",
            "6\n",
            "1\n",
            "4\n",
            "2\n",
            "3\n"
          ],
          "name": "stdout"
        }
      ]
    },
    {
      "cell_type": "code",
      "metadata": {
        "id": "Yb2qCX06mOHj",
        "colab_type": "code",
        "colab": {
          "base_uri": "https://localhost:8080/",
          "height": 179
        },
        "outputId": "4ac0084a-f53b-4405-d3c3-e9f8bd2d5515"
      },
      "source": [
        "'''\n",
        "두 정수 A와 B를 입력받은 다음, A+B를 출력하는 프로그램을 작성하시오.\n",
        "\n",
        "입력은 여러 개의 테스트 케이스로 이루어져 있다.\n",
        "\n",
        "각 테스트 케이스는 한 줄로 이루어져 있으며, 각 줄에 A와 B가 주어진다. (0 < A, B < 10)\n",
        "\n",
        "입력의 마지막에는 0 두 개가 들어온다.\n",
        "\n",
        "1 1\n",
        "2 3\n",
        "3 4\n",
        "9 8\n",
        "5 2\n",
        "0 0\n",
        "\n",
        "2\n",
        "5\n",
        "7\n",
        "17\n",
        "7\n",
        "'''\n",
        "\n",
        "\n",
        "i = 0\n",
        "while i < 6:\n",
        "  a, b = map(int, input().split())\n",
        "  if a == 0 or b == 0:\n",
        "    break\n",
        "  i = i + 1\n",
        "  print(a + b)\n",
        "\n",
        "\n",
        "while(True):\n",
        "    a, b = list(map(int, input().split()))\n",
        "    if(a == 0 and b == 0):\n",
        "        break\n",
        "    else:\n",
        "        print(a + b)\n"
      ],
      "execution_count": 134,
      "outputs": [
        {
          "output_type": "stream",
          "text": [
            "1 1\n",
            "2\n",
            "2 3\n",
            "5\n",
            "9 8\n",
            "17\n",
            "5 2\n",
            "7\n",
            "0 0\n"
          ],
          "name": "stdout"
        }
      ]
    },
    {
      "cell_type": "code",
      "metadata": {
        "id": "ypICkxzJmOJ7",
        "colab_type": "code",
        "colab": {
          "base_uri": "https://localhost:8080/",
          "height": 197
        },
        "outputId": "631f97c2-3ef9-4c1f-96ee-0f894e613c2b"
      },
      "source": [
        "'''\n",
        "두 정수 A와 B를 입력받은 다음, A+B를 출력하는 프로그램을 작성하시오.\n",
        "\n",
        "입력은 여러 개의 테스트 케이스로 이루어져 있다.\n",
        "\n",
        "각 테스트 케이스는 한 줄로 이루어져 있으며, 각 줄에 A와 B가 주어진다. (0 < A, B < 10)\n",
        "\n",
        "\n",
        "1 1\n",
        "2 3\n",
        "3 4\n",
        "9 8\n",
        "5 2\n",
        "\n",
        "\n",
        "2\n",
        "5\n",
        "7\n",
        "17\n",
        "7\n",
        "'''\n",
        "\n",
        "i = 0\n",
        "while i < 5:\n",
        "  i = i + 1\n",
        "  a, b = list(map(int, input().split()))\n",
        "  print(a + b)\n",
        "\n",
        "while True:\n",
        "  try:\n",
        "      a, b = map(int, input().split())\n",
        "      print(a+b)\n",
        "  except:\n",
        "      break"
      ],
      "execution_count": 136,
      "outputs": [
        {
          "output_type": "stream",
          "text": [
            "1 1\n",
            "2\n",
            "2 3\n",
            "5\n",
            "3 4\n",
            "7\n",
            "9 8\n",
            "17\n",
            "5 2\n",
            "7\n"
          ],
          "name": "stdout"
        }
      ]
    },
    {
      "cell_type": "code",
      "metadata": {
        "id": "FnGh6LDxmOMT",
        "colab_type": "code",
        "colab": {
          "base_uri": "https://localhost:8080/",
          "height": 161
        },
        "outputId": "5c9d72a0-43a1-45ae-f376-ad598a5e72be"
      },
      "source": [
        "'''\n",
        "0보다 크거나 같고, 99보다 작거나 같은 정수가 주어질 때 다음과 같은 연산을 할 수 있다.\n",
        "먼저 주어진 수가 10보다 작다면 앞에 0을 붙여 두 자리 수로 만들고, 각 자리의 숫자를 더한다.\n",
        "그 다음, 주어진 수의 가장 오른쪽 자리 수와 앞에서 구한 합의 가장 오른쪽 자리 수를 이어 붙이면 새로운 수를 만들 수 있다. 다음 예를 보자.\n",
        "\n",
        "26부터 시작한다. 2+6 = 8이다. 새로운 수는 68이다. 6+8 = 14이다. 새로운 수는 84이다. 8+4 = 12이다. 새로운 수는 42이다. 4+2 = 6이다. 새로운 수는 26이다.\n",
        "\n",
        "위의 예는 4번만에 원래 수로 돌아올 수 있다. 따라서 26의 사이클의 길이는 4이다.\n",
        "\n",
        "N이 주어졌을 때, N의 사이클의 길이를 구하는 프로그램을 작성하시오.\n",
        "\n",
        "첫째 줄에 N이 주어진다. N은 0보다 크거나 같고, 99보다 작거나 같은 정수이다.\n",
        "\n",
        "첫째 줄에 N의 사이클 길이를 출력한다.\n",
        "\n",
        "26     4\n",
        "\n",
        "55     3\n",
        "\n",
        "1      60\n",
        "\n",
        "'''\n",
        "\n",
        "\n",
        "num = int(input())\n",
        "check = num\n",
        "new_num = 0\n",
        "temp = 0\n",
        "count = 0\n",
        "while True:\n",
        "    temp = num // 10 + num % 10\n",
        "    new_num = (num % 10) * 10 + temp % 10\n",
        "    count += 1\n",
        "    num = new_num\n",
        "    if new_num == check:\n",
        "        break\n",
        "print(count)"
      ],
      "execution_count": 156,
      "outputs": [
        {
          "output_type": "stream",
          "text": [
            "26\n",
            "26\n",
            "<class 'str'>\n",
            "c 8\n",
            "b 6\n",
            "c 8\n",
            "d 68\n",
            "a <class 'int'>\n"
          ],
          "name": "stdout"
        }
      ]
    },
    {
      "cell_type": "code",
      "metadata": {
        "id": "jilWKMwnmOQY",
        "colab_type": "code",
        "colab": {
          "base_uri": "https://localhost:8080/",
          "height": 143
        },
        "outputId": "cd5e49ed-70c9-479a-ab0d-4ff4e7c9cf33"
      },
      "source": [
        "'''\n",
        "상현이가 가르치는 아이폰 앱 개발 수업의 수강생은 원섭, 세희, 상근, 숭, 강수이다.\n",
        "\n",
        "어제 이 수업의 기말고사가 있었고, 상현이는 지금 학생들의 기말고사 시험지를 채점하고 있다.\n",
        " 기말고사 점수가 40점 이상인 학생들은 그 점수 그대로 자신의 성적이 된다. \n",
        " 하지만, 40점 미만인 학생들은 보충학습을 듣는 조건을 수락하면 40점을 받게 된다. \n",
        " 보충학습은 거부할 수 없기 때문에, 40점 미만인 학생들은 항상 40점을 받게 된다.\n",
        "\n",
        "학생 5명의 점수가 주어졌을 때, 평균 점수를 구하는 프로그램을 작성하시오.\n",
        "\n",
        "\n",
        "입력은 총 5줄로 이루어져 있고, 원섭이의 점수, 세희의 점수, 상근이의 점수, 숭이의 점수, 강수의 점수가 순서대로 주어진다.\n",
        "\n",
        "점수는 모두 0점 이상, 100점 이하인 5의 배수이다. 따라서, 평균 점수는 항상 정수이다. \n",
        "\n",
        "첫째 줄에 학생 5명의 평균 점수를 출력한다.\n",
        "\n",
        "\n",
        "10\n",
        "65\n",
        "100\n",
        "30\n",
        "95\n",
        "\n",
        "68\n",
        "'''\n",
        "\n",
        "a = int(input())\n",
        "b = int(input())\n",
        "c = int(input())\n",
        "d = int(input())\n",
        "e = int(input())\n",
        "li = [a, b, c, d, e]\n",
        "\n",
        "for i in li:\n",
        "  if i < 40:\n",
        "    i = 40\n",
        "    mean = (a + b + c + d + e) / 5\n",
        "    print(mean)\n",
        "\n",
        "score_list = []\n",
        "for i in range(5):\n",
        "    score = int(input())\n",
        "    if score >= 40:\n",
        "        score_list.append(score)\n",
        "    else:\n",
        "        score_list.append(40)\n",
        "print(round(sum(score_list)/5))"
      ],
      "execution_count": 166,
      "outputs": [
        {
          "output_type": "stream",
          "text": [
            "10\n",
            "65\n",
            "100\n",
            "30\n",
            "95\n",
            "60.0\n",
            "60.0\n"
          ],
          "name": "stdout"
        }
      ]
    },
    {
      "cell_type": "code",
      "metadata": {
        "id": "GCZNsqr4mOOY",
        "colab_type": "code",
        "colab": {
          "base_uri": "https://localhost:8080/",
          "height": 125
        },
        "outputId": "d1bd4133-5553-409c-a94d-2f512239e413"
      },
      "source": [
        "'''\n",
        "상근날드에서 가장 잘 팔리는 메뉴는 세트 메뉴이다. 주문할 때, 자신이 원하는 햄버거와 음료를 하나씩 골라, 세트로 구매하면, 가격의 합계에서 50원을 뺀 가격이 세트 메뉴의 가격이 된다.\n",
        "\n",
        "햄버거는 총 3종류 상덕버거, 중덕버거, 하덕버거가 있고, 음료는 콜라와 사이다 두 종류가 있다.\n",
        "\n",
        "햄버거와 음료의 가격이 주어졌을 때, 가장 싼 세트 메뉴의 가격을 출력하는 프로그램을 작성하시오.\n",
        "\n",
        "입력은 총 다섯 줄이다. 첫째 줄에는 상덕버거, 둘째 줄에는 중덕버거, 셋째 줄에는 하덕버거의 가격이 주어진다. 넷째 줄에는 콜라의 가격, 다섯째 줄에는 사이다의 가격이 주어진다. 모든 가격은 100원 이상, 2000원 이하이다.\n",
        "\n",
        "첫째 줄에 가장 싼 세트 메뉴의 가격을 출력한다.\n",
        "\n",
        "\n",
        "800\n",
        "700\n",
        "900\n",
        "198\n",
        "330\n",
        "\n",
        "848\n",
        "\n",
        "\n",
        "\n",
        "1999\n",
        "1999\n",
        "100\n",
        "189\n",
        "100\n",
        "\n",
        "150\n",
        "\n",
        "'''\n",
        "\n",
        "# 세트가격 = 햄버거 + 음료 - 50\n",
        "\n",
        "# input 5개 \n",
        "\n",
        "# input1 = 상덕버거\n",
        "# input2 = 중덕버거\n",
        "# input3 = 하덕버거\n",
        "\n",
        "# input4 = 콜라\n",
        "# input5 = 사이다\n",
        "\n",
        "# 모든 가격은 100원 이상, 2000원 이하이다.\n",
        "\n",
        "ham_list = []\n",
        "for i in range(3):\n",
        "  ham = int(input())\n",
        "  if ham < 100:\n",
        "    ham_list.append(100)\n",
        "  elif ham > 2000:\n",
        "    ham_list.append(2000)\n",
        "  else:\n",
        "    ham_list.append(ham)\n",
        "\n",
        "bev_list= []\n",
        "for i in range(2):\n",
        "  bev = int(input())\n",
        "  if bev < 100:\n",
        "    bev_list.append(100)\n",
        "  elif bev > 2000:\n",
        "    bev_list.append(2000)\n",
        "  else:\n",
        "    bev_list.append(bev)\n",
        "\n",
        "a = min(ham_list)\n",
        "b = min(bev_list)\n",
        "print(a + b - 50)\n",
        "\n",
        "\n",
        "\n"
      ],
      "execution_count": 170,
      "outputs": [
        {
          "output_type": "stream",
          "text": [
            "700\n",
            "800\n",
            "900\n",
            "198\n",
            "200\n",
            "848\n"
          ],
          "name": "stdout"
        }
      ]
    },
    {
      "cell_type": "code",
      "metadata": {
        "id": "SXEZaZR02mdP",
        "colab_type": "code",
        "colab": {
          "base_uri": "https://localhost:8080/",
          "height": 53
        },
        "outputId": "3ab326a1-e89f-4bbb-f603-664eab4e6db3"
      },
      "source": [
        "'''\n",
        "세 정수 A, B, C가 주어진다. 이때, 두 번째로 큰 정수를 출력하는 프로그램을 작성하시오. \n",
        "\n",
        "첫째 줄에 세 정수 A, B, C가 공백으로 구분되어 주어진다. (1 ≤ A, B, C ≤ 100)\n",
        "\n",
        "두 번째로 큰 정수를 출력한다.\n",
        "\n",
        "\n",
        "\n",
        "20 30 10\n",
        "\n",
        "\n",
        "20\n",
        "'''\n",
        "\n",
        "a, b, c = map(int, input().split())\n",
        "li = [a, b, c]\n",
        "li.sort(reverse=True)\n",
        "print(li[1])"
      ],
      "execution_count": 7,
      "outputs": [
        {
          "output_type": "stream",
          "text": [
            "20 30 10\n",
            "20\n"
          ],
          "name": "stdout"
        }
      ]
    },
    {
      "cell_type": "code",
      "metadata": {
        "id": "ZIJG9BDC5OU8",
        "colab_type": "code",
        "colab": {
          "base_uri": "https://localhost:8080/",
          "height": 125
        },
        "outputId": "df657a6c-fa60-41c2-b2a9-70f0f1b52355"
      },
      "source": [
        "# 예제를 보고 규칙을 유추한 뒤에 별을 찍어 보세요.\n",
        "# 첫째 줄에 N(1 ≤ N ≤ 100)이 주어진다.\n",
        "# 첫째 줄부터 2×N-1번째 줄까지 차례대로 별을 출력한다.\n",
        "\n",
        "'''\n",
        "3\n",
        "\n",
        "*\n",
        "**\n",
        "***\n",
        "**\n",
        "*\n",
        "'''\n",
        "\n",
        "num = int(input())\n",
        "for i in range(2 * num - 1):\n",
        "  if i < 3:\n",
        "    print('*' * (i + 1))\n",
        "  elif i >= 3:\n",
        "    print('*' * ((2 * num - 1) - i))\n",
        "\n",
        "\n",
        "n = int(input())\n",
        "for i in range(1, n + 1):\n",
        "    print(\"*\" * i)\n",
        "for i in range(n - 1, 0, -1):\n",
        "    print(\"*\" * i)"
      ],
      "execution_count": 18,
      "outputs": [
        {
          "output_type": "stream",
          "text": [
            "3\n",
            "*\n",
            "**\n",
            "***\n",
            "**\n",
            "*\n"
          ],
          "name": "stdout"
        }
      ]
    },
    {
      "cell_type": "code",
      "metadata": {
        "id": "4adWH8so8wcX",
        "colab_type": "code",
        "colab": {
          "base_uri": "https://localhost:8080/",
          "height": 197
        },
        "outputId": "4517f40b-52c8-481b-a6fc-31896f7f4fdf"
      },
      "source": [
        "# 예제를 보고 규칙을 유추한 뒤에 별을 찍어 보세요.\n",
        "# 첫째 줄에 N(1 ≤ N ≤ 100)이 주어진다.\n",
        "# 첫째 줄부터 2×N-1번째 줄까지 차례대로 별을 출력한다.\n",
        "\n",
        "# 5\n",
        "\n",
        "# ********* 2n - 1\n",
        "#  1*******9 2(n-1) - 1 = 2n - 3\n",
        "#   12*****89 2(n-2) - 1 = 2n - 5\n",
        "#    123***789 2(n-3)-1\n",
        "#     1234*6789 2(n-4) -1\n",
        "#    1***5\n",
        "#   1*****7\n",
        "#  1*******9\n",
        "# *********\n",
        "\n",
        "\n",
        "# 9 7 5 3\n",
        "# 10 9 8 7\n",
        "# 1 2 3 4\n",
        "\n",
        "n = int(input())\n",
        "for i in range(n-1):\n",
        "  print(' ' * i + (2 * n - (2 * i + 1)) * '*')\n",
        "for i in range(n):\n",
        "  print(' ' * (n - i - 1) + '*' * (2 * i + 1))\n",
        "\n"
      ],
      "execution_count": 196,
      "outputs": [
        {
          "output_type": "stream",
          "text": [
            "5\n",
            "*********\n",
            " *******\n",
            "  *****\n",
            "   ***\n",
            "    *\n",
            "   ***\n",
            "  *****\n",
            " *******\n",
            "*********\n"
          ],
          "name": "stdout"
        }
      ]
    },
    {
      "cell_type": "code",
      "metadata": {
        "id": "rsQD2fYM8wha",
        "colab_type": "code",
        "colab": {}
      },
      "source": [
        "# 첫째 줄에 N(1 ≤ N ≤ 100)이 주어진다.\n",
        "\n",
        "# 첫째 줄부터 차례대로 별을 출력한다.\n",
        "\n",
        "# 1\n",
        "# *\n",
        "\n",
        "# 2\n",
        "# *\n",
        "#  *\n",
        "# *\n",
        "#  *\n",
        "\n",
        "# 3\n",
        "# * *\n",
        "#  *\n",
        "# * *\n",
        "#  *\n",
        "# * *\n",
        "#  *\n",
        "\n",
        "# 4\n",
        "# * *\n",
        "#  * *\n",
        "# * *\n",
        "#  * *\n",
        "# * *\n",
        "#  * *\n",
        "# * *\n",
        "#  * *"
      ],
      "execution_count": 0,
      "outputs": []
    },
    {
      "cell_type": "code",
      "metadata": {
        "id": "rN1k2v9X8wk-",
        "colab_type": "code",
        "colab": {
          "base_uri": "https://localhost:8080/",
          "height": 323
        },
        "outputId": "48fcf74a-ed2e-474c-e78a-24e0d1895c67"
      },
      "source": [
        "num = int(input())\n",
        "for i in range(num):\n",
        "  for j in range(num):\n",
        "    print('*' * j)"
      ],
      "execution_count": 205,
      "outputs": [
        {
          "output_type": "stream",
          "text": [
            "4\n",
            "\n",
            "*\n",
            "**\n",
            "***\n",
            "\n",
            "*\n",
            "**\n",
            "***\n",
            "\n",
            "*\n",
            "**\n",
            "***\n",
            "\n",
            "*\n",
            "**\n",
            "***\n"
          ],
          "name": "stdout"
        }
      ]
    },
    {
      "cell_type": "code",
      "metadata": {
        "id": "CrkVUA9h8wj4",
        "colab_type": "code",
        "colab": {}
      },
      "source": [
        ""
      ],
      "execution_count": 0,
      "outputs": []
    },
    {
      "cell_type": "code",
      "metadata": {
        "id": "7aH9CFeT8wfB",
        "colab_type": "code",
        "colab": {}
      },
      "source": [
        ""
      ],
      "execution_count": 0,
      "outputs": []
    }
  ]
}